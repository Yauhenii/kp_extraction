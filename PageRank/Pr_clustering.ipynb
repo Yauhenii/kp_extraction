{
  "cells": [
    {
      "cell_type": "code",
      "execution_count": null,
      "id": "MSCaZH9aVYyr",
      "metadata": {
        "colab": {
          "base_uri": "https://localhost:8080/"
        },
        "id": "MSCaZH9aVYyr",
        "outputId": "69887a65-6fae-41e2-f456-6f772491cd2b"
      },
      "outputs": [],
      "source": [
        "from google.colab import drive\n",
        "drive.mount('/content/gdrive')"
      ]
    },
    {
      "cell_type": "code",
      "execution_count": null,
      "id": "f79d837a",
      "metadata": {},
      "outputs": [],
      "source": [
        "# if using a cloud service like colab\n",
        "!pip install sklearn\n",
        "!pip install spacy scipy fast_pagerank\n",
        "!pip install nltk\n",
        "!pip install sentence_transformers"
      ]
    },
    {
      "cell_type": "code",
      "execution_count": null,
      "id": "73aa3ba5",
      "metadata": {
        "id": "73aa3ba5"
      },
      "outputs": [],
      "source": [
        "import json\n",
        "import pandas as pd\n",
        "import numpy as np\n",
        "import spacy\n",
        "from sklearn.metrics.pairwise import cosine_similarity\n",
        "\n",
        "\n",
        "from scipy import sparse\n",
        "from fast_pagerank import pagerank\n",
        "from fast_pagerank import pagerank_power\n",
        "\n",
        "from itertools import product\n",
        "\n",
        "\n",
        "pd.set_option('display.max_colwidth', None)"
      ]
    },
    {
      "cell_type": "code",
      "execution_count": null,
      "id": "vBydwaKNVkbt",
      "metadata": {
        "colab": {
          "base_uri": "https://localhost:8080/"
        },
        "id": "vBydwaKNVkbt",
        "outputId": "37c53145-aa21-498b-c973-016d4b07c4fd"
      },
      "outputs": [],
      "source": [
        "# Navigate to your root directory in my case kp_nlp\n",
        "cd /content/gdrive/MyDrive/collab/kp_nlp\n"
      ]
    },
    {
      "cell_type": "code",
      "execution_count": null,
      "id": "11bf82be",
      "metadata": {
        "id": "11bf82be"
      },
      "outputs": [],
      "source": [
        "import pandas as pd\n",
        "legal_df = pd.read_csv(r'datasets/legal_dataset/data/echr_arguments.csv', index_col=None)\n"
      ]
    },
    {
      "cell_type": "code",
      "execution_count": null,
      "id": "QBjamxVTWnGd",
      "metadata": {
        "colab": {
          "base_uri": "https://localhost:8080/",
          "height": 267
        },
        "id": "QBjamxVTWnGd",
        "outputId": "a950c67b-a99d-47ae-833e-e46b8b9f31ba"
      },
      "outputs": [],
      "source": [
        "legal_df.head()"
      ]
    },
    {
      "cell_type": "code",
      "execution_count": null,
      "id": "6369d33b-9398-46e0-b120-7ad997c2196c",
      "metadata": {
        "colab": {
          "base_uri": "https://localhost:8080/"
        },
        "id": "6369d33b-9398-46e0-b120-7ad997c2196c",
        "outputId": "1e46b046-42ff-47f3-99a1-57e64aadd6c2"
      },
      "outputs": [],
      "source": [
        "import nltk\n",
        "nltk.download('punkt')\n",
        "legal_df[\"argument\"].dropna(inplace=True)\n"
      ]
    },
    {
      "cell_type": "code",
      "execution_count": null,
      "id": "oUYmOz9qXolI",
      "metadata": {
        "id": "oUYmOz9qXolI"
      },
      "outputs": [],
      "source": [
        "legal_df=legal_df.dropna()"
      ]
    },
    {
      "cell_type": "code",
      "execution_count": null,
      "id": "I_sC2nORX6KI",
      "metadata": {
        "colab": {
          "base_uri": "https://localhost:8080/",
          "height": 267
        },
        "id": "I_sC2nORX6KI",
        "outputId": "f98ebb5a-ffd6-47fa-836c-253725d317b5"
      },
      "outputs": [],
      "source": [
        "legal_df.head()"
      ]
    },
    {
      "cell_type": "code",
      "execution_count": null,
      "id": "NLnF3vugXTqL",
      "metadata": {
        "colab": {
          "base_uri": "https://localhost:8080/"
        },
        "id": "NLnF3vugXTqL",
        "outputId": "e3800547-b53d-492a-b8ef-96fd9feac8e4"
      },
      "outputs": [],
      "source": [
        "legal_df[\"argument\"].isna().sum()"
      ]
    },
    {
      "cell_type": "code",
      "execution_count": null,
      "id": "exI2aX3uXN8e",
      "metadata": {
        "id": "exI2aX3uXN8e"
      },
      "outputs": [],
      "source": [
        "legal_df[\"sents\"] =  legal_df.apply(lambda x : nltk.tokenize.sent_tokenize(x[\"argument\"]), axis=1)"
      ]
    },
    {
      "cell_type": "code",
      "execution_count": null,
      "id": "cd1d2465-9a72-46a1-b3f5-46fe84089bdb",
      "metadata": {
        "colab": {
          "base_uri": "https://localhost:8080/",
          "height": 563
        },
        "id": "cd1d2465-9a72-46a1-b3f5-46fe84089bdb",
        "outputId": "81452547-be84-44a0-e28e-d5eb2facb0db"
      },
      "outputs": [],
      "source": [
        "legal_df.head(10)"
      ]
    },
    {
      "cell_type": "code",
      "execution_count": null,
      "id": "84af9b4f-63f6-46f1-8396-018f3c2435b7",
      "metadata": {
        "colab": {
          "base_uri": "https://localhost:8080/"
        },
        "id": "84af9b4f-63f6-46f1-8396-018f3c2435b7",
        "outputId": "6b15df49-fd28-49a0-dc42-c1b9ce4dd235"
      },
      "outputs": [],
      "source": [
        "legal_df.columns"
      ]
    },
    {
      "cell_type": "code",
      "execution_count": null,
      "id": "5d9ee994",
      "metadata": {
        "colab": {
          "base_uri": "https://localhost:8080/",
          "height": 298,
          "referenced_widgets": [
            "66e31ec90a6e4445892fd21f0fb03fcd",
            "ce82da780e5f4533aaf900236e3bddad",
            "10f05b8b37114e99b1b16014c69280c1",
            "6fd9267e6e0545d39baa745467414e91",
            "30fbd9abc2af41b080796c249a755e19",
            "f3c4ff4e8ac443ef8114625345ca9b38",
            "0e85658693764449b8bb837d47375633",
            "a040cf697f23428985e7c8d6d5c90e37",
            "dcbb3c5546914f668413fa2267d80081",
            "5020b1183c824b3cb47b068158dfb1a0",
            "25e1b4c355564b7b9b3b64b27d7e902a",
            "e23113096cd4465cbd1958839e19068b",
            "09c2f8c433644153a4eba1f84eb5989d",
            "1323856e08fb43efa13265cda1ef4b23",
            "fb0a891a0cdc42b3b74a1cc73f406333",
            "23926001fe0947cd9db1c8d047bddaaf",
            "d3a052533c3d46719884b74666b85770",
            "65fea42830d8401ebe30383387abb545",
            "4362d5dfbd714c7b8a7440a1d6ca2eef",
            "6996bb69dc5042e8b84bdf8fd7944094",
            "d605c312eb3340a784e01efcf545f346",
            "85d1caf988af484e98ecd7bb9e9af0a3",
            "a877221d52e741d8ac2e1b608f08d7d1",
            "dd357c4a99734d0998d712ae765fbbb3",
            "93be1c72e85b472a9ece2e95aa021cde",
            "31ebbed17e5e4bd18c40367b8e9381b9",
            "229d9a96c9564c079ea877c48d5e96c3",
            "579d88f6d6bd4e0a9fe4ada529cf1747",
            "2ecc2ae912634cc6a9679cbcfabb6b60",
            "1d8ddaf639fc4cc19d9894c71a852c8a",
            "a5a67d42305946d480969100c3ad283d",
            "b0a5d77cbaee4fffbaf14897586e5ecd",
            "113ee15c603b4deaa5ebf1b73c26bff8",
            "8318dd0133734edda2d3e809d6dcfe1f",
            "131a8869a2a64a168a90c80a1b2cb538",
            "ffb7537859c44c2f8e51927d3726f3cb",
            "1c0d464b612f4a37ac012154e22c7b66",
            "5a542915649c4c8aaa089e3c5710835a",
            "576790b15751454f8febb4805e69deee",
            "8cd3ff6be0f046479f7e309dbbbb85e9",
            "464155b2cb844464920f81b28f2bdda4",
            "7dd2523aac4a4540b6a8569818cb9138",
            "6262633d25e54788959924c093abc88d",
            "dff676e0ac9b443da40a59224f206968",
            "f0a9ad21a20e497892b030be672b5bdb",
            "6f3810ca4365407cb8ad702f7e591312",
            "fb32319257bb4d3b8883ec06667f8b38",
            "72faf47796e04a5c97d9130de522ee07",
            "75c8c255c81e481f8ba9f59cec94306c",
            "dd23c7b1724d45ebb3bc8aebd3905668",
            "8ae09cfc09cf492296fff32ee7791460",
            "867ce0cf2309444da39875b20a64e214",
            "1815ccc9e8664cea957249896e73f068",
            "ad1a9d412e83429ba5692c68b1bef301",
            "ffc7dc1ff4144f59aa4877ed74431d91",
            "58ae503cc4ed4f069a1fd5385579af4b",
            "bc685306855941babfafb22a64c5f39d",
            "3974bf123896471db06b5bb3df9e834f",
            "ddb06e1495d04aa6aec746a0ee70a292",
            "7fb8a477160242d9b6ed08948199f321",
            "bc19fe456b33451ab61b501d0ffcd2cc",
            "e4528685aa7d4499b412c0ef0bfb2d83",
            "d00b1c446c8e4256b0d5d980854e4668",
            "898f6ac72b7a4099876fbd5338ffcc89",
            "76fdd98b8e32497782e0b35150539323",
            "8c923702d03b47df9d5720f83682ba96"
          ]
        },
        "id": "5d9ee994",
        "outputId": "3dd8d373-e776-4474-e474-cb34232d09d0"
      },
      "outputs": [],
      "source": [
        "from sentence_transformers import SentenceTransformer, util\n",
        "model = SentenceTransformer(\"nlpaueb/bert-base-uncased-echr\")"
      ]
    },
    {
      "cell_type": "markdown",
      "id": "aIu8geRk82-0",
      "metadata": {
        "id": "aIu8geRk82-0"
      },
      "source": [
        "**Pagerank** and generating top X potential kp on the full data\n",
        "Note: Sections are here Just geographically not on a cluster => matching might be required"
      ]
    },
    {
      "cell_type": "code",
      "execution_count": null,
      "id": "3bad4014",
      "metadata": {
        "id": "3bad4014"
      },
      "outputs": [],
      "source": [
        "def gen_match_matrix(model, sents, min_match_score=0):\n",
        "    sents1 = [x for x in sents]\n",
        "    sents1_embeddings = model.encode(sents1)\n",
        "    sim_matrix = cosine_similarity(sents1_embeddings, sents1_embeddings)\n",
        "    super_threshold_indices = sim_matrix < min_match_score\n",
        "    sim_matrix[super_threshold_indices] = 0\n",
        "    #print(sim_matrix)\n",
        "    return sim_matrix"
      ]
    },
    {
      "cell_type": "code",
      "execution_count": null,
      "id": "184dbd62",
      "metadata": {
        "id": "184dbd62"
      },
      "outputs": [],
      "source": [
        "def filter_ranked_list(ranked_sents, model, min_match=0.8, N=3):\n",
        "    ranked_sents = [x[0] for x in ranked_sents]\n",
        "    filtered_sents = []\n",
        "    for i, s in enumerate(ranked_sents):\n",
        "        if len(filtered_sents) >= N or len(filtered_sents) >= len(ranked_sents):\n",
        "            break\n",
        "        if len(filtered_sents) == 0:\n",
        "            filtered_sents.append(s)\n",
        "            # print('FFFF ' , s)\n",
        "        else:\n",
        "            matching_scores = gen_match_matrix(model, [s] + filtered_sents)\n",
        "            max_sim = np.max(matching_scores[0][1:])\n",
        "            # print(matching_scores)\n",
        "            if max_sim < min_match:\n",
        "                # print('SSSS ' , s)\n",
        "                filtered_sents.append(s)\n",
        "        \n",
        "        # print(min_match)\n",
        "    \n",
        "    return filtered_sents"
      ]
    },
    {
      "cell_type": "code",
      "execution_count": null,
      "id": "a67dc3e9",
      "metadata": {
        "id": "a67dc3e9"
      },
      "outputs": [],
      "source": [
        "def apply_page_rank(sentences, p=0.85, min_match_score=0.5, min_len=5, max_len=35):\n",
        "    cand_sents = [x for x in sentences if len(x.split()) < max_len and len(x.split()) > min_len]\n",
        "    if len(cand_sents) == 0:\n",
        "        #print('empty')\n",
        "        return []\n",
        "    # print(cands)\n",
        "    # print(cands_qualities)\n",
        "    cands_matching_mat = gen_match_matrix(model, cand_sents, min_match_score=min_match_score)\n",
        "    pr = pagerank(cands_matching_mat, p=p)  # it looks like modifying the initial probability doesn't help\n",
        "    # pr=pagerank(cands_matching_mat, p=p)\n",
        "    ranked_candidates = list(zip(cand_sents, pr))\n",
        "    return sorted(ranked_candidates, key=lambda x: -x[1])"
      ]
    },
    {
      "cell_type": "code",
      "execution_count": null,
      "id": "e8ba2a82",
      "metadata": {
        "colab": {
          "base_uri": "https://localhost:8080/"
        },
        "id": "e8ba2a82",
        "outputId": "38ba9762-3b46-4f96-ee82-bfd874f16013"
      },
      "outputs": [],
      "source": [
        "ranked_sents_per_section = []\n",
        "\n",
        "sections = []\n",
        "ranked_sents_per_section = []\n",
        "ranked_kps_per_section = []\n",
        "for i, row in legal_df.iterrows():\n",
        "    ranked_sents = apply_page_rank(row['sents'], p=0.2, min_match_score=0.5)\n",
        "    ranked_sents_per_section.append(ranked_sents)\n",
        "    ranked_kps = filter_ranked_list(ranked_sents, model, min_match=0.8, N=2)\n",
        "    ranked_kps_per_section.append(ranked_kps)\n",
        "    sections.append(row[\"name\"])\n",
        "    \n",
        "results_df = pd.DataFrame({ \"ranked_sents\": ranked_sents_per_section,\"section\":sections, \"ranked_kps\": ranked_kps_per_section}) # \"sections\": sections,\n"
      ]
    },
    {
      "cell_type": "code",
      "execution_count": null,
      "id": "cb066a71-5c0b-464c-8039-f059e6a62e0c",
      "metadata": {
        "colab": {
          "base_uri": "https://localhost:8080/",
          "height": 528
        },
        "id": "cb066a71-5c0b-464c-8039-f059e6a62e0c",
        "outputId": "d69d8d43-7f06-458c-902a-c232a90742f8"
      },
      "outputs": [],
      "source": [
        "results_df.head(10)"
      ]
    },
    {
      "cell_type": "code",
      "execution_count": null,
      "id": "lSsQO4dGZZ2W",
      "metadata": {
        "id": "lSsQO4dGZZ2W"
      },
      "outputs": [],
      "source": [
        "res_cleaned= results_df.dropna()"
      ]
    },
    {
      "cell_type": "code",
      "execution_count": null,
      "id": "rdUHoCwgcKQi",
      "metadata": {
        "id": "rdUHoCwgcKQi"
      },
      "outputs": [],
      "source": [
        "res_cleaned=res_cleaned[res_cleaned['ranked_sents'].map(lambda d: len(d)) > 0]"
      ]
    },
    {
      "cell_type": "code",
      "execution_count": null,
      "id": "qw2FaWVMZeJ4",
      "metadata": {
        "colab": {
          "base_uri": "https://localhost:8080/",
          "height": 528
        },
        "id": "qw2FaWVMZeJ4",
        "outputId": "cbf320ea-071c-434d-e1cf-dd23e4222dc2"
      },
      "outputs": [],
      "source": [
        "res_cleaned.head(10)"
      ]
    },
    {
      "cell_type": "code",
      "execution_count": null,
      "id": "onaUQXMpZolQ",
      "metadata": {
        "colab": {
          "base_uri": "https://localhost:8080/"
        },
        "id": "onaUQXMpZolQ",
        "outputId": "f19c9311-9276-402e-f365-e4cee82f2ba7"
      },
      "outputs": [],
      "source": [
        "len(res_cleaned.iloc[3,2])"
      ]
    },
    {
      "cell_type": "markdown",
      "id": "c334e71e",
      "metadata": {},
      "source": [
        "Explode from list and set to a string. This is needed to be able to perform the grouping correctly\n",
        "\n"
      ]
    },
    {
      "cell_type": "code",
      "execution_count": null,
      "id": "iH-tLshrg7SU",
      "metadata": {
        "id": "iH-tLshrg7SU"
      },
      "outputs": [],
      "source": [
        "res_cleaned=res_cleaned.explode(\"ranked_sents\")"
      ]
    },
    {
      "cell_type": "code",
      "execution_count": null,
      "id": "VNeHQH6dhSOU",
      "metadata": {
        "id": "VNeHQH6dhSOU"
      },
      "outputs": [],
      "source": [
        "res_cleaned=res_cleaned.explode(\"ranked_sents\")"
      ]
    },
    {
      "cell_type": "code",
      "execution_count": null,
      "id": "ByfSgAfXiSkv",
      "metadata": {
        "id": "ByfSgAfXiSkv"
      },
      "outputs": [],
      "source": [
        "res_cleaned=res_cleaned.explode(\"ranked_kps\")"
      ]
    },
    {
      "cell_type": "code",
      "execution_count": null,
      "id": "paSGCswvhaej",
      "metadata": {
        "colab": {
          "base_uri": "https://localhost:8080/",
          "height": 337
        },
        "id": "paSGCswvhaej",
        "outputId": "6c433af1-92e0-48ba-d23d-cf94b9b7c60f"
      },
      "outputs": [],
      "source": [
        "res_cleaned.head()"
      ]
    },
    {
      "cell_type": "code",
      "execution_count": null,
      "id": "pg_N-H4ChpAB",
      "metadata": {
        "colab": {
          "base_uri": "https://localhost:8080/",
          "height": 36
        },
        "id": "pg_N-H4ChpAB",
        "outputId": "03de8270-7a18-4096-8801-77415e8c94a5"
      },
      "outputs": [],
      "source": [
        "res_cleaned.iloc[0,2]"
      ]
    },
    {
      "cell_type": "code",
      "execution_count": null,
      "id": "uRvG61RjiMRU",
      "metadata": {
        "colab": {
          "base_uri": "https://localhost:8080/",
          "height": 624
        },
        "id": "uRvG61RjiMRU",
        "outputId": "65f41375-9cb3-4c7b-b8e9-65a7824e8bcd"
      },
      "outputs": [],
      "source": [
        "res_cleaned.drop_duplicates(subset=['ranked_kps'])"
      ]
    },
    {
      "cell_type": "code",
      "execution_count": null,
      "id": "74q6PWKtidjT",
      "metadata": {
        "colab": {
          "base_uri": "https://localhost:8080/"
        },
        "id": "74q6PWKtidjT",
        "outputId": "299d0936-1d81-4636-8c4a-2c4ccc3f89ef"
      },
      "outputs": [],
      "source": [
        "len(res_cleaned['section'].unique())"
      ]
    },
    {
      "cell_type": "code",
      "execution_count": null,
      "id": "zKQZKwTXjS81",
      "metadata": {
        "id": "zKQZKwTXjS81"
      },
      "outputs": [],
      "source": [
        "res_cleaned[[\"ranked_sents\", \"section\",\"ranked_kps\"]] = res_cleaned[[\"ranked_sents\", \"section\",\"ranked_kps\"]].astype(str) "
      ]
    },
    {
      "cell_type": "markdown",
      "id": "6580c10c",
      "metadata": {},
      "source": [
        "We join all arguments belonging to the same section by a unique token \";\" not present in the initial set to be able to resplit at a later point"
      ]
    },
    {
      "cell_type": "code",
      "execution_count": null,
      "id": "TTUh3c6ubUhz",
      "metadata": {
        "id": "TTUh3c6ubUhz"
      },
      "outputs": [],
      "source": [
        "test_df=res_cleaned.groupby('section')['ranked_kps'].apply('; '.join).reset_index() ## All sections concatinated"
      ]
    },
    {
      "cell_type": "code",
      "execution_count": null,
      "id": "O6lrFU7KbiD2",
      "metadata": {
        "colab": {
          "base_uri": "https://localhost:8080/",
          "height": 1000
        },
        "id": "O6lrFU7KbiD2",
        "outputId": "5f796f75-e7b6-494c-f8ab-16f596fa1ceb"
      },
      "outputs": [],
      "source": [
        "test_df.head(10) "
      ]
    },
    {
      "cell_type": "code",
      "execution_count": null,
      "id": "4f560d14-d079-4d91-8dea-dd73c5626f05",
      "metadata": {
        "colab": {
          "base_uri": "https://localhost:8080/"
        },
        "id": "4f560d14-d079-4d91-8dea-dd73c5626f05",
        "outputId": "368757af-857f-4ea1-d177-bab02d9ed144"
      },
      "outputs": [],
      "source": [
        "ranked_sents_per_section"
      ]
    },
    {
      "cell_type": "code",
      "execution_count": null,
      "id": "21b27618-7abf-44bb-af07-3e9d7ca50c14",
      "metadata": {
        "id": "21b27618-7abf-44bb-af07-3e9d7ca50c14"
      },
      "outputs": [],
      "source": [
        "all_text = []\n",
        "for i, row in legal_df.iterrows():\n",
        "    all_text.extend(row[\"sents\"])"
      ]
    },
    {
      "cell_type": "code",
      "execution_count": null,
      "id": "b4WYfGbYkzUK",
      "metadata": {
        "colab": {
          "base_uri": "https://localhost:8080/"
        },
        "id": "b4WYfGbYkzUK",
        "outputId": "4e1abfa5-f8cc-41d3-8ed3-d80442850e6c"
      },
      "outputs": [],
      "source": [
        "print(all_text)"
      ]
    },
    {
      "cell_type": "code",
      "execution_count": null,
      "id": "eb64e4f2-6a35-466e-896c-414a0ca38744",
      "metadata": {
        "colab": {
          "base_uri": "https://localhost:8080/"
        },
        "id": "eb64e4f2-6a35-466e-896c-414a0ca38744",
        "outputId": "5441c640-0fa0-4cb8-af92-8bf8c1cdcc04"
      },
      "outputs": [],
      "source": [
        "# with all text \n",
        "ranked_sents = apply_page_rank(all_text, p=0.2, min_match_score=0.5)\n",
        "ranked_kps = filter_ranked_list(ranked_sents, model, min_match=0.8, N=20)"
      ]
    },
    {
      "cell_type": "code",
      "execution_count": null,
      "id": "81cc5fb5-2174-4cc5-828c-8641e5cf72e5",
      "metadata": {
        "colab": {
          "base_uri": "https://localhost:8080/"
        },
        "id": "81cc5fb5-2174-4cc5-828c-8641e5cf72e5",
        "outputId": "c1e7720d-aba6-4d9a-fbe9-6135e737617e"
      },
      "outputs": [],
      "source": [
        "# all text ranked\n",
        "ranked_kps"
      ]
    },
    {
      "cell_type": "code",
      "execution_count": null,
      "id": "vMNeCs8MdEhp",
      "metadata": {
        "id": "vMNeCs8MdEhp"
      },
      "outputs": [],
      "source": [
        "ds = pd.DataFrame({\"Kp candidates\":ranked_kps})"
      ]
    },
    {
      "cell_type": "code",
      "execution_count": null,
      "id": "8pjBUOzHM_dA",
      "metadata": {
        "id": "8pjBUOzHM_dA"
      },
      "outputs": [],
      "source": [
        "ds.to_csv('res_onall_20top.csv')"
      ]
    },
    {
      "cell_type": "markdown",
      "id": "X0s0M8gP_o9T",
      "metadata": {
        "id": "X0s0M8gP_o9T"
      },
      "source": [
        "**Example for just one instance**\n"
      ]
    },
    {
      "cell_type": "code",
      "execution_count": null,
      "id": "JxDaeYVwk7Tk",
      "metadata": {
        "colab": {
          "base_uri": "https://localhost:8080/"
        },
        "id": "JxDaeYVwk7Tk",
        "outputId": "8a334c70-397c-4de6-838a-ec7a90c95206"
      },
      "outputs": [],
      "source": [
        "#apply page rank on section \n",
        "\n",
        "print(\"section:\\n\",test_df.iloc[1,0])\n",
        "list_df= test_df.iloc[1,1].split(';')\n",
        "list_df=list(dict.fromkeys(list_df))\n",
        "print(\"text:\\n\",list_df)"
      ]
    },
    {
      "cell_type": "code",
      "execution_count": null,
      "id": "nbIrhaXdm4uL",
      "metadata": {
        "colab": {
          "base_uri": "https://localhost:8080/"
        },
        "id": "nbIrhaXdm4uL",
        "outputId": "24bfb344-2ea9-46c1-e4d5-e6fb146e7b33"
      },
      "outputs": [],
      "source": [
        "print(len(set(list_df)))\n",
        "print(len(list_df))"
      ]
    },
    {
      "cell_type": "code",
      "execution_count": null,
      "id": "2gb_eGfImkSL",
      "metadata": {
        "colab": {
          "base_uri": "https://localhost:8080/"
        },
        "id": "2gb_eGfImkSL",
        "outputId": "00d9b7f1-e21a-4e65-a4f9-88a3144ec61a"
      },
      "outputs": [],
      "source": [
        "#PR on section 01\n",
        "# 10 KP for this section make a len and depend on it give the number of wished Kp size\n",
        "ranked_sents_section1 = apply_page_rank(list_df, p=0.2, min_match_score=0.8)\n",
        "ranked_kps_section1 = filter_ranked_list(ranked_sents_section1, model, min_match=0.8, N=10) # make them unique decrease min_match"
      ]
    },
    {
      "cell_type": "code",
      "execution_count": null,
      "id": "9vqgb7OInyQM",
      "metadata": {
        "colab": {
          "base_uri": "https://localhost:8080/"
        },
        "id": "9vqgb7OInyQM",
        "outputId": "0867ffcb-ecee-4b79-e96b-c74fadde0ea3"
      },
      "outputs": [],
      "source": [
        "ranked_kps_section1"
      ]
    },
    {
      "cell_type": "markdown",
      "id": "Nue55tfI_5j6",
      "metadata": {
        "id": "Nue55tfI_5j6"
      },
      "source": [
        "**Pagerank On all sections. Here I am trying to  generate as many as possible kp candidates we fix for the instance 10 kp per section**"
      ]
    },
    {
      "cell_type": "code",
      "execution_count": null,
      "id": "tGDfgaiGWh14",
      "metadata": {
        "colab": {
          "base_uri": "https://localhost:8080/",
          "height": 123
        },
        "id": "tGDfgaiGWh14",
        "outputId": "5f8972b5-a77a-4fd6-dc7f-1f3d7399f15e"
      },
      "outputs": [],
      "source": [
        "test_df.iloc[0,1]"
      ]
    },
    {
      "cell_type": "code",
      "execution_count": null,
      "id": "17rXhIJ0BijE",
      "metadata": {
        "colab": {
          "base_uri": "https://localhost:8080/"
        },
        "id": "17rXhIJ0BijE",
        "outputId": "1aa3fdd0-cb16-4efd-9cd1-8d83a9bece39"
      },
      "outputs": [],
      "source": [
        "section_dict_kp={}\n",
        "\n",
        "for i in range(len(test_df[\"ranked_kps\"])):\n",
        "  x=test_df.iloc[i,1].split(';')\n",
        "  section_dict_kp[\"section \"+test_df.iloc[i,0][:-4]]=list(set(x))\n",
        "print(section_dict_kp)"
      ]
    },
    {
      "cell_type": "code",
      "execution_count": null,
      "id": "h4LKCGkUDlBc",
      "metadata": {
        "colab": {
          "base_uri": "https://localhost:8080/"
        },
        "id": "h4LKCGkUDlBc",
        "outputId": "adde27d6-f5e5-48df-c34e-62174ce697da"
      },
      "outputs": [],
      "source": [
        "print(section_dict_kp.keys())"
      ]
    },
    {
      "cell_type": "code",
      "execution_count": null,
      "id": "EtwInmyVDxyV",
      "metadata": {
        "colab": {
          "base_uri": "https://localhost:8080/"
        },
        "id": "EtwInmyVDxyV",
        "outputId": "00a4006d-7e5d-4dd3-e84d-d28b86d430b9"
      },
      "outputs": [],
      "source": [
        "for i in section_dict_kp.keys():\n",
        "  print(len(section_dict_kp[i]))"
      ]
    },
    {
      "cell_type": "code",
      "execution_count": null,
      "id": "YZPnfU72FF6-",
      "metadata": {
        "colab": {
          "base_uri": "https://localhost:8080/"
        },
        "id": "YZPnfU72FF6-",
        "outputId": "a9fc1841-dc13-4757-f33e-c896be524eba"
      },
      "outputs": [],
      "source": [
        "section_dict_kp['section 00']"
      ]
    },
    {
      "cell_type": "code",
      "execution_count": null,
      "id": "gS0GK_tRG6D-",
      "metadata": {
        "colab": {
          "base_uri": "https://localhost:8080/",
          "height": 661
        },
        "id": "gS0GK_tRG6D-",
        "outputId": "228e16cb-ebe1-4794-d4d2-2d38fd28ba6d"
      },
      "outputs": [],
      "source": [
        "import matplotlib.pyplot as plt\n",
        "\n",
        "# make int index for section\n",
        "# Not sure if they are auto sorted. in our case we did it before but just another check as this will be crucial for some hyperparameters \n",
        "sec_index=[]\n",
        "len_text= []\n",
        "for i in section_dict_kp.keys():\n",
        "  sec_index.append(int(i.split(' ')[1]))\n",
        "  len_text.append(len(section_dict_kp[i]))\n",
        "\n",
        "\n",
        "print(sec_index)\n",
        "print(len_text)\n",
        "\n",
        "s=0\n",
        "for i in len_text:\n",
        "  s+=i\n",
        "\n",
        "print(s)\n",
        "#plt.bar(DayOfWeekOfCall, DispatchesOnThisWeekday, align='center')\n",
        "\n",
        "#plt.xticks(DayOfWeekOfCall, LABELS)\n",
        "\n",
        "\n",
        "x_line=[np.array(sec_index).min(),np.array(sec_index).max()]\n",
        "\n",
        "\n",
        "\n",
        "#Fig\n",
        "fig=plt.figure(figsize=[10,10])\n",
        "ax = fig.add_subplot(211)\n",
        "ax2 = fig.add_subplot(212)\n",
        "ax.scatter(x=sec_index,y=len_text)\n",
        "ax.plot(x_line,[120,120],color='orange')\n",
        "ax.plot(x_line,[80,80],color='red')\n",
        "ax.plot(x_line,[40,40],color='green')\n",
        "ax.set_xlabel('section')\n",
        "ax.set_ylabel('length of section')\n",
        "#ax2 = fig.add_subplot(212)\n",
        "#ax2.bar(sec_index,height=len_text)\n"
      ]
    },
    {
      "cell_type": "code",
      "execution_count": null,
      "id": "te4cIJ79DVFn",
      "metadata": {
        "colab": {
          "base_uri": "https://localhost:8080/"
        },
        "id": "te4cIJ79DVFn",
        "outputId": "0f1cf24c-7bb9-4a80-cf84-d201c87e5c4a"
      },
      "outputs": [],
      "source": [
        "section_candidate={}\n",
        "dict_grenzwert= {\n",
        "    \"<40\":3,\n",
        "    \"40_80\":6,\n",
        "    \"80_120\":9,\n",
        "    \">120\":12\n",
        "} #this dictonnary won't be used for now and just for visibility and the down sections repetition can be avoided but like this is clearly for the reader\n",
        "for i in section_dict_kp.keys():\n",
        "    l_text=len(section_dict_kp[i])\n",
        "    if l_text <40: \n",
        "      ranked_sents_temp = apply_page_rank(section_dict_kp[i], p=0.2, min_match_score=0.5)\n",
        "      ranked_kps_temp = filter_ranked_list(ranked_sents_temp, model, min_match=0.6, N=dict_grenzwert['<40']) # decreased the min math to ensure a higher contextuel coverage\n",
        "      section_candidate[i+ 'kp']=ranked_kps_temp\n",
        "    elif l_text>39 and l_text < 80:\n",
        "       ranked_sents_temp = apply_page_rank(section_dict_kp[i], p=0.2, min_match_score=0.5)\n",
        "       ranked_kps_temp = filter_ranked_list(ranked_sents_temp, model, min_match=0.8, N=dict_grenzwert['40_80'])\n",
        "       section_candidate[i+ 'kp']=ranked_kps_temp\n",
        "    elif l_text>79 and l_text < 120:\n",
        "       ranked_sents_temp = apply_page_rank(section_dict_kp[i], p=0.2, min_match_score=0.5)\n",
        "       ranked_kps_temp = filter_ranked_list(ranked_sents_temp, model, min_match=0.8, N=dict_grenzwert['80_120'])\n",
        "       section_candidate[i+ 'kp']=ranked_kps_temp\n",
        "    else: \n",
        "      ranked_sents_temp = apply_page_rank(section_dict_kp[i], p=0.2, min_match_score=0.5)\n",
        "      ranked_kps_temp = filter_ranked_list(ranked_sents_temp, model, min_match=0.8, N=dict_grenzwert['>120'])\n",
        "      section_candidate[i+ 'kp']=ranked_kps_temp\n",
        "\n",
        "\n"
      ]
    },
    {
      "cell_type": "code",
      "execution_count": null,
      "id": "cDt41HfBFbRT",
      "metadata": {
        "colab": {
          "base_uri": "https://localhost:8080/"
        },
        "id": "cDt41HfBFbRT",
        "outputId": "8f356d46-47d6-4344-d2e7-d7c6a828aa87"
      },
      "outputs": [],
      "source": [
        "section_candidate"
      ]
    },
    {
      "cell_type": "code",
      "execution_count": null,
      "id": "A6y8N2FSGB97",
      "metadata": {
        "id": "A6y8N2FSGB97"
      },
      "outputs": [],
      "source": [
        "import json\n",
        "with open(\"result_kp.json\", \"w\") as f:\n",
        "    json.dump(section_candidate, f)"
      ]
    },
    {
      "cell_type": "markdown",
      "id": "TSY-74SjGTUZ",
      "metadata": {
        "id": "TSY-74SjGTUZ"
      },
      "source": [
        "**Clustering**"
      ]
    },
    {
      "cell_type": "markdown",
      "id": "fTKSjBmtVDKP",
      "metadata": {
        "id": "fTKSjBmtVDKP"
      },
      "source": [
        "Using a cluster to determine the amount of kp\n",
        " "
      ]
    },
    {
      "cell_type": "code",
      "execution_count": null,
      "id": "1f258083",
      "metadata": {
        "id": "1f258083"
      },
      "outputs": [],
      "source": [
        "df_cluster_amount= pd.read_csv(\"bettopic_name_to_cluster_amount_dictionary.csv\")"
      ]
    },
    {
      "cell_type": "code",
      "execution_count": null,
      "id": "4EJvIJZueqfa",
      "metadata": {
        "colab": {
          "base_uri": "https://localhost:8080/",
          "height": 206
        },
        "id": "4EJvIJZueqfa",
        "outputId": "e23af7ef-1e93-4881-d182-942666a5564f"
      },
      "outputs": [],
      "source": [
        "df_cluster_amount.head()"
      ]
    },
    {
      "cell_type": "code",
      "execution_count": null,
      "id": "5Nep6lyoevBF",
      "metadata": {
        "id": "5Nep6lyoevBF"
      },
      "outputs": [],
      "source": [
        "N_kps=df_cluster_amount[\"cluster_id\"].values"
      ]
    },
    {
      "cell_type": "code",
      "execution_count": null,
      "id": "4p2pb0pbfD-l",
      "metadata": {
        "colab": {
          "base_uri": "https://localhost:8080/"
        },
        "id": "4p2pb0pbfD-l",
        "outputId": "fb0a6ace-fa18-4e6d-bb88-5d6896aeade0"
      },
      "outputs": [],
      "source": [
        "section_candidate_cluster={}\n",
        "for i,j in zip(section_dict_kp.keys(),N_kps):\n",
        "    ranked_sents_temp = apply_page_rank(section_dict_kp[i], p=0.2, min_match_score=0.5)\n",
        "    ranked_kps_temp = filter_ranked_list(ranked_sents_temp, model, min_match=0.6, N=j) # decreased the min math to ensure a higher contextuel coverage\n",
        "    section_candidate_cluster[i+ 'kp']=ranked_kps_temp\n",
        "    "
      ]
    },
    {
      "cell_type": "code",
      "execution_count": null,
      "id": "MQo0cA79fjbr",
      "metadata": {
        "colab": {
          "base_uri": "https://localhost:8080/"
        },
        "id": "MQo0cA79fjbr",
        "outputId": "da396298-e816-4188-9284-e71b29629ae5"
      },
      "outputs": [],
      "source": [
        "section_candidate_cluster"
      ]
    },
    {
      "cell_type": "code",
      "execution_count": null,
      "id": "jmOjQcXYgk-p",
      "metadata": {
        "id": "jmOjQcXYgk-p"
      },
      "outputs": [],
      "source": [
        "import json\n",
        "with open(\"result_kp_cluser_legalbert.json\", \"w\") as s:\n",
        "    json.dump(section_candidate_cluster, s)"
      ]
    },
    {
      "cell_type": "code",
      "execution_count": null,
      "id": "iztKLcoUhINm",
      "metadata": {
        "id": "iztKLcoUhINm"
      },
      "outputs": [],
      "source": [
        "df_kp= pd.DataFrame()\n",
        "df_kp[\"Sections\"]=section_candidate_cluster.keys()\n",
        "df_kp[\"kp_cand\"]=section_candidate_cluster.values()"
      ]
    },
    {
      "cell_type": "code",
      "execution_count": null,
      "id": "uznsBx1mh5Rx",
      "metadata": {
        "id": "uznsBx1mh5Rx"
      },
      "outputs": [],
      "source": [
        "df_kp.head(42)\n",
        "df_kp.to_csv(\"res_kp_cand_cluster.csv\")"
      ]
    }
  ],
  "metadata": {
    "accelerator": "GPU",
    "colab": {
      "collapsed_sections": [],
      "name": "Pr_clustering.ipynb",
      "provenance": []
    },
    "gpuClass": "standard",
    "kernelspec": {
      "display_name": "Python 3",
      "name": "python3"
    },
    "language_info": {
      "name": "python"
    },
    "widgets": {
      "application/vnd.jupyter.widget-state+json": {
        "037d7998b4d64d69acfaebb960761f2e": {
          "model_module": "@jupyter-widgets/controls",
          "model_module_version": "1.5.0",
          "model_name": "HTMLModel",
          "state": {
            "_dom_classes": [],
            "_model_module": "@jupyter-widgets/controls",
            "_model_module_version": "1.5.0",
            "_model_name": "HTMLModel",
            "_view_count": null,
            "_view_module": "@jupyter-widgets/controls",
            "_view_module_version": "1.5.0",
            "_view_name": "HTMLView",
            "description": "",
            "description_tooltip": null,
            "layout": "IPY_MODEL_8124d32f4afc4d35a556bf70ff5af0d5",
            "placeholder": "​",
            "style": "IPY_MODEL_0f1b5b1a0fd84f45903fb4537eb4c9e6",
            "value": " 1.30k/1.30k [00:00&lt;00:00, 21.3kB/s]"
          }
        },
        "05baf1e7ae724f5195550e2c09938578": {
          "model_module": "@jupyter-widgets/base",
          "model_module_version": "1.2.0",
          "model_name": "LayoutModel",
          "state": {
            "_model_module": "@jupyter-widgets/base",
            "_model_module_version": "1.2.0",
            "_model_name": "LayoutModel",
            "_view_count": null,
            "_view_module": "@jupyter-widgets/base",
            "_view_module_version": "1.2.0",
            "_view_name": "LayoutView",
            "align_content": null,
            "align_items": null,
            "align_self": null,
            "border": null,
            "bottom": null,
            "display": null,
            "flex": null,
            "flex_flow": null,
            "grid_area": null,
            "grid_auto_columns": null,
            "grid_auto_flow": null,
            "grid_auto_rows": null,
            "grid_column": null,
            "grid_gap": null,
            "grid_row": null,
            "grid_template_areas": null,
            "grid_template_columns": null,
            "grid_template_rows": null,
            "height": null,
            "justify_content": null,
            "justify_items": null,
            "left": null,
            "margin": null,
            "max_height": null,
            "max_width": null,
            "min_height": null,
            "min_width": null,
            "object_fit": null,
            "object_position": null,
            "order": null,
            "overflow": null,
            "overflow_x": null,
            "overflow_y": null,
            "padding": null,
            "right": null,
            "top": null,
            "visibility": null,
            "width": null
          }
        },
        "08d169d9d92a4cd69b60aca437cd5f87": {
          "model_module": "@jupyter-widgets/controls",
          "model_module_version": "1.5.0",
          "model_name": "ProgressStyleModel",
          "state": {
            "_model_module": "@jupyter-widgets/controls",
            "_model_module_version": "1.5.0",
            "_model_name": "ProgressStyleModel",
            "_view_count": null,
            "_view_module": "@jupyter-widgets/base",
            "_view_module_version": "1.2.0",
            "_view_name": "StyleView",
            "bar_color": null,
            "description_width": ""
          }
        },
        "09c2f8c433644153a4eba1f84eb5989d": {
          "model_module": "@jupyter-widgets/controls",
          "model_module_version": "1.5.0",
          "model_name": "HTMLModel",
          "state": {
            "_dom_classes": [],
            "_model_module": "@jupyter-widgets/controls",
            "_model_module_version": "1.5.0",
            "_model_name": "HTMLModel",
            "_view_count": null,
            "_view_module": "@jupyter-widgets/controls",
            "_view_module_version": "1.5.0",
            "_view_name": "HTMLView",
            "description": "",
            "description_tooltip": null,
            "layout": "IPY_MODEL_d3a052533c3d46719884b74666b85770",
            "placeholder": "​",
            "style": "IPY_MODEL_65fea42830d8401ebe30383387abb545",
            "value": "Downloading: 100%"
          }
        },
        "0e85658693764449b8bb837d47375633": {
          "model_module": "@jupyter-widgets/controls",
          "model_module_version": "1.5.0",
          "model_name": "DescriptionStyleModel",
          "state": {
            "_model_module": "@jupyter-widgets/controls",
            "_model_module_version": "1.5.0",
            "_model_name": "DescriptionStyleModel",
            "_view_count": null,
            "_view_module": "@jupyter-widgets/base",
            "_view_module_version": "1.2.0",
            "_view_name": "StyleView",
            "description_width": ""
          }
        },
        "0f1b5b1a0fd84f45903fb4537eb4c9e6": {
          "model_module": "@jupyter-widgets/controls",
          "model_module_version": "1.5.0",
          "model_name": "DescriptionStyleModel",
          "state": {
            "_model_module": "@jupyter-widgets/controls",
            "_model_module_version": "1.5.0",
            "_model_name": "DescriptionStyleModel",
            "_view_count": null,
            "_view_module": "@jupyter-widgets/base",
            "_view_module_version": "1.2.0",
            "_view_name": "StyleView",
            "description_width": ""
          }
        },
        "10f05b8b37114e99b1b16014c69280c1": {
          "model_module": "@jupyter-widgets/controls",
          "model_module_version": "1.5.0",
          "model_name": "FloatProgressModel",
          "state": {
            "_dom_classes": [],
            "_model_module": "@jupyter-widgets/controls",
            "_model_module_version": "1.5.0",
            "_model_name": "FloatProgressModel",
            "_view_count": null,
            "_view_module": "@jupyter-widgets/controls",
            "_view_module_version": "1.5.0",
            "_view_name": "ProgressView",
            "bar_style": "success",
            "description": "",
            "description_tooltip": null,
            "layout": "IPY_MODEL_a040cf697f23428985e7c8d6d5c90e37",
            "max": 391,
            "min": 0,
            "orientation": "horizontal",
            "style": "IPY_MODEL_dcbb3c5546914f668413fa2267d80081",
            "value": 391
          }
        },
        "113ee15c603b4deaa5ebf1b73c26bff8": {
          "model_module": "@jupyter-widgets/controls",
          "model_module_version": "1.5.0",
          "model_name": "DescriptionStyleModel",
          "state": {
            "_model_module": "@jupyter-widgets/controls",
            "_model_module_version": "1.5.0",
            "_model_name": "DescriptionStyleModel",
            "_view_count": null,
            "_view_module": "@jupyter-widgets/base",
            "_view_module_version": "1.2.0",
            "_view_name": "StyleView",
            "description_width": ""
          }
        },
        "131a8869a2a64a168a90c80a1b2cb538": {
          "model_module": "@jupyter-widgets/controls",
          "model_module_version": "1.5.0",
          "model_name": "HTMLModel",
          "state": {
            "_dom_classes": [],
            "_model_module": "@jupyter-widgets/controls",
            "_model_module_version": "1.5.0",
            "_model_name": "HTMLModel",
            "_view_count": null,
            "_view_module": "@jupyter-widgets/controls",
            "_view_module_version": "1.5.0",
            "_view_name": "HTMLView",
            "description": "",
            "description_tooltip": null,
            "layout": "IPY_MODEL_576790b15751454f8febb4805e69deee",
            "placeholder": "​",
            "style": "IPY_MODEL_8cd3ff6be0f046479f7e309dbbbb85e9",
            "value": "Downloading: 100%"
          }
        },
        "1323856e08fb43efa13265cda1ef4b23": {
          "model_module": "@jupyter-widgets/controls",
          "model_module_version": "1.5.0",
          "model_name": "FloatProgressModel",
          "state": {
            "_dom_classes": [],
            "_model_module": "@jupyter-widgets/controls",
            "_model_module_version": "1.5.0",
            "_model_name": "FloatProgressModel",
            "_view_count": null,
            "_view_module": "@jupyter-widgets/controls",
            "_view_module_version": "1.5.0",
            "_view_name": "ProgressView",
            "bar_style": "success",
            "description": "",
            "description_tooltip": null,
            "layout": "IPY_MODEL_4362d5dfbd714c7b8a7440a1d6ca2eef",
            "max": 11265,
            "min": 0,
            "orientation": "horizontal",
            "style": "IPY_MODEL_6996bb69dc5042e8b84bdf8fd7944094",
            "value": 11265
          }
        },
        "162f4b234cc546a1a082d42f51ac758f": {
          "model_module": "@jupyter-widgets/controls",
          "model_module_version": "1.5.0",
          "model_name": "HTMLModel",
          "state": {
            "_dom_classes": [],
            "_model_module": "@jupyter-widgets/controls",
            "_model_module_version": "1.5.0",
            "_model_name": "HTMLModel",
            "_view_count": null,
            "_view_module": "@jupyter-widgets/controls",
            "_view_module_version": "1.5.0",
            "_view_name": "HTMLView",
            "description": "",
            "description_tooltip": null,
            "layout": "IPY_MODEL_a236192d1588439eab3469f026b854cf",
            "placeholder": "​",
            "style": "IPY_MODEL_d921c94819804288b5b1dda7e9a8a850",
            "value": " 2.13G/2.13G [01:24&lt;00:00, 25.7MB/s]"
          }
        },
        "1815ccc9e8664cea957249896e73f068": {
          "model_module": "@jupyter-widgets/controls",
          "model_module_version": "1.5.0",
          "model_name": "ProgressStyleModel",
          "state": {
            "_model_module": "@jupyter-widgets/controls",
            "_model_module_version": "1.5.0",
            "_model_name": "ProgressStyleModel",
            "_view_count": null,
            "_view_module": "@jupyter-widgets/base",
            "_view_module_version": "1.2.0",
            "_view_name": "StyleView",
            "bar_color": null,
            "description_width": ""
          }
        },
        "1c0d464b612f4a37ac012154e22c7b66": {
          "model_module": "@jupyter-widgets/controls",
          "model_module_version": "1.5.0",
          "model_name": "HTMLModel",
          "state": {
            "_dom_classes": [],
            "_model_module": "@jupyter-widgets/controls",
            "_model_module_version": "1.5.0",
            "_model_name": "HTMLModel",
            "_view_count": null,
            "_view_module": "@jupyter-widgets/controls",
            "_view_module_version": "1.5.0",
            "_view_name": "HTMLView",
            "description": "",
            "description_tooltip": null,
            "layout": "IPY_MODEL_6262633d25e54788959924c093abc88d",
            "placeholder": "​",
            "style": "IPY_MODEL_dff676e0ac9b443da40a59224f206968",
            "value": " 440M/440M [00:16&lt;00:00, 21.9MB/s]"
          }
        },
        "1d8ddaf639fc4cc19d9894c71a852c8a": {
          "model_module": "@jupyter-widgets/base",
          "model_module_version": "1.2.0",
          "model_name": "LayoutModel",
          "state": {
            "_model_module": "@jupyter-widgets/base",
            "_model_module_version": "1.2.0",
            "_model_name": "LayoutModel",
            "_view_count": null,
            "_view_module": "@jupyter-widgets/base",
            "_view_module_version": "1.2.0",
            "_view_name": "LayoutView",
            "align_content": null,
            "align_items": null,
            "align_self": null,
            "border": null,
            "bottom": null,
            "display": null,
            "flex": null,
            "flex_flow": null,
            "grid_area": null,
            "grid_auto_columns": null,
            "grid_auto_flow": null,
            "grid_auto_rows": null,
            "grid_column": null,
            "grid_gap": null,
            "grid_row": null,
            "grid_template_areas": null,
            "grid_template_columns": null,
            "grid_template_rows": null,
            "height": null,
            "justify_content": null,
            "justify_items": null,
            "left": null,
            "margin": null,
            "max_height": null,
            "max_width": null,
            "min_height": null,
            "min_width": null,
            "object_fit": null,
            "object_position": null,
            "order": null,
            "overflow": null,
            "overflow_x": null,
            "overflow_y": null,
            "padding": null,
            "right": null,
            "top": null,
            "visibility": null,
            "width": null
          }
        },
        "1fdeed3cb95644d786ead310bf52e00f": {
          "model_module": "@jupyter-widgets/controls",
          "model_module_version": "1.5.0",
          "model_name": "ProgressStyleModel",
          "state": {
            "_model_module": "@jupyter-widgets/controls",
            "_model_module_version": "1.5.0",
            "_model_name": "ProgressStyleModel",
            "_view_count": null,
            "_view_module": "@jupyter-widgets/base",
            "_view_module_version": "1.2.0",
            "_view_name": "StyleView",
            "bar_color": null,
            "description_width": ""
          }
        },
        "211379b591f24f3bb9063223cfe33057": {
          "model_module": "@jupyter-widgets/controls",
          "model_module_version": "1.5.0",
          "model_name": "ProgressStyleModel",
          "state": {
            "_model_module": "@jupyter-widgets/controls",
            "_model_module_version": "1.5.0",
            "_model_name": "ProgressStyleModel",
            "_view_count": null,
            "_view_module": "@jupyter-widgets/base",
            "_view_module_version": "1.2.0",
            "_view_name": "StyleView",
            "bar_color": null,
            "description_width": ""
          }
        },
        "229d9a96c9564c079ea877c48d5e96c3": {
          "model_module": "@jupyter-widgets/base",
          "model_module_version": "1.2.0",
          "model_name": "LayoutModel",
          "state": {
            "_model_module": "@jupyter-widgets/base",
            "_model_module_version": "1.2.0",
            "_model_name": "LayoutModel",
            "_view_count": null,
            "_view_module": "@jupyter-widgets/base",
            "_view_module_version": "1.2.0",
            "_view_name": "LayoutView",
            "align_content": null,
            "align_items": null,
            "align_self": null,
            "border": null,
            "bottom": null,
            "display": null,
            "flex": null,
            "flex_flow": null,
            "grid_area": null,
            "grid_auto_columns": null,
            "grid_auto_flow": null,
            "grid_auto_rows": null,
            "grid_column": null,
            "grid_gap": null,
            "grid_row": null,
            "grid_template_areas": null,
            "grid_template_columns": null,
            "grid_template_rows": null,
            "height": null,
            "justify_content": null,
            "justify_items": null,
            "left": null,
            "margin": null,
            "max_height": null,
            "max_width": null,
            "min_height": null,
            "min_width": null,
            "object_fit": null,
            "object_position": null,
            "order": null,
            "overflow": null,
            "overflow_x": null,
            "overflow_y": null,
            "padding": null,
            "right": null,
            "top": null,
            "visibility": null,
            "width": null
          }
        },
        "23926001fe0947cd9db1c8d047bddaaf": {
          "model_module": "@jupyter-widgets/base",
          "model_module_version": "1.2.0",
          "model_name": "LayoutModel",
          "state": {
            "_model_module": "@jupyter-widgets/base",
            "_model_module_version": "1.2.0",
            "_model_name": "LayoutModel",
            "_view_count": null,
            "_view_module": "@jupyter-widgets/base",
            "_view_module_version": "1.2.0",
            "_view_name": "LayoutView",
            "align_content": null,
            "align_items": null,
            "align_self": null,
            "border": null,
            "bottom": null,
            "display": null,
            "flex": null,
            "flex_flow": null,
            "grid_area": null,
            "grid_auto_columns": null,
            "grid_auto_flow": null,
            "grid_auto_rows": null,
            "grid_column": null,
            "grid_gap": null,
            "grid_row": null,
            "grid_template_areas": null,
            "grid_template_columns": null,
            "grid_template_rows": null,
            "height": null,
            "justify_content": null,
            "justify_items": null,
            "left": null,
            "margin": null,
            "max_height": null,
            "max_width": null,
            "min_height": null,
            "min_width": null,
            "object_fit": null,
            "object_position": null,
            "order": null,
            "overflow": null,
            "overflow_x": null,
            "overflow_y": null,
            "padding": null,
            "right": null,
            "top": null,
            "visibility": null,
            "width": null
          }
        },
        "24f61c44f09449b1a5253395d3764fb5": {
          "model_module": "@jupyter-widgets/controls",
          "model_module_version": "1.5.0",
          "model_name": "DescriptionStyleModel",
          "state": {
            "_model_module": "@jupyter-widgets/controls",
            "_model_module_version": "1.5.0",
            "_model_name": "DescriptionStyleModel",
            "_view_count": null,
            "_view_module": "@jupyter-widgets/base",
            "_view_module_version": "1.2.0",
            "_view_name": "StyleView",
            "description_width": ""
          }
        },
        "25e1b4c355564b7b9b3b64b27d7e902a": {
          "model_module": "@jupyter-widgets/controls",
          "model_module_version": "1.5.0",
          "model_name": "DescriptionStyleModel",
          "state": {
            "_model_module": "@jupyter-widgets/controls",
            "_model_module_version": "1.5.0",
            "_model_name": "DescriptionStyleModel",
            "_view_count": null,
            "_view_module": "@jupyter-widgets/base",
            "_view_module_version": "1.2.0",
            "_view_name": "StyleView",
            "description_width": ""
          }
        },
        "2762a4bab9744b52a43a890f7bf28fec": {
          "model_module": "@jupyter-widgets/controls",
          "model_module_version": "1.5.0",
          "model_name": "FloatProgressModel",
          "state": {
            "_dom_classes": [],
            "_model_module": "@jupyter-widgets/controls",
            "_model_module_version": "1.5.0",
            "_model_name": "FloatProgressModel",
            "_view_count": null,
            "_view_module": "@jupyter-widgets/controls",
            "_view_module_version": "1.5.0",
            "_view_name": "ProgressView",
            "bar_style": "success",
            "description": "",
            "description_tooltip": null,
            "layout": "IPY_MODEL_b37a13ab7bcf4bc39402807a03a529c6",
            "max": 2283841687,
            "min": 0,
            "orientation": "horizontal",
            "style": "IPY_MODEL_1fdeed3cb95644d786ead310bf52e00f",
            "value": 2283841687
          }
        },
        "2ecc2ae912634cc6a9679cbcfabb6b60": {
          "model_module": "@jupyter-widgets/controls",
          "model_module_version": "1.5.0",
          "model_name": "DescriptionStyleModel",
          "state": {
            "_model_module": "@jupyter-widgets/controls",
            "_model_module_version": "1.5.0",
            "_model_name": "DescriptionStyleModel",
            "_view_count": null,
            "_view_module": "@jupyter-widgets/base",
            "_view_module_version": "1.2.0",
            "_view_name": "StyleView",
            "description_width": ""
          }
        },
        "30fbd9abc2af41b080796c249a755e19": {
          "model_module": "@jupyter-widgets/base",
          "model_module_version": "1.2.0",
          "model_name": "LayoutModel",
          "state": {
            "_model_module": "@jupyter-widgets/base",
            "_model_module_version": "1.2.0",
            "_model_name": "LayoutModel",
            "_view_count": null,
            "_view_module": "@jupyter-widgets/base",
            "_view_module_version": "1.2.0",
            "_view_name": "LayoutView",
            "align_content": null,
            "align_items": null,
            "align_self": null,
            "border": null,
            "bottom": null,
            "display": null,
            "flex": null,
            "flex_flow": null,
            "grid_area": null,
            "grid_auto_columns": null,
            "grid_auto_flow": null,
            "grid_auto_rows": null,
            "grid_column": null,
            "grid_gap": null,
            "grid_row": null,
            "grid_template_areas": null,
            "grid_template_columns": null,
            "grid_template_rows": null,
            "height": null,
            "justify_content": null,
            "justify_items": null,
            "left": null,
            "margin": null,
            "max_height": null,
            "max_width": null,
            "min_height": null,
            "min_width": null,
            "object_fit": null,
            "object_position": null,
            "order": null,
            "overflow": null,
            "overflow_x": null,
            "overflow_y": null,
            "padding": null,
            "right": null,
            "top": null,
            "visibility": null,
            "width": null
          }
        },
        "31ebbed17e5e4bd18c40367b8e9381b9": {
          "model_module": "@jupyter-widgets/controls",
          "model_module_version": "1.5.0",
          "model_name": "HTMLModel",
          "state": {
            "_dom_classes": [],
            "_model_module": "@jupyter-widgets/controls",
            "_model_module_version": "1.5.0",
            "_model_name": "HTMLModel",
            "_view_count": null,
            "_view_module": "@jupyter-widgets/controls",
            "_view_module_version": "1.5.0",
            "_view_name": "HTMLView",
            "description": "",
            "description_tooltip": null,
            "layout": "IPY_MODEL_b0a5d77cbaee4fffbaf14897586e5ecd",
            "placeholder": "​",
            "style": "IPY_MODEL_113ee15c603b4deaa5ebf1b73c26bff8",
            "value": " 1.00k/1.00k [00:00&lt;00:00, 18.1kB/s]"
          }
        },
        "351d9438f7a44bd48b961cd15d0d6314": {
          "model_module": "@jupyter-widgets/controls",
          "model_module_version": "1.5.0",
          "model_name": "FloatProgressModel",
          "state": {
            "_dom_classes": [],
            "_model_module": "@jupyter-widgets/controls",
            "_model_module_version": "1.5.0",
            "_model_name": "FloatProgressModel",
            "_view_count": null,
            "_view_module": "@jupyter-widgets/controls",
            "_view_module_version": "1.5.0",
            "_view_name": "ProgressView",
            "bar_style": "success",
            "description": "",
            "description_tooltip": null,
            "layout": "IPY_MODEL_7a28636d032d4662bdfb169da4e0270a",
            "max": 1508,
            "min": 0,
            "orientation": "horizontal",
            "style": "IPY_MODEL_f6e90cd6e15b43c587dc4fcb50d876a7",
            "value": 1508
          }
        },
        "35524738ea584afbb68e7f93544b7fe3": {
          "model_module": "@jupyter-widgets/controls",
          "model_module_version": "1.5.0",
          "model_name": "HBoxModel",
          "state": {
            "_dom_classes": [],
            "_model_module": "@jupyter-widgets/controls",
            "_model_module_version": "1.5.0",
            "_model_name": "HBoxModel",
            "_view_count": null,
            "_view_module": "@jupyter-widgets/controls",
            "_view_module_version": "1.5.0",
            "_view_name": "HBoxView",
            "box_style": "",
            "children": [
              "IPY_MODEL_816c6a6ca3054487aa3bc35d9c145cf1",
              "IPY_MODEL_b48f27b08be8436eba24e34871744799",
              "IPY_MODEL_037d7998b4d64d69acfaebb960761f2e"
            ],
            "layout": "IPY_MODEL_96188ea6e01546929b18bc68dc0e4ff5"
          }
        },
        "3974bf123896471db06b5bb3df9e834f": {
          "model_module": "@jupyter-widgets/controls",
          "model_module_version": "1.5.0",
          "model_name": "FloatProgressModel",
          "state": {
            "_dom_classes": [],
            "_model_module": "@jupyter-widgets/controls",
            "_model_module_version": "1.5.0",
            "_model_name": "FloatProgressModel",
            "_view_count": null,
            "_view_module": "@jupyter-widgets/controls",
            "_view_module_version": "1.5.0",
            "_view_name": "ProgressView",
            "bar_style": "success",
            "description": "",
            "description_tooltip": null,
            "layout": "IPY_MODEL_d00b1c446c8e4256b0d5d980854e4668",
            "max": 231508,
            "min": 0,
            "orientation": "horizontal",
            "style": "IPY_MODEL_898f6ac72b7a4099876fbd5338ffcc89",
            "value": 231508
          }
        },
        "4362d5dfbd714c7b8a7440a1d6ca2eef": {
          "model_module": "@jupyter-widgets/base",
          "model_module_version": "1.2.0",
          "model_name": "LayoutModel",
          "state": {
            "_model_module": "@jupyter-widgets/base",
            "_model_module_version": "1.2.0",
            "_model_name": "LayoutModel",
            "_view_count": null,
            "_view_module": "@jupyter-widgets/base",
            "_view_module_version": "1.2.0",
            "_view_name": "LayoutView",
            "align_content": null,
            "align_items": null,
            "align_self": null,
            "border": null,
            "bottom": null,
            "display": null,
            "flex": null,
            "flex_flow": null,
            "grid_area": null,
            "grid_auto_columns": null,
            "grid_auto_flow": null,
            "grid_auto_rows": null,
            "grid_column": null,
            "grid_gap": null,
            "grid_row": null,
            "grid_template_areas": null,
            "grid_template_columns": null,
            "grid_template_rows": null,
            "height": null,
            "justify_content": null,
            "justify_items": null,
            "left": null,
            "margin": null,
            "max_height": null,
            "max_width": null,
            "min_height": null,
            "min_width": null,
            "object_fit": null,
            "object_position": null,
            "order": null,
            "overflow": null,
            "overflow_x": null,
            "overflow_y": null,
            "padding": null,
            "right": null,
            "top": null,
            "visibility": null,
            "width": null
          }
        },
        "464155b2cb844464920f81b28f2bdda4": {
          "model_module": "@jupyter-widgets/base",
          "model_module_version": "1.2.0",
          "model_name": "LayoutModel",
          "state": {
            "_model_module": "@jupyter-widgets/base",
            "_model_module_version": "1.2.0",
            "_model_name": "LayoutModel",
            "_view_count": null,
            "_view_module": "@jupyter-widgets/base",
            "_view_module_version": "1.2.0",
            "_view_name": "LayoutView",
            "align_content": null,
            "align_items": null,
            "align_self": null,
            "border": null,
            "bottom": null,
            "display": null,
            "flex": null,
            "flex_flow": null,
            "grid_area": null,
            "grid_auto_columns": null,
            "grid_auto_flow": null,
            "grid_auto_rows": null,
            "grid_column": null,
            "grid_gap": null,
            "grid_row": null,
            "grid_template_areas": null,
            "grid_template_columns": null,
            "grid_template_rows": null,
            "height": null,
            "justify_content": null,
            "justify_items": null,
            "left": null,
            "margin": null,
            "max_height": null,
            "max_width": null,
            "min_height": null,
            "min_width": null,
            "object_fit": null,
            "object_position": null,
            "order": null,
            "overflow": null,
            "overflow_x": null,
            "overflow_y": null,
            "padding": null,
            "right": null,
            "top": null,
            "visibility": null,
            "width": null
          }
        },
        "47e29e8f7e2f4c6392552899c20fd84f": {
          "model_module": "@jupyter-widgets/controls",
          "model_module_version": "1.5.0",
          "model_name": "DescriptionStyleModel",
          "state": {
            "_model_module": "@jupyter-widgets/controls",
            "_model_module_version": "1.5.0",
            "_model_name": "DescriptionStyleModel",
            "_view_count": null,
            "_view_module": "@jupyter-widgets/base",
            "_view_module_version": "1.2.0",
            "_view_name": "StyleView",
            "description_width": ""
          }
        },
        "4a36127502c645119c7bc1e4c0a8e87c": {
          "model_module": "@jupyter-widgets/base",
          "model_module_version": "1.2.0",
          "model_name": "LayoutModel",
          "state": {
            "_model_module": "@jupyter-widgets/base",
            "_model_module_version": "1.2.0",
            "_model_name": "LayoutModel",
            "_view_count": null,
            "_view_module": "@jupyter-widgets/base",
            "_view_module_version": "1.2.0",
            "_view_name": "LayoutView",
            "align_content": null,
            "align_items": null,
            "align_self": null,
            "border": null,
            "bottom": null,
            "display": null,
            "flex": null,
            "flex_flow": null,
            "grid_area": null,
            "grid_auto_columns": null,
            "grid_auto_flow": null,
            "grid_auto_rows": null,
            "grid_column": null,
            "grid_gap": null,
            "grid_row": null,
            "grid_template_areas": null,
            "grid_template_columns": null,
            "grid_template_rows": null,
            "height": null,
            "justify_content": null,
            "justify_items": null,
            "left": null,
            "margin": null,
            "max_height": null,
            "max_width": null,
            "min_height": null,
            "min_width": null,
            "object_fit": null,
            "object_position": null,
            "order": null,
            "overflow": null,
            "overflow_x": null,
            "overflow_y": null,
            "padding": null,
            "right": null,
            "top": null,
            "visibility": null,
            "width": null
          }
        },
        "4dedb86f44b94a48bb3c3a824f1a8e55": {
          "model_module": "@jupyter-widgets/base",
          "model_module_version": "1.2.0",
          "model_name": "LayoutModel",
          "state": {
            "_model_module": "@jupyter-widgets/base",
            "_model_module_version": "1.2.0",
            "_model_name": "LayoutModel",
            "_view_count": null,
            "_view_module": "@jupyter-widgets/base",
            "_view_module_version": "1.2.0",
            "_view_name": "LayoutView",
            "align_content": null,
            "align_items": null,
            "align_self": null,
            "border": null,
            "bottom": null,
            "display": null,
            "flex": null,
            "flex_flow": null,
            "grid_area": null,
            "grid_auto_columns": null,
            "grid_auto_flow": null,
            "grid_auto_rows": null,
            "grid_column": null,
            "grid_gap": null,
            "grid_row": null,
            "grid_template_areas": null,
            "grid_template_columns": null,
            "grid_template_rows": null,
            "height": null,
            "justify_content": null,
            "justify_items": null,
            "left": null,
            "margin": null,
            "max_height": null,
            "max_width": null,
            "min_height": null,
            "min_width": null,
            "object_fit": null,
            "object_position": null,
            "order": null,
            "overflow": null,
            "overflow_x": null,
            "overflow_y": null,
            "padding": null,
            "right": null,
            "top": null,
            "visibility": null,
            "width": null
          }
        },
        "4e866cd9d9134a318d0016c08c7973d1": {
          "model_module": "@jupyter-widgets/base",
          "model_module_version": "1.2.0",
          "model_name": "LayoutModel",
          "state": {
            "_model_module": "@jupyter-widgets/base",
            "_model_module_version": "1.2.0",
            "_model_name": "LayoutModel",
            "_view_count": null,
            "_view_module": "@jupyter-widgets/base",
            "_view_module_version": "1.2.0",
            "_view_name": "LayoutView",
            "align_content": null,
            "align_items": null,
            "align_self": null,
            "border": null,
            "bottom": null,
            "display": null,
            "flex": null,
            "flex_flow": null,
            "grid_area": null,
            "grid_auto_columns": null,
            "grid_auto_flow": null,
            "grid_auto_rows": null,
            "grid_column": null,
            "grid_gap": null,
            "grid_row": null,
            "grid_template_areas": null,
            "grid_template_columns": null,
            "grid_template_rows": null,
            "height": null,
            "justify_content": null,
            "justify_items": null,
            "left": null,
            "margin": null,
            "max_height": null,
            "max_width": null,
            "min_height": null,
            "min_width": null,
            "object_fit": null,
            "object_position": null,
            "order": null,
            "overflow": null,
            "overflow_x": null,
            "overflow_y": null,
            "padding": null,
            "right": null,
            "top": null,
            "visibility": null,
            "width": null
          }
        },
        "4fe9f3aea1fc465cb5bebc8fcda9662c": {
          "model_module": "@jupyter-widgets/controls",
          "model_module_version": "1.5.0",
          "model_name": "HTMLModel",
          "state": {
            "_dom_classes": [],
            "_model_module": "@jupyter-widgets/controls",
            "_model_module_version": "1.5.0",
            "_model_name": "HTMLModel",
            "_view_count": null,
            "_view_module": "@jupyter-widgets/controls",
            "_view_module_version": "1.5.0",
            "_view_name": "HTMLView",
            "description": "",
            "description_tooltip": null,
            "layout": "IPY_MODEL_fb2148c652be488ab02376b0c75a182d",
            "placeholder": "​",
            "style": "IPY_MODEL_cf30c813fcac4731b9ff3962e4a81f96",
            "value": "Downloading: 100%"
          }
        },
        "5020b1183c824b3cb47b068158dfb1a0": {
          "model_module": "@jupyter-widgets/base",
          "model_module_version": "1.2.0",
          "model_name": "LayoutModel",
          "state": {
            "_model_module": "@jupyter-widgets/base",
            "_model_module_version": "1.2.0",
            "_model_name": "LayoutModel",
            "_view_count": null,
            "_view_module": "@jupyter-widgets/base",
            "_view_module_version": "1.2.0",
            "_view_name": "LayoutView",
            "align_content": null,
            "align_items": null,
            "align_self": null,
            "border": null,
            "bottom": null,
            "display": null,
            "flex": null,
            "flex_flow": null,
            "grid_area": null,
            "grid_auto_columns": null,
            "grid_auto_flow": null,
            "grid_auto_rows": null,
            "grid_column": null,
            "grid_gap": null,
            "grid_row": null,
            "grid_template_areas": null,
            "grid_template_columns": null,
            "grid_template_rows": null,
            "height": null,
            "justify_content": null,
            "justify_items": null,
            "left": null,
            "margin": null,
            "max_height": null,
            "max_width": null,
            "min_height": null,
            "min_width": null,
            "object_fit": null,
            "object_position": null,
            "order": null,
            "overflow": null,
            "overflow_x": null,
            "overflow_y": null,
            "padding": null,
            "right": null,
            "top": null,
            "visibility": null,
            "width": null
          }
        },
        "52bfa46cb7a047e0900b0491ac387a0b": {
          "model_module": "@jupyter-widgets/base",
          "model_module_version": "1.2.0",
          "model_name": "LayoutModel",
          "state": {
            "_model_module": "@jupyter-widgets/base",
            "_model_module_version": "1.2.0",
            "_model_name": "LayoutModel",
            "_view_count": null,
            "_view_module": "@jupyter-widgets/base",
            "_view_module_version": "1.2.0",
            "_view_name": "LayoutView",
            "align_content": null,
            "align_items": null,
            "align_self": null,
            "border": null,
            "bottom": null,
            "display": null,
            "flex": null,
            "flex_flow": null,
            "grid_area": null,
            "grid_auto_columns": null,
            "grid_auto_flow": null,
            "grid_auto_rows": null,
            "grid_column": null,
            "grid_gap": null,
            "grid_row": null,
            "grid_template_areas": null,
            "grid_template_columns": null,
            "grid_template_rows": null,
            "height": null,
            "justify_content": null,
            "justify_items": null,
            "left": null,
            "margin": null,
            "max_height": null,
            "max_width": null,
            "min_height": null,
            "min_width": null,
            "object_fit": null,
            "object_position": null,
            "order": null,
            "overflow": null,
            "overflow_x": null,
            "overflow_y": null,
            "padding": null,
            "right": null,
            "top": null,
            "visibility": null,
            "width": null
          }
        },
        "569374a6b2d84a38a41240883be14e73": {
          "model_module": "@jupyter-widgets/base",
          "model_module_version": "1.2.0",
          "model_name": "LayoutModel",
          "state": {
            "_model_module": "@jupyter-widgets/base",
            "_model_module_version": "1.2.0",
            "_model_name": "LayoutModel",
            "_view_count": null,
            "_view_module": "@jupyter-widgets/base",
            "_view_module_version": "1.2.0",
            "_view_name": "LayoutView",
            "align_content": null,
            "align_items": null,
            "align_self": null,
            "border": null,
            "bottom": null,
            "display": null,
            "flex": null,
            "flex_flow": null,
            "grid_area": null,
            "grid_auto_columns": null,
            "grid_auto_flow": null,
            "grid_auto_rows": null,
            "grid_column": null,
            "grid_gap": null,
            "grid_row": null,
            "grid_template_areas": null,
            "grid_template_columns": null,
            "grid_template_rows": null,
            "height": null,
            "justify_content": null,
            "justify_items": null,
            "left": null,
            "margin": null,
            "max_height": null,
            "max_width": null,
            "min_height": null,
            "min_width": null,
            "object_fit": null,
            "object_position": null,
            "order": null,
            "overflow": null,
            "overflow_x": null,
            "overflow_y": null,
            "padding": null,
            "right": null,
            "top": null,
            "visibility": null,
            "width": null
          }
        },
        "576790b15751454f8febb4805e69deee": {
          "model_module": "@jupyter-widgets/base",
          "model_module_version": "1.2.0",
          "model_name": "LayoutModel",
          "state": {
            "_model_module": "@jupyter-widgets/base",
            "_model_module_version": "1.2.0",
            "_model_name": "LayoutModel",
            "_view_count": null,
            "_view_module": "@jupyter-widgets/base",
            "_view_module_version": "1.2.0",
            "_view_name": "LayoutView",
            "align_content": null,
            "align_items": null,
            "align_self": null,
            "border": null,
            "bottom": null,
            "display": null,
            "flex": null,
            "flex_flow": null,
            "grid_area": null,
            "grid_auto_columns": null,
            "grid_auto_flow": null,
            "grid_auto_rows": null,
            "grid_column": null,
            "grid_gap": null,
            "grid_row": null,
            "grid_template_areas": null,
            "grid_template_columns": null,
            "grid_template_rows": null,
            "height": null,
            "justify_content": null,
            "justify_items": null,
            "left": null,
            "margin": null,
            "max_height": null,
            "max_width": null,
            "min_height": null,
            "min_width": null,
            "object_fit": null,
            "object_position": null,
            "order": null,
            "overflow": null,
            "overflow_x": null,
            "overflow_y": null,
            "padding": null,
            "right": null,
            "top": null,
            "visibility": null,
            "width": null
          }
        },
        "579d88f6d6bd4e0a9fe4ada529cf1747": {
          "model_module": "@jupyter-widgets/base",
          "model_module_version": "1.2.0",
          "model_name": "LayoutModel",
          "state": {
            "_model_module": "@jupyter-widgets/base",
            "_model_module_version": "1.2.0",
            "_model_name": "LayoutModel",
            "_view_count": null,
            "_view_module": "@jupyter-widgets/base",
            "_view_module_version": "1.2.0",
            "_view_name": "LayoutView",
            "align_content": null,
            "align_items": null,
            "align_self": null,
            "border": null,
            "bottom": null,
            "display": null,
            "flex": null,
            "flex_flow": null,
            "grid_area": null,
            "grid_auto_columns": null,
            "grid_auto_flow": null,
            "grid_auto_rows": null,
            "grid_column": null,
            "grid_gap": null,
            "grid_row": null,
            "grid_template_areas": null,
            "grid_template_columns": null,
            "grid_template_rows": null,
            "height": null,
            "justify_content": null,
            "justify_items": null,
            "left": null,
            "margin": null,
            "max_height": null,
            "max_width": null,
            "min_height": null,
            "min_width": null,
            "object_fit": null,
            "object_position": null,
            "order": null,
            "overflow": null,
            "overflow_x": null,
            "overflow_y": null,
            "padding": null,
            "right": null,
            "top": null,
            "visibility": null,
            "width": null
          }
        },
        "58ae503cc4ed4f069a1fd5385579af4b": {
          "model_module": "@jupyter-widgets/controls",
          "model_module_version": "1.5.0",
          "model_name": "HBoxModel",
          "state": {
            "_dom_classes": [],
            "_model_module": "@jupyter-widgets/controls",
            "_model_module_version": "1.5.0",
            "_model_name": "HBoxModel",
            "_view_count": null,
            "_view_module": "@jupyter-widgets/controls",
            "_view_module_version": "1.5.0",
            "_view_name": "HBoxView",
            "box_style": "",
            "children": [
              "IPY_MODEL_bc685306855941babfafb22a64c5f39d",
              "IPY_MODEL_3974bf123896471db06b5bb3df9e834f",
              "IPY_MODEL_ddb06e1495d04aa6aec746a0ee70a292"
            ],
            "layout": "IPY_MODEL_7fb8a477160242d9b6ed08948199f321"
          }
        },
        "5a27326444ed4bb9a6ffb95da062e516": {
          "model_module": "@jupyter-widgets/base",
          "model_module_version": "1.2.0",
          "model_name": "LayoutModel",
          "state": {
            "_model_module": "@jupyter-widgets/base",
            "_model_module_version": "1.2.0",
            "_model_name": "LayoutModel",
            "_view_count": null,
            "_view_module": "@jupyter-widgets/base",
            "_view_module_version": "1.2.0",
            "_view_name": "LayoutView",
            "align_content": null,
            "align_items": null,
            "align_self": null,
            "border": null,
            "bottom": null,
            "display": null,
            "flex": null,
            "flex_flow": null,
            "grid_area": null,
            "grid_auto_columns": null,
            "grid_auto_flow": null,
            "grid_auto_rows": null,
            "grid_column": null,
            "grid_gap": null,
            "grid_row": null,
            "grid_template_areas": null,
            "grid_template_columns": null,
            "grid_template_rows": null,
            "height": null,
            "justify_content": null,
            "justify_items": null,
            "left": null,
            "margin": null,
            "max_height": null,
            "max_width": null,
            "min_height": null,
            "min_width": null,
            "object_fit": null,
            "object_position": null,
            "order": null,
            "overflow": null,
            "overflow_x": null,
            "overflow_y": null,
            "padding": null,
            "right": null,
            "top": null,
            "visibility": null,
            "width": null
          }
        },
        "5a542915649c4c8aaa089e3c5710835a": {
          "model_module": "@jupyter-widgets/base",
          "model_module_version": "1.2.0",
          "model_name": "LayoutModel",
          "state": {
            "_model_module": "@jupyter-widgets/base",
            "_model_module_version": "1.2.0",
            "_model_name": "LayoutModel",
            "_view_count": null,
            "_view_module": "@jupyter-widgets/base",
            "_view_module_version": "1.2.0",
            "_view_name": "LayoutView",
            "align_content": null,
            "align_items": null,
            "align_self": null,
            "border": null,
            "bottom": null,
            "display": null,
            "flex": null,
            "flex_flow": null,
            "grid_area": null,
            "grid_auto_columns": null,
            "grid_auto_flow": null,
            "grid_auto_rows": null,
            "grid_column": null,
            "grid_gap": null,
            "grid_row": null,
            "grid_template_areas": null,
            "grid_template_columns": null,
            "grid_template_rows": null,
            "height": null,
            "justify_content": null,
            "justify_items": null,
            "left": null,
            "margin": null,
            "max_height": null,
            "max_width": null,
            "min_height": null,
            "min_width": null,
            "object_fit": null,
            "object_position": null,
            "order": null,
            "overflow": null,
            "overflow_x": null,
            "overflow_y": null,
            "padding": null,
            "right": null,
            "top": null,
            "visibility": null,
            "width": null
          }
        },
        "5f8f0a0eeaf141ce86f28f000d4b1794": {
          "model_module": "@jupyter-widgets/controls",
          "model_module_version": "1.5.0",
          "model_name": "HBoxModel",
          "state": {
            "_dom_classes": [],
            "_model_module": "@jupyter-widgets/controls",
            "_model_module_version": "1.5.0",
            "_model_name": "HBoxModel",
            "_view_count": null,
            "_view_module": "@jupyter-widgets/controls",
            "_view_module_version": "1.5.0",
            "_view_name": "HBoxView",
            "box_style": "",
            "children": [
              "IPY_MODEL_8f0fa3ce94c84943afd99d49fc658119",
              "IPY_MODEL_a8c3f69c2726471aacc3eb51e1b2cb4e",
              "IPY_MODEL_daf2315bfd004fe7b8a37e76e3cc96c3"
            ],
            "layout": "IPY_MODEL_569374a6b2d84a38a41240883be14e73"
          }
        },
        "6262633d25e54788959924c093abc88d": {
          "model_module": "@jupyter-widgets/base",
          "model_module_version": "1.2.0",
          "model_name": "LayoutModel",
          "state": {
            "_model_module": "@jupyter-widgets/base",
            "_model_module_version": "1.2.0",
            "_model_name": "LayoutModel",
            "_view_count": null,
            "_view_module": "@jupyter-widgets/base",
            "_view_module_version": "1.2.0",
            "_view_name": "LayoutView",
            "align_content": null,
            "align_items": null,
            "align_self": null,
            "border": null,
            "bottom": null,
            "display": null,
            "flex": null,
            "flex_flow": null,
            "grid_area": null,
            "grid_auto_columns": null,
            "grid_auto_flow": null,
            "grid_auto_rows": null,
            "grid_column": null,
            "grid_gap": null,
            "grid_row": null,
            "grid_template_areas": null,
            "grid_template_columns": null,
            "grid_template_rows": null,
            "height": null,
            "justify_content": null,
            "justify_items": null,
            "left": null,
            "margin": null,
            "max_height": null,
            "max_width": null,
            "min_height": null,
            "min_width": null,
            "object_fit": null,
            "object_position": null,
            "order": null,
            "overflow": null,
            "overflow_x": null,
            "overflow_y": null,
            "padding": null,
            "right": null,
            "top": null,
            "visibility": null,
            "width": null
          }
        },
        "65fea42830d8401ebe30383387abb545": {
          "model_module": "@jupyter-widgets/controls",
          "model_module_version": "1.5.0",
          "model_name": "DescriptionStyleModel",
          "state": {
            "_model_module": "@jupyter-widgets/controls",
            "_model_module_version": "1.5.0",
            "_model_name": "DescriptionStyleModel",
            "_view_count": null,
            "_view_module": "@jupyter-widgets/base",
            "_view_module_version": "1.2.0",
            "_view_name": "StyleView",
            "description_width": ""
          }
        },
        "66e31ec90a6e4445892fd21f0fb03fcd": {
          "model_module": "@jupyter-widgets/controls",
          "model_module_version": "1.5.0",
          "model_name": "HBoxModel",
          "state": {
            "_dom_classes": [],
            "_model_module": "@jupyter-widgets/controls",
            "_model_module_version": "1.5.0",
            "_model_name": "HBoxModel",
            "_view_count": null,
            "_view_module": "@jupyter-widgets/controls",
            "_view_module_version": "1.5.0",
            "_view_name": "HBoxView",
            "box_style": "",
            "children": [
              "IPY_MODEL_ce82da780e5f4533aaf900236e3bddad",
              "IPY_MODEL_10f05b8b37114e99b1b16014c69280c1",
              "IPY_MODEL_6fd9267e6e0545d39baa745467414e91"
            ],
            "layout": "IPY_MODEL_30fbd9abc2af41b080796c249a755e19"
          }
        },
        "6996bb69dc5042e8b84bdf8fd7944094": {
          "model_module": "@jupyter-widgets/controls",
          "model_module_version": "1.5.0",
          "model_name": "ProgressStyleModel",
          "state": {
            "_model_module": "@jupyter-widgets/controls",
            "_model_module_version": "1.5.0",
            "_model_name": "ProgressStyleModel",
            "_view_count": null,
            "_view_module": "@jupyter-widgets/base",
            "_view_module_version": "1.2.0",
            "_view_name": "StyleView",
            "bar_color": null,
            "description_width": ""
          }
        },
        "6f3810ca4365407cb8ad702f7e591312": {
          "model_module": "@jupyter-widgets/controls",
          "model_module_version": "1.5.0",
          "model_name": "HTMLModel",
          "state": {
            "_dom_classes": [],
            "_model_module": "@jupyter-widgets/controls",
            "_model_module_version": "1.5.0",
            "_model_name": "HTMLModel",
            "_view_count": null,
            "_view_module": "@jupyter-widgets/controls",
            "_view_module_version": "1.5.0",
            "_view_name": "HTMLView",
            "description": "",
            "description_tooltip": null,
            "layout": "IPY_MODEL_dd23c7b1724d45ebb3bc8aebd3905668",
            "placeholder": "​",
            "style": "IPY_MODEL_8ae09cfc09cf492296fff32ee7791460",
            "value": "Downloading: 100%"
          }
        },
        "6fd9267e6e0545d39baa745467414e91": {
          "model_module": "@jupyter-widgets/controls",
          "model_module_version": "1.5.0",
          "model_name": "HTMLModel",
          "state": {
            "_dom_classes": [],
            "_model_module": "@jupyter-widgets/controls",
            "_model_module_version": "1.5.0",
            "_model_name": "HTMLModel",
            "_view_count": null,
            "_view_module": "@jupyter-widgets/controls",
            "_view_module_version": "1.5.0",
            "_view_name": "HTMLView",
            "description": "",
            "description_tooltip": null,
            "layout": "IPY_MODEL_5020b1183c824b3cb47b068158dfb1a0",
            "placeholder": "​",
            "style": "IPY_MODEL_25e1b4c355564b7b9b3b64b27d7e902a",
            "value": " 391/391 [00:00&lt;00:00, 10.7kB/s]"
          }
        },
        "72faf47796e04a5c97d9130de522ee07": {
          "model_module": "@jupyter-widgets/controls",
          "model_module_version": "1.5.0",
          "model_name": "HTMLModel",
          "state": {
            "_dom_classes": [],
            "_model_module": "@jupyter-widgets/controls",
            "_model_module_version": "1.5.0",
            "_model_name": "HTMLModel",
            "_view_count": null,
            "_view_module": "@jupyter-widgets/controls",
            "_view_module_version": "1.5.0",
            "_view_name": "HTMLView",
            "description": "",
            "description_tooltip": null,
            "layout": "IPY_MODEL_ad1a9d412e83429ba5692c68b1bef301",
            "placeholder": "​",
            "style": "IPY_MODEL_ffc7dc1ff4144f59aa4877ed74431d91",
            "value": " 48.0/48.0 [00:00&lt;00:00, 569B/s]"
          }
        },
        "75c8c255c81e481f8ba9f59cec94306c": {
          "model_module": "@jupyter-widgets/base",
          "model_module_version": "1.2.0",
          "model_name": "LayoutModel",
          "state": {
            "_model_module": "@jupyter-widgets/base",
            "_model_module_version": "1.2.0",
            "_model_name": "LayoutModel",
            "_view_count": null,
            "_view_module": "@jupyter-widgets/base",
            "_view_module_version": "1.2.0",
            "_view_name": "LayoutView",
            "align_content": null,
            "align_items": null,
            "align_self": null,
            "border": null,
            "bottom": null,
            "display": null,
            "flex": null,
            "flex_flow": null,
            "grid_area": null,
            "grid_auto_columns": null,
            "grid_auto_flow": null,
            "grid_auto_rows": null,
            "grid_column": null,
            "grid_gap": null,
            "grid_row": null,
            "grid_template_areas": null,
            "grid_template_columns": null,
            "grid_template_rows": null,
            "height": null,
            "justify_content": null,
            "justify_items": null,
            "left": null,
            "margin": null,
            "max_height": null,
            "max_width": null,
            "min_height": null,
            "min_width": null,
            "object_fit": null,
            "object_position": null,
            "order": null,
            "overflow": null,
            "overflow_x": null,
            "overflow_y": null,
            "padding": null,
            "right": null,
            "top": null,
            "visibility": null,
            "width": null
          }
        },
        "76fdd98b8e32497782e0b35150539323": {
          "model_module": "@jupyter-widgets/base",
          "model_module_version": "1.2.0",
          "model_name": "LayoutModel",
          "state": {
            "_model_module": "@jupyter-widgets/base",
            "_model_module_version": "1.2.0",
            "_model_name": "LayoutModel",
            "_view_count": null,
            "_view_module": "@jupyter-widgets/base",
            "_view_module_version": "1.2.0",
            "_view_name": "LayoutView",
            "align_content": null,
            "align_items": null,
            "align_self": null,
            "border": null,
            "bottom": null,
            "display": null,
            "flex": null,
            "flex_flow": null,
            "grid_area": null,
            "grid_auto_columns": null,
            "grid_auto_flow": null,
            "grid_auto_rows": null,
            "grid_column": null,
            "grid_gap": null,
            "grid_row": null,
            "grid_template_areas": null,
            "grid_template_columns": null,
            "grid_template_rows": null,
            "height": null,
            "justify_content": null,
            "justify_items": null,
            "left": null,
            "margin": null,
            "max_height": null,
            "max_width": null,
            "min_height": null,
            "min_width": null,
            "object_fit": null,
            "object_position": null,
            "order": null,
            "overflow": null,
            "overflow_x": null,
            "overflow_y": null,
            "padding": null,
            "right": null,
            "top": null,
            "visibility": null,
            "width": null
          }
        },
        "78223f3afefe40b2bf68a265c51b89ac": {
          "model_module": "@jupyter-widgets/controls",
          "model_module_version": "1.5.0",
          "model_name": "DescriptionStyleModel",
          "state": {
            "_model_module": "@jupyter-widgets/controls",
            "_model_module_version": "1.5.0",
            "_model_name": "DescriptionStyleModel",
            "_view_count": null,
            "_view_module": "@jupyter-widgets/base",
            "_view_module_version": "1.2.0",
            "_view_name": "StyleView",
            "description_width": ""
          }
        },
        "7a28636d032d4662bdfb169da4e0270a": {
          "model_module": "@jupyter-widgets/base",
          "model_module_version": "1.2.0",
          "model_name": "LayoutModel",
          "state": {
            "_model_module": "@jupyter-widgets/base",
            "_model_module_version": "1.2.0",
            "_model_name": "LayoutModel",
            "_view_count": null,
            "_view_module": "@jupyter-widgets/base",
            "_view_module_version": "1.2.0",
            "_view_name": "LayoutView",
            "align_content": null,
            "align_items": null,
            "align_self": null,
            "border": null,
            "bottom": null,
            "display": null,
            "flex": null,
            "flex_flow": null,
            "grid_area": null,
            "grid_auto_columns": null,
            "grid_auto_flow": null,
            "grid_auto_rows": null,
            "grid_column": null,
            "grid_gap": null,
            "grid_row": null,
            "grid_template_areas": null,
            "grid_template_columns": null,
            "grid_template_rows": null,
            "height": null,
            "justify_content": null,
            "justify_items": null,
            "left": null,
            "margin": null,
            "max_height": null,
            "max_width": null,
            "min_height": null,
            "min_width": null,
            "object_fit": null,
            "object_position": null,
            "order": null,
            "overflow": null,
            "overflow_x": null,
            "overflow_y": null,
            "padding": null,
            "right": null,
            "top": null,
            "visibility": null,
            "width": null
          }
        },
        "7dd2523aac4a4540b6a8569818cb9138": {
          "model_module": "@jupyter-widgets/controls",
          "model_module_version": "1.5.0",
          "model_name": "ProgressStyleModel",
          "state": {
            "_model_module": "@jupyter-widgets/controls",
            "_model_module_version": "1.5.0",
            "_model_name": "ProgressStyleModel",
            "_view_count": null,
            "_view_module": "@jupyter-widgets/base",
            "_view_module_version": "1.2.0",
            "_view_name": "StyleView",
            "bar_color": null,
            "description_width": ""
          }
        },
        "7fb8a477160242d9b6ed08948199f321": {
          "model_module": "@jupyter-widgets/base",
          "model_module_version": "1.2.0",
          "model_name": "LayoutModel",
          "state": {
            "_model_module": "@jupyter-widgets/base",
            "_model_module_version": "1.2.0",
            "_model_name": "LayoutModel",
            "_view_count": null,
            "_view_module": "@jupyter-widgets/base",
            "_view_module_version": "1.2.0",
            "_view_name": "LayoutView",
            "align_content": null,
            "align_items": null,
            "align_self": null,
            "border": null,
            "bottom": null,
            "display": null,
            "flex": null,
            "flex_flow": null,
            "grid_area": null,
            "grid_auto_columns": null,
            "grid_auto_flow": null,
            "grid_auto_rows": null,
            "grid_column": null,
            "grid_gap": null,
            "grid_row": null,
            "grid_template_areas": null,
            "grid_template_columns": null,
            "grid_template_rows": null,
            "height": null,
            "justify_content": null,
            "justify_items": null,
            "left": null,
            "margin": null,
            "max_height": null,
            "max_width": null,
            "min_height": null,
            "min_width": null,
            "object_fit": null,
            "object_position": null,
            "order": null,
            "overflow": null,
            "overflow_x": null,
            "overflow_y": null,
            "padding": null,
            "right": null,
            "top": null,
            "visibility": null,
            "width": null
          }
        },
        "80b7bbe15d2d47f8b468e05d2f1261a1": {
          "model_module": "@jupyter-widgets/controls",
          "model_module_version": "1.5.0",
          "model_name": "HBoxModel",
          "state": {
            "_dom_classes": [],
            "_model_module": "@jupyter-widgets/controls",
            "_model_module_version": "1.5.0",
            "_model_name": "HBoxModel",
            "_view_count": null,
            "_view_module": "@jupyter-widgets/controls",
            "_view_module_version": "1.5.0",
            "_view_name": "HBoxView",
            "box_style": "",
            "children": [
              "IPY_MODEL_a5e0f2c761714770af42b791e71279f1",
              "IPY_MODEL_2762a4bab9744b52a43a890f7bf28fec",
              "IPY_MODEL_162f4b234cc546a1a082d42f51ac758f"
            ],
            "layout": "IPY_MODEL_4dedb86f44b94a48bb3c3a824f1a8e55"
          }
        },
        "8124d32f4afc4d35a556bf70ff5af0d5": {
          "model_module": "@jupyter-widgets/base",
          "model_module_version": "1.2.0",
          "model_name": "LayoutModel",
          "state": {
            "_model_module": "@jupyter-widgets/base",
            "_model_module_version": "1.2.0",
            "_model_name": "LayoutModel",
            "_view_count": null,
            "_view_module": "@jupyter-widgets/base",
            "_view_module_version": "1.2.0",
            "_view_name": "LayoutView",
            "align_content": null,
            "align_items": null,
            "align_self": null,
            "border": null,
            "bottom": null,
            "display": null,
            "flex": null,
            "flex_flow": null,
            "grid_area": null,
            "grid_auto_columns": null,
            "grid_auto_flow": null,
            "grid_auto_rows": null,
            "grid_column": null,
            "grid_gap": null,
            "grid_row": null,
            "grid_template_areas": null,
            "grid_template_columns": null,
            "grid_template_rows": null,
            "height": null,
            "justify_content": null,
            "justify_items": null,
            "left": null,
            "margin": null,
            "max_height": null,
            "max_width": null,
            "min_height": null,
            "min_width": null,
            "object_fit": null,
            "object_position": null,
            "order": null,
            "overflow": null,
            "overflow_x": null,
            "overflow_y": null,
            "padding": null,
            "right": null,
            "top": null,
            "visibility": null,
            "width": null
          }
        },
        "816c6a6ca3054487aa3bc35d9c145cf1": {
          "model_module": "@jupyter-widgets/controls",
          "model_module_version": "1.5.0",
          "model_name": "HTMLModel",
          "state": {
            "_dom_classes": [],
            "_model_module": "@jupyter-widgets/controls",
            "_model_module_version": "1.5.0",
            "_model_name": "HTMLModel",
            "_view_count": null,
            "_view_module": "@jupyter-widgets/controls",
            "_view_module_version": "1.5.0",
            "_view_name": "HTMLView",
            "description": "",
            "description_tooltip": null,
            "layout": "IPY_MODEL_4e866cd9d9134a318d0016c08c7973d1",
            "placeholder": "​",
            "style": "IPY_MODEL_c31b23482afc4f00becc08bc4ad3b682",
            "value": "Downloading: 100%"
          }
        },
        "8318dd0133734edda2d3e809d6dcfe1f": {
          "model_module": "@jupyter-widgets/controls",
          "model_module_version": "1.5.0",
          "model_name": "HBoxModel",
          "state": {
            "_dom_classes": [],
            "_model_module": "@jupyter-widgets/controls",
            "_model_module_version": "1.5.0",
            "_model_name": "HBoxModel",
            "_view_count": null,
            "_view_module": "@jupyter-widgets/controls",
            "_view_module_version": "1.5.0",
            "_view_name": "HBoxView",
            "box_style": "",
            "children": [
              "IPY_MODEL_131a8869a2a64a168a90c80a1b2cb538",
              "IPY_MODEL_ffb7537859c44c2f8e51927d3726f3cb",
              "IPY_MODEL_1c0d464b612f4a37ac012154e22c7b66"
            ],
            "layout": "IPY_MODEL_5a542915649c4c8aaa089e3c5710835a"
          }
        },
        "85d1caf988af484e98ecd7bb9e9af0a3": {
          "model_module": "@jupyter-widgets/controls",
          "model_module_version": "1.5.0",
          "model_name": "DescriptionStyleModel",
          "state": {
            "_model_module": "@jupyter-widgets/controls",
            "_model_module_version": "1.5.0",
            "_model_name": "DescriptionStyleModel",
            "_view_count": null,
            "_view_module": "@jupyter-widgets/base",
            "_view_module_version": "1.2.0",
            "_view_name": "StyleView",
            "description_width": ""
          }
        },
        "867ce0cf2309444da39875b20a64e214": {
          "model_module": "@jupyter-widgets/base",
          "model_module_version": "1.2.0",
          "model_name": "LayoutModel",
          "state": {
            "_model_module": "@jupyter-widgets/base",
            "_model_module_version": "1.2.0",
            "_model_name": "LayoutModel",
            "_view_count": null,
            "_view_module": "@jupyter-widgets/base",
            "_view_module_version": "1.2.0",
            "_view_name": "LayoutView",
            "align_content": null,
            "align_items": null,
            "align_self": null,
            "border": null,
            "bottom": null,
            "display": null,
            "flex": null,
            "flex_flow": null,
            "grid_area": null,
            "grid_auto_columns": null,
            "grid_auto_flow": null,
            "grid_auto_rows": null,
            "grid_column": null,
            "grid_gap": null,
            "grid_row": null,
            "grid_template_areas": null,
            "grid_template_columns": null,
            "grid_template_rows": null,
            "height": null,
            "justify_content": null,
            "justify_items": null,
            "left": null,
            "margin": null,
            "max_height": null,
            "max_width": null,
            "min_height": null,
            "min_width": null,
            "object_fit": null,
            "object_position": null,
            "order": null,
            "overflow": null,
            "overflow_x": null,
            "overflow_y": null,
            "padding": null,
            "right": null,
            "top": null,
            "visibility": null,
            "width": null
          }
        },
        "898f6ac72b7a4099876fbd5338ffcc89": {
          "model_module": "@jupyter-widgets/controls",
          "model_module_version": "1.5.0",
          "model_name": "ProgressStyleModel",
          "state": {
            "_model_module": "@jupyter-widgets/controls",
            "_model_module_version": "1.5.0",
            "_model_name": "ProgressStyleModel",
            "_view_count": null,
            "_view_module": "@jupyter-widgets/base",
            "_view_module_version": "1.2.0",
            "_view_name": "StyleView",
            "bar_color": null,
            "description_width": ""
          }
        },
        "8ae09cfc09cf492296fff32ee7791460": {
          "model_module": "@jupyter-widgets/controls",
          "model_module_version": "1.5.0",
          "model_name": "DescriptionStyleModel",
          "state": {
            "_model_module": "@jupyter-widgets/controls",
            "_model_module_version": "1.5.0",
            "_model_name": "DescriptionStyleModel",
            "_view_count": null,
            "_view_module": "@jupyter-widgets/base",
            "_view_module_version": "1.2.0",
            "_view_name": "StyleView",
            "description_width": ""
          }
        },
        "8c923702d03b47df9d5720f83682ba96": {
          "model_module": "@jupyter-widgets/controls",
          "model_module_version": "1.5.0",
          "model_name": "DescriptionStyleModel",
          "state": {
            "_model_module": "@jupyter-widgets/controls",
            "_model_module_version": "1.5.0",
            "_model_name": "DescriptionStyleModel",
            "_view_count": null,
            "_view_module": "@jupyter-widgets/base",
            "_view_module_version": "1.2.0",
            "_view_name": "StyleView",
            "description_width": ""
          }
        },
        "8cd3ff6be0f046479f7e309dbbbb85e9": {
          "model_module": "@jupyter-widgets/controls",
          "model_module_version": "1.5.0",
          "model_name": "DescriptionStyleModel",
          "state": {
            "_model_module": "@jupyter-widgets/controls",
            "_model_module_version": "1.5.0",
            "_model_name": "DescriptionStyleModel",
            "_view_count": null,
            "_view_module": "@jupyter-widgets/base",
            "_view_module_version": "1.2.0",
            "_view_name": "StyleView",
            "description_width": ""
          }
        },
        "8f0fa3ce94c84943afd99d49fc658119": {
          "model_module": "@jupyter-widgets/controls",
          "model_module_version": "1.5.0",
          "model_name": "HTMLModel",
          "state": {
            "_dom_classes": [],
            "_model_module": "@jupyter-widgets/controls",
            "_model_module_version": "1.5.0",
            "_model_name": "HTMLModel",
            "_view_count": null,
            "_view_module": "@jupyter-widgets/controls",
            "_view_module_version": "1.5.0",
            "_view_name": "HTMLView",
            "description": "",
            "description_tooltip": null,
            "layout": "IPY_MODEL_bd20c68815734f42a5d15b3015a93d89",
            "placeholder": "​",
            "style": "IPY_MODEL_d5404e96633943139c9f3558ec3f07cf",
            "value": "Downloading: 100%"
          }
        },
        "8f7144ae57e84c6888d296f0cdcedf3d": {
          "model_module": "@jupyter-widgets/controls",
          "model_module_version": "1.5.0",
          "model_name": "HBoxModel",
          "state": {
            "_dom_classes": [],
            "_model_module": "@jupyter-widgets/controls",
            "_model_module_version": "1.5.0",
            "_model_name": "HBoxModel",
            "_view_count": null,
            "_view_module": "@jupyter-widgets/controls",
            "_view_module_version": "1.5.0",
            "_view_name": "HBoxView",
            "box_style": "",
            "children": [
              "IPY_MODEL_4fe9f3aea1fc465cb5bebc8fcda9662c",
              "IPY_MODEL_351d9438f7a44bd48b961cd15d0d6314",
              "IPY_MODEL_e9c332cee09e42bca5edc7d4c10dcfaa"
            ],
            "layout": "IPY_MODEL_05baf1e7ae724f5195550e2c09938578"
          }
        },
        "93be1c72e85b472a9ece2e95aa021cde": {
          "model_module": "@jupyter-widgets/controls",
          "model_module_version": "1.5.0",
          "model_name": "FloatProgressModel",
          "state": {
            "_dom_classes": [],
            "_model_module": "@jupyter-widgets/controls",
            "_model_module_version": "1.5.0",
            "_model_name": "FloatProgressModel",
            "_view_count": null,
            "_view_module": "@jupyter-widgets/controls",
            "_view_module_version": "1.5.0",
            "_view_name": "ProgressView",
            "bar_style": "success",
            "description": "",
            "description_tooltip": null,
            "layout": "IPY_MODEL_1d8ddaf639fc4cc19d9894c71a852c8a",
            "max": 1000,
            "min": 0,
            "orientation": "horizontal",
            "style": "IPY_MODEL_a5a67d42305946d480969100c3ad283d",
            "value": 1000
          }
        },
        "96188ea6e01546929b18bc68dc0e4ff5": {
          "model_module": "@jupyter-widgets/base",
          "model_module_version": "1.2.0",
          "model_name": "LayoutModel",
          "state": {
            "_model_module": "@jupyter-widgets/base",
            "_model_module_version": "1.2.0",
            "_model_name": "LayoutModel",
            "_view_count": null,
            "_view_module": "@jupyter-widgets/base",
            "_view_module_version": "1.2.0",
            "_view_name": "LayoutView",
            "align_content": null,
            "align_items": null,
            "align_self": null,
            "border": null,
            "bottom": null,
            "display": null,
            "flex": null,
            "flex_flow": null,
            "grid_area": null,
            "grid_auto_columns": null,
            "grid_auto_flow": null,
            "grid_auto_rows": null,
            "grid_column": null,
            "grid_gap": null,
            "grid_row": null,
            "grid_template_areas": null,
            "grid_template_columns": null,
            "grid_template_rows": null,
            "height": null,
            "justify_content": null,
            "justify_items": null,
            "left": null,
            "margin": null,
            "max_height": null,
            "max_width": null,
            "min_height": null,
            "min_width": null,
            "object_fit": null,
            "object_position": null,
            "order": null,
            "overflow": null,
            "overflow_x": null,
            "overflow_y": null,
            "padding": null,
            "right": null,
            "top": null,
            "visibility": null,
            "width": null
          }
        },
        "9f0df6d38f9c498c8240b72ec9e45e0a": {
          "model_module": "@jupyter-widgets/base",
          "model_module_version": "1.2.0",
          "model_name": "LayoutModel",
          "state": {
            "_model_module": "@jupyter-widgets/base",
            "_model_module_version": "1.2.0",
            "_model_name": "LayoutModel",
            "_view_count": null,
            "_view_module": "@jupyter-widgets/base",
            "_view_module_version": "1.2.0",
            "_view_name": "LayoutView",
            "align_content": null,
            "align_items": null,
            "align_self": null,
            "border": null,
            "bottom": null,
            "display": null,
            "flex": null,
            "flex_flow": null,
            "grid_area": null,
            "grid_auto_columns": null,
            "grid_auto_flow": null,
            "grid_auto_rows": null,
            "grid_column": null,
            "grid_gap": null,
            "grid_row": null,
            "grid_template_areas": null,
            "grid_template_columns": null,
            "grid_template_rows": null,
            "height": null,
            "justify_content": null,
            "justify_items": null,
            "left": null,
            "margin": null,
            "max_height": null,
            "max_width": null,
            "min_height": null,
            "min_width": null,
            "object_fit": null,
            "object_position": null,
            "order": null,
            "overflow": null,
            "overflow_x": null,
            "overflow_y": null,
            "padding": null,
            "right": null,
            "top": null,
            "visibility": null,
            "width": null
          }
        },
        "a040cf697f23428985e7c8d6d5c90e37": {
          "model_module": "@jupyter-widgets/base",
          "model_module_version": "1.2.0",
          "model_name": "LayoutModel",
          "state": {
            "_model_module": "@jupyter-widgets/base",
            "_model_module_version": "1.2.0",
            "_model_name": "LayoutModel",
            "_view_count": null,
            "_view_module": "@jupyter-widgets/base",
            "_view_module_version": "1.2.0",
            "_view_name": "LayoutView",
            "align_content": null,
            "align_items": null,
            "align_self": null,
            "border": null,
            "bottom": null,
            "display": null,
            "flex": null,
            "flex_flow": null,
            "grid_area": null,
            "grid_auto_columns": null,
            "grid_auto_flow": null,
            "grid_auto_rows": null,
            "grid_column": null,
            "grid_gap": null,
            "grid_row": null,
            "grid_template_areas": null,
            "grid_template_columns": null,
            "grid_template_rows": null,
            "height": null,
            "justify_content": null,
            "justify_items": null,
            "left": null,
            "margin": null,
            "max_height": null,
            "max_width": null,
            "min_height": null,
            "min_width": null,
            "object_fit": null,
            "object_position": null,
            "order": null,
            "overflow": null,
            "overflow_x": null,
            "overflow_y": null,
            "padding": null,
            "right": null,
            "top": null,
            "visibility": null,
            "width": null
          }
        },
        "a236192d1588439eab3469f026b854cf": {
          "model_module": "@jupyter-widgets/base",
          "model_module_version": "1.2.0",
          "model_name": "LayoutModel",
          "state": {
            "_model_module": "@jupyter-widgets/base",
            "_model_module_version": "1.2.0",
            "_model_name": "LayoutModel",
            "_view_count": null,
            "_view_module": "@jupyter-widgets/base",
            "_view_module_version": "1.2.0",
            "_view_name": "LayoutView",
            "align_content": null,
            "align_items": null,
            "align_self": null,
            "border": null,
            "bottom": null,
            "display": null,
            "flex": null,
            "flex_flow": null,
            "grid_area": null,
            "grid_auto_columns": null,
            "grid_auto_flow": null,
            "grid_auto_rows": null,
            "grid_column": null,
            "grid_gap": null,
            "grid_row": null,
            "grid_template_areas": null,
            "grid_template_columns": null,
            "grid_template_rows": null,
            "height": null,
            "justify_content": null,
            "justify_items": null,
            "left": null,
            "margin": null,
            "max_height": null,
            "max_width": null,
            "min_height": null,
            "min_width": null,
            "object_fit": null,
            "object_position": null,
            "order": null,
            "overflow": null,
            "overflow_x": null,
            "overflow_y": null,
            "padding": null,
            "right": null,
            "top": null,
            "visibility": null,
            "width": null
          }
        },
        "a5a67d42305946d480969100c3ad283d": {
          "model_module": "@jupyter-widgets/controls",
          "model_module_version": "1.5.0",
          "model_name": "ProgressStyleModel",
          "state": {
            "_model_module": "@jupyter-widgets/controls",
            "_model_module_version": "1.5.0",
            "_model_name": "ProgressStyleModel",
            "_view_count": null,
            "_view_module": "@jupyter-widgets/base",
            "_view_module_version": "1.2.0",
            "_view_name": "StyleView",
            "bar_color": null,
            "description_width": ""
          }
        },
        "a5e0f2c761714770af42b791e71279f1": {
          "model_module": "@jupyter-widgets/controls",
          "model_module_version": "1.5.0",
          "model_name": "HTMLModel",
          "state": {
            "_dom_classes": [],
            "_model_module": "@jupyter-widgets/controls",
            "_model_module_version": "1.5.0",
            "_model_name": "HTMLModel",
            "_view_count": null,
            "_view_module": "@jupyter-widgets/controls",
            "_view_module_version": "1.5.0",
            "_view_name": "HTMLView",
            "description": "",
            "description_tooltip": null,
            "layout": "IPY_MODEL_5a27326444ed4bb9a6ffb95da062e516",
            "placeholder": "​",
            "style": "IPY_MODEL_f3feb90ecd3247bea2dc248ba2b53b3e",
            "value": "Downloading: 100%"
          }
        },
        "a6a569ec1b7a4118bb0bb1beaa1695f8": {
          "model_module": "@jupyter-widgets/controls",
          "model_module_version": "1.5.0",
          "model_name": "HBoxModel",
          "state": {
            "_dom_classes": [],
            "_model_module": "@jupyter-widgets/controls",
            "_model_module_version": "1.5.0",
            "_model_name": "HBoxModel",
            "_view_count": null,
            "_view_module": "@jupyter-widgets/controls",
            "_view_module_version": "1.5.0",
            "_view_name": "HBoxView",
            "box_style": "",
            "children": [
              "IPY_MODEL_c8aa26dfd0ac4d03907c76fb694bdeb7",
              "IPY_MODEL_ecd76b2bea9848b3987196f25940fbb4",
              "IPY_MODEL_f9100af880e24be2ab864de5229e766f"
            ],
            "layout": "IPY_MODEL_f1acd27d810b4be7877844cd491791f9"
          }
        },
        "a6c5f94cbbb847b1ad7765bf53ea6d0e": {
          "model_module": "@jupyter-widgets/base",
          "model_module_version": "1.2.0",
          "model_name": "LayoutModel",
          "state": {
            "_model_module": "@jupyter-widgets/base",
            "_model_module_version": "1.2.0",
            "_model_name": "LayoutModel",
            "_view_count": null,
            "_view_module": "@jupyter-widgets/base",
            "_view_module_version": "1.2.0",
            "_view_name": "LayoutView",
            "align_content": null,
            "align_items": null,
            "align_self": null,
            "border": null,
            "bottom": null,
            "display": null,
            "flex": null,
            "flex_flow": null,
            "grid_area": null,
            "grid_auto_columns": null,
            "grid_auto_flow": null,
            "grid_auto_rows": null,
            "grid_column": null,
            "grid_gap": null,
            "grid_row": null,
            "grid_template_areas": null,
            "grid_template_columns": null,
            "grid_template_rows": null,
            "height": null,
            "justify_content": null,
            "justify_items": null,
            "left": null,
            "margin": null,
            "max_height": null,
            "max_width": null,
            "min_height": null,
            "min_width": null,
            "object_fit": null,
            "object_position": null,
            "order": null,
            "overflow": null,
            "overflow_x": null,
            "overflow_y": null,
            "padding": null,
            "right": null,
            "top": null,
            "visibility": null,
            "width": null
          }
        },
        "a877221d52e741d8ac2e1b608f08d7d1": {
          "model_module": "@jupyter-widgets/controls",
          "model_module_version": "1.5.0",
          "model_name": "HBoxModel",
          "state": {
            "_dom_classes": [],
            "_model_module": "@jupyter-widgets/controls",
            "_model_module_version": "1.5.0",
            "_model_name": "HBoxModel",
            "_view_count": null,
            "_view_module": "@jupyter-widgets/controls",
            "_view_module_version": "1.5.0",
            "_view_name": "HBoxView",
            "box_style": "",
            "children": [
              "IPY_MODEL_dd357c4a99734d0998d712ae765fbbb3",
              "IPY_MODEL_93be1c72e85b472a9ece2e95aa021cde",
              "IPY_MODEL_31ebbed17e5e4bd18c40367b8e9381b9"
            ],
            "layout": "IPY_MODEL_229d9a96c9564c079ea877c48d5e96c3"
          }
        },
        "a8c3f69c2726471aacc3eb51e1b2cb4e": {
          "model_module": "@jupyter-widgets/controls",
          "model_module_version": "1.5.0",
          "model_name": "FloatProgressModel",
          "state": {
            "_dom_classes": [],
            "_model_module": "@jupyter-widgets/controls",
            "_model_module_version": "1.5.0",
            "_model_name": "FloatProgressModel",
            "_view_count": null,
            "_view_module": "@jupyter-widgets/controls",
            "_view_module_version": "1.5.0",
            "_view_name": "ProgressView",
            "bar_style": "success",
            "description": "",
            "description_tooltip": null,
            "layout": "IPY_MODEL_a6c5f94cbbb847b1ad7765bf53ea6d0e",
            "max": 1912529,
            "min": 0,
            "orientation": "horizontal",
            "style": "IPY_MODEL_b7b119349e544872b4e77f70484cf0e3",
            "value": 1912529
          }
        },
        "ad1a9d412e83429ba5692c68b1bef301": {
          "model_module": "@jupyter-widgets/base",
          "model_module_version": "1.2.0",
          "model_name": "LayoutModel",
          "state": {
            "_model_module": "@jupyter-widgets/base",
            "_model_module_version": "1.2.0",
            "_model_name": "LayoutModel",
            "_view_count": null,
            "_view_module": "@jupyter-widgets/base",
            "_view_module_version": "1.2.0",
            "_view_name": "LayoutView",
            "align_content": null,
            "align_items": null,
            "align_self": null,
            "border": null,
            "bottom": null,
            "display": null,
            "flex": null,
            "flex_flow": null,
            "grid_area": null,
            "grid_auto_columns": null,
            "grid_auto_flow": null,
            "grid_auto_rows": null,
            "grid_column": null,
            "grid_gap": null,
            "grid_row": null,
            "grid_template_areas": null,
            "grid_template_columns": null,
            "grid_template_rows": null,
            "height": null,
            "justify_content": null,
            "justify_items": null,
            "left": null,
            "margin": null,
            "max_height": null,
            "max_width": null,
            "min_height": null,
            "min_width": null,
            "object_fit": null,
            "object_position": null,
            "order": null,
            "overflow": null,
            "overflow_x": null,
            "overflow_y": null,
            "padding": null,
            "right": null,
            "top": null,
            "visibility": null,
            "width": null
          }
        },
        "b0a5d77cbaee4fffbaf14897586e5ecd": {
          "model_module": "@jupyter-widgets/base",
          "model_module_version": "1.2.0",
          "model_name": "LayoutModel",
          "state": {
            "_model_module": "@jupyter-widgets/base",
            "_model_module_version": "1.2.0",
            "_model_name": "LayoutModel",
            "_view_count": null,
            "_view_module": "@jupyter-widgets/base",
            "_view_module_version": "1.2.0",
            "_view_name": "LayoutView",
            "align_content": null,
            "align_items": null,
            "align_self": null,
            "border": null,
            "bottom": null,
            "display": null,
            "flex": null,
            "flex_flow": null,
            "grid_area": null,
            "grid_auto_columns": null,
            "grid_auto_flow": null,
            "grid_auto_rows": null,
            "grid_column": null,
            "grid_gap": null,
            "grid_row": null,
            "grid_template_areas": null,
            "grid_template_columns": null,
            "grid_template_rows": null,
            "height": null,
            "justify_content": null,
            "justify_items": null,
            "left": null,
            "margin": null,
            "max_height": null,
            "max_width": null,
            "min_height": null,
            "min_width": null,
            "object_fit": null,
            "object_position": null,
            "order": null,
            "overflow": null,
            "overflow_x": null,
            "overflow_y": null,
            "padding": null,
            "right": null,
            "top": null,
            "visibility": null,
            "width": null
          }
        },
        "b37a13ab7bcf4bc39402807a03a529c6": {
          "model_module": "@jupyter-widgets/base",
          "model_module_version": "1.2.0",
          "model_name": "LayoutModel",
          "state": {
            "_model_module": "@jupyter-widgets/base",
            "_model_module_version": "1.2.0",
            "_model_name": "LayoutModel",
            "_view_count": null,
            "_view_module": "@jupyter-widgets/base",
            "_view_module_version": "1.2.0",
            "_view_name": "LayoutView",
            "align_content": null,
            "align_items": null,
            "align_self": null,
            "border": null,
            "bottom": null,
            "display": null,
            "flex": null,
            "flex_flow": null,
            "grid_area": null,
            "grid_auto_columns": null,
            "grid_auto_flow": null,
            "grid_auto_rows": null,
            "grid_column": null,
            "grid_gap": null,
            "grid_row": null,
            "grid_template_areas": null,
            "grid_template_columns": null,
            "grid_template_rows": null,
            "height": null,
            "justify_content": null,
            "justify_items": null,
            "left": null,
            "margin": null,
            "max_height": null,
            "max_width": null,
            "min_height": null,
            "min_width": null,
            "object_fit": null,
            "object_position": null,
            "order": null,
            "overflow": null,
            "overflow_x": null,
            "overflow_y": null,
            "padding": null,
            "right": null,
            "top": null,
            "visibility": null,
            "width": null
          }
        },
        "b48f27b08be8436eba24e34871744799": {
          "model_module": "@jupyter-widgets/controls",
          "model_module_version": "1.5.0",
          "model_name": "FloatProgressModel",
          "state": {
            "_dom_classes": [],
            "_model_module": "@jupyter-widgets/controls",
            "_model_module_version": "1.5.0",
            "_model_name": "FloatProgressModel",
            "_view_count": null,
            "_view_module": "@jupyter-widgets/controls",
            "_view_module_version": "1.5.0",
            "_view_name": "ProgressView",
            "bar_style": "success",
            "description": "",
            "description_tooltip": null,
            "layout": "IPY_MODEL_c6e4639383534feda3da190caf0f0d6b",
            "max": 1328,
            "min": 0,
            "orientation": "horizontal",
            "style": "IPY_MODEL_211379b591f24f3bb9063223cfe33057",
            "value": 1328
          }
        },
        "b7b119349e544872b4e77f70484cf0e3": {
          "model_module": "@jupyter-widgets/controls",
          "model_module_version": "1.5.0",
          "model_name": "ProgressStyleModel",
          "state": {
            "_model_module": "@jupyter-widgets/controls",
            "_model_module_version": "1.5.0",
            "_model_name": "ProgressStyleModel",
            "_view_count": null,
            "_view_module": "@jupyter-widgets/base",
            "_view_module_version": "1.2.0",
            "_view_name": "StyleView",
            "bar_color": null,
            "description_width": ""
          }
        },
        "bc19fe456b33451ab61b501d0ffcd2cc": {
          "model_module": "@jupyter-widgets/base",
          "model_module_version": "1.2.0",
          "model_name": "LayoutModel",
          "state": {
            "_model_module": "@jupyter-widgets/base",
            "_model_module_version": "1.2.0",
            "_model_name": "LayoutModel",
            "_view_count": null,
            "_view_module": "@jupyter-widgets/base",
            "_view_module_version": "1.2.0",
            "_view_name": "LayoutView",
            "align_content": null,
            "align_items": null,
            "align_self": null,
            "border": null,
            "bottom": null,
            "display": null,
            "flex": null,
            "flex_flow": null,
            "grid_area": null,
            "grid_auto_columns": null,
            "grid_auto_flow": null,
            "grid_auto_rows": null,
            "grid_column": null,
            "grid_gap": null,
            "grid_row": null,
            "grid_template_areas": null,
            "grid_template_columns": null,
            "grid_template_rows": null,
            "height": null,
            "justify_content": null,
            "justify_items": null,
            "left": null,
            "margin": null,
            "max_height": null,
            "max_width": null,
            "min_height": null,
            "min_width": null,
            "object_fit": null,
            "object_position": null,
            "order": null,
            "overflow": null,
            "overflow_x": null,
            "overflow_y": null,
            "padding": null,
            "right": null,
            "top": null,
            "visibility": null,
            "width": null
          }
        },
        "bc685306855941babfafb22a64c5f39d": {
          "model_module": "@jupyter-widgets/controls",
          "model_module_version": "1.5.0",
          "model_name": "HTMLModel",
          "state": {
            "_dom_classes": [],
            "_model_module": "@jupyter-widgets/controls",
            "_model_module_version": "1.5.0",
            "_model_name": "HTMLModel",
            "_view_count": null,
            "_view_module": "@jupyter-widgets/controls",
            "_view_module_version": "1.5.0",
            "_view_name": "HTMLView",
            "description": "",
            "description_tooltip": null,
            "layout": "IPY_MODEL_bc19fe456b33451ab61b501d0ffcd2cc",
            "placeholder": "​",
            "style": "IPY_MODEL_e4528685aa7d4499b412c0ef0bfb2d83",
            "value": "Downloading: 100%"
          }
        },
        "bd20c68815734f42a5d15b3015a93d89": {
          "model_module": "@jupyter-widgets/base",
          "model_module_version": "1.2.0",
          "model_name": "LayoutModel",
          "state": {
            "_model_module": "@jupyter-widgets/base",
            "_model_module_version": "1.2.0",
            "_model_name": "LayoutModel",
            "_view_count": null,
            "_view_module": "@jupyter-widgets/base",
            "_view_module_version": "1.2.0",
            "_view_name": "LayoutView",
            "align_content": null,
            "align_items": null,
            "align_self": null,
            "border": null,
            "bottom": null,
            "display": null,
            "flex": null,
            "flex_flow": null,
            "grid_area": null,
            "grid_auto_columns": null,
            "grid_auto_flow": null,
            "grid_auto_rows": null,
            "grid_column": null,
            "grid_gap": null,
            "grid_row": null,
            "grid_template_areas": null,
            "grid_template_columns": null,
            "grid_template_rows": null,
            "height": null,
            "justify_content": null,
            "justify_items": null,
            "left": null,
            "margin": null,
            "max_height": null,
            "max_width": null,
            "min_height": null,
            "min_width": null,
            "object_fit": null,
            "object_position": null,
            "order": null,
            "overflow": null,
            "overflow_x": null,
            "overflow_y": null,
            "padding": null,
            "right": null,
            "top": null,
            "visibility": null,
            "width": null
          }
        },
        "c31b23482afc4f00becc08bc4ad3b682": {
          "model_module": "@jupyter-widgets/controls",
          "model_module_version": "1.5.0",
          "model_name": "DescriptionStyleModel",
          "state": {
            "_model_module": "@jupyter-widgets/controls",
            "_model_module_version": "1.5.0",
            "_model_name": "DescriptionStyleModel",
            "_view_count": null,
            "_view_module": "@jupyter-widgets/base",
            "_view_module_version": "1.2.0",
            "_view_name": "StyleView",
            "description_width": ""
          }
        },
        "c6e4639383534feda3da190caf0f0d6b": {
          "model_module": "@jupyter-widgets/base",
          "model_module_version": "1.2.0",
          "model_name": "LayoutModel",
          "state": {
            "_model_module": "@jupyter-widgets/base",
            "_model_module_version": "1.2.0",
            "_model_name": "LayoutModel",
            "_view_count": null,
            "_view_module": "@jupyter-widgets/base",
            "_view_module_version": "1.2.0",
            "_view_name": "LayoutView",
            "align_content": null,
            "align_items": null,
            "align_self": null,
            "border": null,
            "bottom": null,
            "display": null,
            "flex": null,
            "flex_flow": null,
            "grid_area": null,
            "grid_auto_columns": null,
            "grid_auto_flow": null,
            "grid_auto_rows": null,
            "grid_column": null,
            "grid_gap": null,
            "grid_row": null,
            "grid_template_areas": null,
            "grid_template_columns": null,
            "grid_template_rows": null,
            "height": null,
            "justify_content": null,
            "justify_items": null,
            "left": null,
            "margin": null,
            "max_height": null,
            "max_width": null,
            "min_height": null,
            "min_width": null,
            "object_fit": null,
            "object_position": null,
            "order": null,
            "overflow": null,
            "overflow_x": null,
            "overflow_y": null,
            "padding": null,
            "right": null,
            "top": null,
            "visibility": null,
            "width": null
          }
        },
        "c8aa26dfd0ac4d03907c76fb694bdeb7": {
          "model_module": "@jupyter-widgets/controls",
          "model_module_version": "1.5.0",
          "model_name": "HTMLModel",
          "state": {
            "_dom_classes": [],
            "_model_module": "@jupyter-widgets/controls",
            "_model_module_version": "1.5.0",
            "_model_name": "HTMLModel",
            "_view_count": null,
            "_view_module": "@jupyter-widgets/controls",
            "_view_module_version": "1.5.0",
            "_view_name": "HTMLView",
            "description": "",
            "description_tooltip": null,
            "layout": "IPY_MODEL_52bfa46cb7a047e0900b0491ac387a0b",
            "placeholder": "​",
            "style": "IPY_MODEL_47e29e8f7e2f4c6392552899c20fd84f",
            "value": "Downloading: 100%"
          }
        },
        "ce82da780e5f4533aaf900236e3bddad": {
          "model_module": "@jupyter-widgets/controls",
          "model_module_version": "1.5.0",
          "model_name": "HTMLModel",
          "state": {
            "_dom_classes": [],
            "_model_module": "@jupyter-widgets/controls",
            "_model_module_version": "1.5.0",
            "_model_name": "HTMLModel",
            "_view_count": null,
            "_view_module": "@jupyter-widgets/controls",
            "_view_module_version": "1.5.0",
            "_view_name": "HTMLView",
            "description": "",
            "description_tooltip": null,
            "layout": "IPY_MODEL_f3c4ff4e8ac443ef8114625345ca9b38",
            "placeholder": "​",
            "style": "IPY_MODEL_0e85658693764449b8bb837d47375633",
            "value": "Downloading: 100%"
          }
        },
        "cf30c813fcac4731b9ff3962e4a81f96": {
          "model_module": "@jupyter-widgets/controls",
          "model_module_version": "1.5.0",
          "model_name": "DescriptionStyleModel",
          "state": {
            "_model_module": "@jupyter-widgets/controls",
            "_model_module_version": "1.5.0",
            "_model_name": "DescriptionStyleModel",
            "_view_count": null,
            "_view_module": "@jupyter-widgets/base",
            "_view_module_version": "1.2.0",
            "_view_name": "StyleView",
            "description_width": ""
          }
        },
        "d00b1c446c8e4256b0d5d980854e4668": {
          "model_module": "@jupyter-widgets/base",
          "model_module_version": "1.2.0",
          "model_name": "LayoutModel",
          "state": {
            "_model_module": "@jupyter-widgets/base",
            "_model_module_version": "1.2.0",
            "_model_name": "LayoutModel",
            "_view_count": null,
            "_view_module": "@jupyter-widgets/base",
            "_view_module_version": "1.2.0",
            "_view_name": "LayoutView",
            "align_content": null,
            "align_items": null,
            "align_self": null,
            "border": null,
            "bottom": null,
            "display": null,
            "flex": null,
            "flex_flow": null,
            "grid_area": null,
            "grid_auto_columns": null,
            "grid_auto_flow": null,
            "grid_auto_rows": null,
            "grid_column": null,
            "grid_gap": null,
            "grid_row": null,
            "grid_template_areas": null,
            "grid_template_columns": null,
            "grid_template_rows": null,
            "height": null,
            "justify_content": null,
            "justify_items": null,
            "left": null,
            "margin": null,
            "max_height": null,
            "max_width": null,
            "min_height": null,
            "min_width": null,
            "object_fit": null,
            "object_position": null,
            "order": null,
            "overflow": null,
            "overflow_x": null,
            "overflow_y": null,
            "padding": null,
            "right": null,
            "top": null,
            "visibility": null,
            "width": null
          }
        },
        "d3a052533c3d46719884b74666b85770": {
          "model_module": "@jupyter-widgets/base",
          "model_module_version": "1.2.0",
          "model_name": "LayoutModel",
          "state": {
            "_model_module": "@jupyter-widgets/base",
            "_model_module_version": "1.2.0",
            "_model_name": "LayoutModel",
            "_view_count": null,
            "_view_module": "@jupyter-widgets/base",
            "_view_module_version": "1.2.0",
            "_view_name": "LayoutView",
            "align_content": null,
            "align_items": null,
            "align_self": null,
            "border": null,
            "bottom": null,
            "display": null,
            "flex": null,
            "flex_flow": null,
            "grid_area": null,
            "grid_auto_columns": null,
            "grid_auto_flow": null,
            "grid_auto_rows": null,
            "grid_column": null,
            "grid_gap": null,
            "grid_row": null,
            "grid_template_areas": null,
            "grid_template_columns": null,
            "grid_template_rows": null,
            "height": null,
            "justify_content": null,
            "justify_items": null,
            "left": null,
            "margin": null,
            "max_height": null,
            "max_width": null,
            "min_height": null,
            "min_width": null,
            "object_fit": null,
            "object_position": null,
            "order": null,
            "overflow": null,
            "overflow_x": null,
            "overflow_y": null,
            "padding": null,
            "right": null,
            "top": null,
            "visibility": null,
            "width": null
          }
        },
        "d5404e96633943139c9f3558ec3f07cf": {
          "model_module": "@jupyter-widgets/controls",
          "model_module_version": "1.5.0",
          "model_name": "DescriptionStyleModel",
          "state": {
            "_model_module": "@jupyter-widgets/controls",
            "_model_module_version": "1.5.0",
            "_model_name": "DescriptionStyleModel",
            "_view_count": null,
            "_view_module": "@jupyter-widgets/base",
            "_view_module_version": "1.2.0",
            "_view_name": "StyleView",
            "description_width": ""
          }
        },
        "d605c312eb3340a784e01efcf545f346": {
          "model_module": "@jupyter-widgets/base",
          "model_module_version": "1.2.0",
          "model_name": "LayoutModel",
          "state": {
            "_model_module": "@jupyter-widgets/base",
            "_model_module_version": "1.2.0",
            "_model_name": "LayoutModel",
            "_view_count": null,
            "_view_module": "@jupyter-widgets/base",
            "_view_module_version": "1.2.0",
            "_view_name": "LayoutView",
            "align_content": null,
            "align_items": null,
            "align_self": null,
            "border": null,
            "bottom": null,
            "display": null,
            "flex": null,
            "flex_flow": null,
            "grid_area": null,
            "grid_auto_columns": null,
            "grid_auto_flow": null,
            "grid_auto_rows": null,
            "grid_column": null,
            "grid_gap": null,
            "grid_row": null,
            "grid_template_areas": null,
            "grid_template_columns": null,
            "grid_template_rows": null,
            "height": null,
            "justify_content": null,
            "justify_items": null,
            "left": null,
            "margin": null,
            "max_height": null,
            "max_width": null,
            "min_height": null,
            "min_width": null,
            "object_fit": null,
            "object_position": null,
            "order": null,
            "overflow": null,
            "overflow_x": null,
            "overflow_y": null,
            "padding": null,
            "right": null,
            "top": null,
            "visibility": null,
            "width": null
          }
        },
        "d921c94819804288b5b1dda7e9a8a850": {
          "model_module": "@jupyter-widgets/controls",
          "model_module_version": "1.5.0",
          "model_name": "DescriptionStyleModel",
          "state": {
            "_model_module": "@jupyter-widgets/controls",
            "_model_module_version": "1.5.0",
            "_model_name": "DescriptionStyleModel",
            "_view_count": null,
            "_view_module": "@jupyter-widgets/base",
            "_view_module_version": "1.2.0",
            "_view_name": "StyleView",
            "description_width": ""
          }
        },
        "daf2315bfd004fe7b8a37e76e3cc96c3": {
          "model_module": "@jupyter-widgets/controls",
          "model_module_version": "1.5.0",
          "model_name": "HTMLModel",
          "state": {
            "_dom_classes": [],
            "_model_module": "@jupyter-widgets/controls",
            "_model_module_version": "1.5.0",
            "_model_name": "HTMLModel",
            "_view_count": null,
            "_view_module": "@jupyter-widgets/controls",
            "_view_module_version": "1.5.0",
            "_view_name": "HTMLView",
            "description": "",
            "description_tooltip": null,
            "layout": "IPY_MODEL_4a36127502c645119c7bc1e4c0a8e87c",
            "placeholder": "​",
            "style": "IPY_MODEL_24f61c44f09449b1a5253395d3764fb5",
            "value": " 1.82M/1.82M [00:00&lt;00:00, 2.39MB/s]"
          }
        },
        "dcbb3c5546914f668413fa2267d80081": {
          "model_module": "@jupyter-widgets/controls",
          "model_module_version": "1.5.0",
          "model_name": "ProgressStyleModel",
          "state": {
            "_model_module": "@jupyter-widgets/controls",
            "_model_module_version": "1.5.0",
            "_model_name": "ProgressStyleModel",
            "_view_count": null,
            "_view_module": "@jupyter-widgets/base",
            "_view_module_version": "1.2.0",
            "_view_name": "StyleView",
            "bar_color": null,
            "description_width": ""
          }
        },
        "dd23c7b1724d45ebb3bc8aebd3905668": {
          "model_module": "@jupyter-widgets/base",
          "model_module_version": "1.2.0",
          "model_name": "LayoutModel",
          "state": {
            "_model_module": "@jupyter-widgets/base",
            "_model_module_version": "1.2.0",
            "_model_name": "LayoutModel",
            "_view_count": null,
            "_view_module": "@jupyter-widgets/base",
            "_view_module_version": "1.2.0",
            "_view_name": "LayoutView",
            "align_content": null,
            "align_items": null,
            "align_self": null,
            "border": null,
            "bottom": null,
            "display": null,
            "flex": null,
            "flex_flow": null,
            "grid_area": null,
            "grid_auto_columns": null,
            "grid_auto_flow": null,
            "grid_auto_rows": null,
            "grid_column": null,
            "grid_gap": null,
            "grid_row": null,
            "grid_template_areas": null,
            "grid_template_columns": null,
            "grid_template_rows": null,
            "height": null,
            "justify_content": null,
            "justify_items": null,
            "left": null,
            "margin": null,
            "max_height": null,
            "max_width": null,
            "min_height": null,
            "min_width": null,
            "object_fit": null,
            "object_position": null,
            "order": null,
            "overflow": null,
            "overflow_x": null,
            "overflow_y": null,
            "padding": null,
            "right": null,
            "top": null,
            "visibility": null,
            "width": null
          }
        },
        "dd357c4a99734d0998d712ae765fbbb3": {
          "model_module": "@jupyter-widgets/controls",
          "model_module_version": "1.5.0",
          "model_name": "HTMLModel",
          "state": {
            "_dom_classes": [],
            "_model_module": "@jupyter-widgets/controls",
            "_model_module_version": "1.5.0",
            "_model_name": "HTMLModel",
            "_view_count": null,
            "_view_module": "@jupyter-widgets/controls",
            "_view_module_version": "1.5.0",
            "_view_name": "HTMLView",
            "description": "",
            "description_tooltip": null,
            "layout": "IPY_MODEL_579d88f6d6bd4e0a9fe4ada529cf1747",
            "placeholder": "​",
            "style": "IPY_MODEL_2ecc2ae912634cc6a9679cbcfabb6b60",
            "value": "Downloading: 100%"
          }
        },
        "ddb06e1495d04aa6aec746a0ee70a292": {
          "model_module": "@jupyter-widgets/controls",
          "model_module_version": "1.5.0",
          "model_name": "HTMLModel",
          "state": {
            "_dom_classes": [],
            "_model_module": "@jupyter-widgets/controls",
            "_model_module_version": "1.5.0",
            "_model_name": "HTMLModel",
            "_view_count": null,
            "_view_module": "@jupyter-widgets/controls",
            "_view_module_version": "1.5.0",
            "_view_name": "HTMLView",
            "description": "",
            "description_tooltip": null,
            "layout": "IPY_MODEL_76fdd98b8e32497782e0b35150539323",
            "placeholder": "​",
            "style": "IPY_MODEL_8c923702d03b47df9d5720f83682ba96",
            "value": " 232k/232k [00:00&lt;00:00, 645kB/s]"
          }
        },
        "dfeda42fd0f542d2b73c2df87e6eb4bb": {
          "model_module": "@jupyter-widgets/base",
          "model_module_version": "1.2.0",
          "model_name": "LayoutModel",
          "state": {
            "_model_module": "@jupyter-widgets/base",
            "_model_module_version": "1.2.0",
            "_model_name": "LayoutModel",
            "_view_count": null,
            "_view_module": "@jupyter-widgets/base",
            "_view_module_version": "1.2.0",
            "_view_name": "LayoutView",
            "align_content": null,
            "align_items": null,
            "align_self": null,
            "border": null,
            "bottom": null,
            "display": null,
            "flex": null,
            "flex_flow": null,
            "grid_area": null,
            "grid_auto_columns": null,
            "grid_auto_flow": null,
            "grid_auto_rows": null,
            "grid_column": null,
            "grid_gap": null,
            "grid_row": null,
            "grid_template_areas": null,
            "grid_template_columns": null,
            "grid_template_rows": null,
            "height": null,
            "justify_content": null,
            "justify_items": null,
            "left": null,
            "margin": null,
            "max_height": null,
            "max_width": null,
            "min_height": null,
            "min_width": null,
            "object_fit": null,
            "object_position": null,
            "order": null,
            "overflow": null,
            "overflow_x": null,
            "overflow_y": null,
            "padding": null,
            "right": null,
            "top": null,
            "visibility": null,
            "width": null
          }
        },
        "dff676e0ac9b443da40a59224f206968": {
          "model_module": "@jupyter-widgets/controls",
          "model_module_version": "1.5.0",
          "model_name": "DescriptionStyleModel",
          "state": {
            "_model_module": "@jupyter-widgets/controls",
            "_model_module_version": "1.5.0",
            "_model_name": "DescriptionStyleModel",
            "_view_count": null,
            "_view_module": "@jupyter-widgets/base",
            "_view_module_version": "1.2.0",
            "_view_name": "StyleView",
            "description_width": ""
          }
        },
        "e23113096cd4465cbd1958839e19068b": {
          "model_module": "@jupyter-widgets/controls",
          "model_module_version": "1.5.0",
          "model_name": "HBoxModel",
          "state": {
            "_dom_classes": [],
            "_model_module": "@jupyter-widgets/controls",
            "_model_module_version": "1.5.0",
            "_model_name": "HBoxModel",
            "_view_count": null,
            "_view_module": "@jupyter-widgets/controls",
            "_view_module_version": "1.5.0",
            "_view_name": "HBoxView",
            "box_style": "",
            "children": [
              "IPY_MODEL_09c2f8c433644153a4eba1f84eb5989d",
              "IPY_MODEL_1323856e08fb43efa13265cda1ef4b23",
              "IPY_MODEL_fb0a891a0cdc42b3b74a1cc73f406333"
            ],
            "layout": "IPY_MODEL_23926001fe0947cd9db1c8d047bddaaf"
          }
        },
        "e2907e268e824f86a4312699b19dad3a": {
          "model_module": "@jupyter-widgets/controls",
          "model_module_version": "1.5.0",
          "model_name": "DescriptionStyleModel",
          "state": {
            "_model_module": "@jupyter-widgets/controls",
            "_model_module_version": "1.5.0",
            "_model_name": "DescriptionStyleModel",
            "_view_count": null,
            "_view_module": "@jupyter-widgets/base",
            "_view_module_version": "1.2.0",
            "_view_name": "StyleView",
            "description_width": ""
          }
        },
        "e4528685aa7d4499b412c0ef0bfb2d83": {
          "model_module": "@jupyter-widgets/controls",
          "model_module_version": "1.5.0",
          "model_name": "DescriptionStyleModel",
          "state": {
            "_model_module": "@jupyter-widgets/controls",
            "_model_module_version": "1.5.0",
            "_model_name": "DescriptionStyleModel",
            "_view_count": null,
            "_view_module": "@jupyter-widgets/base",
            "_view_module_version": "1.2.0",
            "_view_name": "StyleView",
            "description_width": ""
          }
        },
        "e9c332cee09e42bca5edc7d4c10dcfaa": {
          "model_module": "@jupyter-widgets/controls",
          "model_module_version": "1.5.0",
          "model_name": "HTMLModel",
          "state": {
            "_dom_classes": [],
            "_model_module": "@jupyter-widgets/controls",
            "_model_module_version": "1.5.0",
            "_model_name": "HTMLModel",
            "_view_count": null,
            "_view_module": "@jupyter-widgets/controls",
            "_view_module_version": "1.5.0",
            "_view_name": "HTMLView",
            "description": "",
            "description_tooltip": null,
            "layout": "IPY_MODEL_dfeda42fd0f542d2b73c2df87e6eb4bb",
            "placeholder": "​",
            "style": "IPY_MODEL_e2907e268e824f86a4312699b19dad3a",
            "value": " 1.47k/1.47k [00:00&lt;00:00, 43.7kB/s]"
          }
        },
        "ecd76b2bea9848b3987196f25940fbb4": {
          "model_module": "@jupyter-widgets/controls",
          "model_module_version": "1.5.0",
          "model_name": "FloatProgressModel",
          "state": {
            "_dom_classes": [],
            "_model_module": "@jupyter-widgets/controls",
            "_model_module_version": "1.5.0",
            "_model_name": "FloatProgressModel",
            "_view_count": null,
            "_view_module": "@jupyter-widgets/controls",
            "_view_module_version": "1.5.0",
            "_view_name": "ProgressView",
            "bar_style": "success",
            "description": "",
            "description_tooltip": null,
            "layout": "IPY_MODEL_febb3c1e7b1845d0beba818b92ba7d7b",
            "max": 1341,
            "min": 0,
            "orientation": "horizontal",
            "style": "IPY_MODEL_08d169d9d92a4cd69b60aca437cd5f87",
            "value": 1341
          }
        },
        "f0a9ad21a20e497892b030be672b5bdb": {
          "model_module": "@jupyter-widgets/controls",
          "model_module_version": "1.5.0",
          "model_name": "HBoxModel",
          "state": {
            "_dom_classes": [],
            "_model_module": "@jupyter-widgets/controls",
            "_model_module_version": "1.5.0",
            "_model_name": "HBoxModel",
            "_view_count": null,
            "_view_module": "@jupyter-widgets/controls",
            "_view_module_version": "1.5.0",
            "_view_name": "HBoxView",
            "box_style": "",
            "children": [
              "IPY_MODEL_6f3810ca4365407cb8ad702f7e591312",
              "IPY_MODEL_fb32319257bb4d3b8883ec06667f8b38",
              "IPY_MODEL_72faf47796e04a5c97d9130de522ee07"
            ],
            "layout": "IPY_MODEL_75c8c255c81e481f8ba9f59cec94306c"
          }
        },
        "f1acd27d810b4be7877844cd491791f9": {
          "model_module": "@jupyter-widgets/base",
          "model_module_version": "1.2.0",
          "model_name": "LayoutModel",
          "state": {
            "_model_module": "@jupyter-widgets/base",
            "_model_module_version": "1.2.0",
            "_model_name": "LayoutModel",
            "_view_count": null,
            "_view_module": "@jupyter-widgets/base",
            "_view_module_version": "1.2.0",
            "_view_name": "LayoutView",
            "align_content": null,
            "align_items": null,
            "align_self": null,
            "border": null,
            "bottom": null,
            "display": null,
            "flex": null,
            "flex_flow": null,
            "grid_area": null,
            "grid_auto_columns": null,
            "grid_auto_flow": null,
            "grid_auto_rows": null,
            "grid_column": null,
            "grid_gap": null,
            "grid_row": null,
            "grid_template_areas": null,
            "grid_template_columns": null,
            "grid_template_rows": null,
            "height": null,
            "justify_content": null,
            "justify_items": null,
            "left": null,
            "margin": null,
            "max_height": null,
            "max_width": null,
            "min_height": null,
            "min_width": null,
            "object_fit": null,
            "object_position": null,
            "order": null,
            "overflow": null,
            "overflow_x": null,
            "overflow_y": null,
            "padding": null,
            "right": null,
            "top": null,
            "visibility": null,
            "width": null
          }
        },
        "f3c4ff4e8ac443ef8114625345ca9b38": {
          "model_module": "@jupyter-widgets/base",
          "model_module_version": "1.2.0",
          "model_name": "LayoutModel",
          "state": {
            "_model_module": "@jupyter-widgets/base",
            "_model_module_version": "1.2.0",
            "_model_name": "LayoutModel",
            "_view_count": null,
            "_view_module": "@jupyter-widgets/base",
            "_view_module_version": "1.2.0",
            "_view_name": "LayoutView",
            "align_content": null,
            "align_items": null,
            "align_self": null,
            "border": null,
            "bottom": null,
            "display": null,
            "flex": null,
            "flex_flow": null,
            "grid_area": null,
            "grid_auto_columns": null,
            "grid_auto_flow": null,
            "grid_auto_rows": null,
            "grid_column": null,
            "grid_gap": null,
            "grid_row": null,
            "grid_template_areas": null,
            "grid_template_columns": null,
            "grid_template_rows": null,
            "height": null,
            "justify_content": null,
            "justify_items": null,
            "left": null,
            "margin": null,
            "max_height": null,
            "max_width": null,
            "min_height": null,
            "min_width": null,
            "object_fit": null,
            "object_position": null,
            "order": null,
            "overflow": null,
            "overflow_x": null,
            "overflow_y": null,
            "padding": null,
            "right": null,
            "top": null,
            "visibility": null,
            "width": null
          }
        },
        "f3feb90ecd3247bea2dc248ba2b53b3e": {
          "model_module": "@jupyter-widgets/controls",
          "model_module_version": "1.5.0",
          "model_name": "DescriptionStyleModel",
          "state": {
            "_model_module": "@jupyter-widgets/controls",
            "_model_module_version": "1.5.0",
            "_model_name": "DescriptionStyleModel",
            "_view_count": null,
            "_view_module": "@jupyter-widgets/base",
            "_view_module_version": "1.2.0",
            "_view_name": "StyleView",
            "description_width": ""
          }
        },
        "f6e90cd6e15b43c587dc4fcb50d876a7": {
          "model_module": "@jupyter-widgets/controls",
          "model_module_version": "1.5.0",
          "model_name": "ProgressStyleModel",
          "state": {
            "_model_module": "@jupyter-widgets/controls",
            "_model_module_version": "1.5.0",
            "_model_name": "ProgressStyleModel",
            "_view_count": null,
            "_view_module": "@jupyter-widgets/base",
            "_view_module_version": "1.2.0",
            "_view_name": "StyleView",
            "bar_color": null,
            "description_width": ""
          }
        },
        "f9100af880e24be2ab864de5229e766f": {
          "model_module": "@jupyter-widgets/controls",
          "model_module_version": "1.5.0",
          "model_name": "HTMLModel",
          "state": {
            "_dom_classes": [],
            "_model_module": "@jupyter-widgets/controls",
            "_model_module_version": "1.5.0",
            "_model_name": "HTMLModel",
            "_view_count": null,
            "_view_module": "@jupyter-widgets/controls",
            "_view_module_version": "1.5.0",
            "_view_name": "HTMLView",
            "description": "",
            "description_tooltip": null,
            "layout": "IPY_MODEL_9f0df6d38f9c498c8240b72ec9e45e0a",
            "placeholder": "​",
            "style": "IPY_MODEL_78223f3afefe40b2bf68a265c51b89ac",
            "value": " 1.31k/1.31k [00:00&lt;00:00, 41.3kB/s]"
          }
        },
        "fb0a891a0cdc42b3b74a1cc73f406333": {
          "model_module": "@jupyter-widgets/controls",
          "model_module_version": "1.5.0",
          "model_name": "HTMLModel",
          "state": {
            "_dom_classes": [],
            "_model_module": "@jupyter-widgets/controls",
            "_model_module_version": "1.5.0",
            "_model_name": "HTMLModel",
            "_view_count": null,
            "_view_module": "@jupyter-widgets/controls",
            "_view_module_version": "1.5.0",
            "_view_name": "HTMLView",
            "description": "",
            "description_tooltip": null,
            "layout": "IPY_MODEL_d605c312eb3340a784e01efcf545f346",
            "placeholder": "​",
            "style": "IPY_MODEL_85d1caf988af484e98ecd7bb9e9af0a3",
            "value": " 11.3k/11.3k [00:00&lt;00:00, 329kB/s]"
          }
        },
        "fb2148c652be488ab02376b0c75a182d": {
          "model_module": "@jupyter-widgets/base",
          "model_module_version": "1.2.0",
          "model_name": "LayoutModel",
          "state": {
            "_model_module": "@jupyter-widgets/base",
            "_model_module_version": "1.2.0",
            "_model_name": "LayoutModel",
            "_view_count": null,
            "_view_module": "@jupyter-widgets/base",
            "_view_module_version": "1.2.0",
            "_view_name": "LayoutView",
            "align_content": null,
            "align_items": null,
            "align_self": null,
            "border": null,
            "bottom": null,
            "display": null,
            "flex": null,
            "flex_flow": null,
            "grid_area": null,
            "grid_auto_columns": null,
            "grid_auto_flow": null,
            "grid_auto_rows": null,
            "grid_column": null,
            "grid_gap": null,
            "grid_row": null,
            "grid_template_areas": null,
            "grid_template_columns": null,
            "grid_template_rows": null,
            "height": null,
            "justify_content": null,
            "justify_items": null,
            "left": null,
            "margin": null,
            "max_height": null,
            "max_width": null,
            "min_height": null,
            "min_width": null,
            "object_fit": null,
            "object_position": null,
            "order": null,
            "overflow": null,
            "overflow_x": null,
            "overflow_y": null,
            "padding": null,
            "right": null,
            "top": null,
            "visibility": null,
            "width": null
          }
        },
        "fb32319257bb4d3b8883ec06667f8b38": {
          "model_module": "@jupyter-widgets/controls",
          "model_module_version": "1.5.0",
          "model_name": "FloatProgressModel",
          "state": {
            "_dom_classes": [],
            "_model_module": "@jupyter-widgets/controls",
            "_model_module_version": "1.5.0",
            "_model_name": "FloatProgressModel",
            "_view_count": null,
            "_view_module": "@jupyter-widgets/controls",
            "_view_module_version": "1.5.0",
            "_view_name": "ProgressView",
            "bar_style": "success",
            "description": "",
            "description_tooltip": null,
            "layout": "IPY_MODEL_867ce0cf2309444da39875b20a64e214",
            "max": 48,
            "min": 0,
            "orientation": "horizontal",
            "style": "IPY_MODEL_1815ccc9e8664cea957249896e73f068",
            "value": 48
          }
        },
        "febb3c1e7b1845d0beba818b92ba7d7b": {
          "model_module": "@jupyter-widgets/base",
          "model_module_version": "1.2.0",
          "model_name": "LayoutModel",
          "state": {
            "_model_module": "@jupyter-widgets/base",
            "_model_module_version": "1.2.0",
            "_model_name": "LayoutModel",
            "_view_count": null,
            "_view_module": "@jupyter-widgets/base",
            "_view_module_version": "1.2.0",
            "_view_name": "LayoutView",
            "align_content": null,
            "align_items": null,
            "align_self": null,
            "border": null,
            "bottom": null,
            "display": null,
            "flex": null,
            "flex_flow": null,
            "grid_area": null,
            "grid_auto_columns": null,
            "grid_auto_flow": null,
            "grid_auto_rows": null,
            "grid_column": null,
            "grid_gap": null,
            "grid_row": null,
            "grid_template_areas": null,
            "grid_template_columns": null,
            "grid_template_rows": null,
            "height": null,
            "justify_content": null,
            "justify_items": null,
            "left": null,
            "margin": null,
            "max_height": null,
            "max_width": null,
            "min_height": null,
            "min_width": null,
            "object_fit": null,
            "object_position": null,
            "order": null,
            "overflow": null,
            "overflow_x": null,
            "overflow_y": null,
            "padding": null,
            "right": null,
            "top": null,
            "visibility": null,
            "width": null
          }
        },
        "ffb7537859c44c2f8e51927d3726f3cb": {
          "model_module": "@jupyter-widgets/controls",
          "model_module_version": "1.5.0",
          "model_name": "FloatProgressModel",
          "state": {
            "_dom_classes": [],
            "_model_module": "@jupyter-widgets/controls",
            "_model_module_version": "1.5.0",
            "_model_name": "FloatProgressModel",
            "_view_count": null,
            "_view_module": "@jupyter-widgets/controls",
            "_view_module_version": "1.5.0",
            "_view_name": "ProgressView",
            "bar_style": "success",
            "description": "",
            "description_tooltip": null,
            "layout": "IPY_MODEL_464155b2cb844464920f81b28f2bdda4",
            "max": 440474526,
            "min": 0,
            "orientation": "horizontal",
            "style": "IPY_MODEL_7dd2523aac4a4540b6a8569818cb9138",
            "value": 440474526
          }
        },
        "ffc7dc1ff4144f59aa4877ed74431d91": {
          "model_module": "@jupyter-widgets/controls",
          "model_module_version": "1.5.0",
          "model_name": "DescriptionStyleModel",
          "state": {
            "_model_module": "@jupyter-widgets/controls",
            "_model_module_version": "1.5.0",
            "_model_name": "DescriptionStyleModel",
            "_view_count": null,
            "_view_module": "@jupyter-widgets/base",
            "_view_module_version": "1.2.0",
            "_view_name": "StyleView",
            "description_width": ""
          }
        }
      }
    }
  },
  "nbformat": 4,
  "nbformat_minor": 5
}

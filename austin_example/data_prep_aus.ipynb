{
 "cells": [
  {
   "cell_type": "markdown",
   "metadata": {},
   "source": [
    "## Using SmatchtoPr on austin's dataset"
   ]
  },
  {
   "cell_type": "code",
   "execution_count": 12,
   "metadata": {},
   "outputs": [],
   "source": [
    "from pathlib import Path\n",
    "import pandas as pd\n",
    "import spacy\n",
    "import os\n",
    "# Debater api\n",
    "from debater_python_api.api.clients.narrative_generation_client import Polarity\n",
    "from debater_python_api.api.debater_api import DebaterApi\n",
    "from debater_python_api.api.sentence_level_index.client.sentence_query_base import SimpleQuery\n",
    "from debater_python_api.api.sentence_level_index.client.sentence_query_request import SentenceQueryRequest\n",
    "# setting up the api\n",
    "debater_api = DebaterApi(\"ef739e7c8237a05c1855e6abcde98f42L05\")\n",
    "\n"
   ]
  },
  {
   "cell_type": "code",
   "execution_count": 13,
   "metadata": {},
   "outputs": [],
   "source": [
    "df_aus = pd.read_csv(Path(\"__file__\").parent/'data_austin/dataset_austin_sentences.csv')"
   ]
  },
  {
   "cell_type": "code",
   "execution_count": 14,
   "metadata": {},
   "outputs": [
    {
     "data": {
      "text/html": [
       "<div>\n",
       "<style scoped>\n",
       "    .dataframe tbody tr th:only-of-type {\n",
       "        vertical-align: middle;\n",
       "    }\n",
       "\n",
       "    .dataframe tbody tr th {\n",
       "        vertical-align: top;\n",
       "    }\n",
       "\n",
       "    .dataframe thead th {\n",
       "        text-align: right;\n",
       "    }\n",
       "</style>\n",
       "<table border=\"1\" class=\"dataframe\">\n",
       "  <thead>\n",
       "    <tr style=\"text-align: right;\">\n",
       "      <th></th>\n",
       "      <th>id</th>\n",
       "      <th>text</th>\n",
       "      <th>district</th>\n",
       "      <th>year</th>\n",
       "    </tr>\n",
       "  </thead>\n",
       "  <tbody>\n",
       "    <tr>\n",
       "      <th>0</th>\n",
       "      <td>1</td>\n",
       "      <td>Dissatisfied traffic and with traffic, timing ...</td>\n",
       "      <td>7</td>\n",
       "      <td>2016</td>\n",
       "    </tr>\n",
       "    <tr>\n",
       "      <th>1</th>\n",
       "      <td>2</td>\n",
       "      <td>EXTREMELY dissatisfied with cit govt.</td>\n",
       "      <td>7</td>\n",
       "      <td>2016</td>\n",
       "    </tr>\n",
       "    <tr>\n",
       "      <th>2</th>\n",
       "      <td>3</td>\n",
       "      <td>interfering in local businesses (Uber/Lyft, in...</td>\n",
       "      <td>7</td>\n",
       "      <td>2016</td>\n",
       "    </tr>\n",
       "    <tr>\n",
       "      <th>3</th>\n",
       "      <td>4</td>\n",
       "      <td>Also, extremely dissatisfied with all the free...</td>\n",
       "      <td>7</td>\n",
       "      <td>2016</td>\n",
       "    </tr>\n",
       "    <tr>\n",
       "      <th>4</th>\n",
       "      <td>5</td>\n",
       "      <td>I'm very dissatisfied with the liberal leaning...</td>\n",
       "      <td>7</td>\n",
       "      <td>2016</td>\n",
       "    </tr>\n",
       "  </tbody>\n",
       "</table>\n",
       "</div>"
      ],
      "text/plain": [
       "   id                                               text  district  year\n",
       "0   1  Dissatisfied traffic and with traffic, timing ...         7  2016\n",
       "1   2              EXTREMELY dissatisfied with cit govt.         7  2016\n",
       "2   3  interfering in local businesses (Uber/Lyft, in...         7  2016\n",
       "3   4  Also, extremely dissatisfied with all the free...         7  2016\n",
       "4   5  I'm very dissatisfied with the liberal leaning...         7  2016"
      ]
     },
     "execution_count": 14,
     "metadata": {},
     "output_type": "execute_result"
    }
   ],
   "source": [
    "df_aus.head()"
   ]
  },
  {
   "cell_type": "code",
   "execution_count": 15,
   "metadata": {},
   "outputs": [
    {
     "data": {
      "text/plain": [
       "6274"
      ]
     },
     "execution_count": 15,
     "metadata": {},
     "output_type": "execute_result"
    }
   ],
   "source": [
    "df_aus.isna().sum()\n",
    "len(df_aus['text'])"
   ]
  },
  {
   "cell_type": "code",
   "execution_count": 21,
   "metadata": {},
   "outputs": [],
   "source": [
    "import csv\n",
    "with open(Path(\"__file__\").parent/'data_austin/dataset_austin_sentences.csv') as csv_file:\n",
    "    reader = csv.DictReader(csv_file)\n",
    "    sentences = list(reader)"
   ]
  },
  {
   "cell_type": "code",
   "execution_count": 22,
   "metadata": {},
   "outputs": [],
   "source": [
    "from spacy.lang.en import English\n",
    "# No need to be used as here one argument = 1 sentence\n",
    "sent_split = English()\n",
    "sent_split.add_pipe(sent_split.create_pipe('sentencizer'))\n",
    "# sentencizer allow custom sentence boundary detection logic that doesn’t require the dependency parse\n",
    "nlp = spacy.load('en_core_web_sm')\n",
    "\n",
    "arg_quality_client = debater_api.get_argument_quality_client()"
   ]
  },
  {
   "cell_type": "code",
   "execution_count": 23,
   "metadata": {},
   "outputs": [],
   "source": [
    "def score_candidates(topic, sentences):\n",
    "    sentence_topic_dicts = [{'sentence' : sentence, 'topic' : topic } for sentence in sentences]\n",
    "    scores = arg_quality_client.run(sentence_topic_dicts)\n",
    "    return list(zip(sentences, scores))"
   ]
  },
  {
   "cell_type": "code",
   "execution_count": 24,
   "metadata": {},
   "outputs": [],
   "source": [
    "df_crop = df_aus[:10]"
   ]
  },
  {
   "cell_type": "code",
   "execution_count": 25,
   "metadata": {},
   "outputs": [
    {
     "data": {
      "text/html": [
       "<div>\n",
       "<style scoped>\n",
       "    .dataframe tbody tr th:only-of-type {\n",
       "        vertical-align: middle;\n",
       "    }\n",
       "\n",
       "    .dataframe tbody tr th {\n",
       "        vertical-align: top;\n",
       "    }\n",
       "\n",
       "    .dataframe thead th {\n",
       "        text-align: right;\n",
       "    }\n",
       "</style>\n",
       "<table border=\"1\" class=\"dataframe\">\n",
       "  <thead>\n",
       "    <tr style=\"text-align: right;\">\n",
       "      <th></th>\n",
       "      <th>id</th>\n",
       "      <th>text</th>\n",
       "      <th>district</th>\n",
       "      <th>year</th>\n",
       "    </tr>\n",
       "  </thead>\n",
       "  <tbody>\n",
       "    <tr>\n",
       "      <th>0</th>\n",
       "      <td>1</td>\n",
       "      <td>Dissatisfied traffic and with traffic, timing ...</td>\n",
       "      <td>7</td>\n",
       "      <td>2016</td>\n",
       "    </tr>\n",
       "    <tr>\n",
       "      <th>1</th>\n",
       "      <td>2</td>\n",
       "      <td>EXTREMELY dissatisfied with cit govt.</td>\n",
       "      <td>7</td>\n",
       "      <td>2016</td>\n",
       "    </tr>\n",
       "    <tr>\n",
       "      <th>2</th>\n",
       "      <td>3</td>\n",
       "      <td>interfering in local businesses (Uber/Lyft, in...</td>\n",
       "      <td>7</td>\n",
       "      <td>2016</td>\n",
       "    </tr>\n",
       "    <tr>\n",
       "      <th>3</th>\n",
       "      <td>4</td>\n",
       "      <td>Also, extremely dissatisfied with all the free...</td>\n",
       "      <td>7</td>\n",
       "      <td>2016</td>\n",
       "    </tr>\n",
       "    <tr>\n",
       "      <th>4</th>\n",
       "      <td>5</td>\n",
       "      <td>I'm very dissatisfied with the liberal leaning...</td>\n",
       "      <td>7</td>\n",
       "      <td>2016</td>\n",
       "    </tr>\n",
       "  </tbody>\n",
       "</table>\n",
       "</div>"
      ],
      "text/plain": [
       "   id                                               text  district  year\n",
       "0   1  Dissatisfied traffic and with traffic, timing ...         7  2016\n",
       "1   2              EXTREMELY dissatisfied with cit govt.         7  2016\n",
       "2   3  interfering in local businesses (Uber/Lyft, in...         7  2016\n",
       "3   4  Also, extremely dissatisfied with all the free...         7  2016\n",
       "4   5  I'm very dissatisfied with the liberal leaning...         7  2016"
      ]
     },
     "execution_count": 25,
     "metadata": {},
     "output_type": "execute_result"
    }
   ],
   "source": [
    "df_crop.head()"
   ]
  },
  {
   "cell_type": "code",
   "execution_count": 28,
   "metadata": {},
   "outputs": [],
   "source": [
    "\n",
    "sentences_texts = [sentence['text'] for sentence in sentences]\n",
    "sentences_texts_crop = sentences_texts[:10]"
   ]
  },
  {
   "cell_type": "code",
   "execution_count": 29,
   "metadata": {},
   "outputs": [
    {
     "name": "stderr",
     "output_type": "stream",
     "text": [
      "ArgumentQualityClient:   0%|          | 0/1 [05:22<?, ?it/s]\n",
      "ArgumentQualityClient:   0%|          | 0/119 [03:56<?, ?it/s]\n",
      "ArgumentQualityClient: 100%|██████████| 6274/6274 [01:42<00:00, 60.94it/s]\n",
      "ArgumentQualityClient: 100%|██████████| 6274/6274 [01:25<00:00, 73.72it/s] \n",
      "ArgumentQualityClient:  72%|███████▏  | 4500/6274 [00:54<00:21, 82.91it/s]"
     ]
    }
   ],
   "source": [
    "df_crop['senteceswithscore']= df_crop.apply(lambda row: score_candidates(\"hi\", sentences_texts) , axis=1)"
   ]
  },
  {
   "cell_type": "code",
   "execution_count": null,
   "metadata": {},
   "outputs": [],
   "source": [
    "df_crop.head()"
   ]
  }
 ],
 "metadata": {
  "interpreter": {
   "hash": "13a0e06e0e0f07e5e23251a2677c62487b66087b1059463c8a83ba21d88e9bb3"
  },
  "kernelspec": {
   "display_name": "Python 3.7.13 ('nlplab')",
   "language": "python",
   "name": "python3"
  },
  "language_info": {
   "codemirror_mode": {
    "name": "ipython",
    "version": 3
   },
   "file_extension": ".py",
   "mimetype": "text/x-python",
   "name": "python",
   "nbconvert_exporter": "python",
   "pygments_lexer": "ipython3",
   "version": "3.7.13"
  },
  "orig_nbformat": 4
 },
 "nbformat": 4,
 "nbformat_minor": 2
}

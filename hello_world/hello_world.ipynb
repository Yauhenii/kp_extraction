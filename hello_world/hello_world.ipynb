{
 "cells": [
  {
   "cell_type": "markdown",
   "metadata": {},
   "source": [
    "# Hello World"
   ]
  },
  {
   "cell_type": "markdown",
   "metadata": {},
   "source": [
    "The purpose of this notebook is to check that your environment is set up correctly and that you are able to access the Debater Early Access APIs.  It also demonstrates how to call the Pro/Con Service."
   ]
  },
  {
   "cell_type": "markdown",
   "metadata": {},
   "source": [
    "Set up imports"
   ]
  },
  {
   "cell_type": "code",
   "execution_count": 1,
   "metadata": {},
   "outputs": [],
   "source": [
    "from debater_python_api.api.debater_api import DebaterApi\n",
    "import os"
   ]
  },
  {
   "cell_type": "markdown",
   "metadata": {},
   "source": [
    "Check that DEBATER_API_KEY environment variable is set up correctly"
   ]
  },
  {
   "cell_type": "code",
   "execution_count": 7,
   "metadata": {},
   "outputs": [],
   "source": [
    "if not 'DEBATER_API_KEY' in os.environ:\n",
    "    raise ValueError(\"Please set the DEBATER_API_KEY environment variable to the API KEY found in the API-KEY \"\n",
    "        \"tab of the Early Access Program Website\")\n",
    "    \n",
    "    \n",
    "api_key = os.environ['DEBATER_API_KEY']"
   ]
  },
  {
   "cell_type": "markdown",
   "metadata": {},
   "source": [
    "Initialize a DebaterApi object with the api key, and return a pro/con client object."
   ]
  },
  {
   "cell_type": "code",
   "execution_count": 9,
   "metadata": {},
   "outputs": [],
   "source": [
    "debater_api = DebaterApi(api_key)\n",
    "pro_con_client = debater_api.get_pro_con_client()"
   ]
  },
  {
   "cell_type": "markdown",
   "metadata": {},
   "source": [
    "Initialize the data to be sent to the pro/con service.  In this case, it is list containing a single pair of a \n",
    "sentence and a topic:"
   ]
  },
  {
   "cell_type": "code",
   "execution_count": 10,
   "metadata": {},
   "outputs": [],
   "source": [
    "topic = 'This tutorial is helpful.'\n",
    "sentence = 'This tutorial works as expected.' \n",
    "\n",
    "sentence_topic_dicts = [{'sentence' : sentence, 'topic' : topic } ]"
   ]
  },
  {
   "cell_type": "markdown",
   "metadata": {},
   "source": [
    "Call the pro/con client.  The client performs a REST call to the service and receives the pro/con scores as a list (one score per pair of topic/sentence submitted)"
   ]
  },
  {
   "cell_type": "code",
   "execution_count": 11,
   "metadata": {},
   "outputs": [
    {
     "name": "stderr",
     "output_type": "stream",
     "text": [
      "ProConClient: 100%|███████████████████████████████████████████████████████████████████████████████████████████████████████████████████████████████████████████████████████████████████████████| 1/1 [00:00<00:00,  1.75it/s]\n"
     ]
    }
   ],
   "source": [
    "scores = pro_con_client.run(sentence_topic_dicts)"
   ]
  },
  {
   "cell_type": "markdown",
   "metadata": {},
   "source": [
    "Print the score and validate it is in the right range."
   ]
  },
  {
   "cell_type": "code",
   "execution_count": 12,
   "metadata": {},
   "outputs": [
    {
     "name": "stdout",
     "output_type": "stream",
     "text": [
      "Score: 0.9982\n",
      "Hello world! It works.\n"
     ]
    }
   ],
   "source": [
    "print(\"Score: \"+\"{:.4f}\".format(scores[0]))\n",
    "\n",
    "if (scores[0] > 0.99):\n",
    "    print(\"Hello world! It works.\")"
   ]
  }
 ],
 "metadata": {
  "kernelspec": {
   "display_name": "Python 3 (ipykernel)",
   "language": "python",
   "name": "python3"
  },
  "language_info": {
   "codemirror_mode": {
    "name": "ipython",
    "version": 3
   },
   "file_extension": ".py",
   "mimetype": "text/x-python",
   "name": "python",
   "nbconvert_exporter": "python",
   "pygments_lexer": "ipython3",
   "version": "3.7.13"
  }
 },
 "nbformat": 4,
 "nbformat_minor": 4
}

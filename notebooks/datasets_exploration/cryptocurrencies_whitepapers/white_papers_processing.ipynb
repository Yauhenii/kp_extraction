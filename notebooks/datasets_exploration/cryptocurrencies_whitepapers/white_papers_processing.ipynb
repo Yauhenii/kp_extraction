{
 "cells": [
  {
   "cell_type": "code",
   "execution_count": 2,
   "id": "7173e735-91d2-4768-811f-828b51baed08",
   "metadata": {},
   "outputs": [
    {
     "name": "stdout",
     "output_type": "stream",
     "text": [
      "Requirement already satisfied: nltk in c:\\users\\bilal\\anaconda3\\envs\\cryptocurrencies-kpa\\lib\\site-packages (3.6.6)\n",
      "Requirement already satisfied: tqdm in c:\\users\\bilal\\anaconda3\\envs\\cryptocurrencies-kpa\\lib\\site-packages (from nltk) (4.62.3)\n",
      "Requirement already satisfied: joblib in c:\\users\\bilal\\anaconda3\\envs\\cryptocurrencies-kpa\\lib\\site-packages (from nltk) (1.1.0)\n",
      "Requirement already satisfied: regex>=2021.8.3 in c:\\users\\bilal\\anaconda3\\envs\\cryptocurrencies-kpa\\lib\\site-packages (from nltk) (2021.11.10)\n",
      "Requirement already satisfied: click in c:\\users\\bilal\\appdata\\roaming\\python\\python39\\site-packages (from nltk) (8.0.3)\n",
      "Requirement already satisfied: colorama in c:\\users\\bilal\\appdata\\roaming\\python\\python39\\site-packages (from click->nltk) (0.4.4)\n"
     ]
    }
   ],
   "source": [
    "! pip install nltk"
   ]
  },
  {
   "cell_type": "code",
   "execution_count": 5,
   "id": "b42dd236-853d-4c1f-a8fb-7c35340b0bd6",
   "metadata": {},
   "outputs": [
    {
     "name": "stderr",
     "output_type": "stream",
     "text": [
      "[nltk_data] Downloading package stopwords to\n",
      "[nltk_data]     C:\\Users\\Bilal\\AppData\\Roaming\\nltk_data...\n",
      "[nltk_data]   Package stopwords is already up-to-date!\n"
     ]
    },
    {
     "data": {
      "text/plain": [
       "True"
      ]
     },
     "execution_count": 5,
     "metadata": {},
     "output_type": "execute_result"
    }
   ],
   "source": [
    "import nltk\n",
    "from nltk.tokenize import word_tokenize\n",
    "from nltk.corpus import stopwords\n",
    "\n",
    "nltk.download('stopwords')  "
   ]
  },
  {
   "cell_type": "code",
   "execution_count": 74,
   "id": "bd10fdf2-3147-40cd-a884-6d5c1b0643b0",
   "metadata": {},
   "outputs": [],
   "source": [
    "btc_paper_path = r'C:\\Users\\Bilal\\crypto\\thesis\\my-repos\\cryptocurrencies-kpa\\data\\raw\\whitepapers\\start_with\\btc.txt'\n",
    "eth_paper_path = r'C:\\Users\\Bilal\\crypto\\thesis\\my-repos\\cryptocurrencies-kpa\\data\\raw\\whitepapers\\start_with\\eth.txt'\n",
    "ada_paper_path = r'C:\\Users\\Bilal\\crypto\\thesis\\my-repos\\cryptocurrencies-kpa\\data\\raw\\whitepapers\\start_with\\ada.txt'\n",
    "sol_paper_path = r'C:\\Users\\Bilal\\crypto\\thesis\\my-repos\\cryptocurrencies-kpa\\data\\raw\\whitepapers\\start_with\\sol.txt'"
   ]
  },
  {
   "cell_type": "code",
   "execution_count": 75,
   "id": "9473c46a-5a89-4346-8e17-ffe78c0ea828",
   "metadata": {},
   "outputs": [],
   "source": [
    "with open(btc_paper_path,  encoding='UTF-8') as f:\n",
    "    btc_paper = f.readlines()\n",
    "\n",
    "with open(eth_paper_path,  encoding='UTF-8') as f:\n",
    "    eth_paper = f.readlines()\n",
    "    \n",
    "with open(ada_paper_path,  encoding='UTF-8') as f:\n",
    "    ada_paper = f.readlines()\n",
    "    \n",
    "with open(sol_paper_path,  encoding='UTF-8') as f:\n",
    "    sol_paper = f.readlines()"
   ]
  },
  {
   "cell_type": "code",
   "execution_count": null,
   "id": "c110125e-d0d7-4d59-9675-ab9dcf9370ab",
   "metadata": {},
   "outputs": [],
   "source": [
    "btc_paper"
   ]
  },
  {
   "cell_type": "code",
   "execution_count": 77,
   "id": "e3e44e8d-4ac5-4d47-952f-5a70f5175810",
   "metadata": {},
   "outputs": [],
   "source": [
    "btc_text = ''\n",
    "eth_text = ''\n",
    "ada_text = ''\n",
    "sol_text = ''\n",
    "\n",
    "for line in btc_paper:\n",
    "    tokens = word_tokenize(line)\n",
    "    btc_text = btc_text + \" \" +  \" \".join([word for word in tokens])\n",
    "    \n",
    "for line in eth_paper:\n",
    "    tokens = word_tokenize(line)\n",
    "    eth_text = eth_text + \" \" + \" \".join([word for word in tokens])\n",
    "    \n",
    "for line in ada_paper:\n",
    "    tokens = word_tokenize(line)\n",
    "    ada_text = ada_text  + \" \" +  \" \".join([word for word in tokens])\n",
    "    \n",
    "for line in sol_paper:\n",
    "    tokens = word_tokenize(line)\n",
    "    sol_text = sol_text  + \" \" +  \" \".join([word for word in tokens])"
   ]
  },
  {
   "cell_type": "code",
   "execution_count": 78,
   "id": "69c029e3-71d2-4474-b4b6-21a7a48ce87a",
   "metadata": {},
   "outputs": [
    {
     "data": {
      "text/plain": [
       "\" Bitcoin : A Peer-to-Peer Electronic Cash System Satoshi Nakamoto satoshin @ gmx.com www.bitcoin.org  Abstract . A purely peer-to-peer version of electronic cash would allow online payments to be sent directly from one party to another without going through a financial institution . Digital signatures provide part of the solution , but the main benefits are lost if a trusted third party is still required to prevent double-spending . We propose a solution to the double-spending problem using a peer-to-peer network . The network timestamps transactions by hashing them into an ongoing chain of hash-based proof-of-work , forming a record that can not be changed without redoing the proof-of-work . The longest chain not only serves as proof of the sequence of events witnessed , but proof that it came from the largest pool of CPU power . As long as a majority of CPU power is controlled by nodes that are not cooperating to attack the network , they 'll generate the longest chain and outpace attackers . The network itself requires minimal structure . Messages are broadcast on a best effort basis , and nodes can leave and rejoin the network at will , accepting the longest proof-of-work chain as proof of what happened while they were gone .  1 .  Introduction  Commerce on the Internet has come to rely almost exclusively on financial institutions serving as trusted third parties to process electronic payments . While the system works well enough for most transactions , it still suffers from the inherent weaknesses of the trust based model . Completely non-reversible transactions are not really possible , since financial institutions can not avoid mediating disputes . The cost of mediation increases transaction costs , limiting the minimum practical transaction size and cutting off the possibility for small casual transactions , and there is a broader cost in the loss of ability to make non-reversible payments for nonreversible services . With the possibility of reversal , the need for trust spreads . Merchants must be wary of their customers , hassling them for more information than they would otherwise need . A certain percentage of fraud is accepted as unavoidable . These costs and payment uncertainties can be avoided in person by using physical currency , but no mechanism exists to make payments over a communications channel without a trusted party . What is needed is an electronic payment system based on cryptographic proof instead of trust , allowing any two willing parties to transact directly with each other without the need for a trusted third party . Transactions that are computationally impractical to reverse would protect sellers from fraud , and routine escrow mechanisms could easily be implemented to protect buyers . In this paper , we propose a solution to the double-spending problem using a peer-to-peer distributed timestamp server to generate computational proof of the chronological order of transactions . The system is secure as long as honest nodes collectively control more CPU power than any cooperating group of attacker nodes .  1  2 .  Transactions  We define an electronic coin as a chain of digital signatures . Each owner transfers the coin to the next by digitally signing a hash of the previous transaction and the public key of the next owner and adding these to the end of the coin . A payee can verify the signatures to verify the chain of ownership . Transaction  Transaction  Owner 1 's Public Key  Transaction  Owner 2 's Public Key  Hash  Owner 3 's Public Key  Hash Ver if  Hash Ver ify  y  Owner 0 's Signature  Owner 1 's Signature gn Si  Owner 1 's Private Key  Owner 2 's Signature Si  gn  Owner 2 's Private Key  Owner 3 's Private Key  The problem of course is the payee ca n't verify that one of the owners did not double-spend the coin . A common solution is to introduce a trusted central authority , or mint , that checks every transaction for double spending . After each transaction , the coin must be returned to the mint to issue a new coin , and only coins issued directly from the mint are trusted not to be double-spent . The problem with this solution is that the fate of the entire money system depends on the company running the mint , with every transaction having to go through them , just like a bank . We need a way for the payee to know that the previous owners did not sign any earlier transactions . For our purposes , the earliest transaction is the one that counts , so we do n't care about later attempts to double-spend . The only way to confirm the absence of a transaction is to be aware of all transactions . In the mint based model , the mint was aware of all transactions and decided which arrived first . To accomplish this without a trusted party , transactions must be publicly announced [ 1 ] , and we need a system for participants to agree on a single history of the order in which they were received . The payee needs proof that at the time of each transaction , the majority of nodes agreed it was the first received .  3 .  Timestamp Server  The solution we propose begins with a timestamp server . A timestamp server works by taking a hash of a block of items to be timestamped and widely publishing the hash , such as in a newspaper or Usenet post [ 2-5 ] . The timestamp proves that the data must have existed at the time , obviously , in order to get into the hash . Each timestamp includes the previous timestamp in its hash , forming a chain , with each additional timestamp reinforcing the ones before it . Hash  Hash  Block Item  Block Item  ...  Item  2  Item  ...  4 .  Proof-of-Work  To implement a distributed timestamp server on a peer-to-peer basis , we will need to use a proofof-work system similar to Adam Back 's Hashcash [ 6 ] , rather than newspaper or Usenet posts . The proof-of-work involves scanning for a value that when hashed , such as with SHA-256 , the hash begins with a number of zero bits . The average work required is exponential in the number of zero bits required and can be verified by executing a single hash . For our timestamp network , we implement the proof-of-work by incrementing a nonce in the block until a value is found that gives the block 's hash the required zero bits . Once the CPU effort has been expended to make it satisfy the proof-of-work , the block can not be changed without redoing the work . As later blocks are chained after it , the work to change the block would include redoing all the blocks after it . Block  Block  Prev Hash Tx  Nonce  Tx  Prev Hash  ...  Tx  Tx  Nonce ...  The proof-of-work also solves the problem of determining representation in majority decision making . If the majority were based on one-IP-address-one-vote , it could be subverted by anyone able to allocate many IPs . Proof-of-work is essentially one-CPU-one-vote . The majority decision is represented by the longest chain , which has the greatest proof-of-work effort invested in it . If a majority of CPU power is controlled by honest nodes , the honest chain will grow the fastest and outpace any competing chains . To modify a past block , an attacker would have to redo the proof-of-work of the block and all blocks after it and then catch up with and surpass the work of the honest nodes . We will show later that the probability of a slower attacker catching up diminishes exponentially as subsequent blocks are added . To compensate for increasing hardware speed and varying interest in running nodes over time , the proof-of-work difficulty is determined by a moving average targeting an average number of blocks per hour . If they 're generated too fast , the difficulty increases .  5 .  Network  The steps to run the network are as follows : 1 ) 2 ) 3 ) 4 ) 5 ) 6 )  New transactions are broadcast to all nodes . Each node collects new transactions into a block . Each node works on finding a difficult proof-of-work for its block . When a node finds a proof-of-work , it broadcasts the block to all nodes . Nodes accept the block only if all transactions in it are valid and not already spent . Nodes express their acceptance of the block by working on creating the next block in the chain , using the hash of the accepted block as the previous hash .  Nodes always consider the longest chain to be the correct one and will keep working on extending it . If two nodes broadcast different versions of the next block simultaneously , some nodes may receive one or the other first . In that case , they work on the first one they received , but save the other branch in case it becomes longer . The tie will be broken when the next proofof-work is found and one branch becomes longer ; the nodes that were working on the other branch will then switch to the longer one .  3  New transaction broadcasts do not necessarily need to reach all nodes . As long as they reach many nodes , they will get into a block before long . Block broadcasts are also tolerant of dropped messages . If a node does not receive a block , it will request it when it receives the next block and realizes it missed one .  6 .  Incentive  By convention , the first transaction in a block is a special transaction that starts a new coin owned by the creator of the block . This adds an incentive for nodes to support the network , and provides a way to initially distribute coins into circulation , since there is no central authority to issue them . The steady addition of a constant of amount of new coins is analogous to gold miners expending resources to add gold to circulation . In our case , it is CPU time and electricity that is expended . The incentive can also be funded with transaction fees . If the output value of a transaction is less than its input value , the difference is a transaction fee that is added to the incentive value of the block containing the transaction . Once a predetermined number of coins have entered circulation , the incentive can transition entirely to transaction fees and be completely inflation free . The incentive may help encourage nodes to stay honest . If a greedy attacker is able to assemble more CPU power than all the honest nodes , he would have to choose between using it to defraud people by stealing back his payments , or using it to generate new coins . He ought to find it more profitable to play by the rules , such rules that favour him with more new coins than everyone else combined , than to undermine the system and the validity of his own wealth .  7 .  Reclaiming Disk Space  Once the latest transaction in a coin is buried under enough blocks , the spent transactions before it can be discarded to save disk space . To facilitate this without breaking the block 's hash , transactions are hashed in a Merkle Tree [ 7 ] [ 2 ] [ 5 ] , with only the root included in the block 's hash . Old blocks can then be compacted by stubbing off branches of the tree . The interior hashes do not need to be stored . Block  Block  Block Header ( Block Hash ) Prev Hash  Nonce  Block Header ( Block Hash ) Prev Hash  Root Hash  Hash01  Nonce  Root Hash  Hash23  Hash0  Hash1  Hash2  Hash3  Tx0  Tx1  Tx2  Tx3  Hash01  Hash23  Hash2  Hash3  Tx3  Transactions Hashed in a Merkle Tree  After Pruning Tx0-2 from the Block  A block header with no transactions would be about 80 bytes . If we suppose blocks are generated every 10 minutes , 80 bytes * 6 * 24 * 365 = 4.2MB per year . With computer systems typically selling with 2GB of RAM as of 2008 , and Moore 's Law predicting current growth of 1.2GB per year , storage should not be a problem even if the block headers must be kept in memory .  4  8 .  Simplified Payment Verification  It is possible to verify payments without running a full network node . A user only needs to keep a copy of the block headers of the longest proof-of-work chain , which he can get by querying network nodes until he 's convinced he has the longest chain , and obtain the Merkle branch linking the transaction to the block it 's timestamped in . He ca n't check the transaction for himself , but by linking it to a place in the chain , he can see that a network node has accepted it , and blocks added after it further confirm the network has accepted it . Longest Proof-of-Work Chain Block Header Prev Hash  Block Header Nonce  Block Header  Prev Hash  Merkle Root  Nonce  Prev Hash  Merkle Root  Hash01  Nonce  Merkle Root  Hash23 Merkle Branch for Tx3 Hash2  Hash3  Tx3  As such , the verification is reliable as long as honest nodes control the network , but is more vulnerable if the network is overpowered by an attacker . While network nodes can verify transactions for themselves , the simplified method can be fooled by an attacker 's fabricated transactions for as long as the attacker can continue to overpower the network . One strategy to protect against this would be to accept alerts from network nodes when they detect an invalid block , prompting the user 's software to download the full block and alerted transactions to confirm the inconsistency . Businesses that receive frequent payments will probably still want to run their own nodes for more independent security and quicker verification .  9 .  Combining and Splitting Value  Although it would be possible to handle coins individually , it would be unwieldy to make a separate transaction for every cent in a transfer . To allow value to be split and combined , transactions contain multiple inputs and outputs . Normally there will be either a single input from a larger previous transaction or multiple inputs combining smaller amounts , and at most two outputs : one for the payment , and one returning the change , if any , back to the sender . Transaction In  Out  In  ...  ...  It should be noted that fan-out , where a transaction depends on several transactions , and those transactions depend on many more , is not a problem here . There is never the need to extract a complete standalone copy of a transaction 's history .  5  10 . Privacy The traditional banking model achieves a level of privacy by limiting access to information to the parties involved and the trusted third party . The necessity to announce all transactions publicly precludes this method , but privacy can still be maintained by breaking the flow of information in another place : by keeping public keys anonymous . The public can see that someone is sending an amount to someone else , but without information linking the transaction to anyone . This is similar to the level of information released by stock exchanges , where the time and size of individual trades , the `` tape '' , is made public , but without telling who the parties were . Traditional Privacy Model Identities  Transactions  Trusted Third Party  Counterparty  Public  New Privacy Model Identities  Transactions  Public  As an additional firewall , a new key pair should be used for each transaction to keep them from being linked to a common owner . Some linking is still unavoidable with multi-input transactions , which necessarily reveal that their inputs were owned by the same owner . The risk is that if the owner of a key is revealed , linking could reveal other transactions that belonged to the same owner .  11 . Calculations We consider the scenario of an attacker trying to generate an alternate chain faster than the honest chain . Even if this is accomplished , it does not throw the system open to arbitrary changes , such as creating value out of thin air or taking money that never belonged to the attacker . Nodes are not going to accept an invalid transaction as payment , and honest nodes will never accept a block containing them . An attacker can only try to change one of his own transactions to take back money he recently spent . The race between the honest chain and an attacker chain can be characterized as a Binomial Random Walk . The success event is the honest chain being extended by one block , increasing its lead by +1 , and the failure event is the attacker 's chain being extended by one block , reducing the gap by -1 . The probability of an attacker catching up from a given deficit is analogous to a Gambler 's Ruin problem . Suppose a gambler with unlimited credit starts at a deficit and plays potentially an infinite number of trials to try to reach breakeven . We can calculate the probability he ever reaches breakeven , or that an attacker ever catches up with the honest chain , as follows [ 8 ] : p = probability an honest node finds the next block q = probability the attacker finds the next block qz = probability the attacker will ever catch up from z blocks behind  {  q z=  1 if p≤q z \\ue09eq / p\\ue09f if p\\ue085q  } 6  Given our assumption that p > q , the probability drops exponentially as the number of blocks the attacker has to catch up with increases . With the odds against him , if he does n't make a lucky lunge forward early on , his chances become vanishingly small as he falls further behind . We now consider how long the recipient of a new transaction needs to wait before being sufficiently certain the sender ca n't change the transaction . We assume the sender is an attacker who wants to make the recipient believe he paid him for a while , then switch it to pay back to himself after some time has passed . The receiver will be alerted when that happens , but the sender hopes it will be too late . The receiver generates a new key pair and gives the public key to the sender shortly before signing . This prevents the sender from preparing a chain of blocks ahead of time by working on it continuously until he is lucky enough to get far enough ahead , then executing the transaction at that moment . Once the transaction is sent , the dishonest sender starts working in secret on a parallel chain containing an alternate version of his transaction . The recipient waits until the transaction has been added to a block and z blocks have been linked after it . He does n't know the exact amount of progress the attacker has made , but assuming the honest blocks took the average expected time per block , the attacker 's potential progress will be a Poisson distribution with expected value :  \\ue0c1=z  q p  To get the probability the attacker could still catch up now , we multiply the Poisson density for each amount of progress he could have made by the probability he could catch up from that point : k  −\\ue0c1  {  \\ue09e z−k \\ue09f if k ≤ z ∑ \\ue0c1 ke ! ⋅ \\ue09eq / p\\ue09f1 if k \\ue085 z k =0 ∞  }  Rearranging to avoid summing the infinite tail of the distribution ... z  1−∑  k =0  \\ue0c1k e−\\ue0c1 \\ue09e1−\\ue09eq / p\\ue09f\\ue09e z− k \\ue09f\\ue09f k !  Converting to C code ... # include < math.h > double AttackerSuccessProbability ( double q , int z ) { double p = 1.0 - q ; double lambda = z * ( q / p ) ; double sum = 1.0 ; int i , k ; for ( k = 0 ; k < = z ; k++ ) { double poisson = exp ( -lambda ) ; for ( i = 1 ; i < = k ; i++ ) poisson * = lambda / i ; sum -= poisson * ( 1 - pow ( q / p , z - k ) ) ; } return sum ; }  7  Running some results , we can see the probability drop off exponentially with z . q=0.1 z=0 z=1 z=2 z=3 z=4 z=5 z=6 z=7 z=8 z=9 z=10  P=1.0000000 P=0.2045873 P=0.0509779 P=0.0131722 P=0.0034552 P=0.0009137 P=0.0002428 P=0.0000647 P=0.0000173 P=0.0000046 P=0.0000012  q=0.3 z=0 z=5 z=10 z=15 z=20 z=25 z=30 z=35 z=40 z=45 z=50  P=1.0000000 P=0.1773523 P=0.0416605 P=0.0101008 P=0.0024804 P=0.0006132 P=0.0001522 P=0.0000379 P=0.0000095 P=0.0000024 P=0.0000006  Solving for P less than 0.1 % ... P < 0.001 q=0.10 z=5 q=0.15 z=8 q=0.20 z=11 q=0.25 z=15 q=0.30 z=24 q=0.35 z=41 q=0.40 z=89 q=0.45 z=340  12 . Conclusion We have proposed a system for electronic transactions without relying on trust . We started with the usual framework of coins made from digital signatures , which provides strong control of ownership , but is incomplete without a way to prevent double-spending . To solve this , we proposed a peer-to-peer network using proof-of-work to record a public history of transactions that quickly becomes computationally impractical for an attacker to change if honest nodes control a majority of CPU power . The network is robust in its unstructured simplicity . Nodes work all at once with little coordination . They do not need to be identified , since messages are not routed to any particular place and only need to be delivered on a best effort basis . Nodes can leave and rejoin the network at will , accepting the proof-of-work chain as proof of what happened while they were gone . They vote with their CPU power , expressing their acceptance of valid blocks by working on extending them and rejecting invalid blocks by refusing to work on them . Any needed rules and incentives can be enforced with this consensus mechanism .  8  References [ 1 ] W. Dai , `` b-money , '' http : //www.weidai.com/bmoney.txt , 1998 . [ 2 ] H. Massias , X.S . Avila , and J.-J . Quisquater , `` Design of a secure timestamping service with minimal trust requirements , '' In 20th Symposium on Information Theory in the Benelux , May 1999 . [ 3 ] S. Haber , W.S . Stornetta , `` How to time-stamp a digital document , '' In Journal of Cryptology , vol 3 , no 2 , pages 99-111 , 1991 . [ 4 ] D. Bayer , S. Haber , W.S . Stornetta , `` Improving the efficiency and reliability of digital time-stamping , '' In Sequences II : Methods in Communication , Security and Computer Science , pages 329-334 , 1993 . [ 5 ] S. Haber , W.S . Stornetta , `` Secure names for bit-strings , '' In Proceedings of the 4th ACM Conference on Computer and Communications Security , pages 28-35 , April 1997 . [ 6 ] A . Back , `` Hashcash - a denial of service counter-measure , '' http : //www.hashcash.org/papers/hashcash.pdf , 2002 . [ 7 ] R.C . Merkle , `` Protocols for public key cryptosystems , '' In Proc . 1980 Symposium on Security and Privacy , IEEE Computer Society , pages 122-133 , April 1980 . [ 8 ] W. Feller , `` An introduction to probability theory and its applications , '' 1957 .  9  \""
      ]
     },
     "execution_count": 78,
     "metadata": {},
     "output_type": "execute_result"
    }
   ],
   "source": [
    "btc_text"
   ]
  },
  {
   "cell_type": "code",
   "execution_count": 79,
   "id": "05d8dad3-c196-4f2d-b476-1ad95b44d4e6",
   "metadata": {},
   "outputs": [],
   "source": [
    "btc_list = nltk.tokenize.sent_tokenize(btc_text)\n",
    "eth_list = nltk.tokenize.sent_tokenize(eth_text)\n",
    "ada_list = nltk.tokenize.sent_tokenize(ada_text)\n",
    "sol_list = nltk.tokenize.sent_tokenize(sol_text)"
   ]
  },
  {
   "cell_type": "code",
   "execution_count": 80,
   "id": "511b7bfa-e833-45f9-8f97-acfbd04f21a8",
   "metadata": {},
   "outputs": [],
   "source": [
    "import pandas as pd\n",
    "btc = pd.DataFrame({\"sent\" : btc_list})\n",
    "eth = pd.DataFrame({\"sent\" : eth_list})\n",
    "ada = pd.DataFrame({\"sent\" : ada_list})\n",
    "sol = pd.DataFrame({\"sent\" : sol_list})\n",
    "btc.to_csv(r'C:\\Users\\Bilal\\crypto\\thesis\\my-repos\\cryptocurrencies-kpa\\data\\processed\\whitepapers\\btc.csv', index=False)\n",
    "eth.to_csv(r'C:\\Users\\Bilal\\crypto\\thesis\\my-repos\\cryptocurrencies-kpa\\data\\processed\\whitepapers\\eth.csv', index=False)\n",
    "ada.to_csv(r'C:\\Users\\Bilal\\crypto\\thesis\\my-repos\\cryptocurrencies-kpa\\data\\processed\\whitepapers\\ada.csv', index=False)\n",
    "sol.to_csv(r'C:\\Users\\Bilal\\crypto\\thesis\\my-repos\\cryptocurrencies-kpa\\data\\processed\\whitepapers\\sol.csv', index=False)"
   ]
  },
  {
   "cell_type": "code",
   "execution_count": null,
   "id": "4a0ac715-4760-417a-a39c-8eca42643140",
   "metadata": {},
   "outputs": [],
   "source": []
  }
 ],
 "metadata": {
  "kernelspec": {
   "display_name": "cryptocurrencies-kpa",
   "language": "python",
   "name": "cryptocurrencies-kpa"
  },
  "language_info": {
   "codemirror_mode": {
    "name": "ipython",
    "version": 3
   },
   "file_extension": ".py",
   "mimetype": "text/x-python",
   "name": "python",
   "nbconvert_exporter": "python",
   "pygments_lexer": "ipython3",
   "version": "3.9.9"
  }
 },
 "nbformat": 4,
 "nbformat_minor": 5
}

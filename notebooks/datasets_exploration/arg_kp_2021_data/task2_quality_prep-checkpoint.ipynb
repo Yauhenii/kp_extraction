{
 "cells": [
  {
   "cell_type": "code",
   "execution_count": 1,
   "id": "425f3429-5669-4b20-978a-8bee7107d61b",
   "metadata": {
    "pycharm": {
     "name": "#%%\n"
    }
   },
   "outputs": [
    {
     "name": "stderr",
     "output_type": "stream",
     "text": [
      "C:\\Users\\Bilal\\anaconda3\\envs\\cryptocurrencies-kpa\\lib\\site-packages\\requests\\__init__.py:89: RequestsDependencyWarning: urllib3 (1.26.8) or chardet (3.0.4) doesn't match a supported version!\n",
      "  warnings.warn(\"urllib3 ({}) or chardet ({}) doesn't match a supported \"\n"
     ]
    }
   ],
   "source": [
    "import json\n",
    "import pandas as pd\n",
    "import numpy as np\n",
    "import spacy\n",
    "import matplotlib.pyplot as plt\n",
    "\n",
    "pd.set_option('display.max_colwidth', None)"
   ]
  },
  {
   "cell_type": "code",
   "execution_count": 2,
   "id": "ae22b2b2-10b2-43f9-aa70-da3952a06a23",
   "metadata": {
    "pycharm": {
     "name": "#%%\n"
    }
   },
   "outputs": [],
   "source": [
    "# (C) Copyright IBM Corp. 2020.\n",
    "import os\n",
    "from debater_python_api.api.clients.narrative_generation_client import Polarity\n",
    "from debater_python_api.api.debater_api import DebaterApi\n",
    "from debater_python_api.api.sentence_level_index.client.sentence_query_base import SimpleQuery\n",
    "from debater_python_api.api.sentence_level_index.client.sentence_query_request import SentenceQueryRequest"
   ]
  },
  {
   "cell_type": "code",
   "execution_count": 7,
   "id": "86228812-5598-4382-bb1e-f54e5eb364e9",
   "metadata": {
    "pycharm": {
     "name": "#%%\n"
    }
   },
   "outputs": [],
   "source": [
    "from spacy.lang.en import English\n",
    "sent_split = English()\n",
    "sent_split.add_pipe(\"sentencizer\")\n",
    "nlp = spacy.load(\"en_core_web_sm\")"
   ]
  },
  {
   "cell_type": "code",
   "execution_count": 4,
   "id": "3199c277-b6bd-46d7-8891-7a029e4d047d",
   "metadata": {
    "pycharm": {
     "name": "#%%\n"
    }
   },
   "outputs": [],
   "source": [
    "#dev_args= pd.read_csv(r'C:\\Users\\Bilal\\crypto\\thesis\\my-repos\\cryptocurrencies-kpa\\data\\raw\\ArgKP_2021_shared_task\\dev_to_score.csv')\n",
    "#valid_args = pd.read_csv('../../KPA_2021_shared_task/kpm_data/arguments_dev.csv')\n",
    "test_args = pd.read_csv(r'C:\\Users\\Bilal\\crypto\\thesis\\my-repos\\cryptocurrencies-kpa\\data\\raw\\ArgKP_2021_shared_task\\test_data\\arguments_test.csv')"
   ]
  },
  {
   "cell_type": "code",
   "execution_count": 5,
   "id": "5e48308f-24c1-40d8-b222-9d3aa2ad772b",
   "metadata": {
    "pycharm": {
     "name": "#%%\n"
    }
   },
   "outputs": [
    {
     "data": {
      "text/plain": [
       "723"
      ]
     },
     "execution_count": 5,
     "metadata": {},
     "output_type": "execute_result"
    }
   ],
   "source": [
    "len(test_args)"
   ]
  },
  {
   "cell_type": "code",
   "execution_count": 6,
   "id": "4efc76e7-d63b-4552-80be-55a2ead19639",
   "metadata": {
    "pycharm": {
     "name": "#%%\n"
    }
   },
   "outputs": [
    {
     "ename": "NameError",
     "evalue": "name 'sent_split' is not defined",
     "output_type": "error",
     "traceback": [
      "\u001B[1;31m---------------------------------------------------------------------------\u001B[0m",
      "\u001B[1;31mNameError\u001B[0m                                 Traceback (most recent call last)",
      "\u001B[1;32m~\\AppData\\Local\\Temp/ipykernel_40628/3468180256.py\u001B[0m in \u001B[0;36m<module>\u001B[1;34m\u001B[0m\n\u001B[0;32m      1\u001B[0m \u001B[1;31m#valid_args['sents'] = valid_args.argument.apply(lambda x: [x.text for x in sent_split(x).sents if list(nlp(x.text))[0].pos_ != 'PRON'])\u001B[0m\u001B[1;33m\u001B[0m\u001B[1;33m\u001B[0m\u001B[0m\n\u001B[0;32m      2\u001B[0m \u001B[1;31m#dev_args['sents'] = dev_args.argument.apply(lambda x: [x.text for x in sent_split(x).sents if list(nlp(x.text))[0].pos_ != 'PRON'])\u001B[0m\u001B[1;33m\u001B[0m\u001B[1;33m\u001B[0m\u001B[0m\n\u001B[1;32m----> 3\u001B[1;33m \u001B[0mtest_args\u001B[0m\u001B[1;33m[\u001B[0m\u001B[1;34m'sents'\u001B[0m\u001B[1;33m]\u001B[0m \u001B[1;33m=\u001B[0m \u001B[0mtest_args\u001B[0m\u001B[1;33m.\u001B[0m\u001B[0margument\u001B[0m\u001B[1;33m.\u001B[0m\u001B[0mapply\u001B[0m\u001B[1;33m(\u001B[0m\u001B[1;32mlambda\u001B[0m \u001B[0mx\u001B[0m\u001B[1;33m:\u001B[0m \u001B[1;33m[\u001B[0m\u001B[0mx\u001B[0m\u001B[1;33m.\u001B[0m\u001B[0mtext\u001B[0m \u001B[1;32mfor\u001B[0m \u001B[0mx\u001B[0m \u001B[1;32min\u001B[0m \u001B[0msent_split\u001B[0m\u001B[1;33m(\u001B[0m\u001B[0mx\u001B[0m\u001B[1;33m)\u001B[0m\u001B[1;33m.\u001B[0m\u001B[0msents\u001B[0m \u001B[1;32mif\u001B[0m \u001B[0mlist\u001B[0m\u001B[1;33m(\u001B[0m\u001B[0mnlp\u001B[0m\u001B[1;33m(\u001B[0m\u001B[0mx\u001B[0m\u001B[1;33m.\u001B[0m\u001B[0mtext\u001B[0m\u001B[1;33m)\u001B[0m\u001B[1;33m)\u001B[0m\u001B[1;33m[\u001B[0m\u001B[1;36m0\u001B[0m\u001B[1;33m]\u001B[0m\u001B[1;33m.\u001B[0m\u001B[0mpos_\u001B[0m \u001B[1;33m!=\u001B[0m \u001B[1;34m'PRON'\u001B[0m\u001B[1;33m]\u001B[0m\u001B[1;33m)\u001B[0m\u001B[1;33m\u001B[0m\u001B[1;33m\u001B[0m\u001B[0m\n\u001B[0m",
      "\u001B[1;32m~\\anaconda3\\envs\\cryptocurrencies-kpa\\lib\\site-packages\\pandas\\core\\series.py\u001B[0m in \u001B[0;36mapply\u001B[1;34m(self, func, convert_dtype, args, **kwargs)\u001B[0m\n\u001B[0;32m   4355\u001B[0m         \u001B[0mdtype\u001B[0m\u001B[1;33m:\u001B[0m \u001B[0mfloat64\u001B[0m\u001B[1;33m\u001B[0m\u001B[1;33m\u001B[0m\u001B[0m\n\u001B[0;32m   4356\u001B[0m         \"\"\"\n\u001B[1;32m-> 4357\u001B[1;33m         \u001B[1;32mreturn\u001B[0m \u001B[0mSeriesApply\u001B[0m\u001B[1;33m(\u001B[0m\u001B[0mself\u001B[0m\u001B[1;33m,\u001B[0m \u001B[0mfunc\u001B[0m\u001B[1;33m,\u001B[0m \u001B[0mconvert_dtype\u001B[0m\u001B[1;33m,\u001B[0m \u001B[0margs\u001B[0m\u001B[1;33m,\u001B[0m \u001B[0mkwargs\u001B[0m\u001B[1;33m)\u001B[0m\u001B[1;33m.\u001B[0m\u001B[0mapply\u001B[0m\u001B[1;33m(\u001B[0m\u001B[1;33m)\u001B[0m\u001B[1;33m\u001B[0m\u001B[1;33m\u001B[0m\u001B[0m\n\u001B[0m\u001B[0;32m   4358\u001B[0m \u001B[1;33m\u001B[0m\u001B[0m\n\u001B[0;32m   4359\u001B[0m     def _reduce(\n",
      "\u001B[1;32m~\\anaconda3\\envs\\cryptocurrencies-kpa\\lib\\site-packages\\pandas\\core\\apply.py\u001B[0m in \u001B[0;36mapply\u001B[1;34m(self)\u001B[0m\n\u001B[0;32m   1041\u001B[0m             \u001B[1;32mreturn\u001B[0m \u001B[0mself\u001B[0m\u001B[1;33m.\u001B[0m\u001B[0mapply_str\u001B[0m\u001B[1;33m(\u001B[0m\u001B[1;33m)\u001B[0m\u001B[1;33m\u001B[0m\u001B[1;33m\u001B[0m\u001B[0m\n\u001B[0;32m   1042\u001B[0m \u001B[1;33m\u001B[0m\u001B[0m\n\u001B[1;32m-> 1043\u001B[1;33m         \u001B[1;32mreturn\u001B[0m \u001B[0mself\u001B[0m\u001B[1;33m.\u001B[0m\u001B[0mapply_standard\u001B[0m\u001B[1;33m(\u001B[0m\u001B[1;33m)\u001B[0m\u001B[1;33m\u001B[0m\u001B[1;33m\u001B[0m\u001B[0m\n\u001B[0m\u001B[0;32m   1044\u001B[0m \u001B[1;33m\u001B[0m\u001B[0m\n\u001B[0;32m   1045\u001B[0m     \u001B[1;32mdef\u001B[0m \u001B[0magg\u001B[0m\u001B[1;33m(\u001B[0m\u001B[0mself\u001B[0m\u001B[1;33m)\u001B[0m\u001B[1;33m:\u001B[0m\u001B[1;33m\u001B[0m\u001B[1;33m\u001B[0m\u001B[0m\n",
      "\u001B[1;32m~\\anaconda3\\envs\\cryptocurrencies-kpa\\lib\\site-packages\\pandas\\core\\apply.py\u001B[0m in \u001B[0;36mapply_standard\u001B[1;34m(self)\u001B[0m\n\u001B[0;32m   1096\u001B[0m                 \u001B[1;31m# List[Union[Callable[..., Any], str]]]]]\"; expected\u001B[0m\u001B[1;33m\u001B[0m\u001B[1;33m\u001B[0m\u001B[0m\n\u001B[0;32m   1097\u001B[0m                 \u001B[1;31m# \"Callable[[Any], Any]\"\u001B[0m\u001B[1;33m\u001B[0m\u001B[1;33m\u001B[0m\u001B[0m\n\u001B[1;32m-> 1098\u001B[1;33m                 mapped = lib.map_infer(\n\u001B[0m\u001B[0;32m   1099\u001B[0m                     \u001B[0mvalues\u001B[0m\u001B[1;33m,\u001B[0m\u001B[1;33m\u001B[0m\u001B[1;33m\u001B[0m\u001B[0m\n\u001B[0;32m   1100\u001B[0m                     \u001B[0mf\u001B[0m\u001B[1;33m,\u001B[0m  \u001B[1;31m# type: ignore[arg-type]\u001B[0m\u001B[1;33m\u001B[0m\u001B[1;33m\u001B[0m\u001B[0m\n",
      "\u001B[1;32m~\\anaconda3\\envs\\cryptocurrencies-kpa\\lib\\site-packages\\pandas\\_libs\\lib.pyx\u001B[0m in \u001B[0;36mpandas._libs.lib.map_infer\u001B[1;34m()\u001B[0m\n",
      "\u001B[1;32m~\\AppData\\Local\\Temp/ipykernel_40628/3468180256.py\u001B[0m in \u001B[0;36m<lambda>\u001B[1;34m(x)\u001B[0m\n\u001B[0;32m      1\u001B[0m \u001B[1;31m#valid_args['sents'] = valid_args.argument.apply(lambda x: [x.text for x in sent_split(x).sents if list(nlp(x.text))[0].pos_ != 'PRON'])\u001B[0m\u001B[1;33m\u001B[0m\u001B[1;33m\u001B[0m\u001B[0m\n\u001B[0;32m      2\u001B[0m \u001B[1;31m#dev_args['sents'] = dev_args.argument.apply(lambda x: [x.text for x in sent_split(x).sents if list(nlp(x.text))[0].pos_ != 'PRON'])\u001B[0m\u001B[1;33m\u001B[0m\u001B[1;33m\u001B[0m\u001B[0m\n\u001B[1;32m----> 3\u001B[1;33m \u001B[0mtest_args\u001B[0m\u001B[1;33m[\u001B[0m\u001B[1;34m'sents'\u001B[0m\u001B[1;33m]\u001B[0m \u001B[1;33m=\u001B[0m \u001B[0mtest_args\u001B[0m\u001B[1;33m.\u001B[0m\u001B[0margument\u001B[0m\u001B[1;33m.\u001B[0m\u001B[0mapply\u001B[0m\u001B[1;33m(\u001B[0m\u001B[1;32mlambda\u001B[0m \u001B[0mx\u001B[0m\u001B[1;33m:\u001B[0m \u001B[1;33m[\u001B[0m\u001B[0mx\u001B[0m\u001B[1;33m.\u001B[0m\u001B[0mtext\u001B[0m \u001B[1;32mfor\u001B[0m \u001B[0mx\u001B[0m \u001B[1;32min\u001B[0m \u001B[0msent_split\u001B[0m\u001B[1;33m(\u001B[0m\u001B[0mx\u001B[0m\u001B[1;33m)\u001B[0m\u001B[1;33m.\u001B[0m\u001B[0msents\u001B[0m \u001B[1;32mif\u001B[0m \u001B[0mlist\u001B[0m\u001B[1;33m(\u001B[0m\u001B[0mnlp\u001B[0m\u001B[1;33m(\u001B[0m\u001B[0mx\u001B[0m\u001B[1;33m.\u001B[0m\u001B[0mtext\u001B[0m\u001B[1;33m)\u001B[0m\u001B[1;33m)\u001B[0m\u001B[1;33m[\u001B[0m\u001B[1;36m0\u001B[0m\u001B[1;33m]\u001B[0m\u001B[1;33m.\u001B[0m\u001B[0mpos_\u001B[0m \u001B[1;33m!=\u001B[0m \u001B[1;34m'PRON'\u001B[0m\u001B[1;33m]\u001B[0m\u001B[1;33m)\u001B[0m\u001B[1;33m\u001B[0m\u001B[1;33m\u001B[0m\u001B[0m\n\u001B[0m",
      "\u001B[1;31mNameError\u001B[0m: name 'sent_split' is not defined"
     ]
    }
   ],
   "source": [
    "#valid_args['sents'] = valid_args.argument.apply(lambda x: [x.text for x in sent_split(x).sents if list(nlp(x.text))[0].pos_ != 'PRON'])\n",
    "#dev_args['sents'] = dev_args.argument.apply(lambda x: [x.text for x in sent_split(x).sents if list(nlp(x.text))[0].pos_ != 'PRON'])\n",
    "test_args['sents'] = test_args.argument.apply(lambda x: [x.text for x in sent_split(x).sents if list(nlp(x.text))[0].pos_ != 'PRON'])"
   ]
  },
  {
   "cell_type": "code",
   "execution_count": 38,
   "id": "9e135cb8-8812-4044-a004-ef55b7dbbee9",
   "metadata": {
    "pycharm": {
     "name": "#%%\n"
    }
   },
   "outputs": [
    {
     "data": {
      "text/plain": [
       "69"
      ]
     },
     "execution_count": 38,
     "metadata": {},
     "output_type": "execute_result"
    }
   ],
   "source": [
    "len(dev_args)"
   ]
  },
  {
   "cell_type": "code",
   "execution_count": 17,
   "id": "66309962-441d-4d9d-a7fa-ec749022fea5",
   "metadata": {
    "pycharm": {
     "name": "#%%\n"
    }
   },
   "outputs": [
    {
     "data": {
      "text/html": [
       "<div>\n",
       "<style scoped>\n",
       "    .dataframe tbody tr th:only-of-type {\n",
       "        vertical-align: middle;\n",
       "    }\n",
       "\n",
       "    .dataframe tbody tr th {\n",
       "        vertical-align: top;\n",
       "    }\n",
       "\n",
       "    .dataframe thead th {\n",
       "        text-align: right;\n",
       "    }\n",
       "</style>\n",
       "<table border=\"1\" class=\"dataframe\">\n",
       "  <thead>\n",
       "    <tr style=\"text-align: right;\">\n",
       "      <th></th>\n",
       "      <th>arg_id</th>\n",
       "      <th>argument</th>\n",
       "      <th>topic</th>\n",
       "      <th>stance</th>\n",
       "      <th>sents</th>\n",
       "    </tr>\n",
       "  </thead>\n",
       "  <tbody>\n",
       "    <tr>\n",
       "      <th>0</th>\n",
       "      <td>arg_0_0</td>\n",
       "      <td>Routine child vaccinations isn't mandatory since children don't spread the virus</td>\n",
       "      <td>Routine child vaccinations should be mandatory</td>\n",
       "      <td>-1</td>\n",
       "      <td>[Routine child vaccinations isn't mandatory since children don't spread the virus]</td>\n",
       "    </tr>\n",
       "    <tr>\n",
       "      <th>1</th>\n",
       "      <td>arg_0_1</td>\n",
       "      <td>Routine child vaccinations should not be mandatory because children may not bear the side effects of it.</td>\n",
       "      <td>Routine child vaccinations should be mandatory</td>\n",
       "      <td>-1</td>\n",
       "      <td>[Routine child vaccinations should not be mandatory because children may not bear the side effects of it.]</td>\n",
       "    </tr>\n",
       "    <tr>\n",
       "      <th>2</th>\n",
       "      <td>arg_0_2</td>\n",
       "      <td>Routine child vaccinations should not be necessary as children can't catch the disease</td>\n",
       "      <td>Routine child vaccinations should be mandatory</td>\n",
       "      <td>-1</td>\n",
       "      <td>[Routine child vaccinations should not be necessary as children can't catch the disease]</td>\n",
       "    </tr>\n",
       "    <tr>\n",
       "      <th>3</th>\n",
       "      <td>arg_0_3</td>\n",
       "      <td>A vaccine that has not been sufficiently tested and without knowledge of side effects is not recommended for children</td>\n",
       "      <td>Routine child vaccinations should be mandatory</td>\n",
       "      <td>-1</td>\n",
       "      <td>[A vaccine that has not been sufficiently tested and without knowledge of side effects is not recommended for children]</td>\n",
       "    </tr>\n",
       "    <tr>\n",
       "      <th>4</th>\n",
       "      <td>arg_0_4</td>\n",
       "      <td>As long as vaccines are not free of side effects, it cannot make them mandatory for our children.</td>\n",
       "      <td>Routine child vaccinations should be mandatory</td>\n",
       "      <td>-1</td>\n",
       "      <td>[As long as vaccines are not free of side effects, it cannot make them mandatory for our children.]</td>\n",
       "    </tr>\n",
       "  </tbody>\n",
       "</table>\n",
       "</div>"
      ],
      "text/plain": [
       "    arg_id  \\\n",
       "0  arg_0_0   \n",
       "1  arg_0_1   \n",
       "2  arg_0_2   \n",
       "3  arg_0_3   \n",
       "4  arg_0_4   \n",
       "\n",
       "                                                                                                                argument  \\\n",
       "0                                       Routine child vaccinations isn't mandatory since children don't spread the virus   \n",
       "1               Routine child vaccinations should not be mandatory because children may not bear the side effects of it.   \n",
       "2                                 Routine child vaccinations should not be necessary as children can't catch the disease   \n",
       "3  A vaccine that has not been sufficiently tested and without knowledge of side effects is not recommended for children   \n",
       "4                      As long as vaccines are not free of side effects, it cannot make them mandatory for our children.   \n",
       "\n",
       "                                            topic  stance  \\\n",
       "0  Routine child vaccinations should be mandatory      -1   \n",
       "1  Routine child vaccinations should be mandatory      -1   \n",
       "2  Routine child vaccinations should be mandatory      -1   \n",
       "3  Routine child vaccinations should be mandatory      -1   \n",
       "4  Routine child vaccinations should be mandatory      -1   \n",
       "\n",
       "                                                                                                                     sents  \n",
       "0                                       [Routine child vaccinations isn't mandatory since children don't spread the virus]  \n",
       "1               [Routine child vaccinations should not be mandatory because children may not bear the side effects of it.]  \n",
       "2                                 [Routine child vaccinations should not be necessary as children can't catch the disease]  \n",
       "3  [A vaccine that has not been sufficiently tested and without knowledge of side effects is not recommended for children]  \n",
       "4                      [As long as vaccines are not free of side effects, it cannot make them mandatory for our children.]  "
      ]
     },
     "execution_count": 17,
     "metadata": {},
     "output_type": "execute_result"
    }
   ],
   "source": [
    "test_args.head(5)"
   ]
  },
  {
   "cell_type": "code",
   "execution_count": 18,
   "id": "9832c292-9881-4e7a-9e74-377981c2c639",
   "metadata": {
    "pycharm": {
     "name": "#%%\n"
    }
   },
   "outputs": [],
   "source": [
    "debater_api = DebaterApi('d85968e9b1dec22da7f57f9e44786005L05') #api_key should be obtained from ibm project debater\n",
    "arg_quality_client = debater_api.get_argument_quality_client()\n",
    "\n",
    "def score_candidates(topic, sentences):\n",
    "    sentence_topic_dicts = [{'sentence' : sentence, 'topic' : topic } for sentence in sentences]\n",
    "    scores = arg_quality_client.run(sentence_topic_dicts)\n",
    "    return list(zip(sentences, scores))"
   ]
  },
  {
   "cell_type": "code",
   "execution_count": 39,
   "id": "d15f893a-9edd-456c-a73d-7846b1b2792f",
   "metadata": {
    "scrolled": true,
    "tags": [],
    "pycharm": {
     "name": "#%%\n"
    }
   },
   "outputs": [
    {
     "name": "stderr",
     "output_type": "stream",
     "text": [
      "ArgumentQualityClient: 0it [00:00, ?it/s]\n",
      "ArgumentQualityClient: 100%|██████████| 1/1 [00:01<00:00,  1.01s/it]\n",
      "ArgumentQualityClient: 100%|██████████| 1/1 [00:06<00:00,  6.02s/it]\n",
      "ArgumentQualityClient: 100%|██████████| 1/1 [00:06<00:00,  6.03s/it]\n",
      "ArgumentQualityClient: 100%|██████████| 1/1 [00:06<00:00,  6.03s/it]\n",
      "ArgumentQualityClient: 100%|██████████| 1/1 [00:06<00:00,  6.01s/it]\n",
      "ArgumentQualityClient: 100%|██████████| 1/1 [00:06<00:00,  6.05s/it]\n",
      "ArgumentQualityClient: 100%|██████████| 2/2 [00:06<00:00,  3.01s/it]\n",
      "ArgumentQualityClient: 100%|██████████| 3/3 [00:06<00:00,  2.02s/it]\n",
      "ArgumentQualityClient: 0it [00:00, ?it/s]\n",
      "ArgumentQualityClient: 0it [00:00, ?it/s]\n",
      "ArgumentQualityClient: 0it [00:00, ?it/s]\n",
      "ArgumentQualityClient: 0it [00:00, ?it/s]\n",
      "ArgumentQualityClient: 100%|██████████| 1/1 [00:05<00:00,  5.97s/it]\n",
      "ArgumentQualityClient: 100%|██████████| 1/1 [00:06<00:00,  6.01s/it]\n",
      "ArgumentQualityClient: 100%|██████████| 2/2 [00:06<00:00,  3.03s/it]\n",
      "ArgumentQualityClient: 100%|██████████| 1/1 [00:05<00:00,  5.99s/it]\n",
      "ArgumentQualityClient: 100%|██████████| 1/1 [00:05<00:00,  5.99s/it]\n",
      "ArgumentQualityClient: 100%|██████████| 2/2 [00:06<00:00,  3.02s/it]\n",
      "ArgumentQualityClient: 100%|██████████| 1/1 [00:06<00:00,  6.02s/it]\n",
      "ArgumentQualityClient: 100%|██████████| 1/1 [00:06<00:00,  6.02s/it]\n",
      "ArgumentQualityClient: 0it [00:00, ?it/s]\n",
      "ArgumentQualityClient: 100%|██████████| 2/2 [00:06<00:00,  3.04s/it]\n",
      "ArgumentQualityClient: 100%|██████████| 3/3 [00:06<00:00,  2.01s/it]\n",
      "ArgumentQualityClient: 100%|██████████| 2/2 [00:06<00:00,  3.01s/it]\n",
      "ArgumentQualityClient: 100%|██████████| 2/2 [00:05<00:00,  3.00s/it]\n",
      "ArgumentQualityClient: 100%|██████████| 2/2 [00:06<00:00,  3.03s/it]\n",
      "ArgumentQualityClient: 100%|██████████| 2/2 [00:06<00:00,  3.01s/it]\n",
      "ArgumentQualityClient: 100%|██████████| 1/1 [00:06<00:00,  6.00s/it]\n",
      "ArgumentQualityClient: 100%|██████████| 2/2 [00:06<00:00,  3.03s/it]\n",
      "ArgumentQualityClient: 100%|██████████| 1/1 [00:05<00:00,  6.00s/it]\n",
      "ArgumentQualityClient: 100%|██████████| 1/1 [00:06<00:00,  6.01s/it]\n",
      "ArgumentQualityClient: 100%|██████████| 1/1 [00:06<00:00,  6.01s/it]\n",
      "ArgumentQualityClient: 100%|██████████| 2/2 [00:06<00:00,  3.03s/it]\n",
      "ArgumentQualityClient: 100%|██████████| 1/1 [00:05<00:00,  5.99s/it]\n",
      "ArgumentQualityClient: 0it [00:00, ?it/s]\n",
      "ArgumentQualityClient: 100%|██████████| 1/1 [00:06<00:00,  6.03s/it]\n",
      "ArgumentQualityClient: 100%|██████████| 2/2 [00:06<00:00,  3.02s/it]\n",
      "ArgumentQualityClient: 100%|██████████| 1/1 [00:06<00:00,  6.01s/it]\n",
      "ArgumentQualityClient: 100%|██████████| 1/1 [00:06<00:00,  6.01s/it]\n",
      "ArgumentQualityClient: 100%|██████████| 2/2 [00:06<00:00,  3.01s/it]\n",
      "ArgumentQualityClient: 100%|██████████| 1/1 [00:06<00:00,  6.02s/it]\n",
      "ArgumentQualityClient: 100%|██████████| 2/2 [00:05<00:00,  3.00s/it]\n",
      "ArgumentQualityClient: 100%|██████████| 2/2 [00:06<00:00,  3.04s/it]\n",
      "ArgumentQualityClient: 100%|██████████| 1/1 [00:05<00:00,  5.97s/it]\n",
      "ArgumentQualityClient: 100%|██████████| 1/1 [00:06<00:00,  6.04s/it]\n",
      "ArgumentQualityClient: 100%|██████████| 1/1 [00:06<00:00,  6.03s/it]\n",
      "ArgumentQualityClient: 100%|██████████| 1/1 [00:06<00:00,  6.01s/it]\n",
      "ArgumentQualityClient: 100%|██████████| 2/2 [00:06<00:00,  3.01s/it]\n",
      "ArgumentQualityClient: 100%|██████████| 1/1 [00:06<00:00,  6.03s/it]\n",
      "ArgumentQualityClient: 100%|██████████| 2/2 [00:06<00:00,  3.04s/it]\n",
      "ArgumentQualityClient: 100%|██████████| 2/2 [00:06<00:00,  3.01s/it]\n",
      "ArgumentQualityClient: 100%|██████████| 1/1 [00:05<00:00,  5.99s/it]\n",
      "ArgumentQualityClient: 100%|██████████| 1/1 [00:05<00:00,  6.00s/it]\n",
      "ArgumentQualityClient: 100%|██████████| 2/2 [00:06<00:00,  3.01s/it]\n",
      "ArgumentQualityClient: 100%|██████████| 2/2 [00:06<00:00,  3.03s/it]\n",
      "ArgumentQualityClient: 100%|██████████| 2/2 [00:06<00:00,  3.02s/it]\n",
      "ArgumentQualityClient: 100%|██████████| 2/2 [00:06<00:00,  3.02s/it]\n",
      "ArgumentQualityClient: 100%|██████████| 1/1 [00:05<00:00,  5.97s/it]\n",
      "ArgumentQualityClient: 100%|██████████| 2/2 [00:06<00:00,  3.02s/it]\n",
      "ArgumentQualityClient: 100%|██████████| 1/1 [00:06<00:00,  6.02s/it]\n",
      "ArgumentQualityClient: 100%|██████████| 1/1 [00:06<00:00,  6.04s/it]\n",
      "ArgumentQualityClient: 100%|██████████| 1/1 [00:06<00:00,  6.04s/it]\n",
      "ArgumentQualityClient: 100%|██████████| 1/1 [00:06<00:00,  6.03s/it]\n",
      "ArgumentQualityClient: 100%|██████████| 1/1 [00:06<00:00,  6.02s/it]\n",
      "ArgumentQualityClient: 100%|██████████| 2/2 [00:06<00:00,  3.03s/it]\n",
      "ArgumentQualityClient: 0it [00:00, ?it/s]\n",
      "ArgumentQualityClient: 100%|██████████| 1/1 [00:05<00:00,  5.97s/it]\n",
      "ArgumentQualityClient: 100%|██████████| 1/1 [00:06<00:00,  6.04s/it]\n"
     ]
    }
   ],
   "source": [
    "dev_args['sents_with_scores'] = dev_args.apply(lambda row: score_candidates(row['topic'], row['sents']) , axis=1)"
   ]
  },
  {
   "cell_type": "code",
   "execution_count": 23,
   "id": "ffc9913e-1998-47da-a9c8-231fd87630cb",
   "metadata": {
    "pycharm": {
     "name": "#%%\n"
    }
   },
   "outputs": [
    {
     "data": {
      "text/html": [
       "<div>\n",
       "<style scoped>\n",
       "    .dataframe tbody tr th:only-of-type {\n",
       "        vertical-align: middle;\n",
       "    }\n",
       "\n",
       "    .dataframe tbody tr th {\n",
       "        vertical-align: top;\n",
       "    }\n",
       "\n",
       "    .dataframe thead th {\n",
       "        text-align: right;\n",
       "    }\n",
       "</style>\n",
       "<table border=\"1\" class=\"dataframe\">\n",
       "  <thead>\n",
       "    <tr style=\"text-align: right;\">\n",
       "      <th></th>\n",
       "      <th>arg_id</th>\n",
       "      <th>argument</th>\n",
       "      <th>topic</th>\n",
       "      <th>stance</th>\n",
       "      <th>sents</th>\n",
       "      <th>sents_with_scores</th>\n",
       "    </tr>\n",
       "  </thead>\n",
       "  <tbody>\n",
       "    <tr>\n",
       "      <th>0</th>\n",
       "      <td>arg_0_0</td>\n",
       "      <td>Routine child vaccinations isn't mandatory since children don't spread the virus</td>\n",
       "      <td>Routine child vaccinations should be mandatory</td>\n",
       "      <td>-1</td>\n",
       "      <td>[Routine child vaccinations isn't mandatory since children don't spread the virus]</td>\n",
       "      <td>[(Routine child vaccinations isn't mandatory since children don't spread the virus, 0.7141945362091064)]</td>\n",
       "    </tr>\n",
       "    <tr>\n",
       "      <th>1</th>\n",
       "      <td>arg_0_1</td>\n",
       "      <td>Routine child vaccinations should not be mandatory because children may not bear the side effects of it.</td>\n",
       "      <td>Routine child vaccinations should be mandatory</td>\n",
       "      <td>-1</td>\n",
       "      <td>[Routine child vaccinations should not be mandatory because children may not bear the side effects of it.]</td>\n",
       "      <td>[(Routine child vaccinations should not be mandatory because children may not bear the side effects of it., 0.871067464351654)]</td>\n",
       "    </tr>\n",
       "    <tr>\n",
       "      <th>2</th>\n",
       "      <td>arg_0_2</td>\n",
       "      <td>Routine child vaccinations should not be necessary as children can't catch the disease</td>\n",
       "      <td>Routine child vaccinations should be mandatory</td>\n",
       "      <td>-1</td>\n",
       "      <td>[Routine child vaccinations should not be necessary as children can't catch the disease]</td>\n",
       "      <td>[(Routine child vaccinations should not be necessary as children can't catch the disease, 0.8207754492759705)]</td>\n",
       "    </tr>\n",
       "    <tr>\n",
       "      <th>3</th>\n",
       "      <td>arg_0_3</td>\n",
       "      <td>A vaccine that has not been sufficiently tested and without knowledge of side effects is not recommended for children</td>\n",
       "      <td>Routine child vaccinations should be mandatory</td>\n",
       "      <td>-1</td>\n",
       "      <td>[A vaccine that has not been sufficiently tested and without knowledge of side effects is not recommended for children]</td>\n",
       "      <td>[(A vaccine that has not been sufficiently tested and without knowledge of side effects is not recommended for children, 0.8951571583747864)]</td>\n",
       "    </tr>\n",
       "    <tr>\n",
       "      <th>4</th>\n",
       "      <td>arg_0_4</td>\n",
       "      <td>As long as vaccines are not free of side effects, it cannot make them mandatory for our children.</td>\n",
       "      <td>Routine child vaccinations should be mandatory</td>\n",
       "      <td>-1</td>\n",
       "      <td>[As long as vaccines are not free of side effects, it cannot make them mandatory for our children.]</td>\n",
       "      <td>[(As long as vaccines are not free of side effects, it cannot make them mandatory for our children., 0.8620935082435608)]</td>\n",
       "    </tr>\n",
       "  </tbody>\n",
       "</table>\n",
       "</div>"
      ],
      "text/plain": [
       "    arg_id  \\\n",
       "0  arg_0_0   \n",
       "1  arg_0_1   \n",
       "2  arg_0_2   \n",
       "3  arg_0_3   \n",
       "4  arg_0_4   \n",
       "\n",
       "                                                                                                                argument  \\\n",
       "0                                       Routine child vaccinations isn't mandatory since children don't spread the virus   \n",
       "1               Routine child vaccinations should not be mandatory because children may not bear the side effects of it.   \n",
       "2                                 Routine child vaccinations should not be necessary as children can't catch the disease   \n",
       "3  A vaccine that has not been sufficiently tested and without knowledge of side effects is not recommended for children   \n",
       "4                      As long as vaccines are not free of side effects, it cannot make them mandatory for our children.   \n",
       "\n",
       "                                            topic  stance  \\\n",
       "0  Routine child vaccinations should be mandatory      -1   \n",
       "1  Routine child vaccinations should be mandatory      -1   \n",
       "2  Routine child vaccinations should be mandatory      -1   \n",
       "3  Routine child vaccinations should be mandatory      -1   \n",
       "4  Routine child vaccinations should be mandatory      -1   \n",
       "\n",
       "                                                                                                                     sents  \\\n",
       "0                                       [Routine child vaccinations isn't mandatory since children don't spread the virus]   \n",
       "1               [Routine child vaccinations should not be mandatory because children may not bear the side effects of it.]   \n",
       "2                                 [Routine child vaccinations should not be necessary as children can't catch the disease]   \n",
       "3  [A vaccine that has not been sufficiently tested and without knowledge of side effects is not recommended for children]   \n",
       "4                      [As long as vaccines are not free of side effects, it cannot make them mandatory for our children.]   \n",
       "\n",
       "                                                                                                                               sents_with_scores  \n",
       "0                                       [(Routine child vaccinations isn't mandatory since children don't spread the virus, 0.7141945362091064)]  \n",
       "1                [(Routine child vaccinations should not be mandatory because children may not bear the side effects of it., 0.871067464351654)]  \n",
       "2                                 [(Routine child vaccinations should not be necessary as children can't catch the disease, 0.8207754492759705)]  \n",
       "3  [(A vaccine that has not been sufficiently tested and without knowledge of side effects is not recommended for children, 0.8951571583747864)]  \n",
       "4                      [(As long as vaccines are not free of side effects, it cannot make them mandatory for our children., 0.8620935082435608)]  "
      ]
     },
     "execution_count": 23,
     "metadata": {},
     "output_type": "execute_result"
    }
   ],
   "source": [
    "test_args.head(5)"
   ]
  },
  {
   "cell_type": "code",
   "execution_count": null,
   "id": "592829eb-f83d-435e-94f2-3cfed87c4c9b",
   "metadata": {
    "scrolled": true,
    "tags": [],
    "pycharm": {
     "name": "#%%\n"
    }
   },
   "outputs": [],
   "source": [
    "#valid_args['sents_with_scores'] = valid_args.apply(lambda row: score_candidates(row['topic'], row['sents']) , axis=1)"
   ]
  },
  {
   "cell_type": "code",
   "execution_count": null,
   "id": "ab208904-eb3d-4f7e-a3fc-e7c4571444f0",
   "metadata": {
    "scrolled": true,
    "tags": [],
    "pycharm": {
     "name": "#%%\n"
    }
   },
   "outputs": [],
   "source": [
    "#valid_args.head()"
   ]
  },
  {
   "cell_type": "code",
   "execution_count": null,
   "id": "5465579c-6d71-49c7-9017-9857e1894e51",
   "metadata": {
    "scrolled": true,
    "tags": [],
    "pycharm": {
     "name": "#%%\n"
    }
   },
   "outputs": [],
   "source": [
    "#train_args['sents_with_scores'] = train_args.apply(lambda row: score_candidates(row['topic'], row['sents']) , axis=1)"
   ]
  },
  {
   "cell_type": "code",
   "execution_count": 42,
   "id": "25fc9305-38c5-4df2-b912-76be47a5ca88",
   "metadata": {
    "pycharm": {
     "name": "#%%\n"
    }
   },
   "outputs": [],
   "source": [
    "#train_args.to_pickle('../data/train_args_with_scores.pkl')\n",
    "#valid_args.to_pickle('../data/valid_args_with_scores.pkl')"
   ]
  },
  {
   "cell_type": "code",
   "execution_count": 21,
   "id": "524e287c-e464-40ae-98fd-8fd7fbcc9272",
   "metadata": {
    "pycharm": {
     "name": "#%%\n"
    }
   },
   "outputs": [],
   "source": [
    "test_args.to_pickle('../../data/test_args_with_scores.pkl')"
   ]
  },
  {
   "cell_type": "code",
   "execution_count": 22,
   "id": "b1bc011f-0f83-49c8-9067-e6e2f472ed35",
   "metadata": {
    "pycharm": {
     "name": "#%%\n"
    }
   },
   "outputs": [],
   "source": [
    "test_args.to_csv('../../data/test_args_with_scores.csv', index=False)"
   ]
  },
  {
   "cell_type": "code",
   "execution_count": 40,
   "id": "3746e2de-0c33-4653-ba42-3e2149480444",
   "metadata": {
    "pycharm": {
     "name": "#%%\n"
    }
   },
   "outputs": [],
   "source": [
    "dev_args.to_csv('../../data/val_args_with_scores.csv', index=False)\n",
    "dev_args.to_pickle('../../data/val_args_with_scores.pkl')\n"
   ]
  },
  {
   "cell_type": "code",
   "execution_count": null,
   "id": "d0a8cd85-1b4c-4388-a196-e80dee339384",
   "metadata": {
    "pycharm": {
     "name": "#%%\n"
    }
   },
   "outputs": [],
   "source": []
  }
 ],
 "metadata": {
  "kernelspec": {
   "display_name": "cryptocurrencies-kpa",
   "language": "python",
   "name": "cryptocurrencies-kpa"
  },
  "language_info": {
   "codemirror_mode": {
    "name": "ipython",
    "version": 3
   },
   "file_extension": ".py",
   "mimetype": "text/x-python",
   "name": "python",
   "nbconvert_exporter": "python",
   "pygments_lexer": "ipython3",
   "version": "3.9.9"
  }
 },
 "nbformat": 4,
 "nbformat_minor": 5
}
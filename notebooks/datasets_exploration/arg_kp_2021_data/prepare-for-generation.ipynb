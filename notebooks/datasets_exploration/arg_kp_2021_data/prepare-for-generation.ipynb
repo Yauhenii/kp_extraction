{
 "cells": [
  {
   "cell_type": "code",
   "execution_count": 2,
   "id": "cd6c59a3-7312-45ce-92c0-85589172b7bf",
   "metadata": {
    "pycharm": {
     "name": "#%%\n"
    }
   },
   "outputs": [],
   "source": [
    "import pandas as pd"
   ]
  },
  {
   "cell_type": "code",
   "execution_count": 3,
   "id": "0b19c575-42d2-408d-8ab6-2d69b6de9555",
   "metadata": {
    "pycharm": {
     "name": "#%%\n"
    }
   },
   "outputs": [],
   "source": [
    "train_df = pd.read_csv('../../../data/processed/ARG_KP_2021/all_complete.csv')\n",
    "test_df = pd.read_csv('../../../data/processed/ARG_KP_2021/test_complete.csv')"
   ]
  },
  {
   "cell_type": "code",
   "execution_count": 4,
   "id": "85885570-fd54-43ee-8bc3-883d9b3e6379",
   "metadata": {
    "pycharm": {
     "name": "#%%\n"
    }
   },
   "outputs": [
    {
     "data": {
      "text/plain": [
       "28665"
      ]
     },
     "execution_count": 4,
     "metadata": {},
     "output_type": "execute_result"
    }
   ],
   "source": [
    "len(train_df)"
   ]
  },
  {
   "cell_type": "code",
   "execution_count": 11,
   "id": "ca4ed4f4-aadc-4c82-af8c-55db0fe03e39",
   "metadata": {
    "pycharm": {
     "name": "#%%\n"
    }
   },
   "outputs": [],
   "source": [
    "test_q = pd.read_csv('../../../data/external/arg-quality/IBM-ArgQ-5.3kArgs/Flu-vaccination-should-be-mandatory-(PRO).tsv',  sep='\\t')"
   ]
  },
  {
   "cell_type": "code",
   "execution_count": 12,
   "id": "a00818bf-7078-4030-be36-2d51409e1080",
   "metadata": {
    "pycharm": {
     "name": "#%%\n"
    }
   },
   "outputs": [
    {
     "data": {
      "text/html": [
       "<div>\n",
       "<style scoped>\n",
       "    .dataframe tbody tr th:only-of-type {\n",
       "        vertical-align: middle;\n",
       "    }\n",
       "\n",
       "    .dataframe tbody tr th {\n",
       "        vertical-align: top;\n",
       "    }\n",
       "\n",
       "    .dataframe thead th {\n",
       "        text-align: right;\n",
       "    }\n",
       "</style>\n",
       "<table border=\"1\" class=\"dataframe\">\n",
       "  <thead>\n",
       "    <tr style=\"text-align: right;\">\n",
       "      <th></th>\n",
       "      <th>id</th>\n",
       "      <th>rank</th>\n",
       "      <th>argument</th>\n",
       "    </tr>\n",
       "  </thead>\n",
       "  <tbody>\n",
       "    <tr>\n",
       "      <th>0</th>\n",
       "      <td>41</td>\n",
       "      <td>0.428571</td>\n",
       "      <td>A government mandate on flu vaccines will stan...</td>\n",
       "    </tr>\n",
       "    <tr>\n",
       "      <th>1</th>\n",
       "      <td>49</td>\n",
       "      <td>0.700000</td>\n",
       "      <td>A mandatory flu vaccination creates a positive...</td>\n",
       "    </tr>\n",
       "    <tr>\n",
       "      <th>2</th>\n",
       "      <td>79</td>\n",
       "      <td>0.750000</td>\n",
       "      <td>According to the BMJ, Flu vaccines are estimat...</td>\n",
       "    </tr>\n",
       "    <tr>\n",
       "      <th>3</th>\n",
       "      <td>94</td>\n",
       "      <td>0.583333</td>\n",
       "      <td>Adverse reactions to vaccines are extremely ra...</td>\n",
       "    </tr>\n",
       "    <tr>\n",
       "      <th>4</th>\n",
       "      <td>100</td>\n",
       "      <td>0.800000</td>\n",
       "      <td>Aggregate benefits of vaccination always outwe...</td>\n",
       "    </tr>\n",
       "  </tbody>\n",
       "</table>\n",
       "</div>"
      ],
      "text/plain": [
       "    id      rank                                           argument\n",
       "0   41  0.428571  A government mandate on flu vaccines will stan...\n",
       "1   49  0.700000  A mandatory flu vaccination creates a positive...\n",
       "2   79  0.750000  According to the BMJ, Flu vaccines are estimat...\n",
       "3   94  0.583333  Adverse reactions to vaccines are extremely ra...\n",
       "4  100  0.800000  Aggregate benefits of vaccination always outwe..."
      ]
     },
     "execution_count": 12,
     "metadata": {},
     "output_type": "execute_result"
    }
   ],
   "source": [
    "test_q.head(5)"
   ]
  },
  {
   "cell_type": "code",
   "execution_count": 14,
   "id": "1a648dfc-c69e-4487-8771-fb289da6759a",
   "metadata": {
    "pycharm": {
     "name": "#%%\n"
    }
   },
   "outputs": [],
   "source": [
    "new = pd.merge(train_df, test_q, on=\"argument\")"
   ]
  },
  {
   "cell_type": "code",
   "execution_count": 15,
   "id": "0df409a6-3b5b-4b08-a103-0456487693b3",
   "metadata": {
    "pycharm": {
     "name": "#%%\n"
    }
   },
   "outputs": [
    {
     "data": {
      "text/plain": [
       "0"
      ]
     },
     "execution_count": 15,
     "metadata": {},
     "output_type": "execute_result"
    }
   ],
   "source": [
    "len(new)"
   ]
  },
  {
   "cell_type": "code",
   "execution_count": 34,
   "id": "45155226-3918-4b34-9204-c6876c1bae81",
   "metadata": {
    "pycharm": {
     "name": "#%%\n"
    }
   },
   "outputs": [],
   "source": [
    "import pandas as pd\n",
    "import glob\n",
    "\n",
    "path = r'C:\\Users\\Bilal\\crypto\\thesis\\my-repos\\cryptocurrencies-kpa\\data\\external\\arg-quality\\IBM-ArgQ-6.3kArgs' # use your path\n",
    "all_files = glob.glob(path + \"/*.tsv\")\n",
    "\n",
    "li = []\n",
    "\n",
    "for filename in all_files:\n",
    "    df = pd.read_csv(filename, index_col=None, header=0,  sep='\\t')\n",
    "    li.append(df)\n",
    "\n",
    "frame = pd.concat(li, axis=0, ignore_index=True)"
   ]
  },
  {
   "cell_type": "code",
   "execution_count": 35,
   "id": "3d7eb8db-22da-4904-8163-d52e7a1dfbce",
   "metadata": {
    "pycharm": {
     "name": "#%%\n"
    }
   },
   "outputs": [
    {
     "data": {
      "text/html": [
       "<div>\n",
       "<style scoped>\n",
       "    .dataframe tbody tr th:only-of-type {\n",
       "        vertical-align: middle;\n",
       "    }\n",
       "\n",
       "    .dataframe tbody tr th {\n",
       "        vertical-align: top;\n",
       "    }\n",
       "\n",
       "    .dataframe thead th {\n",
       "        text-align: right;\n",
       "    }\n",
       "</style>\n",
       "<table border=\"1\" class=\"dataframe\">\n",
       "  <thead>\n",
       "    <tr style=\"text-align: right;\">\n",
       "      <th></th>\n",
       "      <th>id</th>\n",
       "      <th>rank</th>\n",
       "      <th>argument</th>\n",
       "    </tr>\n",
       "  </thead>\n",
       "  <tbody>\n",
       "    <tr>\n",
       "      <th>0</th>\n",
       "      <td>2</td>\n",
       "      <td>0.333333</td>\n",
       "      <td>You can catch the flue become you were uncauti...</td>\n",
       "    </tr>\n",
       "    <tr>\n",
       "      <th>1</th>\n",
       "      <td>26</td>\n",
       "      <td>0.866667</td>\n",
       "      <td>In rare cases flu can cause death, therefore, ...</td>\n",
       "    </tr>\n",
       "    <tr>\n",
       "      <th>2</th>\n",
       "      <td>40</td>\n",
       "      <td>0.600000</td>\n",
       "      <td>Keeps the people health as one group , it help...</td>\n",
       "    </tr>\n",
       "    <tr>\n",
       "      <th>3</th>\n",
       "      <td>115</td>\n",
       "      <td>0.800000</td>\n",
       "      <td>The flu is deadly, especially for children, pr...</td>\n",
       "    </tr>\n",
       "    <tr>\n",
       "      <th>4</th>\n",
       "      <td>177</td>\n",
       "      <td>0.933333</td>\n",
       "      <td>If everyone gets the vaccination, Flu may disa...</td>\n",
       "    </tr>\n",
       "  </tbody>\n",
       "</table>\n",
       "</div>"
      ],
      "text/plain": [
       "    id      rank                                           argument\n",
       "0    2  0.333333  You can catch the flue become you were uncauti...\n",
       "1   26  0.866667  In rare cases flu can cause death, therefore, ...\n",
       "2   40  0.600000  Keeps the people health as one group , it help...\n",
       "3  115  0.800000  The flu is deadly, especially for children, pr...\n",
       "4  177  0.933333  If everyone gets the vaccination, Flu may disa..."
      ]
     },
     "execution_count": 35,
     "metadata": {},
     "output_type": "execute_result"
    }
   ],
   "source": [
    "frame.head(5)"
   ]
  },
  {
   "cell_type": "code",
   "execution_count": 38,
   "id": "2c0cb642-994b-4e89-8c42-4a7d61ecca40",
   "metadata": {
    "pycharm": {
     "name": "#%%\n"
    }
   },
   "outputs": [],
   "source": [
    "test_q = pd.read_csv(r'C:\\Users\\Bilal\\crypto\\thesis\\my-repos\\cryptocurrencies-kpa\\data\\external\\arg_quality_rank_30k.csv', index_col=None,)"
   ]
  },
  {
   "cell_type": "code",
   "execution_count": 39,
   "id": "c97ba576-3779-4c6c-9b15-a6c766ba074b",
   "metadata": {
    "pycharm": {
     "name": "#%%\n"
    }
   },
   "outputs": [
    {
     "data": {
      "text/html": [
       "<div>\n",
       "<style scoped>\n",
       "    .dataframe tbody tr th:only-of-type {\n",
       "        vertical-align: middle;\n",
       "    }\n",
       "\n",
       "    .dataframe tbody tr th {\n",
       "        vertical-align: top;\n",
       "    }\n",
       "\n",
       "    .dataframe thead th {\n",
       "        text-align: right;\n",
       "    }\n",
       "</style>\n",
       "<table border=\"1\" class=\"dataframe\">\n",
       "  <thead>\n",
       "    <tr style=\"text-align: right;\">\n",
       "      <th></th>\n",
       "      <th>argument</th>\n",
       "      <th>topic</th>\n",
       "      <th>set</th>\n",
       "      <th>WA</th>\n",
       "      <th>MACE-P</th>\n",
       "      <th>stance_WA</th>\n",
       "      <th>stance_WA_conf</th>\n",
       "    </tr>\n",
       "  </thead>\n",
       "  <tbody>\n",
       "    <tr>\n",
       "      <th>0</th>\n",
       "      <td>\"marriage\" isn't keeping up with the times.  a...</td>\n",
       "      <td>We should abandon marriage</td>\n",
       "      <td>train</td>\n",
       "      <td>0.846165</td>\n",
       "      <td>0.297659</td>\n",
       "      <td>1</td>\n",
       "      <td>1.000000</td>\n",
       "    </tr>\n",
       "    <tr>\n",
       "      <th>1</th>\n",
       "      <td>.a multi-party system would be too confusing a...</td>\n",
       "      <td>We should adopt a multi-party system</td>\n",
       "      <td>train</td>\n",
       "      <td>0.891271</td>\n",
       "      <td>0.726133</td>\n",
       "      <td>-1</td>\n",
       "      <td>1.000000</td>\n",
       "    </tr>\n",
       "    <tr>\n",
       "      <th>2</th>\n",
       "      <td>\\ero-tolerance policy in schools should not be...</td>\n",
       "      <td>We should adopt a zero-tolerance policy in sch...</td>\n",
       "      <td>dev</td>\n",
       "      <td>0.721192</td>\n",
       "      <td>0.396953</td>\n",
       "      <td>-1</td>\n",
       "      <td>1.000000</td>\n",
       "    </tr>\n",
       "    <tr>\n",
       "      <th>3</th>\n",
       "      <td>`people reach their limit when it comes to the...</td>\n",
       "      <td>Assisted suicide should be a criminal offence</td>\n",
       "      <td>train</td>\n",
       "      <td>0.730395</td>\n",
       "      <td>0.225212</td>\n",
       "      <td>-1</td>\n",
       "      <td>1.000000</td>\n",
       "    </tr>\n",
       "    <tr>\n",
       "      <th>4</th>\n",
       "      <td>100% agree, should they do that, it would be a...</td>\n",
       "      <td>We should abolish safe spaces</td>\n",
       "      <td>train</td>\n",
       "      <td>0.236686</td>\n",
       "      <td>0.004104</td>\n",
       "      <td>1</td>\n",
       "      <td>0.805517</td>\n",
       "    </tr>\n",
       "  </tbody>\n",
       "</table>\n",
       "</div>"
      ],
      "text/plain": [
       "                                            argument  \\\n",
       "0  \"marriage\" isn't keeping up with the times.  a...   \n",
       "1  .a multi-party system would be too confusing a...   \n",
       "2  \\ero-tolerance policy in schools should not be...   \n",
       "3  `people reach their limit when it comes to the...   \n",
       "4  100% agree, should they do that, it would be a...   \n",
       "\n",
       "                                               topic    set        WA  \\\n",
       "0                         We should abandon marriage  train  0.846165   \n",
       "1               We should adopt a multi-party system  train  0.891271   \n",
       "2  We should adopt a zero-tolerance policy in sch...    dev  0.721192   \n",
       "3      Assisted suicide should be a criminal offence  train  0.730395   \n",
       "4                      We should abolish safe spaces  train  0.236686   \n",
       "\n",
       "     MACE-P  stance_WA  stance_WA_conf  \n",
       "0  0.297659          1        1.000000  \n",
       "1  0.726133         -1        1.000000  \n",
       "2  0.396953         -1        1.000000  \n",
       "3  0.225212         -1        1.000000  \n",
       "4  0.004104          1        0.805517  "
      ]
     },
     "execution_count": 39,
     "metadata": {},
     "output_type": "execute_result"
    }
   ],
   "source": [
    "test_q.head(5)"
   ]
  },
  {
   "cell_type": "code",
   "execution_count": 74,
   "id": "50c05518-ab6d-45c4-b538-844124129b5c",
   "metadata": {
    "pycharm": {
     "name": "#%%\n"
    }
   },
   "outputs": [],
   "source": [
    "ori_train = pd.read_csv('../../../data/raw/ArgKP_2021_shared_task/kpm_data/arguments_dev.csv', index_col=None)"
   ]
  },
  {
   "cell_type": "code",
   "execution_count": 75,
   "id": "525262e3-6b8d-4a2d-9fd6-f0c91aeaab42",
   "metadata": {
    "pycharm": {
     "name": "#%%\n"
    }
   },
   "outputs": [
    {
     "data": {
      "text/html": [
       "<div>\n",
       "<style scoped>\n",
       "    .dataframe tbody tr th:only-of-type {\n",
       "        vertical-align: middle;\n",
       "    }\n",
       "\n",
       "    .dataframe tbody tr th {\n",
       "        vertical-align: top;\n",
       "    }\n",
       "\n",
       "    .dataframe thead th {\n",
       "        text-align: right;\n",
       "    }\n",
       "</style>\n",
       "<table border=\"1\" class=\"dataframe\">\n",
       "  <thead>\n",
       "    <tr style=\"text-align: right;\">\n",
       "      <th></th>\n",
       "      <th>arg_id</th>\n",
       "      <th>argument</th>\n",
       "      <th>topic</th>\n",
       "      <th>stance</th>\n",
       "    </tr>\n",
       "  </thead>\n",
       "  <tbody>\n",
       "    <tr>\n",
       "      <th>0</th>\n",
       "      <td>arg_4_0</td>\n",
       "      <td>having a school uniform can reduce bullying as students who have no style or cannot afford the latest trends do not stand out.</td>\n",
       "      <td>We should abandon the use of school uniform</td>\n",
       "      <td>-1</td>\n",
       "    </tr>\n",
       "    <tr>\n",
       "      <th>1</th>\n",
       "      <td>arg_4_1</td>\n",
       "      <td>it is a good way to instill discipline</td>\n",
       "      <td>We should abandon the use of school uniform</td>\n",
       "      <td>-1</td>\n",
       "    </tr>\n",
       "    <tr>\n",
       "      <th>2</th>\n",
       "      <td>arg_4_2</td>\n",
       "      <td>it is cheaper for parents to buy school uniforms, which is helpful to parents that are struggling financially.</td>\n",
       "      <td>We should abandon the use of school uniform</td>\n",
       "      <td>-1</td>\n",
       "    </tr>\n",
       "    <tr>\n",
       "      <th>3</th>\n",
       "      <td>arg_4_3</td>\n",
       "      <td>one of the benefits of school uniforms is that families save money because they limit the amount of clothing a student needs to purchase</td>\n",
       "      <td>We should abandon the use of school uniform</td>\n",
       "      <td>-1</td>\n",
       "    </tr>\n",
       "  </tbody>\n",
       "</table>\n",
       "</div>"
      ],
      "text/plain": [
       "    arg_id  \\\n",
       "0  arg_4_0   \n",
       "1  arg_4_1   \n",
       "2  arg_4_2   \n",
       "3  arg_4_3   \n",
       "\n",
       "                                                                                                                                   argument  \\\n",
       "0            having a school uniform can reduce bullying as students who have no style or cannot afford the latest trends do not stand out.   \n",
       "1                                                                                                    it is a good way to instill discipline   \n",
       "2                            it is cheaper for parents to buy school uniforms, which is helpful to parents that are struggling financially.   \n",
       "3  one of the benefits of school uniforms is that families save money because they limit the amount of clothing a student needs to purchase   \n",
       "\n",
       "                                         topic  stance  \n",
       "0  We should abandon the use of school uniform      -1  \n",
       "1  We should abandon the use of school uniform      -1  \n",
       "2  We should abandon the use of school uniform      -1  \n",
       "3  We should abandon the use of school uniform      -1  "
      ]
     },
     "execution_count": 75,
     "metadata": {},
     "output_type": "execute_result"
    }
   ],
   "source": [
    "ori_train.head(4)"
   ]
  },
  {
   "cell_type": "code",
   "execution_count": 76,
   "id": "0272a539-2c68-4930-a944-408a2b00bb55",
   "metadata": {
    "pycharm": {
     "name": "#%%\n"
    }
   },
   "outputs": [],
   "source": [
    "new = pd.merge(ori_train, test_q, on=\"argument\")"
   ]
  },
  {
   "cell_type": "code",
   "execution_count": 77,
   "id": "a1c51143-e444-47a2-9140-17d56f2255d0",
   "metadata": {
    "pycharm": {
     "name": "#%%\n"
    }
   },
   "outputs": [
    {
     "data": {
      "text/plain": [
       "863"
      ]
     },
     "execution_count": 77,
     "metadata": {},
     "output_type": "execute_result"
    }
   ],
   "source": [
    "len(new)"
   ]
  },
  {
   "cell_type": "code",
   "execution_count": 78,
   "id": "b98ef01f-f9e1-4392-9271-86f839a198c6",
   "metadata": {
    "pycharm": {
     "name": "#%%\n"
    }
   },
   "outputs": [
    {
     "data": {
      "text/plain": [
       "932"
      ]
     },
     "execution_count": 78,
     "metadata": {},
     "output_type": "execute_result"
    }
   ],
   "source": [
    "len(ori_train)"
   ]
  },
  {
   "cell_type": "code",
   "execution_count": null,
   "id": "f2d11bad-8b62-4226-aadb-f63e953af042",
   "metadata": {
    "pycharm": {
     "name": "#%%\n"
    }
   },
   "outputs": [],
   "source": [
    "pd.set_option('display.max_columns', None)  # or 1000\n",
    "pd.set_option('display.max_rows', None)  # or 1000\n",
    "pd.set_option('display.max_colwidth', None)  # or 199\n",
    "ori_train[~ori_train['arg_id'].isin(new[\"arg_id\"])]"
   ]
  },
  {
   "cell_type": "code",
   "execution_count": 80,
   "id": "0bdaafd8-0dac-41b2-95ca-e2285c0bbb6b",
   "metadata": {
    "pycharm": {
     "name": "#%%\n"
    }
   },
   "outputs": [],
   "source": [
    "ori_train[~ori_train['arg_id'].isin(new[\"arg_id\"])].to_csv('../../../data/raw/ArgKP_2021_shared_task/dev_to_score.csv', index=False)"
   ]
  },
  {
   "cell_type": "code",
   "execution_count": 79,
   "id": "2346e2c9-cb14-48d9-983f-439939282257",
   "metadata": {
    "pycharm": {
     "name": "#%%\n"
    }
   },
   "outputs": [
    {
     "data": {
      "text/plain": [
       "69"
      ]
     },
     "execution_count": 79,
     "metadata": {},
     "output_type": "execute_result"
    }
   ],
   "source": [
    "len(ori_train[~ori_train['arg_id'].isin(new[\"arg_id\"])])"
   ]
  },
  {
   "cell_type": "code",
   "execution_count": 64,
   "id": "d4b94b45-6ebc-4138-90b0-76bf6b9a32db",
   "metadata": {
    "pycharm": {
     "name": "#%%\n"
    }
   },
   "outputs": [
    {
     "data": {
      "text/html": [
       "<div>\n",
       "<style scoped>\n",
       "    .dataframe tbody tr th:only-of-type {\n",
       "        vertical-align: middle;\n",
       "    }\n",
       "\n",
       "    .dataframe tbody tr th {\n",
       "        vertical-align: top;\n",
       "    }\n",
       "\n",
       "    .dataframe thead th {\n",
       "        text-align: right;\n",
       "    }\n",
       "</style>\n",
       "<table border=\"1\" class=\"dataframe\">\n",
       "  <thead>\n",
       "    <tr style=\"text-align: right;\">\n",
       "      <th></th>\n",
       "      <th>arg_id</th>\n",
       "      <th>argument</th>\n",
       "      <th>topic_x</th>\n",
       "      <th>stance</th>\n",
       "      <th>topic_y</th>\n",
       "      <th>set</th>\n",
       "      <th>WA</th>\n",
       "      <th>MACE-P</th>\n",
       "      <th>stance_WA</th>\n",
       "      <th>stance_WA_conf</th>\n",
       "    </tr>\n",
       "  </thead>\n",
       "  <tbody>\n",
       "  </tbody>\n",
       "</table>\n",
       "</div>"
      ],
      "text/plain": [
       "Empty DataFrame\n",
       "Columns: [arg_id, argument, topic_x, stance, topic_y, set, WA, MACE-P, stance_WA, stance_WA_conf]\n",
       "Index: []"
      ]
     },
     "execution_count": 66,
     "metadata": {},
     "output_type": "execute_result"
    }
   ],
   "source": [
    "new[\"arg_id\"]"
   ]
  },
  {
   "cell_type": "code",
   "execution_count": 82,
   "id": "043ac97f-f3d6-45e1-a5d6-3921d8674e3c",
   "metadata": {
    "pycharm": {
     "name": "#%%\n"
    }
   },
   "outputs": [],
   "source": [
    "train_to_score =   pd.read_csv(r'C:\\Users\\Bilal\\crypto\\thesis\\my-repos\\cryptocurrencies-kpa\\data\\raw\\ArgKP_2021_shared_task\\train_args_with_scores.csv', index_col=None)\n",
    "dev_to_score =   pd.read_csv(r'C:\\Users\\Bilal\\crypto\\thesis\\my-repos\\cryptocurrencies-kpa\\data\\raw\\ArgKP_2021_shared_task\\val_args_with_scores.csv', index_col=None)\n",
    "test_to_score =   pd.read_csv(r'C:\\Users\\Bilal\\crypto\\thesis\\my-repos\\cryptocurrencies-kpa\\data\\raw\\ArgKP_2021_shared_task\\test_args_with_scores.csv', index_col=None)"
   ]
  },
  {
   "cell_type": "code",
   "execution_count": 84,
   "id": "2a692180-8b4c-41cc-b88d-15a1f832506e",
   "metadata": {
    "pycharm": {
     "name": "#%%\n"
    }
   },
   "outputs": [],
   "source": [
    "ori_train = pd.read_csv('../../../data/raw/ArgKP_2021_shared_task/kpm_data/arguments_train.csv', index_col=None)\n",
    "ori_val = pd.read_csv('../../../data/raw/ArgKP_2021_shared_task/kpm_data/arguments_dev.csv', index_col=None)"
   ]
  },
  {
   "cell_type": "code",
   "execution_count": 101,
   "id": "b831d2a5-f87b-4001-85e8-ad9ccee90952",
   "metadata": {
    "pycharm": {
     "name": "#%%\n"
    }
   },
   "outputs": [],
   "source": [
    "train_merged = pd.merge(ori_train, test_q, on=\"argument\")\n",
    "train_aval_score = ori_train[ori_train['arg_id'].isin(train_merged[\"arg_id\"])]\n",
    "train_merged =  train_merged[train_merged['arg_id'].isin(train_aval_score[\"arg_id\"])]"
   ]
  },
  {
   "cell_type": "code",
   "execution_count": 102,
   "id": "347731de-c690-4049-aa3d-eaff69e845fc",
   "metadata": {
    "pycharm": {
     "name": "#%%\n"
    }
   },
   "outputs": [],
   "source": [
    "dev_merged = pd.merge(ori_val, test_q, on=\"argument\")\n",
    "dev_aval_score = ori_val[ori_val['arg_id'].isin(dev_merged[\"arg_id\"])]\n",
    "dev_merged =  dev_merged[dev_merged['arg_id'].isin(dev_aval_score[\"arg_id\"])]"
   ]
  },
  {
   "cell_type": "code",
   "execution_count": 100,
   "id": "15b7ddc3-29c9-4d61-9f97-b70232e38bb6",
   "metadata": {
    "pycharm": {
     "name": "#%%\n"
    }
   },
   "outputs": [
    {
     "data": {
      "text/html": [
       "<div>\n",
       "<style scoped>\n",
       "    .dataframe tbody tr th:only-of-type {\n",
       "        vertical-align: middle;\n",
       "    }\n",
       "\n",
       "    .dataframe tbody tr th {\n",
       "        vertical-align: top;\n",
       "    }\n",
       "\n",
       "    .dataframe thead th {\n",
       "        text-align: right;\n",
       "    }\n",
       "</style>\n",
       "<table border=\"1\" class=\"dataframe\">\n",
       "  <thead>\n",
       "    <tr style=\"text-align: right;\">\n",
       "      <th></th>\n",
       "      <th>arg_id</th>\n",
       "      <th>argument</th>\n",
       "      <th>topic_x</th>\n",
       "      <th>stance</th>\n",
       "      <th>topic_y</th>\n",
       "      <th>set</th>\n",
       "      <th>WA</th>\n",
       "      <th>MACE-P</th>\n",
       "      <th>stance_WA</th>\n",
       "      <th>stance_WA_conf</th>\n",
       "    </tr>\n",
       "  </thead>\n",
       "  <tbody>\n",
       "    <tr>\n",
       "      <th>0</th>\n",
       "      <td>arg_4_0</td>\n",
       "      <td>having a school uniform can reduce bullying as students who have no style or cannot afford the latest trends do not stand out.</td>\n",
       "      <td>We should abandon the use of school uniform</td>\n",
       "      <td>-1</td>\n",
       "      <td>We should abandon the use of school uniform</td>\n",
       "      <td>dev</td>\n",
       "      <td>0.978147</td>\n",
       "      <td>0.767217</td>\n",
       "      <td>-1</td>\n",
       "      <td>1.000000</td>\n",
       "    </tr>\n",
       "    <tr>\n",
       "      <th>1</th>\n",
       "      <td>arg_4_1</td>\n",
       "      <td>it is a good way to instill discipline</td>\n",
       "      <td>We should abandon the use of school uniform</td>\n",
       "      <td>-1</td>\n",
       "      <td>We should abandon the use of school uniform</td>\n",
       "      <td>dev</td>\n",
       "      <td>1.000000</td>\n",
       "      <td>0.910987</td>\n",
       "      <td>-1</td>\n",
       "      <td>0.890616</td>\n",
       "    </tr>\n",
       "  </tbody>\n",
       "</table>\n",
       "</div>"
      ],
      "text/plain": [
       "    arg_id  \\\n",
       "0  arg_4_0   \n",
       "1  arg_4_1   \n",
       "\n",
       "                                                                                                                         argument  \\\n",
       "0  having a school uniform can reduce bullying as students who have no style or cannot afford the latest trends do not stand out.   \n",
       "1                                                                                          it is a good way to instill discipline   \n",
       "\n",
       "                                       topic_x  stance  \\\n",
       "0  We should abandon the use of school uniform      -1   \n",
       "1  We should abandon the use of school uniform      -1   \n",
       "\n",
       "                                       topic_y  set        WA    MACE-P  \\\n",
       "0  We should abandon the use of school uniform  dev  0.978147  0.767217   \n",
       "1  We should abandon the use of school uniform  dev  1.000000  0.910987   \n",
       "\n",
       "   stance_WA  stance_WA_conf  \n",
       "0         -1        1.000000  \n",
       "1         -1        0.890616  "
      ]
     },
     "execution_count": 100,
     "metadata": {},
     "output_type": "execute_result"
    }
   ],
   "source": [
    "dev_merged.head(2)"
   ]
  },
  {
   "cell_type": "code",
   "execution_count": 91,
   "id": "8449cfb4-157d-4b9d-b6e6-f2e74a706687",
   "metadata": {
    "pycharm": {
     "name": "#%%\n"
    }
   },
   "outputs": [
    {
     "data": {
      "text/html": [
       "<div>\n",
       "<style scoped>\n",
       "    .dataframe tbody tr th:only-of-type {\n",
       "        vertical-align: middle;\n",
       "    }\n",
       "\n",
       "    .dataframe tbody tr th {\n",
       "        vertical-align: top;\n",
       "    }\n",
       "\n",
       "    .dataframe thead th {\n",
       "        text-align: right;\n",
       "    }\n",
       "</style>\n",
       "<table border=\"1\" class=\"dataframe\">\n",
       "  <thead>\n",
       "    <tr style=\"text-align: right;\">\n",
       "      <th></th>\n",
       "      <th>arg_id</th>\n",
       "      <th>argument</th>\n",
       "      <th>topic</th>\n",
       "      <th>stance</th>\n",
       "    </tr>\n",
       "  </thead>\n",
       "  <tbody>\n",
       "    <tr>\n",
       "      <th>0</th>\n",
       "      <td>arg_4_0</td>\n",
       "      <td>having a school uniform can reduce bullying as students who have no style or cannot afford the latest trends do not stand out.</td>\n",
       "      <td>We should abandon the use of school uniform</td>\n",
       "      <td>-1</td>\n",
       "    </tr>\n",
       "    <tr>\n",
       "      <th>1</th>\n",
       "      <td>arg_4_1</td>\n",
       "      <td>it is a good way to instill discipline</td>\n",
       "      <td>We should abandon the use of school uniform</td>\n",
       "      <td>-1</td>\n",
       "    </tr>\n",
       "  </tbody>\n",
       "</table>\n",
       "</div>"
      ],
      "text/plain": [
       "    arg_id  \\\n",
       "0  arg_4_0   \n",
       "1  arg_4_1   \n",
       "\n",
       "                                                                                                                         argument  \\\n",
       "0  having a school uniform can reduce bullying as students who have no style or cannot afford the latest trends do not stand out.   \n",
       "1                                                                                          it is a good way to instill discipline   \n",
       "\n",
       "                                         topic  stance  \n",
       "0  We should abandon the use of school uniform      -1  \n",
       "1  We should abandon the use of school uniform      -1  "
      ]
     },
     "execution_count": 91,
     "metadata": {},
     "output_type": "execute_result"
    }
   ],
   "source": [
    "dev_aval_score.head(2)"
   ]
  },
  {
   "cell_type": "code",
   "execution_count": 103,
   "id": "1a426613-fae6-4de5-af2e-14d42dbee770",
   "metadata": {
    "pycharm": {
     "name": "#%%\n"
    }
   },
   "outputs": [
    {
     "data": {
      "text/html": [
       "<div>\n",
       "<style scoped>\n",
       "    .dataframe tbody tr th:only-of-type {\n",
       "        vertical-align: middle;\n",
       "    }\n",
       "\n",
       "    .dataframe tbody tr th {\n",
       "        vertical-align: top;\n",
       "    }\n",
       "\n",
       "    .dataframe thead th {\n",
       "        text-align: right;\n",
       "    }\n",
       "</style>\n",
       "<table border=\"1\" class=\"dataframe\">\n",
       "  <thead>\n",
       "    <tr style=\"text-align: right;\">\n",
       "      <th></th>\n",
       "      <th>arg_id</th>\n",
       "      <th>argument</th>\n",
       "      <th>topic</th>\n",
       "      <th>stance</th>\n",
       "      <th>sents</th>\n",
       "      <th>sents_with_scores</th>\n",
       "    </tr>\n",
       "  </thead>\n",
       "  <tbody>\n",
       "    <tr>\n",
       "      <th>0</th>\n",
       "      <td>arg_4_2</td>\n",
       "      <td>it is cheaper for parents to buy school uniforms, which is helpful to parents that are struggling financially.</td>\n",
       "      <td>We should abandon the use of school uniform</td>\n",
       "      <td>-1</td>\n",
       "      <td>[]</td>\n",
       "      <td>[]</td>\n",
       "    </tr>\n",
       "    <tr>\n",
       "      <th>1</th>\n",
       "      <td>arg_4_5</td>\n",
       "      <td>school uniform are just right because otherwise will be recognized between kids who is rich and who is not.</td>\n",
       "      <td>We should abandon the use of school uniform</td>\n",
       "      <td>-1</td>\n",
       "      <td>['school uniform are just right because otherwise will be recognized between kids who is rich and who is not.']</td>\n",
       "      <td>[('school uniform are just right because otherwise will be recognized between kids who is rich and who is not.', 0.622776985168457)]</td>\n",
       "    </tr>\n",
       "    <tr>\n",
       "      <th>2</th>\n",
       "      <td>arg_4_35</td>\n",
       "      <td>School uniforms encourage students to express themselves in ways other than by the clothes they wear. They can express themselves through writing, music, drawing, dance, etc.</td>\n",
       "      <td>We should abandon the use of school uniform</td>\n",
       "      <td>-1</td>\n",
       "      <td>['School uniforms encourage students to express themselves in ways other than by the clothes they wear.']</td>\n",
       "      <td>[('School uniforms encourage students to express themselves in ways other than by the clothes they wear.', 0.9207518696784973)]</td>\n",
       "    </tr>\n",
       "    <tr>\n",
       "      <th>3</th>\n",
       "      <td>arg_4_80</td>\n",
       "      <td>studies show school uniforms causes kids to be less likely to act up. this also keeps anyone from dressing inappropriately or wearing an offensive shirt or hat.</td>\n",
       "      <td>We should abandon the use of school uniform</td>\n",
       "      <td>-1</td>\n",
       "      <td>['studies show school uniforms causes kids to be less likely to act up.']</td>\n",
       "      <td>[('studies show school uniforms causes kids to be less likely to act up.', 0.7475304007530212)]</td>\n",
       "    </tr>\n",
       "    <tr>\n",
       "      <th>4</th>\n",
       "      <td>arg_4_118</td>\n",
       "      <td>wearing a uniform provides solidarity with your fellow students and makes you feel included, and therefore uniforms shouldn't be banned.</td>\n",
       "      <td>We should abandon the use of school uniform</td>\n",
       "      <td>-1</td>\n",
       "      <td>[\"wearing a uniform provides solidarity with your fellow students and makes you feel included, and therefore uniforms shouldn't be banned.\"]</td>\n",
       "      <td>[(\"wearing a uniform provides solidarity with your fellow students and makes you feel included, and therefore uniforms shouldn't be banned.\", 0.9171517491340637)]</td>\n",
       "    </tr>\n",
       "  </tbody>\n",
       "</table>\n",
       "</div>"
      ],
      "text/plain": [
       "      arg_id  \\\n",
       "0    arg_4_2   \n",
       "1    arg_4_5   \n",
       "2   arg_4_35   \n",
       "3   arg_4_80   \n",
       "4  arg_4_118   \n",
       "\n",
       "                                                                                                                                                                         argument  \\\n",
       "0                                                                  it is cheaper for parents to buy school uniforms, which is helpful to parents that are struggling financially.   \n",
       "1                                                                     school uniform are just right because otherwise will be recognized between kids who is rich and who is not.   \n",
       "2  School uniforms encourage students to express themselves in ways other than by the clothes they wear. They can express themselves through writing, music, drawing, dance, etc.   \n",
       "3                studies show school uniforms causes kids to be less likely to act up. this also keeps anyone from dressing inappropriately or wearing an offensive shirt or hat.   \n",
       "4                                        wearing a uniform provides solidarity with your fellow students and makes you feel included, and therefore uniforms shouldn't be banned.   \n",
       "\n",
       "                                         topic  stance  \\\n",
       "0  We should abandon the use of school uniform      -1   \n",
       "1  We should abandon the use of school uniform      -1   \n",
       "2  We should abandon the use of school uniform      -1   \n",
       "3  We should abandon the use of school uniform      -1   \n",
       "4  We should abandon the use of school uniform      -1   \n",
       "\n",
       "                                                                                                                                          sents  \\\n",
       "0                                                                                                                                            []   \n",
       "1                               ['school uniform are just right because otherwise will be recognized between kids who is rich and who is not.']   \n",
       "2                                     ['School uniforms encourage students to express themselves in ways other than by the clothes they wear.']   \n",
       "3                                                                     ['studies show school uniforms causes kids to be less likely to act up.']   \n",
       "4  [\"wearing a uniform provides solidarity with your fellow students and makes you feel included, and therefore uniforms shouldn't be banned.\"]   \n",
       "\n",
       "                                                                                                                                                    sents_with_scores  \n",
       "0                                                                                                                                                                  []  \n",
       "1                                [('school uniform are just right because otherwise will be recognized between kids who is rich and who is not.', 0.622776985168457)]  \n",
       "2                                     [('School uniforms encourage students to express themselves in ways other than by the clothes they wear.', 0.9207518696784973)]  \n",
       "3                                                                     [('studies show school uniforms causes kids to be less likely to act up.', 0.7475304007530212)]  \n",
       "4  [(\"wearing a uniform provides solidarity with your fellow students and makes you feel included, and therefore uniforms shouldn't be banned.\", 0.9171517491340637)]  "
      ]
     },
     "execution_count": 103,
     "metadata": {},
     "output_type": "execute_result"
    }
   ],
   "source": [
    "dev_to_score.head(5)"
   ]
  },
  {
   "cell_type": "code",
   "execution_count": 117,
   "id": "113615b3-70fb-486e-a7a5-fe0cd1a80d45",
   "metadata": {
    "pycharm": {
     "name": "#%%\n"
    }
   },
   "outputs": [],
   "source": [
    "import ast\n",
    "def get_average_score(row):\n",
    "    sents = ast.literal_eval(row[\"sents_with_scores\"])\n",
    "    sum = 0\n",
    "    l = len(sents)\n",
    "    if l == 0:\n",
    "        return float('nan')\n",
    "    for s, score in sents:\n",
    "           sum += score\n",
    "    avg = sum/l\n",
    "    return avg\n",
    "    \n",
    "    \n",
    "dev_to_score['MACE-P'] =  dev_to_score.apply(lambda x: get_average_score(x), axis=1)\n",
    "train_to_score['MACE-P'] =  train_to_score.apply(lambda x: get_average_score(x), axis=1)"
   ]
  },
  {
   "cell_type": "code",
   "execution_count": 121,
   "id": "ff6f894a-d093-45c2-aed0-f6d5e84177f1",
   "metadata": {
    "pycharm": {
     "name": "#%%\n"
    }
   },
   "outputs": [],
   "source": [
    "dev_merged.rename({'topic_x': 'topic'}, axis=1, inplace=True)\n",
    "train_merged.rename({'topic_x': 'topic'}, axis=1, inplace=True)"
   ]
  },
  {
   "cell_type": "code",
   "execution_count": 122,
   "id": "d131c38a-58fc-4519-b062-ef5350725f05",
   "metadata": {
    "pycharm": {
     "name": "#%%\n"
    }
   },
   "outputs": [
    {
     "data": {
      "text/html": [
       "<div>\n",
       "<style scoped>\n",
       "    .dataframe tbody tr th:only-of-type {\n",
       "        vertical-align: middle;\n",
       "    }\n",
       "\n",
       "    .dataframe tbody tr th {\n",
       "        vertical-align: top;\n",
       "    }\n",
       "\n",
       "    .dataframe thead th {\n",
       "        text-align: right;\n",
       "    }\n",
       "</style>\n",
       "<table border=\"1\" class=\"dataframe\">\n",
       "  <thead>\n",
       "    <tr style=\"text-align: right;\">\n",
       "      <th></th>\n",
       "      <th>arg_id</th>\n",
       "      <th>argument</th>\n",
       "      <th>topic</th>\n",
       "      <th>stance</th>\n",
       "      <th>topic_y</th>\n",
       "      <th>set</th>\n",
       "      <th>WA</th>\n",
       "      <th>MACE-P</th>\n",
       "      <th>stance_WA</th>\n",
       "      <th>stance_WA_conf</th>\n",
       "    </tr>\n",
       "  </thead>\n",
       "  <tbody>\n",
       "    <tr>\n",
       "      <th>0</th>\n",
       "      <td>arg_4_0</td>\n",
       "      <td>having a school uniform can reduce bullying as students who have no style or cannot afford the latest trends do not stand out.</td>\n",
       "      <td>We should abandon the use of school uniform</td>\n",
       "      <td>-1</td>\n",
       "      <td>We should abandon the use of school uniform</td>\n",
       "      <td>dev</td>\n",
       "      <td>0.978147</td>\n",
       "      <td>0.767217</td>\n",
       "      <td>-1</td>\n",
       "      <td>1.000000</td>\n",
       "    </tr>\n",
       "    <tr>\n",
       "      <th>1</th>\n",
       "      <td>arg_4_1</td>\n",
       "      <td>it is a good way to instill discipline</td>\n",
       "      <td>We should abandon the use of school uniform</td>\n",
       "      <td>-1</td>\n",
       "      <td>We should abandon the use of school uniform</td>\n",
       "      <td>dev</td>\n",
       "      <td>1.000000</td>\n",
       "      <td>0.910987</td>\n",
       "      <td>-1</td>\n",
       "      <td>0.890616</td>\n",
       "    </tr>\n",
       "  </tbody>\n",
       "</table>\n",
       "</div>"
      ],
      "text/plain": [
       "    arg_id  \\\n",
       "0  arg_4_0   \n",
       "1  arg_4_1   \n",
       "\n",
       "                                                                                                                         argument  \\\n",
       "0  having a school uniform can reduce bullying as students who have no style or cannot afford the latest trends do not stand out.   \n",
       "1                                                                                          it is a good way to instill discipline   \n",
       "\n",
       "                                         topic  stance  \\\n",
       "0  We should abandon the use of school uniform      -1   \n",
       "1  We should abandon the use of school uniform      -1   \n",
       "\n",
       "                                       topic_y  set        WA    MACE-P  \\\n",
       "0  We should abandon the use of school uniform  dev  0.978147  0.767217   \n",
       "1  We should abandon the use of school uniform  dev  1.000000  0.910987   \n",
       "\n",
       "   stance_WA  stance_WA_conf  \n",
       "0         -1        1.000000  \n",
       "1         -1        0.890616  "
      ]
     },
     "execution_count": 122,
     "metadata": {},
     "output_type": "execute_result"
    }
   ],
   "source": [
    "dev_merged.head(2)"
   ]
  },
  {
   "cell_type": "code",
   "execution_count": 119,
   "id": "241eaef7-5534-413f-a584-ef96b0583a66",
   "metadata": {
    "pycharm": {
     "name": "#%%\n"
    }
   },
   "outputs": [
    {
     "data": {
      "text/html": [
       "<div>\n",
       "<style scoped>\n",
       "    .dataframe tbody tr th:only-of-type {\n",
       "        vertical-align: middle;\n",
       "    }\n",
       "\n",
       "    .dataframe tbody tr th {\n",
       "        vertical-align: top;\n",
       "    }\n",
       "\n",
       "    .dataframe thead th {\n",
       "        text-align: right;\n",
       "    }\n",
       "</style>\n",
       "<table border=\"1\" class=\"dataframe\">\n",
       "  <thead>\n",
       "    <tr style=\"text-align: right;\">\n",
       "      <th></th>\n",
       "      <th>arg_id</th>\n",
       "      <th>argument</th>\n",
       "      <th>topic</th>\n",
       "      <th>stance</th>\n",
       "    </tr>\n",
       "  </thead>\n",
       "  <tbody>\n",
       "    <tr>\n",
       "      <th>0</th>\n",
       "      <td>arg_0_0</td>\n",
       "      <td>`people reach their limit when it comes to their quality of life and should be able to end their suffering. this can be done with little or no suffering by assistance and the person is able to say good bye.</td>\n",
       "      <td>Assisted suicide should be a criminal offence</td>\n",
       "      <td>-1</td>\n",
       "    </tr>\n",
       "    <tr>\n",
       "      <th>1</th>\n",
       "      <td>arg_0_1</td>\n",
       "      <td>A patient should be able to decide when they have had enough \"care\".</td>\n",
       "      <td>Assisted suicide should be a criminal offence</td>\n",
       "      <td>-1</td>\n",
       "    </tr>\n",
       "  </tbody>\n",
       "</table>\n",
       "</div>"
      ],
      "text/plain": [
       "    arg_id  \\\n",
       "0  arg_0_0   \n",
       "1  arg_0_1   \n",
       "\n",
       "                                                                                                                                                                                                         argument  \\\n",
       "0  `people reach their limit when it comes to their quality of life and should be able to end their suffering. this can be done with little or no suffering by assistance and the person is able to say good bye.   \n",
       "1                                                                                                                                            A patient should be able to decide when they have had enough \"care\".   \n",
       "\n",
       "                                           topic  stance  \n",
       "0  Assisted suicide should be a criminal offence      -1  \n",
       "1  Assisted suicide should be a criminal offence      -1  "
      ]
     },
     "execution_count": 119,
     "metadata": {},
     "output_type": "execute_result"
    }
   ],
   "source": [
    "ori_train.head(2)"
   ]
  },
  {
   "cell_type": "code",
   "execution_count": 118,
   "id": "0730e981-2600-4728-802f-c41cc9e88897",
   "metadata": {
    "pycharm": {
     "name": "#%%\n"
    }
   },
   "outputs": [
    {
     "data": {
      "text/html": [
       "<div>\n",
       "<style scoped>\n",
       "    .dataframe tbody tr th:only-of-type {\n",
       "        vertical-align: middle;\n",
       "    }\n",
       "\n",
       "    .dataframe tbody tr th {\n",
       "        vertical-align: top;\n",
       "    }\n",
       "\n",
       "    .dataframe thead th {\n",
       "        text-align: right;\n",
       "    }\n",
       "</style>\n",
       "<table border=\"1\" class=\"dataframe\">\n",
       "  <thead>\n",
       "    <tr style=\"text-align: right;\">\n",
       "      <th></th>\n",
       "      <th>arg_id</th>\n",
       "      <th>argument</th>\n",
       "      <th>topic</th>\n",
       "      <th>stance</th>\n",
       "      <th>sents</th>\n",
       "      <th>sents_with_scores</th>\n",
       "      <th>MACE-P</th>\n",
       "    </tr>\n",
       "  </thead>\n",
       "  <tbody>\n",
       "    <tr>\n",
       "      <th>0</th>\n",
       "      <td>arg_0_0</td>\n",
       "      <td>`people reach their limit when it comes to their quality of life and should be able to end their suffering. this can be done with little or no suffering by assistance and the person is able to say good bye.</td>\n",
       "      <td>Assisted suicide should be a criminal offence</td>\n",
       "      <td>-1</td>\n",
       "      <td>['`people reach their limit when it comes to their quality of life and should be able to end their suffering.']</td>\n",
       "      <td>[('`people reach their limit when it comes to their quality of life and should be able to end their suffering.', 0.7646355628967285)]</td>\n",
       "      <td>0.764636</td>\n",
       "    </tr>\n",
       "    <tr>\n",
       "      <th>1</th>\n",
       "      <td>arg_0_16</td>\n",
       "      <td>assisted suicide is a blessing not a crime. a person who wants to be assisted in this is in great pain or has no ability to be cured, let someone give the suffering the chance to end it.</td>\n",
       "      <td>Assisted suicide should be a criminal offence</td>\n",
       "      <td>-1</td>\n",
       "      <td>['assisted suicide is a blessing not a crime.', 'a person who wants to be assisted in this is in great pain or has no ability to be cured, let someone give the suffering the chance to end it.']</td>\n",
       "      <td>[('assisted suicide is a blessing not a crime.', 0.8090577125549316), ('a person who wants to be assisted in this is in great pain or has no ability to be cured, let someone give the suffering the chance to end it.', 0.9011496901512146)]</td>\n",
       "      <td>0.855104</td>\n",
       "    </tr>\n",
       "  </tbody>\n",
       "</table>\n",
       "</div>"
      ],
      "text/plain": [
       "     arg_id  \\\n",
       "0   arg_0_0   \n",
       "1  arg_0_16   \n",
       "\n",
       "                                                                                                                                                                                                         argument  \\\n",
       "0  `people reach their limit when it comes to their quality of life and should be able to end their suffering. this can be done with little or no suffering by assistance and the person is able to say good bye.   \n",
       "1                      assisted suicide is a blessing not a crime. a person who wants to be assisted in this is in great pain or has no ability to be cured, let someone give the suffering the chance to end it.   \n",
       "\n",
       "                                           topic  stance  \\\n",
       "0  Assisted suicide should be a criminal offence      -1   \n",
       "1  Assisted suicide should be a criminal offence      -1   \n",
       "\n",
       "                                                                                                                                                                                               sents  \\\n",
       "0                                                                                    ['`people reach their limit when it comes to their quality of life and should be able to end their suffering.']   \n",
       "1  ['assisted suicide is a blessing not a crime.', 'a person who wants to be assisted in this is in great pain or has no ability to be cured, let someone give the suffering the chance to end it.']   \n",
       "\n",
       "                                                                                                                                                                                                                               sents_with_scores  \\\n",
       "0                                                                                                          [('`people reach their limit when it comes to their quality of life and should be able to end their suffering.', 0.7646355628967285)]   \n",
       "1  [('assisted suicide is a blessing not a crime.', 0.8090577125549316), ('a person who wants to be assisted in this is in great pain or has no ability to be cured, let someone give the suffering the chance to end it.', 0.9011496901512146)]   \n",
       "\n",
       "     MACE-P  \n",
       "0  0.764636  \n",
       "1  0.855104  "
      ]
     },
     "execution_count": 118,
     "metadata": {},
     "output_type": "execute_result"
    }
   ],
   "source": [
    "train_to_score.head(2)"
   ]
  },
  {
   "cell_type": "code",
   "execution_count": 123,
   "id": "98aedeaf-dec8-4d3d-9fd1-75dcb0549a71",
   "metadata": {
    "pycharm": {
     "name": "#%%\n"
    }
   },
   "outputs": [],
   "source": [
    "dev_with_quality = pd.concat([dev_to_score[[\"arg_id\", \"argument\", \"topic\", \"stance\", \"MACE-P\"]], dev_merged[[\"arg_id\", \"argument\", \"topic\", \"stance\", \"MACE-P\"]] ]) \n",
    "train_with_quality = pd.concat([train_to_score[[\"arg_id\", \"argument\", \"topic\", \"stance\", \"MACE-P\"]], train_merged[[\"arg_id\", \"argument\", \"topic\", \"stance\", \"MACE-P\"]] ]) "
   ]
  },
  {
   "cell_type": "code",
   "execution_count": 124,
   "id": "e8bc47fe-40cc-4ebf-b44d-a259485526e6",
   "metadata": {
    "pycharm": {
     "name": "#%%\n"
    }
   },
   "outputs": [
    {
     "data": {
      "text/plain": [
       "932"
      ]
     },
     "execution_count": 124,
     "metadata": {},
     "output_type": "execute_result"
    }
   ],
   "source": [
    "len(dev_with_quality)"
   ]
  },
  {
   "cell_type": "code",
   "execution_count": 125,
   "id": "01ff8265-85c9-4425-832d-43a39b467f12",
   "metadata": {
    "pycharm": {
     "name": "#%%\n"
    }
   },
   "outputs": [
    {
     "data": {
      "text/plain": [
       "5583"
      ]
     },
     "execution_count": 125,
     "metadata": {},
     "output_type": "execute_result"
    }
   ],
   "source": [
    "len(train_with_quality)"
   ]
  },
  {
   "cell_type": "code",
   "execution_count": 130,
   "id": "44730a79-765f-4a16-8318-993f094b08b0",
   "metadata": {
    "pycharm": {
     "name": "#%%\n"
    }
   },
   "outputs": [
    {
     "data": {
      "text/plain": [
       "723"
      ]
     },
     "execution_count": 130,
     "metadata": {},
     "output_type": "execute_result"
    }
   ],
   "source": [
    "len(ori_test)"
   ]
  },
  {
   "cell_type": "code",
   "execution_count": 129,
   "id": "5558a92f-7e1c-44d0-b687-6909a34c29eb",
   "metadata": {
    "pycharm": {
     "name": "#%%\n"
    }
   },
   "outputs": [
    {
     "data": {
      "text/plain": [
       "723"
      ]
     },
     "execution_count": 129,
     "metadata": {},
     "output_type": "execute_result"
    }
   ],
   "source": [
    "len(test_to_score)"
   ]
  },
  {
   "cell_type": "code",
   "execution_count": 132,
   "id": "9798277b-2ec3-4149-8972-9885ca75ce2c",
   "metadata": {
    "pycharm": {
     "name": "#%%\n"
    }
   },
   "outputs": [],
   "source": [
    "test_to_score['MACE-P'] =  test_to_score.apply(lambda x: get_average_score(x), axis=1)"
   ]
  },
  {
   "cell_type": "code",
   "execution_count": 133,
   "id": "a71dde0b-cc54-4443-8c23-d6e95b6e4596",
   "metadata": {
    "pycharm": {
     "name": "#%%\n"
    }
   },
   "outputs": [
    {
     "data": {
      "text/html": [
       "<div>\n",
       "<style scoped>\n",
       "    .dataframe tbody tr th:only-of-type {\n",
       "        vertical-align: middle;\n",
       "    }\n",
       "\n",
       "    .dataframe tbody tr th {\n",
       "        vertical-align: top;\n",
       "    }\n",
       "\n",
       "    .dataframe thead th {\n",
       "        text-align: right;\n",
       "    }\n",
       "</style>\n",
       "<table border=\"1\" class=\"dataframe\">\n",
       "  <thead>\n",
       "    <tr style=\"text-align: right;\">\n",
       "      <th></th>\n",
       "      <th>arg_id</th>\n",
       "      <th>argument</th>\n",
       "      <th>topic</th>\n",
       "      <th>stance</th>\n",
       "      <th>sents</th>\n",
       "      <th>sents_with_scores</th>\n",
       "      <th>MACE-P</th>\n",
       "    </tr>\n",
       "  </thead>\n",
       "  <tbody>\n",
       "    <tr>\n",
       "      <th>0</th>\n",
       "      <td>arg_0_0</td>\n",
       "      <td>Routine child vaccinations isn't mandatory since children don't spread the virus</td>\n",
       "      <td>Routine child vaccinations should be mandatory</td>\n",
       "      <td>-1</td>\n",
       "      <td>[\"Routine child vaccinations isn't mandatory since children don't spread the virus\"]</td>\n",
       "      <td>[(\"Routine child vaccinations isn't mandatory since children don't spread the virus\", 0.7141945362091064)]</td>\n",
       "      <td>0.714195</td>\n",
       "    </tr>\n",
       "    <tr>\n",
       "      <th>1</th>\n",
       "      <td>arg_0_1</td>\n",
       "      <td>Routine child vaccinations should not be mandatory because children may not bear the side effects of it.</td>\n",
       "      <td>Routine child vaccinations should be mandatory</td>\n",
       "      <td>-1</td>\n",
       "      <td>['Routine child vaccinations should not be mandatory because children may not bear the side effects of it.']</td>\n",
       "      <td>[('Routine child vaccinations should not be mandatory because children may not bear the side effects of it.', 0.871067464351654)]</td>\n",
       "      <td>0.871067</td>\n",
       "    </tr>\n",
       "  </tbody>\n",
       "</table>\n",
       "</div>"
      ],
      "text/plain": [
       "    arg_id  \\\n",
       "0  arg_0_0   \n",
       "1  arg_0_1   \n",
       "\n",
       "                                                                                                   argument  \\\n",
       "0                          Routine child vaccinations isn't mandatory since children don't spread the virus   \n",
       "1  Routine child vaccinations should not be mandatory because children may not bear the side effects of it.   \n",
       "\n",
       "                                            topic  stance  \\\n",
       "0  Routine child vaccinations should be mandatory      -1   \n",
       "1  Routine child vaccinations should be mandatory      -1   \n",
       "\n",
       "                                                                                                          sents  \\\n",
       "0                          [\"Routine child vaccinations isn't mandatory since children don't spread the virus\"]   \n",
       "1  ['Routine child vaccinations should not be mandatory because children may not bear the side effects of it.']   \n",
       "\n",
       "                                                                                                                   sents_with_scores  \\\n",
       "0                         [(\"Routine child vaccinations isn't mandatory since children don't spread the virus\", 0.7141945362091064)]   \n",
       "1  [('Routine child vaccinations should not be mandatory because children may not bear the side effects of it.', 0.871067464351654)]   \n",
       "\n",
       "     MACE-P  \n",
       "0  0.714195  \n",
       "1  0.871067  "
      ]
     },
     "execution_count": 133,
     "metadata": {},
     "output_type": "execute_result"
    }
   ],
   "source": [
    "test_to_score.head(2)"
   ]
  },
  {
   "cell_type": "code",
   "execution_count": 134,
   "id": "a8f96946-ff7c-42c1-885e-80eb77201f3e",
   "metadata": {
    "pycharm": {
     "name": "#%%\n"
    }
   },
   "outputs": [],
   "source": [
    "test_to_score[[\"arg_id\", \"argument\", \"topic\", \"stance\", \"MACE-P\"]].to_csv(r\"C:\\Users\\Bilal\\crypto\\thesis\\my-repos\\cryptocurrencies-kpa\\data\\raw\\ArgKP_2021_shared_task\\test_data\\arguments_test.csv\", index=False)\n",
    "dev_with_quality[[\"arg_id\", \"argument\", \"topic\", \"stance\", \"MACE-P\"]].to_csv(r\"C:\\Users\\Bilal\\crypto\\thesis\\my-repos\\cryptocurrencies-kpa\\data\\raw\\ArgKP_2021_shared_task\\kpm_data\\arguments_dev.csv\", index=False)\n",
    "train_with_quality[[\"arg_id\", \"argument\", \"topic\", \"stance\", \"MACE-P\"]].to_csv(r\"C:\\Users\\Bilal\\crypto\\thesis\\my-repos\\cryptocurrencies-kpa\\data\\raw\\ArgKP_2021_shared_task\\kpm_data\\arguments_train.csv\", index=False)"
   ]
  },
  {
   "cell_type": "code",
   "execution_count": null,
   "id": "18bb56ed-46d2-4239-97c8-44ad64538250",
   "metadata": {
    "pycharm": {
     "name": "#%%\n"
    }
   },
   "outputs": [],
   "source": []
  }
 ],
 "metadata": {
  "kernelspec": {
   "display_name": "cryptocurrencies-kpa",
   "language": "python",
   "name": "cryptocurrencies-kpa"
  },
  "language_info": {
   "codemirror_mode": {
    "name": "ipython",
    "version": 3
   },
   "file_extension": ".py",
   "mimetype": "text/x-python",
   "name": "python",
   "nbconvert_exporter": "python",
   "pygments_lexer": "ipython3",
   "version": "3.9.9"
  }
 },
 "nbformat": 4,
 "nbformat_minor": 5
}
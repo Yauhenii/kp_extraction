{
 "cells": [
  {
   "cell_type": "markdown",
   "id": "93783e3d-75b9-402e-af14-4b4c03b4a10e",
   "metadata": {
    "tags": [],
    "pycharm": {
     "name": "#%% md\n"
    }
   },
   "source": [
    "# Preparing dataset for training\n",
    "\n",
    "Here we use the make_dataset.py to create the processed dataset required for training."
   ]
  },
  {
   "cell_type": "code",
   "execution_count": null,
   "id": "2004e861-01e9-480d-8273-4cdfe20cf411",
   "metadata": {
    "pycharm": {
     "name": "#%%\n"
    }
   },
   "outputs": [],
   "source": [
    "!python ../../../project/cli/make_dataset.py --help"
   ]
  },
  {
   "cell_type": "code",
   "execution_count": 3,
   "id": "7b4d99ad-8674-47c1-8af4-b307caf53a03",
   "metadata": {
    "pycharm": {
     "name": "#%%\n"
    }
   },
   "outputs": [
    {
     "name": "stdout",
     "output_type": "stream",
     "text": [
      "** processing task data:\n",
      "** loading task data:\n"
     ]
    },
    {
     "name": "stderr",
     "output_type": "stream",
     "text": [
      "C:\\Users\\Bilal\\anaconda3\\envs\\cryptocurrencies-kpa\\lib\\site-packages\\requests\\__init__.py:89: RequestsDependencyWarning: urllib3 (1.26.8) or chardet (3.0.4) doesn't match a supported version!\n",
      "  warnings.warn(\"urllib3 ({}) or chardet ({}) doesn't match a supported \"\n",
      "2022-01-30 16:44:14,581 - __main__ - INFO - making final data set from raw data\n"
     ]
    }
   ],
   "source": [
    "!python ../../../project/cli/make_dataset.py --with_undecided_pairs True --dataset_name ARG_KP_2021 --input_dir \"../../../data/raw/ArgKP_2021_shared_task/test_data\" --subset test"
   ]
  },
  {
   "cell_type": "markdown",
   "id": "7e81d807-b055-4aeb-97be-c6375fb965d7",
   "metadata": {
    "pycharm": {
     "name": "#%% md\n"
    }
   },
   "source": [
    "We can verify if the processed dataset is correct:"
   ]
  },
  {
   "cell_type": "code",
   "execution_count": 36,
   "id": "3aa26ce4-e4fe-430e-a2b3-d2536445110b",
   "metadata": {
    "pycharm": {
     "name": "#%%\n"
    }
   },
   "outputs": [],
   "source": [
    "import pandas as pd"
   ]
  },
  {
   "cell_type": "code",
   "execution_count": 45,
   "id": "461e7b1e-89c9-45dd-81b9-73d07b61aecd",
   "metadata": {
    "pycharm": {
     "name": "#%%\n"
    }
   },
   "outputs": [],
   "source": [
    "processed_file = \"../../../data/processed/ARG_KP_2021/test.csv\"\n",
    "processed_df = pd.read_csv(processed_file, index_col=None)"
   ]
  },
  {
   "cell_type": "code",
   "execution_count": 38,
   "id": "b6e8eb74-5e36-4731-bc1c-0601bddb2613",
   "metadata": {
    "pycharm": {
     "name": "#%%\n"
    }
   },
   "outputs": [
    {
     "data": {
      "text/html": [
       "<div>\n",
       "<style scoped>\n",
       "    .dataframe tbody tr th:only-of-type {\n",
       "        vertical-align: middle;\n",
       "    }\n",
       "\n",
       "    .dataframe tbody tr th {\n",
       "        vertical-align: top;\n",
       "    }\n",
       "\n",
       "    .dataframe thead th {\n",
       "        text-align: right;\n",
       "    }\n",
       "</style>\n",
       "<table border=\"1\" class=\"dataframe\">\n",
       "  <thead>\n",
       "    <tr style=\"text-align: right;\">\n",
       "      <th></th>\n",
       "      <th>argument</th>\n",
       "      <th>key_point</th>\n",
       "      <th>label</th>\n",
       "    </tr>\n",
       "  </thead>\n",
       "  <tbody>\n",
       "    <tr>\n",
       "      <th>0</th>\n",
       "      <td>Routine childhood vaccinations  should be man...</td>\n",
       "      <td>Routine child vaccinations are effective</td>\n",
       "      <td>0</td>\n",
       "    </tr>\n",
       "    <tr>\n",
       "      <th>1</th>\n",
       "      <td>Routine child vaccinations should be mandatory...</td>\n",
       "      <td>Routine child vaccinations are effective</td>\n",
       "      <td>0</td>\n",
       "    </tr>\n",
       "    <tr>\n",
       "      <th>2</th>\n",
       "      <td>Routine child vaccinations should be mandatory...</td>\n",
       "      <td>Routine child vaccinations are effective</td>\n",
       "      <td>0</td>\n",
       "    </tr>\n",
       "    <tr>\n",
       "      <th>3</th>\n",
       "      <td>Routine child vaccinations should be mandatory...</td>\n",
       "      <td>Routine child vaccinations are effective</td>\n",
       "      <td>0</td>\n",
       "    </tr>\n",
       "    <tr>\n",
       "      <th>4</th>\n",
       "      <td>Routine child vaccinations should be mandatory...</td>\n",
       "      <td>Routine child vaccinations are effective</td>\n",
       "      <td>0</td>\n",
       "    </tr>\n",
       "  </tbody>\n",
       "</table>\n",
       "</div>"
      ],
      "text/plain": [
       "                                            argument  \\\n",
       "0   Routine childhood vaccinations  should be man...   \n",
       "1  Routine child vaccinations should be mandatory...   \n",
       "2  Routine child vaccinations should be mandatory...   \n",
       "3  Routine child vaccinations should be mandatory...   \n",
       "4  Routine child vaccinations should be mandatory...   \n",
       "\n",
       "                                  key_point  label  \n",
       "0  Routine child vaccinations are effective      0  \n",
       "1  Routine child vaccinations are effective      0  \n",
       "2  Routine child vaccinations are effective      0  \n",
       "3  Routine child vaccinations are effective      0  \n",
       "4  Routine child vaccinations are effective      0  "
      ]
     },
     "execution_count": 38,
     "metadata": {},
     "output_type": "execute_result"
    }
   ],
   "source": [
    "processed_df.head(5)"
   ]
  },
  {
   "cell_type": "code",
   "execution_count": 76,
   "id": "f8dd563f-6e77-46a8-90a4-fc4361c73e1e",
   "metadata": {
    "pycharm": {
     "name": "#%%\n"
    }
   },
   "outputs": [],
   "source": [
    "names = ['arguments', 'key_points', 'labels']\n",
    "subsets = ['train', 'dev']\n",
    "for n in names:\n",
    "    to_merge = []\n",
    "    for sub in subsets:\n",
    "        path = f\"../../../data/raw/ArgKP_2021_shared_task/kpm_data/{n}_{sub}.csv\"\n",
    "        df = pd.read_csv(path, index_col=None)\n",
    "        to_merge.append(df)\n",
    "    merged = pd.concat(to_merge)\n",
    "    merged.to_csv(f\"../../../data/raw/ArgKP_2021_shared_task/kpm_data/{n}_all.csv\", index=False)"
   ]
  },
  {
   "cell_type": "code",
   "execution_count": null,
   "id": "1aa3990e-93ff-4d47-b770-68447d3f9ef9",
   "metadata": {
    "pycharm": {
     "name": "#%%\n"
    }
   },
   "outputs": [],
   "source": []
  }
 ],
 "metadata": {
  "kernelspec": {
   "display_name": "cryptocurrencies-kpa",
   "language": "python",
   "name": "cryptocurrencies-kpa"
  },
  "language_info": {
   "codemirror_mode": {
    "name": "ipython",
    "version": 3
   },
   "file_extension": ".py",
   "mimetype": "text/x-python",
   "name": "python",
   "nbconvert_exporter": "python",
   "pygments_lexer": "ipython3",
   "version": "3.9.9"
  }
 },
 "nbformat": 4,
 "nbformat_minor": 5
}
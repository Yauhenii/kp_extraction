{
 "cells": [
  {
   "cell_type": "code",
   "execution_count": 10,
   "id": "03a67421",
   "metadata": {},
   "outputs": [],
   "source": [
    "import pandas as pd\n",
    "btc_df = pd.read_csv(r'C:\\Users\\Bilal\\crypto\\thesis\\my-repos\\cryptocurrencies-kpa\\data\\processed\\whitepapers\\btc.csv', index_col=None)\n",
    "eth_df= pd.read_csv(r'C:\\Users\\Bilal\\crypto\\thesis\\my-repos\\cryptocurrencies-kpa\\data\\processed\\whitepapers\\eth.csv',  index_col=None)\n",
    "ada_df = pd.read_csv(r'C:\\Users\\Bilal\\crypto\\thesis\\my-repos\\cryptocurrencies-kpa\\data\\processed\\whitepapers\\ada.csv',  index_col=None)\n",
    "sol_df = pd.read_csv(r'C:\\Users\\Bilal\\crypto\\thesis\\my-repos\\cryptocurrencies-kpa\\data\\processed\\whitepapers\\sol.csv',  index_col=None)"
   ]
  },
  {
   "cell_type": "code",
   "execution_count": 93,
   "id": "f9b54716-4a89-4e36-84ae-030d74f6a480",
   "metadata": {},
   "outputs": [],
   "source": [
    "btc_with_sections_df = pd.read_csv(r'C:\\Users\\Bilal\\crypto\\thesis\\my-repos\\cryptocurrencies-kpa\\data\\processed\\whitepapers\\btc_with_sections.csv', index_col=None)"
   ]
  },
  {
   "cell_type": "markdown",
   "id": "fb1813a9",
   "metadata": {},
   "source": [
    "# clustering with TOP2Vec"
   ]
  },
  {
   "cell_type": "code",
   "execution_count": 86,
   "id": "268b493d",
   "metadata": {},
   "outputs": [
    {
     "data": {
      "text/html": [
       "<div>\n",
       "<style scoped>\n",
       "    .dataframe tbody tr th:only-of-type {\n",
       "        vertical-align: middle;\n",
       "    }\n",
       "\n",
       "    .dataframe tbody tr th {\n",
       "        vertical-align: top;\n",
       "    }\n",
       "\n",
       "    .dataframe thead th {\n",
       "        text-align: right;\n",
       "    }\n",
       "</style>\n",
       "<table border=\"1\" class=\"dataframe\">\n",
       "  <thead>\n",
       "    <tr style=\"text-align: right;\">\n",
       "      <th></th>\n",
       "      <th>text</th>\n",
       "      <th>section</th>\n",
       "    </tr>\n",
       "  </thead>\n",
       "  <tbody>\n",
       "    <tr>\n",
       "      <th>0</th>\n",
       "      <td>A purely peer-to-peer version of electronic cash would allow online payments to be sent directly from one party to another without going through a financial institution. Digital signatures provide part of the solution, but the main benefits are lost if a trusted third party is still required to prevent double-spending. We propose a solution to the double-spending problem using a peer-to-peer network. The network timestamps transactions by hashing them into an ongoing chain of hash-based proof-of-work, forming a record that cannot be changed without redoing the proof-of-work. The longest chain not only serves as proof of the sequence of events witnessed, but proof that it came from the largest pool of CPU power. As long as a majority of CPU power is controlled by nodes that are not cooperating to attack the network, they'll generate the longest chain and outpace attackers. The network itself requires minimal structure. Messages are broadcast on a best effort basis, and nodes can leave and rejoin the network at will, accepting the longest proof-of-work chain as proof of what happened while they were gone.</td>\n",
       "      <td>Abstract</td>\n",
       "    </tr>\n",
       "  </tbody>\n",
       "</table>\n",
       "</div>"
      ],
      "text/plain": [
       "                                                                                                                                                                                                                                                                                                                                                                                                                                                                                                                                                                                                                                                                                                                                                                                                                                                                                                                                                                                                                                                                                                                                                               text  \\\n",
       "0  A purely peer-to-peer version of electronic cash would allow online payments to be sent directly from one party to another without going through a financial institution. Digital signatures provide part of the solution, but the main benefits are lost if a trusted third party is still required to prevent double-spending. We propose a solution to the double-spending problem using a peer-to-peer network. The network timestamps transactions by hashing them into an ongoing chain of hash-based proof-of-work, forming a record that cannot be changed without redoing the proof-of-work. The longest chain not only serves as proof of the sequence of events witnessed, but proof that it came from the largest pool of CPU power. As long as a majority of CPU power is controlled by nodes that are not cooperating to attack the network, they'll generate the longest chain and outpace attackers. The network itself requires minimal structure. Messages are broadcast on a best effort basis, and nodes can leave and rejoin the network at will, accepting the longest proof-of-work chain as proof of what happened while they were gone.   \n",
       "\n",
       "    section  \n",
       "0  Abstract  "
      ]
     },
     "execution_count": 86,
     "metadata": {},
     "output_type": "execute_result"
    }
   ],
   "source": [
    "pd.set_option('display.max_colwidth', None)\n",
    "btc_with_sections_df.head(1)"
   ]
  },
  {
   "cell_type": "code",
   "execution_count": 94,
   "id": "ae1c3b3e-3587-4ae1-88c7-27dabc631aad",
   "metadata": {},
   "outputs": [],
   "source": [
    "import nltk\n",
    "btc_with_sections_df[\"sents\"] =  btc_with_sections_df.apply(lambda x : nltk.tokenize.sent_tokenize(x[\"text\"]), axis=1)"
   ]
  },
  {
   "cell_type": "code",
   "execution_count": 95,
   "id": "9c6ea86d-a714-4bb3-a3b0-b3d9d8e4bb1e",
   "metadata": {},
   "outputs": [],
   "source": [
    "all_sents =  []\n",
    "for i, row in btc_with_sections_df.iterrows():\n",
    "    all_sents.extend(list(row[\"sents\"]))"
   ]
  },
  {
   "cell_type": "code",
   "execution_count": null,
   "id": "3a106e86-de08-4491-8192-f53ae1847161",
   "metadata": {},
   "outputs": [],
   "source": [
    "all_sents"
   ]
  },
  {
   "cell_type": "code",
   "execution_count": 96,
   "id": "85e35abc-bb7a-4a29-bffc-14151db9143e",
   "metadata": {},
   "outputs": [],
   "source": [
    "btc_all_text = pd.DataFrame({\"sents\": \"\", \"text\": \"\", \"section\": \"all\"}, index=[0])\n",
    "btc_all_text.at[0, 'sents'] = all_sents\n",
    "btc_with_sections_df = pd.concat([btc_with_sections_df, btc_all_text])"
   ]
  },
  {
   "cell_type": "code",
   "execution_count": null,
   "id": "76b5be06-d52f-4432-9fa5-fbfe4d475a66",
   "metadata": {},
   "outputs": [],
   "source": [
    "btc_all_text"
   ]
  },
  {
   "cell_type": "code",
   "execution_count": null,
   "id": "d3fb5e31-ffdf-4519-b625-782615c1b004",
   "metadata": {},
   "outputs": [],
   "source": [
    "btc_with_sections_df[btc_with_sections_df[\"section\"] == 'all'].head(1)"
   ]
  },
  {
   "cell_type": "code",
   "execution_count": 113,
   "id": "1fb4d6c7-6340-42df-a095-cc6a752e4b68",
   "metadata": {},
   "outputs": [],
   "source": [
    "from sentence_transformers import SentenceTransformer\n",
    "from sklearn.cluster import AgglomerativeClustering\n",
    "import numpy as np \n",
    "\n",
    "embedder = SentenceTransformer('distiluse-base-multilingual-cased-v2')\n",
    "\n",
    "def agglomerative_clustering(corpus, n_clusters=10):\n",
    "    corpus_embeddings = embedder.encode(corpus)\n",
    "    # Normalize the embeddings to unit length\n",
    "    corpus_embeddings = corpus_embeddings /  np.linalg.norm(corpus_embeddings, axis=1, keepdims=True)\n",
    "    clustering_model = AgglomerativeClustering(n_clusters=n_clusters, distance_threshold=None)#affinity='cosine', linkage='average', distance_threshold=0.4)\n",
    "    clustering_model.fit_predict(corpus_embeddings)\n",
    "    cluster_assignment = clustering_model.labels_\n",
    "    clustered_sentences = {}\n",
    "    for sentence_id, cluster_id in enumerate(cluster_assignment):\n",
    "        if cluster_id not in clustered_sentences:\n",
    "            clustered_sentences[cluster_id] = []\n",
    "        clustered_sentences[cluster_id].append(corpus[sentence_id])\n",
    "    \n",
    "    df = pd.DataFrame({\"cluster_id\": clustered_sentences.keys(), \"sentences\": clustered_sentences.values()})\n",
    "    return df\n",
    "        \n",
    "    "
   ]
  },
  {
   "cell_type": "code",
   "execution_count": 114,
   "id": "53a92970-c242-43b8-ac11-2edeb730abf3",
   "metadata": {},
   "outputs": [],
   "source": [
    "results = agglomerative_clustering(all_sents)"
   ]
  },
  {
   "cell_type": "code",
   "execution_count": 115,
   "id": "edd67f50-a22e-451c-86a7-3a07208821b5",
   "metadata": {},
   "outputs": [
    {
     "data": {
      "text/html": [
       "<div>\n",
       "<style scoped>\n",
       "    .dataframe tbody tr th:only-of-type {\n",
       "        vertical-align: middle;\n",
       "    }\n",
       "\n",
       "    .dataframe tbody tr th {\n",
       "        vertical-align: top;\n",
       "    }\n",
       "\n",
       "    .dataframe thead th {\n",
       "        text-align: right;\n",
       "    }\n",
       "</style>\n",
       "<table border=\"1\" class=\"dataframe\">\n",
       "  <thead>\n",
       "    <tr style=\"text-align: right;\">\n",
       "      <th></th>\n",
       "      <th>cluster_id</th>\n",
       "      <th>sentences</th>\n",
       "    </tr>\n",
       "  </thead>\n",
       "  <tbody>\n",
       "    <tr>\n",
       "      <th>0</th>\n",
       "      <td>6</td>\n",
       "      <td>[A purely peer-to-peer version of electronic cash would allow online payments to be sent directly from one party to another without going through a financial institution., Commerce on the Internet has come to rely almost exclusively on financial institutions serving as trusted third parties to process electronic payments., Completely non-reversible transactions are not really possible, since financial institutions cannot avoid mediating disputes., The cost of mediation increases transaction costs, limiting the minimum practical transaction size and cutting off the possibility for small casual transactions, and there is a broader cost in the loss of ability to make non-reversible payments for nonreversible services., These costs and payment uncertainties can be avoided in person by using physical currency, but no mechanism exists to make payments over a communications channel without a trusted party., Transactions that are computationally impractical to reverse would protect sellers from fraud, and routine escrow mechanisms could easily be implemented to protect buyers., A common solution is to introduce a trusted central authority, or mint, that checks every transaction for double spending., After each transaction, the coin must be returned to the mint to issue a new coin, and only coins issued directly from the mint are trusted not to be double-spent., The problem with this solution is that the fate of the entire money system depends on the company running the mint, with every transaction having to go through them, just like a bank., This adds an incentive for nodes to support the network, and provides\\na way to initially distribute coins into circulation, since there is no central authority to issue them., The steady addition of a constant of amount of new coins is analogous to gold miners expending\\nresources to add gold to circulation., Once a predetermined number of coins have entered\\ncirculation, the incentive can transition entirely to transaction fees and be completely inflation\\nfree., If a greedy attacker is able to\\nassemble more CPU power than all the honest nodes, he would have to choose between using it\\nto defraud people by stealing back his payments, or using it to generate new coins., He ought to\\nfind it more profitable to play by the rules, such rules that favour him with more new coins than\\neveryone else combined, than to undermine the system and the validity of his own wealth., Although it would be possible to handle coins individually, it would be unwieldy to make a separate transaction for every cent in a transfer., Even if this is accomplished, it does not throw the system open to arbitrary changes, such as creating value out of thin air or taking money that never belonged to the attacker., An attacker can only try to change one of his own transactions to take back money he recently spent., We assume the sender is an attacker who wants to make the recipient believe he paid him for a while, then switch it to pay back to himself after some time has passed.]</td>\n",
       "    </tr>\n",
       "    <tr>\n",
       "      <th>1</th>\n",
       "      <td>1</td>\n",
       "      <td>[Digital signatures provide part of the solution, but the main benefits are lost if a trusted third party is still required to prevent double-spending., The longest chain not only serves as proof of the sequence of events witnessed, but proof that it came from the largest pool of CPU power., We define an electronic coin as a chain of digital signatures., A payee can verify the signatures to verify the chain of ownership., The problem of course is the payee can't verify that one of the owners did not double-spend the coin., The proof-of-work also solves the problem of determining representation in majority decision making., If the majority were based on one-IP-address-one-vote, it could be subverted by anyone able to allocate many IPs., Proof-of-work is essentially one-CPU-one-vote., The majority decision is represented by the longest chain, which has the greatest proof-of-work effort invested in it., We started with the usual framework of coins made from digital signatures, which provides strong control of ownership, but is incomplete without a way to prevent double-spending.]</td>\n",
       "    </tr>\n",
       "  </tbody>\n",
       "</table>\n",
       "</div>"
      ],
      "text/plain": [
       "   cluster_id  \\\n",
       "0           6   \n",
       "1           1   \n",
       "\n",
       "                                                                                                                                                                                                                                                                                                                                                                                                                                                                                                                                                                                                                                                                                                                                                                                                                                                                                                                                                                                                                                                                                                                                                                                                                                                                                                                                                                                                                                                                                                                                                                                                                                                                                                                                                                                                                                                                                                                                                                                                                                                                                                                                                                                                                                                                                                                                                                                                                                                                                                                                                                                                                                                                                                                                                                                                                                                                                                                                                                                                                                                                                                                                                     sentences  \n",
       "0  [A purely peer-to-peer version of electronic cash would allow online payments to be sent directly from one party to another without going through a financial institution., Commerce on the Internet has come to rely almost exclusively on financial institutions serving as trusted third parties to process electronic payments., Completely non-reversible transactions are not really possible, since financial institutions cannot avoid mediating disputes., The cost of mediation increases transaction costs, limiting the minimum practical transaction size and cutting off the possibility for small casual transactions, and there is a broader cost in the loss of ability to make non-reversible payments for nonreversible services., These costs and payment uncertainties can be avoided in person by using physical currency, but no mechanism exists to make payments over a communications channel without a trusted party., Transactions that are computationally impractical to reverse would protect sellers from fraud, and routine escrow mechanisms could easily be implemented to protect buyers., A common solution is to introduce a trusted central authority, or mint, that checks every transaction for double spending., After each transaction, the coin must be returned to the mint to issue a new coin, and only coins issued directly from the mint are trusted not to be double-spent., The problem with this solution is that the fate of the entire money system depends on the company running the mint, with every transaction having to go through them, just like a bank., This adds an incentive for nodes to support the network, and provides\\na way to initially distribute coins into circulation, since there is no central authority to issue them., The steady addition of a constant of amount of new coins is analogous to gold miners expending\\nresources to add gold to circulation., Once a predetermined number of coins have entered\\ncirculation, the incentive can transition entirely to transaction fees and be completely inflation\\nfree., If a greedy attacker is able to\\nassemble more CPU power than all the honest nodes, he would have to choose between using it\\nto defraud people by stealing back his payments, or using it to generate new coins., He ought to\\nfind it more profitable to play by the rules, such rules that favour him with more new coins than\\neveryone else combined, than to undermine the system and the validity of his own wealth., Although it would be possible to handle coins individually, it would be unwieldy to make a separate transaction for every cent in a transfer., Even if this is accomplished, it does not throw the system open to arbitrary changes, such as creating value out of thin air or taking money that never belonged to the attacker., An attacker can only try to change one of his own transactions to take back money he recently spent., We assume the sender is an attacker who wants to make the recipient believe he paid him for a while, then switch it to pay back to himself after some time has passed.]  \n",
       "1                                                                                                                                                                                                                                                                                                                                                                                                                                                                                                                                                                                                                                                                                                                                                                                                                                                                                                                                                                                                                                                                                                                                                                                                                                                                                                                                                                                                                                                                                                                                                                                                                                                                                                                                                                                                                                                                                                                                                                                                                        [Digital signatures provide part of the solution, but the main benefits are lost if a trusted third party is still required to prevent double-spending., The longest chain not only serves as proof of the sequence of events witnessed, but proof that it came from the largest pool of CPU power., We define an electronic coin as a chain of digital signatures., A payee can verify the signatures to verify the chain of ownership., The problem of course is the payee can't verify that one of the owners did not double-spend the coin., The proof-of-work also solves the problem of determining representation in majority decision making., If the majority were based on one-IP-address-one-vote, it could be subverted by anyone able to allocate many IPs., Proof-of-work is essentially one-CPU-one-vote., The majority decision is represented by the longest chain, which has the greatest proof-of-work effort invested in it., We started with the usual framework of coins made from digital signatures, which provides strong control of ownership, but is incomplete without a way to prevent double-spending.]  "
      ]
     },
     "execution_count": 115,
     "metadata": {},
     "output_type": "execute_result"
    }
   ],
   "source": [
    "results.head(2)"
   ]
  },
  {
   "cell_type": "code",
   "execution_count": 104,
   "id": "9a4e3085-6499-4b12-b054-a88e4ac97026",
   "metadata": {},
   "outputs": [
    {
     "data": {
      "text/plain": [
       "130"
      ]
     },
     "execution_count": 104,
     "metadata": {},
     "output_type": "execute_result"
    }
   ],
   "source": [
    "len(cluster_assignment)"
   ]
  },
  {
   "cell_type": "code",
   "execution_count": 97,
   "id": "8f6a1551-46be-48eb-a630-1ce57ba71268",
   "metadata": {},
   "outputs": [],
   "source": [
    "from top2vec import Top2Vec\n",
    "def top_2_vec(row, results_df):\n",
    "    corpus = list(row['sents'])\n",
    "    print(len(corpus))\n",
    "    model = Top2Vec(corpus,  embedding_model='distiluse-base-multilingual-cased-v2', hdbscan_args={\"min_cluster_size\":5}, min_count =5)\n",
    "    topic_sizes, topic_nums = model.get_topic_sizes()\n",
    "    topic_words, word_scores, topic_nums = model.get_topics(len(topic_nums))\n",
    "    aspect_docs = []\n",
    "    aspect_docs_scores = []\n",
    "    sub_topic_ids = []\n",
    "    topics_size = []\n",
    "    topic_word = []\n",
    "    word_score = []\n",
    "    sections = []\n",
    "    for t_s, t_n in zip(topic_sizes, topic_nums):\n",
    "        sub_topic_ids.append(t_n)\n",
    "        documents, document_scores, document_ids = model.search_documents_by_topic(topic_num=t_n, num_docs=t_s)\n",
    "        aspect_docs.append(documents)\n",
    "        aspect_docs_scores.append(document_scores)\n",
    "        topics_size.append(topic_sizes[t_n])\n",
    "        topic_word.append(topic_words[t_n])\n",
    "        word_score.append(word_scores[t_n])\n",
    "        sections.append(row[\"section\"])\n",
    "    results_df = pd.concat([results_df, pd.DataFrame({ \"section\": sections, \"aspect_id\": sub_topic_ids, \"aspect_docs\": aspect_docs, \"aspect_docs_scores\": aspect_docs_scores, \"topic_size\": topics_size, \"topic_words\":topic_word, \"word_scores\": word_score})])\n",
    "    return results_df"
   ]
  },
  {
   "cell_type": "code",
   "execution_count": 98,
   "id": "7aa10c39",
   "metadata": {},
   "outputs": [
    {
     "name": "stderr",
     "output_type": "stream",
     "text": [
      "2022-02-17 15:23:41,322 - top2vec - INFO - Pre-processing documents for training\n",
      "C:\\Users\\Bilal\\AppData\\Roaming\\Python\\Python37\\site-packages\\sklearn\\utils\\deprecation.py:87: FutureWarning: Function get_feature_names is deprecated; get_feature_names is deprecated in 1.0 and will be removed in 1.2. Please use get_feature_names_out instead.\n",
      "  warnings.warn(msg, category=FutureWarning)\n",
      "2022-02-17 15:23:41,338 - top2vec - INFO - Downloading distiluse-base-multilingual-cased-v2 model\n"
     ]
    },
    {
     "name": "stdout",
     "output_type": "stream",
     "text": [
      "130\n"
     ]
    },
    {
     "name": "stderr",
     "output_type": "stream",
     "text": [
      "2022-02-17 15:23:49,677 - top2vec - INFO - Creating joint document/word embedding\n",
      "2022-02-17 15:23:51,334 - top2vec - INFO - Creating lower dimension embedding of documents\n",
      "2022-02-17 15:23:53,648 - top2vec - INFO - Finding dense areas of documents\n",
      "2022-02-17 15:23:53,656 - top2vec - INFO - Finding topics\n"
     ]
    }
   ],
   "source": [
    "# good results were shown from paraphrase-multilingual-MiniLM-L12-v2, distiluse-base-multilingual-cased-v2\n",
    "\n",
    "btc_with_sections_df = btc_with_sections_df[btc_with_sections_df[\"section\"] == 'all']\n",
    "\n",
    "results_df = pd.DataFrame({})\n",
    "for index, row in btc_with_sections_df.iterrows():\n",
    "    try:\n",
    "        results_df = top_2_vec(row, results_df)\n",
    "    except Exception as e:\n",
    "        print(e)\n",
    "        continue\n",
    "    \n",
    "results_df['centroid'] = results_df['aspect_docs'].apply(lambda row: row[0] )"
   ]
  },
  {
   "cell_type": "code",
   "execution_count": 116,
   "id": "e34ffc48-d172-4505-844b-4a0c1dd3ea6d",
   "metadata": {},
   "outputs": [],
   "source": [
    "# top 2 vec => all paper in one cluster\n",
    "# agglomerative_clustering with sentence transformer, n_cluster = 10\n",
    "results.to_csv(r\"C:\\Users\\Bilal\\crypto\\thesis\\my-repos\\cryptocurrencies-kpa\\data\\processed\\whitepapers\\agglomerative_clustering_btc.csv\")"
   ]
  },
  {
   "cell_type": "code",
   "execution_count": 117,
   "id": "d9c9d309-2d82-4001-bd0a-b9ffb1b322fc",
   "metadata": {},
   "outputs": [
    {
     "data": {
      "text/html": [
       "<div>\n",
       "<style scoped>\n",
       "    .dataframe tbody tr th:only-of-type {\n",
       "        vertical-align: middle;\n",
       "    }\n",
       "\n",
       "    .dataframe tbody tr th {\n",
       "        vertical-align: top;\n",
       "    }\n",
       "\n",
       "    .dataframe thead th {\n",
       "        text-align: right;\n",
       "    }\n",
       "</style>\n",
       "<table border=\"1\" class=\"dataframe\">\n",
       "  <thead>\n",
       "    <tr style=\"text-align: right;\">\n",
       "      <th></th>\n",
       "      <th>cluster_id</th>\n",
       "      <th>sentences</th>\n",
       "    </tr>\n",
       "  </thead>\n",
       "  <tbody>\n",
       "    <tr>\n",
       "      <th>0</th>\n",
       "      <td>6</td>\n",
       "      <td>[A purely peer-to-peer version of electronic cash would allow online payments to be sent directly from one party to another without going through a financial institution., Commerce on the Internet has come to rely almost exclusively on financial institutions serving as trusted third parties to process electronic payments., Completely non-reversible transactions are not really possible, since financial institutions cannot avoid mediating disputes., The cost of mediation increases transaction costs, limiting the minimum practical transaction size and cutting off the possibility for small casual transactions, and there is a broader cost in the loss of ability to make non-reversible payments for nonreversible services., These costs and payment uncertainties can be avoided in person by using physical currency, but no mechanism exists to make payments over a communications channel without a trusted party., Transactions that are computationally impractical to reverse would protect sellers from fraud, and routine escrow mechanisms could easily be implemented to protect buyers., A common solution is to introduce a trusted central authority, or mint, that checks every transaction for double spending., After each transaction, the coin must be returned to the mint to issue a new coin, and only coins issued directly from the mint are trusted not to be double-spent., The problem with this solution is that the fate of the entire money system depends on the company running the mint, with every transaction having to go through them, just like a bank., This adds an incentive for nodes to support the network, and provides\\na way to initially distribute coins into circulation, since there is no central authority to issue them., The steady addition of a constant of amount of new coins is analogous to gold miners expending\\nresources to add gold to circulation., Once a predetermined number of coins have entered\\ncirculation, the incentive can transition entirely to transaction fees and be completely inflation\\nfree., If a greedy attacker is able to\\nassemble more CPU power than all the honest nodes, he would have to choose between using it\\nto defraud people by stealing back his payments, or using it to generate new coins., He ought to\\nfind it more profitable to play by the rules, such rules that favour him with more new coins than\\neveryone else combined, than to undermine the system and the validity of his own wealth., Although it would be possible to handle coins individually, it would be unwieldy to make a separate transaction for every cent in a transfer., Even if this is accomplished, it does not throw the system open to arbitrary changes, such as creating value out of thin air or taking money that never belonged to the attacker., An attacker can only try to change one of his own transactions to take back money he recently spent., We assume the sender is an attacker who wants to make the recipient believe he paid him for a while, then switch it to pay back to himself after some time has passed.]</td>\n",
       "    </tr>\n",
       "  </tbody>\n",
       "</table>\n",
       "</div>"
      ],
      "text/plain": [
       "   cluster_id  \\\n",
       "0           6   \n",
       "\n",
       "                                                                                                                                                                                                                                                                                                                                                                                                                                                                                                                                                                                                                                                                                                                                                                                                                                                                                                                                                                                                                                                                                                                                                                                                                                                                                                                                                                                                                                                                                                                                                                                                                                                                                                                                                                                                                                                                                                                                                                                                                                                                                                                                                                                                                                                                                                                                                                                                                                                                                                                                                                                                                                                                                                                                                                                                                                                                                                                                                                                                                                                                                                                                                     sentences  \n",
       "0  [A purely peer-to-peer version of electronic cash would allow online payments to be sent directly from one party to another without going through a financial institution., Commerce on the Internet has come to rely almost exclusively on financial institutions serving as trusted third parties to process electronic payments., Completely non-reversible transactions are not really possible, since financial institutions cannot avoid mediating disputes., The cost of mediation increases transaction costs, limiting the minimum practical transaction size and cutting off the possibility for small casual transactions, and there is a broader cost in the loss of ability to make non-reversible payments for nonreversible services., These costs and payment uncertainties can be avoided in person by using physical currency, but no mechanism exists to make payments over a communications channel without a trusted party., Transactions that are computationally impractical to reverse would protect sellers from fraud, and routine escrow mechanisms could easily be implemented to protect buyers., A common solution is to introduce a trusted central authority, or mint, that checks every transaction for double spending., After each transaction, the coin must be returned to the mint to issue a new coin, and only coins issued directly from the mint are trusted not to be double-spent., The problem with this solution is that the fate of the entire money system depends on the company running the mint, with every transaction having to go through them, just like a bank., This adds an incentive for nodes to support the network, and provides\\na way to initially distribute coins into circulation, since there is no central authority to issue them., The steady addition of a constant of amount of new coins is analogous to gold miners expending\\nresources to add gold to circulation., Once a predetermined number of coins have entered\\ncirculation, the incentive can transition entirely to transaction fees and be completely inflation\\nfree., If a greedy attacker is able to\\nassemble more CPU power than all the honest nodes, he would have to choose between using it\\nto defraud people by stealing back his payments, or using it to generate new coins., He ought to\\nfind it more profitable to play by the rules, such rules that favour him with more new coins than\\neveryone else combined, than to undermine the system and the validity of his own wealth., Although it would be possible to handle coins individually, it would be unwieldy to make a separate transaction for every cent in a transfer., Even if this is accomplished, it does not throw the system open to arbitrary changes, such as creating value out of thin air or taking money that never belonged to the attacker., An attacker can only try to change one of his own transactions to take back money he recently spent., We assume the sender is an attacker who wants to make the recipient believe he paid him for a while, then switch it to pay back to himself after some time has passed.]  "
      ]
     },
     "execution_count": 117,
     "metadata": {},
     "output_type": "execute_result"
    }
   ],
   "source": [
    "results.head(1)"
   ]
  },
  {
   "cell_type": "code",
   "execution_count": null,
   "id": "a9082cdb-6a66-46f0-b6db-1c5f630b4170",
   "metadata": {},
   "outputs": [],
   "source": []
  }
 ],
 "metadata": {
  "kernelspec": {
   "display_name": "Python [conda env:thesis] *",
   "language": "python",
   "name": "conda-env-thesis-py"
  },
  "language_info": {
   "codemirror_mode": {
    "name": "ipython",
    "version": 3
   },
   "file_extension": ".py",
   "mimetype": "text/x-python",
   "name": "python",
   "nbconvert_exporter": "python",
   "pygments_lexer": "ipython3",
   "version": "3.8.13"
  }
 },
 "nbformat": 4,
 "nbformat_minor": 5
}

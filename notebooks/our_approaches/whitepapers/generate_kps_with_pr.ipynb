{
 "cells": [
  {
   "cell_type": "code",
   "execution_count": 9,
   "id": "73aa3ba5",
   "metadata": {},
   "outputs": [],
   "source": [
    "import json\n",
    "import pandas as pd\n",
    "import numpy as np\n",
    "import spacy\n",
    "from sklearn.metrics.pairwise import cosine_similarity\n",
    "\n",
    "\n",
    "from scipy import sparse\n",
    "from fast_pagerank import pagerank\n",
    "from fast_pagerank import pagerank_power\n",
    "\n",
    "from itertools import product\n",
    "\n",
    "\n",
    "pd.set_option('display.max_colwidth', None)"
   ]
  },
  {
   "cell_type": "code",
   "execution_count": 10,
   "id": "11bf82be",
   "metadata": {},
   "outputs": [],
   "source": [
    "import pandas as pd\n",
    "btc_df = pd.read_csv(r'C:\\Users\\Bilal\\crypto\\thesis\\my-repos\\cryptocurrencies-kpa\\data\\processed\\whitepapers\\btc.csv', index_col=None)\n",
    "eth_df= pd.read_csv(r'C:\\Users\\Bilal\\crypto\\thesis\\my-repos\\cryptocurrencies-kpa\\data\\processed\\whitepapers\\eth.csv',  index_col=None)\n",
    "ada_df = pd.read_csv(r'C:\\Users\\Bilal\\crypto\\thesis\\my-repos\\cryptocurrencies-kpa\\data\\processed\\whitepapers\\ada.csv',  index_col=None)\n",
    "sol_df = pd.read_csv(r'C:\\Users\\Bilal\\crypto\\thesis\\my-repos\\cryptocurrencies-kpa\\data\\processed\\whitepapers\\sol.csv',  index_col=None)"
   ]
  },
  {
   "cell_type": "code",
   "execution_count": 11,
   "id": "0d1a7b0b-73e4-40de-9e90-038e560db967",
   "metadata": {},
   "outputs": [],
   "source": [
    "btc_with_sections_df = pd.read_csv(r'C:\\Users\\Bilal\\crypto\\thesis\\my-repos\\cryptocurrencies-kpa\\data\\processed\\whitepapers\\btc_with_sections.csv', index_col=None)"
   ]
  },
  {
   "cell_type": "code",
   "execution_count": 12,
   "id": "6369d33b-9398-46e0-b120-7ad997c2196c",
   "metadata": {},
   "outputs": [],
   "source": [
    "import nltk\n",
    "btc_with_sections_df[\"sents\"] =  btc_with_sections_df.apply(lambda x : nltk.tokenize.sent_tokenize(x[\"text\"]), axis=1)"
   ]
  },
  {
   "cell_type": "code",
   "execution_count": 31,
   "id": "cd1d2465-9a72-46a1-b3f5-46fe84089bdb",
   "metadata": {},
   "outputs": [
    {
     "data": {
      "text/html": [
       "<div>\n",
       "<style scoped>\n",
       "    .dataframe tbody tr th:only-of-type {\n",
       "        vertical-align: middle;\n",
       "    }\n",
       "\n",
       "    .dataframe tbody tr th {\n",
       "        vertical-align: top;\n",
       "    }\n",
       "\n",
       "    .dataframe thead th {\n",
       "        text-align: right;\n",
       "    }\n",
       "</style>\n",
       "<table border=\"1\" class=\"dataframe\">\n",
       "  <thead>\n",
       "    <tr style=\"text-align: right;\">\n",
       "      <th></th>\n",
       "      <th>text</th>\n",
       "      <th>section</th>\n",
       "      <th>sents</th>\n",
       "    </tr>\n",
       "  </thead>\n",
       "  <tbody>\n",
       "    <tr>\n",
       "      <th>0</th>\n",
       "      <td>A purely peer-to-peer version of electronic cash would allow online payments to be sent directly from one party to another without going through a financial institution. Digital signatures provide part of the solution, but the main benefits are lost if a trusted third party is still required to prevent double-spending. We propose a solution to the double-spending problem using a peer-to-peer network. The network timestamps transactions by hashing them into an ongoing chain of hash-based proof-of-work, forming a record that cannot be changed without redoing the proof-of-work. The longest chain not only serves as proof of the sequence of events witnessed, but proof that it came from the largest pool of CPU power. As long as a majority of CPU power is controlled by nodes that are not cooperating to attack the network, they'll generate the longest chain and outpace attackers. The network itself requires minimal structure. Messages are broadcast on a best effort basis, and nodes can leave and rejoin the network at will, accepting the longest proof-of-work chain as proof of what happened while they were gone.</td>\n",
       "      <td>Abstract</td>\n",
       "      <td>[A purely peer-to-peer version of electronic cash would allow online payments to be sent directly from one party to another without going through a financial institution., Digital signatures provide part of the solution, but the main benefits are lost if a trusted third party is still required to prevent double-spending., We propose a solution to the double-spending problem using a peer-to-peer network., The network timestamps transactions by hashing them into an ongoing chain of hash-based proof-of-work, forming a record that cannot be changed without redoing the proof-of-work., The longest chain not only serves as proof of the sequence of events witnessed, but proof that it came from the largest pool of CPU power., As long as a majority of CPU power is controlled by nodes that are not cooperating to attack the network, they'll generate the longest chain and outpace attackers., The network itself requires minimal structure., Messages are broadcast on a best effort basis, and nodes can leave and rejoin the network at will, accepting the longest proof-of-work chain as proof of what happened while they were gone.]</td>\n",
       "    </tr>\n",
       "    <tr>\n",
       "      <th>1</th>\n",
       "      <td>Commerce on the Internet has come to rely almost exclusively on financial institutions serving as trusted third parties to process electronic payments. While the system works well enough for most transactions, it still suffers from the inherent weaknesses of the trust based model. Completely non-reversible transactions are not really possible, since financial institutions cannot avoid mediating disputes. The cost of mediation increases transaction costs, limiting the minimum practical transaction size and cutting off the possibility for small casual transactions, and there is a broader cost in the loss of ability to make non-reversible payments for nonreversible services. With the possibility of reversal, the need for trust spreads. Merchants must be wary of their customers, hassling them for more information than they would otherwise need. A certain percentage of fraud is accepted as unavoidable. These costs and payment uncertainties can be avoided in person by using physical currency, but no mechanism exists to make payments over a communications channel without a trusted party. What is needed is an electronic payment system based on cryptographic proof instead of trust, allowing any two willing parties to transact directly with each other without the need for a trusted third party. Transactions that are computationally impractical to reverse would protect sellers from fraud, and routine escrow mechanisms could easily be implemented to protect buyers. In this paper, we propose a solution to the double-spending problem using a peer-to-peer distributed timestamp server to generate computational proof of the chronological order of transactions. The system is secure as long as honest nodes collectively control more CPU power than any cooperating group of attacker nodes.</td>\n",
       "      <td>Introduction</td>\n",
       "      <td>[Commerce on the Internet has come to rely almost exclusively on financial institutions serving as trusted third parties to process electronic payments., While the system works well enough for most transactions, it still suffers from the inherent weaknesses of the trust based model., Completely non-reversible transactions are not really possible, since financial institutions cannot avoid mediating disputes., The cost of mediation increases transaction costs, limiting the minimum practical transaction size and cutting off the possibility for small casual transactions, and there is a broader cost in the loss of ability to make non-reversible payments for nonreversible services., With the possibility of reversal, the need for trust spreads., Merchants must be wary of their customers, hassling them for more information than they would otherwise need., A certain percentage of fraud is accepted as unavoidable., These costs and payment uncertainties can be avoided in person by using physical currency, but no mechanism exists to make payments over a communications channel without a trusted party., What is needed is an electronic payment system based on cryptographic proof instead of trust, allowing any two willing parties to transact directly with each other without the need for a trusted third party., Transactions that are computationally impractical to reverse would protect sellers from fraud, and routine escrow mechanisms could easily be implemented to protect buyers., In this paper, we propose a solution to the double-spending problem using a peer-to-peer distributed timestamp server to generate computational proof of the chronological order of transactions., The system is secure as long as honest nodes collectively control more CPU power than any cooperating group of attacker nodes.]</td>\n",
       "    </tr>\n",
       "  </tbody>\n",
       "</table>\n",
       "</div>"
      ],
      "text/plain": [
       "                                                                                                                                                                                                                                                                                                                                                                                                                                                                                                                                                                                                                                                                                                                                                                                                                                                                                                                                                                                                                                                                                                                                                                                                                                                                                                                                                                                                                                                                                                                                                                                                                                                                                                                                                                                                                                                                     text  \\\n",
       "0                                                                                                                                                                                                                                                                                                                                                                                                                                                                                                                                                                                                                                                                                                        A purely peer-to-peer version of electronic cash would allow online payments to be sent directly from one party to another without going through a financial institution. Digital signatures provide part of the solution, but the main benefits are lost if a trusted third party is still required to prevent double-spending. We propose a solution to the double-spending problem using a peer-to-peer network. The network timestamps transactions by hashing them into an ongoing chain of hash-based proof-of-work, forming a record that cannot be changed without redoing the proof-of-work. The longest chain not only serves as proof of the sequence of events witnessed, but proof that it came from the largest pool of CPU power. As long as a majority of CPU power is controlled by nodes that are not cooperating to attack the network, they'll generate the longest chain and outpace attackers. The network itself requires minimal structure. Messages are broadcast on a best effort basis, and nodes can leave and rejoin the network at will, accepting the longest proof-of-work chain as proof of what happened while they were gone.   \n",
       "1  Commerce on the Internet has come to rely almost exclusively on financial institutions serving as trusted third parties to process electronic payments. While the system works well enough for most transactions, it still suffers from the inherent weaknesses of the trust based model. Completely non-reversible transactions are not really possible, since financial institutions cannot avoid mediating disputes. The cost of mediation increases transaction costs, limiting the minimum practical transaction size and cutting off the possibility for small casual transactions, and there is a broader cost in the loss of ability to make non-reversible payments for nonreversible services. With the possibility of reversal, the need for trust spreads. Merchants must be wary of their customers, hassling them for more information than they would otherwise need. A certain percentage of fraud is accepted as unavoidable. These costs and payment uncertainties can be avoided in person by using physical currency, but no mechanism exists to make payments over a communications channel without a trusted party. What is needed is an electronic payment system based on cryptographic proof instead of trust, allowing any two willing parties to transact directly with each other without the need for a trusted third party. Transactions that are computationally impractical to reverse would protect sellers from fraud, and routine escrow mechanisms could easily be implemented to protect buyers. In this paper, we propose a solution to the double-spending problem using a peer-to-peer distributed timestamp server to generate computational proof of the chronological order of transactions. The system is secure as long as honest nodes collectively control more CPU power than any cooperating group of attacker nodes.   \n",
       "\n",
       "        section  \\\n",
       "0      Abstract   \n",
       "1  Introduction   \n",
       "\n",
       "                                                                                                                                                                                                                                                                                                                                                                                                                                                                                                                                                                                                                                                                                                                                                                                                                                                                                                                                                                                                                                                                                                                                                                                                                                                                                                                                                                                                                                                                                                                                                                                                                                                                                                                                                                                                                                                                                 sents  \n",
       "0                                                                                                                                                                                                                                                                                                                                                                                                                                                                                                                                                                                                                                                                                                            [A purely peer-to-peer version of electronic cash would allow online payments to be sent directly from one party to another without going through a financial institution., Digital signatures provide part of the solution, but the main benefits are lost if a trusted third party is still required to prevent double-spending., We propose a solution to the double-spending problem using a peer-to-peer network., The network timestamps transactions by hashing them into an ongoing chain of hash-based proof-of-work, forming a record that cannot be changed without redoing the proof-of-work., The longest chain not only serves as proof of the sequence of events witnessed, but proof that it came from the largest pool of CPU power., As long as a majority of CPU power is controlled by nodes that are not cooperating to attack the network, they'll generate the longest chain and outpace attackers., The network itself requires minimal structure., Messages are broadcast on a best effort basis, and nodes can leave and rejoin the network at will, accepting the longest proof-of-work chain as proof of what happened while they were gone.]  \n",
       "1  [Commerce on the Internet has come to rely almost exclusively on financial institutions serving as trusted third parties to process electronic payments., While the system works well enough for most transactions, it still suffers from the inherent weaknesses of the trust based model., Completely non-reversible transactions are not really possible, since financial institutions cannot avoid mediating disputes., The cost of mediation increases transaction costs, limiting the minimum practical transaction size and cutting off the possibility for small casual transactions, and there is a broader cost in the loss of ability to make non-reversible payments for nonreversible services., With the possibility of reversal, the need for trust spreads., Merchants must be wary of their customers, hassling them for more information than they would otherwise need., A certain percentage of fraud is accepted as unavoidable., These costs and payment uncertainties can be avoided in person by using physical currency, but no mechanism exists to make payments over a communications channel without a trusted party., What is needed is an electronic payment system based on cryptographic proof instead of trust, allowing any two willing parties to transact directly with each other without the need for a trusted third party., Transactions that are computationally impractical to reverse would protect sellers from fraud, and routine escrow mechanisms could easily be implemented to protect buyers., In this paper, we propose a solution to the double-spending problem using a peer-to-peer distributed timestamp server to generate computational proof of the chronological order of transactions., The system is secure as long as honest nodes collectively control more CPU power than any cooperating group of attacker nodes.]  "
      ]
     },
     "execution_count": 31,
     "metadata": {},
     "output_type": "execute_result"
    }
   ],
   "source": [
    "btc_with_sections_df.head(2)"
   ]
  },
  {
   "cell_type": "code",
   "execution_count": 7,
   "id": "84af9b4f-63f6-46f1-8396-018f3c2435b7",
   "metadata": {},
   "outputs": [
    {
     "data": {
      "text/plain": [
       "Index(['text', 'section', 'sents'], dtype='object')"
      ]
     },
     "execution_count": 7,
     "metadata": {},
     "output_type": "execute_result"
    }
   ],
   "source": [
    "btc_with_sections_df.columns"
   ]
  },
  {
   "cell_type": "code",
   "execution_count": 13,
   "id": "5d9ee994",
   "metadata": {},
   "outputs": [],
   "source": [
    "from sentence_transformers import SentenceTransformer, util\n",
    "model = SentenceTransformer('distiluse-base-multilingual-cased-v2')"
   ]
  },
  {
   "cell_type": "code",
   "execution_count": 14,
   "id": "3bad4014",
   "metadata": {},
   "outputs": [],
   "source": [
    "def gen_match_matrix(model, sents, min_match_score=0):\n",
    "    sents1 = [x for x in sents]\n",
    "    sents1_embeddings = model.encode(sents1)\n",
    "    sim_matrix = cosine_similarity(sents1_embeddings, sents1_embeddings)\n",
    "    super_threshold_indices = sim_matrix < min_match_score\n",
    "    sim_matrix[super_threshold_indices] = 0\n",
    "    return sim_matrix"
   ]
  },
  {
   "cell_type": "code",
   "execution_count": 84,
   "id": "184dbd62",
   "metadata": {},
   "outputs": [],
   "source": [
    "def filter_ranked_list(ranked_sents, model, min_match=0.8, N=3):\n",
    "    ranked_sents = [x[0] for x in ranked_sents]\n",
    "    filtered_sents = []\n",
    "    for i, s in enumerate(ranked_sents):\n",
    "        if len(filtered_sents) >= N or len(filtered_sents) >= len(ranked_sents):\n",
    "            break\n",
    "        if len(filtered_sents) == 0:\n",
    "            filtered_sents.append(s)\n",
    "            # print('FFFF ' , s)\n",
    "        else:\n",
    "            matching_scores = gen_match_matrix(model, [s] + filtered_sents)\n",
    "            max_sim = np.max(matching_scores[0][1:])\n",
    "            # print(matching_scores)\n",
    "            if max_sim < min_match:\n",
    "                # print('SSSS ' , s)\n",
    "                filtered_sents.append(s)\n",
    "        \n",
    "        # print(min_match)\n",
    "    \n",
    "    return filtered_sents"
   ]
  },
  {
   "cell_type": "code",
   "execution_count": 25,
   "id": "a67dc3e9",
   "metadata": {},
   "outputs": [],
   "source": [
    "def apply_page_rank(sentences, p=0.85, min_match_score=0.5, min_len=5, max_len=35):\n",
    "    cand_sents = [x for x in sentences if len(x.split()) < max_len and len(x.split()) > min_len]\n",
    "    if len(cand_sents) == 0:\n",
    "        print('empty')\n",
    "        return []\n",
    "    # print(cands)\n",
    "    # print(cands_qualities)\n",
    "    cands_matching_mat = gen_match_matrix(model, cand_sents, min_match_score=min_match_score)\n",
    "    pr = pagerank(cands_matching_mat, p=p)  # it looks like modifying the initial probability doesn't help\n",
    "    # pr=pagerank(cands_matching_mat, p=p)\n",
    "    ranked_candidates = list(zip(cand_sents, pr))\n",
    "    return sorted(ranked_candidates, key=lambda x: -x[1])"
   ]
  },
  {
   "cell_type": "code",
   "execution_count": 85,
   "id": "e8ba2a82",
   "metadata": {},
   "outputs": [
    {
     "name": "stderr",
     "output_type": "stream",
     "text": [
      "C:\\Users\\Bilal\\AppData\\Roaming\\Python\\Python39\\site-packages\\scipy\\sparse\\linalg\\_dsolve\\linsolve.py:144: SparseEfficiencyWarning: spsolve requires A be CSC or CSR matrix format\n",
      "  warn('spsolve requires A be CSC or CSR matrix format',\n",
      "C:\\Users\\Bilal\\AppData\\Roaming\\Python\\Python39\\site-packages\\scipy\\sparse\\linalg\\_dsolve\\linsolve.py:144: SparseEfficiencyWarning: spsolve requires A be CSC or CSR matrix format\n",
      "  warn('spsolve requires A be CSC or CSR matrix format',\n",
      "C:\\Users\\Bilal\\AppData\\Roaming\\Python\\Python39\\site-packages\\scipy\\sparse\\linalg\\_dsolve\\linsolve.py:144: SparseEfficiencyWarning: spsolve requires A be CSC or CSR matrix format\n",
      "  warn('spsolve requires A be CSC or CSR matrix format',\n",
      "C:\\Users\\Bilal\\AppData\\Roaming\\Python\\Python39\\site-packages\\scipy\\sparse\\linalg\\_dsolve\\linsolve.py:144: SparseEfficiencyWarning: spsolve requires A be CSC or CSR matrix format\n",
      "  warn('spsolve requires A be CSC or CSR matrix format',\n",
      "C:\\Users\\Bilal\\AppData\\Roaming\\Python\\Python39\\site-packages\\scipy\\sparse\\linalg\\_dsolve\\linsolve.py:144: SparseEfficiencyWarning: spsolve requires A be CSC or CSR matrix format\n",
      "  warn('spsolve requires A be CSC or CSR matrix format',\n",
      "C:\\Users\\Bilal\\AppData\\Roaming\\Python\\Python39\\site-packages\\scipy\\sparse\\linalg\\_dsolve\\linsolve.py:144: SparseEfficiencyWarning: spsolve requires A be CSC or CSR matrix format\n",
      "  warn('spsolve requires A be CSC or CSR matrix format',\n",
      "C:\\Users\\Bilal\\AppData\\Roaming\\Python\\Python39\\site-packages\\scipy\\sparse\\linalg\\_dsolve\\linsolve.py:144: SparseEfficiencyWarning: spsolve requires A be CSC or CSR matrix format\n",
      "  warn('spsolve requires A be CSC or CSR matrix format',\n",
      "C:\\Users\\Bilal\\AppData\\Roaming\\Python\\Python39\\site-packages\\scipy\\sparse\\linalg\\_dsolve\\linsolve.py:144: SparseEfficiencyWarning: spsolve requires A be CSC or CSR matrix format\n",
      "  warn('spsolve requires A be CSC or CSR matrix format',\n",
      "C:\\Users\\Bilal\\AppData\\Roaming\\Python\\Python39\\site-packages\\scipy\\sparse\\linalg\\_dsolve\\linsolve.py:144: SparseEfficiencyWarning: spsolve requires A be CSC or CSR matrix format\n",
      "  warn('spsolve requires A be CSC or CSR matrix format',\n",
      "C:\\Users\\Bilal\\AppData\\Roaming\\Python\\Python39\\site-packages\\scipy\\sparse\\linalg\\_dsolve\\linsolve.py:144: SparseEfficiencyWarning: spsolve requires A be CSC or CSR matrix format\n",
      "  warn('spsolve requires A be CSC or CSR matrix format',\n",
      "C:\\Users\\Bilal\\AppData\\Roaming\\Python\\Python39\\site-packages\\scipy\\sparse\\linalg\\_dsolve\\linsolve.py:144: SparseEfficiencyWarning: spsolve requires A be CSC or CSR matrix format\n",
      "  warn('spsolve requires A be CSC or CSR matrix format',\n",
      "C:\\Users\\Bilal\\AppData\\Roaming\\Python\\Python39\\site-packages\\scipy\\sparse\\linalg\\_dsolve\\linsolve.py:144: SparseEfficiencyWarning: spsolve requires A be CSC or CSR matrix format\n",
      "  warn('spsolve requires A be CSC or CSR matrix format',\n",
      "C:\\Users\\Bilal\\AppData\\Roaming\\Python\\Python39\\site-packages\\scipy\\sparse\\linalg\\_dsolve\\linsolve.py:144: SparseEfficiencyWarning: spsolve requires A be CSC or CSR matrix format\n",
      "  warn('spsolve requires A be CSC or CSR matrix format',\n"
     ]
    }
   ],
   "source": [
    "ranked_sents_per_section = []\n",
    "\n",
    "sections = []\n",
    "ranked_sents_per_section = []\n",
    "ranked_kps_per_section = []\n",
    "for i, row in btc_with_sections_df.iterrows():\n",
    "    ranked_sents = apply_page_rank(row['sents'], p=0.2, min_match_score=0.5)\n",
    "    ranked_sents_per_section.append(ranked_sents)\n",
    "    ranked_kps = filter_ranked_list(ranked_sents, model, min_match=0.8, N=2)\n",
    "    ranked_kps_per_section.append(ranked_kps)\n",
    "    sections.append(row[\"section\"])\n",
    "    \n",
    "results_df = pd.DataFrame({\"sections\": sections, \"ranked_sents\": ranked_sents_per_section, \"ranked_kps\": ranked_kps_per_section})\n"
   ]
  },
  {
   "cell_type": "code",
   "execution_count": 86,
   "id": "cb066a71-5c0b-464c-8039-f059e6a62e0c",
   "metadata": {},
   "outputs": [
    {
     "data": {
      "text/html": [
       "<div>\n",
       "<style scoped>\n",
       "    .dataframe tbody tr th:only-of-type {\n",
       "        vertical-align: middle;\n",
       "    }\n",
       "\n",
       "    .dataframe tbody tr th {\n",
       "        vertical-align: top;\n",
       "    }\n",
       "\n",
       "    .dataframe thead th {\n",
       "        text-align: right;\n",
       "    }\n",
       "</style>\n",
       "<table border=\"1\" class=\"dataframe\">\n",
       "  <thead>\n",
       "    <tr style=\"text-align: right;\">\n",
       "      <th></th>\n",
       "      <th>sections</th>\n",
       "      <th>ranked_kps</th>\n",
       "    </tr>\n",
       "  </thead>\n",
       "  <tbody>\n",
       "    <tr>\n",
       "      <th>0</th>\n",
       "      <td>Abstract</td>\n",
       "      <td>[Messages are broadcast on a best effort basis, and nodes can leave and rejoin the network at will, accepting the longest proof-of-work chain as proof of what happened while they were gone., A purely peer-to-peer version of electronic cash would allow online payments to be sent directly from one party to another without going through a financial institution.]</td>\n",
       "    </tr>\n",
       "    <tr>\n",
       "      <th>1</th>\n",
       "      <td>Introduction</td>\n",
       "      <td>[Completely non-reversible transactions are not really possible, since financial institutions cannot avoid mediating disputes., Commerce on the Internet has come to rely almost exclusively on financial institutions serving as trusted third parties to process electronic payments.]</td>\n",
       "    </tr>\n",
       "    <tr>\n",
       "      <th>2</th>\n",
       "      <td>Transactions</td>\n",
       "      <td>[After each transaction, the coin must be returned to the mint to issue a new coin, and only coins issued directly from the mint are trusted not to be double-spent., The problem with this solution is that the fate of the entire money system depends on the company running the mint, with every transaction having to go through them, just like a bank.]</td>\n",
       "    </tr>\n",
       "    <tr>\n",
       "      <th>3</th>\n",
       "      <td>Timestamp Server</td>\n",
       "      <td>[The solution we propose begins with a timestamp server., A timestamp server works by taking a hash of a block of items to be timestamped and widely publishing the hash, such as in a newspaper or Usenet post [2-5].]</td>\n",
       "    </tr>\n",
       "    <tr>\n",
       "      <th>4</th>\n",
       "      <td>Proof-of-Work</td>\n",
       "      <td>[To modify a past block, an attacker would have to redo the proof-of-work of the block and all blocks after it and then catch up with and surpass the work of the honest nodes., To compensate for increasing hardware speed and varying interest in running nodes over time, the proof-of-work difficulty is determined by a moving average targeting an average number of blocks per hour.]</td>\n",
       "    </tr>\n",
       "    <tr>\n",
       "      <th>5</th>\n",
       "      <td>Network</td>\n",
       "      <td>[2) Each node collects new transactions into a block., 4) When a node finds a proof-of-work, it broadcasts the block to all nodes.]</td>\n",
       "    </tr>\n",
       "    <tr>\n",
       "      <th>6</th>\n",
       "      <td>Incentive</td>\n",
       "      <td>[The incentive can also be funded with transaction fees., By convention, the first transaction in a block is a special transaction that starts a new coin owned\\nby the creator of the block.]</td>\n",
       "    </tr>\n",
       "    <tr>\n",
       "      <th>7</th>\n",
       "      <td>Reclaiming Disk Space</td>\n",
       "      <td>[Once the latest transaction in a coin is buried under enough blocks, the spent transactions before it can be discarded to save disk space., To facilitate this without breaking the block's hash, transactions are hashed in a Merkle Tree [7][2][5], with only the root included in the block's hash.]</td>\n",
       "    </tr>\n",
       "    <tr>\n",
       "      <th>8</th>\n",
       "      <td>Simplified Payment Verification</td>\n",
       "      <td>[As such, the verification is reliable as long as honest nodes control the network, but is more vulnerable if the network is overpowered by an attacker., It is possible to verify payments without running a full network node.]</td>\n",
       "    </tr>\n",
       "    <tr>\n",
       "      <th>9</th>\n",
       "      <td>Combining and Splitting Value</td>\n",
       "      <td>[Although it would be possible to handle coins individually, it would be unwieldy to make a separate transaction for every cent in a transfer., To allow value to be split and combined, transactions contain multiple inputs and outputs.]</td>\n",
       "    </tr>\n",
       "  </tbody>\n",
       "</table>\n",
       "</div>"
      ],
      "text/plain": [
       "                          sections  \\\n",
       "0                         Abstract   \n",
       "1                     Introduction   \n",
       "2                     Transactions   \n",
       "3                 Timestamp Server   \n",
       "4                    Proof-of-Work   \n",
       "5                          Network   \n",
       "6                        Incentive   \n",
       "7            Reclaiming Disk Space   \n",
       "8  Simplified Payment Verification   \n",
       "9    Combining and Splitting Value   \n",
       "\n",
       "                                                                                                                                                                                                                                                                                                                                                                                      ranked_kps  \n",
       "0                      [Messages are broadcast on a best effort basis, and nodes can leave and rejoin the network at will, accepting the longest proof-of-work chain as proof of what happened while they were gone., A purely peer-to-peer version of electronic cash would allow online payments to be sent directly from one party to another without going through a financial institution.]  \n",
       "1                                                                                                       [Completely non-reversible transactions are not really possible, since financial institutions cannot avoid mediating disputes., Commerce on the Internet has come to rely almost exclusively on financial institutions serving as trusted third parties to process electronic payments.]  \n",
       "2                                 [After each transaction, the coin must be returned to the mint to issue a new coin, and only coins issued directly from the mint are trusted not to be double-spent., The problem with this solution is that the fate of the entire money system depends on the company running the mint, with every transaction having to go through them, just like a bank.]  \n",
       "3                                                                                                                                                                        [The solution we propose begins with a timestamp server., A timestamp server works by taking a hash of a block of items to be timestamped and widely publishing the hash, such as in a newspaper or Usenet post [2-5].]  \n",
       "4  [To modify a past block, an attacker would have to redo the proof-of-work of the block and all blocks after it and then catch up with and surpass the work of the honest nodes., To compensate for increasing hardware speed and varying interest in running nodes over time, the proof-of-work difficulty is determined by a moving average targeting an average number of blocks per hour.]  \n",
       "5                                                                                                                                                                                                                                                            [2) Each node collects new transactions into a block., 4) When a node finds a proof-of-work, it broadcasts the block to all nodes.]  \n",
       "6                                                                                                                                                                                                 [The incentive can also be funded with transaction fees., By convention, the first transaction in a block is a special transaction that starts a new coin owned\\nby the creator of the block.]  \n",
       "7                                                                                       [Once the latest transaction in a coin is buried under enough blocks, the spent transactions before it can be discarded to save disk space., To facilitate this without breaking the block's hash, transactions are hashed in a Merkle Tree [7][2][5], with only the root included in the block's hash.]  \n",
       "8                                                                                                                                                              [As such, the verification is reliable as long as honest nodes control the network, but is more vulnerable if the network is overpowered by an attacker., It is possible to verify payments without running a full network node.]  \n",
       "9                                                                                                                                                    [Although it would be possible to handle coins individually, it would be unwieldy to make a separate transaction for every cent in a transfer., To allow value to be split and combined, transactions contain multiple inputs and outputs.]  "
      ]
     },
     "execution_count": 86,
     "metadata": {},
     "output_type": "execute_result"
    }
   ],
   "source": [
    "results_df[[\"sections\", \"ranked_kps\"]].head(10)"
   ]
  },
  {
   "cell_type": "code",
   "execution_count": null,
   "id": "4f560d14-d079-4d91-8dea-dd73c5626f05",
   "metadata": {},
   "outputs": [],
   "source": [
    "ranked_sents_per_section"
   ]
  },
  {
   "cell_type": "code",
   "execution_count": 35,
   "id": "21b27618-7abf-44bb-af07-3e9d7ca50c14",
   "metadata": {},
   "outputs": [],
   "source": [
    "all_text = []\n",
    "for i, row in btc_with_sections_df.iterrows():\n",
    "    all_text.extend(row[\"sents\"])"
   ]
  },
  {
   "cell_type": "code",
   "execution_count": 51,
   "id": "eb64e4f2-6a35-466e-896c-414a0ca38744",
   "metadata": {},
   "outputs": [
    {
     "name": "stderr",
     "output_type": "stream",
     "text": [
      "C:\\Users\\Bilal\\AppData\\Roaming\\Python\\Python39\\site-packages\\scipy\\sparse\\linalg\\_dsolve\\linsolve.py:144: SparseEfficiencyWarning: spsolve requires A be CSC or CSR matrix format\n",
      "  warn('spsolve requires A be CSC or CSR matrix format',\n"
     ]
    }
   ],
   "source": [
    "# with all text \n",
    "ranked_sents = apply_page_rank(all_text, p=0.2, min_match_score=0.5)\n",
    "ranked_kps = filter_ranked_list(ranked_sents, model, min_match=0.8, N=20)"
   ]
  },
  {
   "cell_type": "code",
   "execution_count": 52,
   "id": "81cc5fb5-2174-4cc5-828c-8641e5cf72e5",
   "metadata": {},
   "outputs": [
    {
     "data": {
      "text/plain": [
       "['As later blocks are chained after it, the work to change the block would include redoing all the blocks after it.',\n",
       " '2) Each node collects new transactions into a block.',\n",
       " '5) Nodes accept the block only if all transactions in it are valid and not already spent.',\n",
       " \"As long as a majority of CPU power is controlled by nodes that are not cooperating to attack the network, they'll generate the longest chain and outpace attackers.\",\n",
       " 'Once the CPU effort has been expended to make it satisfy the proof-of-work, the block cannot be changed without redoing the work.',\n",
       " 'In this paper, we propose a solution to the double-spending problem using a peer-to-peer distributed timestamp server to generate computational proof of the chronological order of transactions.',\n",
       " 'A purely peer-to-peer version of electronic cash would allow online payments to be sent directly from one party to another without going through a financial institution.',\n",
       " 'To modify a past block, an attacker would have to redo the proof-of-work of the block and all blocks after it and then catch up with and surpass the work of the honest nodes.',\n",
       " 'What is needed is an electronic payment system based on cryptographic proof instead of trust, allowing any two willing parties to transact directly with each other without the need for a trusted third party.',\n",
       " 'If a node does not receive a block, it will request it when it receives the next block and realizes it missed one.',\n",
       " '4) When a node finds a proof-of-work, it broadcasts the block to all nodes.',\n",
       " 'The network timestamps transactions by hashing them into an ongoing chain of hash-based proof-of-work, forming a record that cannot be changed without redoing the proof-of-work.',\n",
       " 'As such, the verification is reliable as long as honest nodes control the network, but is more vulnerable if the network is overpowered by an attacker.',\n",
       " 'The system is secure as long as honest nodes collectively control more CPU power than any cooperating group of attacker nodes.',\n",
       " 'The majority decision is represented by the longest chain, which has the greatest proof-of-work effort invested in it.',\n",
       " 'We will show later that the probability of a slower attacker catching up diminishes exponentially as subsequent blocks are added.',\n",
       " 'The average work required is exponential in the number of zero bits required and can be verified by executing a single hash.',\n",
       " 'We define an electronic coin as a chain of digital signatures.',\n",
       " 'The problem with this solution is that the fate of the entire money system depends on the company running the mint, with every transaction having to go through them, just like a bank.',\n",
       " 'The payee needs proof that at the time of each transaction, the majority of nodes agreed it was the first received.',\n",
       " 'The timestamp proves that the data must have existed at the time, obviously, in order to get into the hash.']"
      ]
     },
     "execution_count": 52,
     "metadata": {},
     "output_type": "execute_result"
    }
   ],
   "source": [
    "# all text ranked\n",
    "ranked_kps"
   ]
  },
  {
   "cell_type": "code",
   "execution_count": 54,
   "id": "65c5e4bf-4f63-41c1-b49c-9c0e47bca562",
   "metadata": {},
   "outputs": [],
   "source": [
    "# clusered\n",
    "clustered_df = pd.read_csv(r\"C:\\Users\\Bilal\\crypto\\thesis\\my-repos\\cryptocurrencies-kpa\\data\\processed\\whitepapers\\agglomerative_clustering_btc.csv\")"
   ]
  },
  {
   "cell_type": "code",
   "execution_count": 76,
   "id": "ec8b6d60-16d1-4bd6-a6c3-960026a196a4",
   "metadata": {},
   "outputs": [],
   "source": [
    "from ast import literal_eval\n",
    "clustered_df[\"sentences\"] = clustered_df[\"sentences\"].apply(lambda x: literal_eval(x))"
   ]
  },
  {
   "cell_type": "code",
   "execution_count": 77,
   "id": "7607f1fd-f347-4999-965b-a432285cd9b1",
   "metadata": {},
   "outputs": [
    {
     "data": {
      "text/plain": [
       "0    [A purely peer-to-peer version of electronic cash would allow online payments to be sent directly from one party to another without going through a financial institution., Commerce on the Internet has come to rely almost exclusively on financial institutions serving as trusted third parties to process electronic payments., Completely non-reversible transactions are not really possible, since financial institutions cannot avoid mediating disputes., The cost of mediation increases transaction costs, limiting the minimum practical transaction size and cutting off the possibility for small casual transactions, and there is a broader cost in the loss of ability to make non-reversible payments for nonreversible services., These costs and payment uncertainties can be avoided in person by using physical currency, but no mechanism exists to make payments over a communications channel without a trusted party., Transactions that are computationally impractical to reverse would protect sellers from fraud, and routine escrow mechanisms could easily be implemented to protect buyers., A common solution is to introduce a trusted central authority, or mint, that checks every transaction for double spending., After each transaction, the coin must be returned to the mint to issue a new coin, and only coins issued directly from the mint are trusted not to be double-spent., The problem with this solution is that the fate of the entire money system depends on the company running the mint, with every transaction having to go through them, just like a bank., This adds an incentive for nodes to support the network, and provides\\na way to initially distribute coins into circulation, since there is no central authority to issue them., The steady addition of a constant of amount of new coins is analogous to gold miners expending\\nresources to add gold to circulation., Once a predetermined number of coins have entered\\ncirculation, the incentive can transition entirely to transaction fees and be completely inflation\\nfree., If a greedy attacker is able to\\nassemble more CPU power than all the honest nodes, he would have to choose between using it\\nto defraud people by stealing back his payments, or using it to generate new coins., He ought to\\nfind it more profitable to play by the rules, such rules that favour him with more new coins than\\neveryone else combined, than to undermine the system and the validity of his own wealth., Although it would be possible to handle coins individually, it would be unwieldy to make a separate transaction for every cent in a transfer., Even if this is accomplished, it does not throw the system open to arbitrary changes, such as creating value out of thin air or taking money that never belonged to the attacker., An attacker can only try to change one of his own transactions to take back money he recently spent., We assume the sender is an attacker who wants to make the recipient believe he paid him for a while, then switch it to pay back to himself after some time has passed.]\n",
       "Name: sentences, dtype: object"
      ]
     },
     "execution_count": 77,
     "metadata": {},
     "output_type": "execute_result"
    }
   ],
   "source": [
    "clustered_df[\"sentences\"].head(1)"
   ]
  },
  {
   "cell_type": "code",
   "execution_count": 64,
   "id": "56a8d95f-9627-4073-81db-431b677aff5c",
   "metadata": {},
   "outputs": [
    {
     "data": {
      "text/plain": [
       "[]"
      ]
     },
     "execution_count": 64,
     "metadata": {},
     "output_type": "execute_result"
    }
   ],
   "source": [
    "cand_sents"
   ]
  },
  {
   "cell_type": "code",
   "execution_count": 87,
   "id": "25fa1354-6d5e-441e-a9a7-fb984300fb4a",
   "metadata": {},
   "outputs": [
    {
     "name": "stderr",
     "output_type": "stream",
     "text": [
      "C:\\Users\\Bilal\\AppData\\Roaming\\Python\\Python39\\site-packages\\scipy\\sparse\\linalg\\_dsolve\\linsolve.py:144: SparseEfficiencyWarning: spsolve requires A be CSC or CSR matrix format\n",
      "  warn('spsolve requires A be CSC or CSR matrix format',\n",
      "C:\\Users\\Bilal\\AppData\\Roaming\\Python\\Python39\\site-packages\\scipy\\sparse\\linalg\\_dsolve\\linsolve.py:144: SparseEfficiencyWarning: spsolve requires A be CSC or CSR matrix format\n",
      "  warn('spsolve requires A be CSC or CSR matrix format',\n",
      "C:\\Users\\Bilal\\AppData\\Roaming\\Python\\Python39\\site-packages\\scipy\\sparse\\linalg\\_dsolve\\linsolve.py:144: SparseEfficiencyWarning: spsolve requires A be CSC or CSR matrix format\n",
      "  warn('spsolve requires A be CSC or CSR matrix format',\n",
      "C:\\Users\\Bilal\\AppData\\Roaming\\Python\\Python39\\site-packages\\scipy\\sparse\\linalg\\_dsolve\\linsolve.py:144: SparseEfficiencyWarning: spsolve requires A be CSC or CSR matrix format\n",
      "  warn('spsolve requires A be CSC or CSR matrix format',\n",
      "C:\\Users\\Bilal\\AppData\\Roaming\\Python\\Python39\\site-packages\\scipy\\sparse\\linalg\\_dsolve\\linsolve.py:144: SparseEfficiencyWarning: spsolve requires A be CSC or CSR matrix format\n",
      "  warn('spsolve requires A be CSC or CSR matrix format',\n",
      "C:\\Users\\Bilal\\AppData\\Roaming\\Python\\Python39\\site-packages\\scipy\\sparse\\linalg\\_dsolve\\linsolve.py:144: SparseEfficiencyWarning: spsolve requires A be CSC or CSR matrix format\n",
      "  warn('spsolve requires A be CSC or CSR matrix format',\n",
      "C:\\Users\\Bilal\\AppData\\Roaming\\Python\\Python39\\site-packages\\scipy\\sparse\\linalg\\_dsolve\\linsolve.py:144: SparseEfficiencyWarning: spsolve requires A be CSC or CSR matrix format\n",
      "  warn('spsolve requires A be CSC or CSR matrix format',\n",
      "C:\\Users\\Bilal\\AppData\\Roaming\\Python\\Python39\\site-packages\\scipy\\sparse\\linalg\\_dsolve\\linsolve.py:144: SparseEfficiencyWarning: spsolve requires A be CSC or CSR matrix format\n",
      "  warn('spsolve requires A be CSC or CSR matrix format',\n",
      "C:\\Users\\Bilal\\AppData\\Roaming\\Python\\Python39\\site-packages\\scipy\\sparse\\linalg\\_dsolve\\linsolve.py:144: SparseEfficiencyWarning: spsolve requires A be CSC or CSR matrix format\n",
      "  warn('spsolve requires A be CSC or CSR matrix format',\n",
      "C:\\Users\\Bilal\\AppData\\Roaming\\Python\\Python39\\site-packages\\scipy\\sparse\\linalg\\_dsolve\\linsolve.py:144: SparseEfficiencyWarning: spsolve requires A be CSC or CSR matrix format\n",
      "  warn('spsolve requires A be CSC or CSR matrix format',\n"
     ]
    }
   ],
   "source": [
    "cluster_ids = []\n",
    "ranked_sents_per_cluster = []\n",
    "ranked_kps_per_cluster = []\n",
    "for i, row in clustered_df.iterrows():\n",
    "    ranked_sents = apply_page_rank(row['sentences'], p=0.2, min_match_score=0.5)\n",
    "    ranked_sents_per_cluster.append(ranked_sents)\n",
    "    ranked_kps = filter_ranked_list(ranked_sents, model, min_match=0.8, N=2)\n",
    "    ranked_kps_per_cluster.append(ranked_kps)\n",
    "    cluster_ids.append(row[\"cluster_id\"])\n",
    "    \n",
    "results_clustered_df = pd.DataFrame({\"clusters\": cluster_ids, \"ranked_sents\": ranked_sents_per_cluster, \"ranked_kps\": ranked_kps_per_cluster})"
   ]
  },
  {
   "cell_type": "code",
   "execution_count": 88,
   "id": "c1f8ceb5",
   "metadata": {},
   "outputs": [
    {
     "data": {
      "text/html": [
       "<div>\n",
       "<style scoped>\n",
       "    .dataframe tbody tr th:only-of-type {\n",
       "        vertical-align: middle;\n",
       "    }\n",
       "\n",
       "    .dataframe tbody tr th {\n",
       "        vertical-align: top;\n",
       "    }\n",
       "\n",
       "    .dataframe thead th {\n",
       "        text-align: right;\n",
       "    }\n",
       "</style>\n",
       "<table border=\"1\" class=\"dataframe\">\n",
       "  <thead>\n",
       "    <tr style=\"text-align: right;\">\n",
       "      <th></th>\n",
       "      <th>clusters</th>\n",
       "      <th>ranked_kps</th>\n",
       "    </tr>\n",
       "  </thead>\n",
       "  <tbody>\n",
       "    <tr>\n",
       "      <th>0</th>\n",
       "      <td>6</td>\n",
       "      <td>[Completely non-reversible transactions are not really possible, since financial institutions cannot avoid mediating disputes., After each transaction, the coin must be returned to the mint to issue a new coin, and only coins issued directly from the mint are trusted not to be double-spent.]</td>\n",
       "    </tr>\n",
       "    <tr>\n",
       "      <th>1</th>\n",
       "      <td>1</td>\n",
       "      <td>[We started with the usual framework of coins made from digital signatures, which provides strong control of ownership, but is incomplete without a way to prevent double-spending., The majority decision is represented by the longest chain, which has the greatest proof-of-work effort invested in it.]</td>\n",
       "    </tr>\n",
       "    <tr>\n",
       "      <th>2</th>\n",
       "      <td>8</td>\n",
       "      <td>[In this paper, we propose a solution to the double-spending problem using a peer-to-peer distributed timestamp server to generate computational proof of the chronological order of transactions., A timestamp server works by taking a hash of a block of items to be timestamped and widely publishing the hash, such as in a newspaper or Usenet post [2-5].]</td>\n",
       "    </tr>\n",
       "    <tr>\n",
       "      <th>3</th>\n",
       "      <td>4</td>\n",
       "      <td>[As long as a majority of CPU power is controlled by nodes that are not cooperating to attack the network, they'll generate the longest chain and outpace attackers., Nodes can leave and rejoin the network at will, accepting the proof-of-work chain as proof of what happened while they were gone.]</td>\n",
       "    </tr>\n",
       "    <tr>\n",
       "      <th>4</th>\n",
       "      <td>0</td>\n",
       "      <td>[The network itself requires minimal structure., With the possibility of reversal, the need for trust spreads.]</td>\n",
       "    </tr>\n",
       "    <tr>\n",
       "      <th>5</th>\n",
       "      <td>5</td>\n",
       "      <td>[While the system works well enough for most transactions, it still suffers from the inherent weaknesses of the trust based model., The public can see that someone is sending an amount to someone else, but without information linking the transaction to anyone.]</td>\n",
       "    </tr>\n",
       "    <tr>\n",
       "      <th>6</th>\n",
       "      <td>9</td>\n",
       "      <td>[Each owner transfers the coin to the next by digitally signing a hash of the previous transaction and the public key of the next owner and adding these to the end of the coin., By convention, the first transaction in a block is a special transaction that starts a new coin owned\\nby the creator of the block.]</td>\n",
       "    </tr>\n",
       "    <tr>\n",
       "      <th>7</th>\n",
       "      <td>2</td>\n",
       "      <td>[2) Each node collects new transactions into a block., As later blocks are chained after it, the work to change the block would include redoing all the blocks after it.]</td>\n",
       "    </tr>\n",
       "    <tr>\n",
       "      <th>8</th>\n",
       "      <td>3</td>\n",
       "      <td>[For our timestamp network, we implement the proof-of-work by incrementing a nonce in the block until a value is found that gives the block's hash the required zero bits., Once the CPU effort has been expended to make it satisfy the proof-of-work, the block cannot be changed without redoing the work.]</td>\n",
       "    </tr>\n",
       "    <tr>\n",
       "      <th>9</th>\n",
       "      <td>7</td>\n",
       "      <td>[We will show later that the probability of a slower attacker catching up diminishes exponentially as subsequent blocks are added., The race between the honest chain and an attacker chain can be characterized as a Binomial Random Walk.]</td>\n",
       "    </tr>\n",
       "  </tbody>\n",
       "</table>\n",
       "</div>"
      ],
      "text/plain": [
       "   clusters  \\\n",
       "0         6   \n",
       "1         1   \n",
       "2         8   \n",
       "3         4   \n",
       "4         0   \n",
       "5         5   \n",
       "6         9   \n",
       "7         2   \n",
       "8         3   \n",
       "9         7   \n",
       "\n",
       "                                                                                                                                                                                                                                                                                                                                                          ranked_kps  \n",
       "0                                                               [Completely non-reversible transactions are not really possible, since financial institutions cannot avoid mediating disputes., After each transaction, the coin must be returned to the mint to issue a new coin, and only coins issued directly from the mint are trusted not to be double-spent.]  \n",
       "1                                                       [We started with the usual framework of coins made from digital signatures, which provides strong control of ownership, but is incomplete without a way to prevent double-spending., The majority decision is represented by the longest chain, which has the greatest proof-of-work effort invested in it.]  \n",
       "2  [In this paper, we propose a solution to the double-spending problem using a peer-to-peer distributed timestamp server to generate computational proof of the chronological order of transactions., A timestamp server works by taking a hash of a block of items to be timestamped and widely publishing the hash, such as in a newspaper or Usenet post [2-5].]  \n",
       "3                                                           [As long as a majority of CPU power is controlled by nodes that are not cooperating to attack the network, they'll generate the longest chain and outpace attackers., Nodes can leave and rejoin the network at will, accepting the proof-of-work chain as proof of what happened while they were gone.]  \n",
       "4                                                                                                                                                                                                                                                    [The network itself requires minimal structure., With the possibility of reversal, the need for trust spreads.]  \n",
       "5                                                                                              [While the system works well enough for most transactions, it still suffers from the inherent weaknesses of the trust based model., The public can see that someone is sending an amount to someone else, but without information linking the transaction to anyone.]  \n",
       "6                                             [Each owner transfers the coin to the next by digitally signing a hash of the previous transaction and the public key of the next owner and adding these to the end of the coin., By convention, the first transaction in a block is a special transaction that starts a new coin owned\\nby the creator of the block.]  \n",
       "7                                                                                                                                                                                          [2) Each node collects new transactions into a block., As later blocks are chained after it, the work to change the block would include redoing all the blocks after it.]  \n",
       "8                                                     [For our timestamp network, we implement the proof-of-work by incrementing a nonce in the block until a value is found that gives the block's hash the required zero bits., Once the CPU effort has been expended to make it satisfy the proof-of-work, the block cannot be changed without redoing the work.]  \n",
       "9                                                                                                                       [We will show later that the probability of a slower attacker catching up diminishes exponentially as subsequent blocks are added., The race between the honest chain and an attacker chain can be characterized as a Binomial Random Walk.]  "
      ]
     },
     "execution_count": 88,
     "metadata": {},
     "output_type": "execute_result"
    }
   ],
   "source": [
    "results_clustered_df[[\"clusters\", \"ranked_kps\"]].head(10)"
   ]
  },
  {
   "cell_type": "code",
   "execution_count": null,
   "id": "1f258083",
   "metadata": {},
   "outputs": [],
   "source": []
  }
 ],
 "metadata": {
  "kernelspec": {
   "display_name": "Python [conda env:thesis] *",
   "language": "python",
   "name": "conda-env-thesis-py"
  },
  "language_info": {
   "codemirror_mode": {
    "name": "ipython",
    "version": 3
   },
   "file_extension": ".py",
   "mimetype": "text/x-python",
   "name": "python",
   "nbconvert_exporter": "python",
   "pygments_lexer": "ipython3",
   "version": "3.8.13"
  }
 },
 "nbformat": 4,
 "nbformat_minor": 5
}

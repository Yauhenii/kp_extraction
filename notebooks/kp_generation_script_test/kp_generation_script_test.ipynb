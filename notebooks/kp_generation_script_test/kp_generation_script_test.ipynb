{
 "cells": [
  {
   "cell_type": "markdown",
   "id": "b3e662d8",
   "metadata": {},
   "source": [
    "# Dataset generation"
   ]
  },
  {
   "cell_type": "code",
   "execution_count": 12,
   "id": "cbf40b36",
   "metadata": {},
   "outputs": [],
   "source": [
    "import pandas as pd"
   ]
  },
  {
   "cell_type": "code",
   "execution_count": 15,
   "id": "ab693328",
   "metadata": {},
   "outputs": [
    {
     "name": "stdout",
     "output_type": "stream",
     "text": [
      "final_test.csv small.csv\r\n"
     ]
    }
   ],
   "source": [
    "!ls ../../datasets/dataset_enigma_test"
   ]
  },
  {
   "cell_type": "code",
   "execution_count": 19,
   "id": "a26a7526",
   "metadata": {},
   "outputs": [],
   "source": [
    "dataset_folder_path = '../../datasets/dataset_enigma_test/'\n",
    "dataset_path = dataset_folder_path + 'final_test.csv'"
   ]
  },
  {
   "cell_type": "code",
   "execution_count": 4,
   "id": "e4f4a46f",
   "metadata": {},
   "outputs": [],
   "source": [
    "df = pd.read_csv(dataset_path)\n",
    "cols_to_leave = ['arg','topic','key_point']\n",
    "df = df[cols_to_leave]"
   ]
  },
  {
   "cell_type": "code",
   "execution_count": 5,
   "id": "a5625146",
   "metadata": {},
   "outputs": [
    {
     "data": {
      "text/html": [
       "<div>\n",
       "<style scoped>\n",
       "    .dataframe tbody tr th:only-of-type {\n",
       "        vertical-align: middle;\n",
       "    }\n",
       "\n",
       "    .dataframe tbody tr th {\n",
       "        vertical-align: top;\n",
       "    }\n",
       "\n",
       "    .dataframe thead th {\n",
       "        text-align: right;\n",
       "    }\n",
       "</style>\n",
       "<table border=\"1\" class=\"dataframe\">\n",
       "  <thead>\n",
       "    <tr style=\"text-align: right;\">\n",
       "      <th></th>\n",
       "      <th>arg</th>\n",
       "      <th>topic</th>\n",
       "      <th>key_point</th>\n",
       "    </tr>\n",
       "  </thead>\n",
       "  <tbody>\n",
       "    <tr>\n",
       "      <th>0</th>\n",
       "      <td>Routine child vaccinations isn't mandatory sin...</td>\n",
       "      <td>Routine child vaccinations should be mandatory</td>\n",
       "      <td>Routine child vaccinations, or their side effe...</td>\n",
       "    </tr>\n",
       "    <tr>\n",
       "      <th>1</th>\n",
       "      <td>Routine child vaccinations isn't mandatory sin...</td>\n",
       "      <td>Routine child vaccinations should be mandatory</td>\n",
       "      <td>Mandatory vaccination contradicts basic rights</td>\n",
       "    </tr>\n",
       "    <tr>\n",
       "      <th>2</th>\n",
       "      <td>Routine child vaccinations isn't mandatory sin...</td>\n",
       "      <td>Routine child vaccinations should be mandatory</td>\n",
       "      <td>The parents and not the state should decide</td>\n",
       "    </tr>\n",
       "    <tr>\n",
       "      <th>3</th>\n",
       "      <td>Routine child vaccinations isn't mandatory sin...</td>\n",
       "      <td>Routine child vaccinations should be mandatory</td>\n",
       "      <td>Routine child vaccinations are not necessary t...</td>\n",
       "    </tr>\n",
       "    <tr>\n",
       "      <th>4</th>\n",
       "      <td>Routine child vaccinations should not be manda...</td>\n",
       "      <td>Routine child vaccinations should be mandatory</td>\n",
       "      <td>Routine child vaccinations, or their side effe...</td>\n",
       "    </tr>\n",
       "  </tbody>\n",
       "</table>\n",
       "</div>"
      ],
      "text/plain": [
       "                                                 arg  \\\n",
       "0  Routine child vaccinations isn't mandatory sin...   \n",
       "1  Routine child vaccinations isn't mandatory sin...   \n",
       "2  Routine child vaccinations isn't mandatory sin...   \n",
       "3  Routine child vaccinations isn't mandatory sin...   \n",
       "4  Routine child vaccinations should not be manda...   \n",
       "\n",
       "                                            topic  \\\n",
       "0  Routine child vaccinations should be mandatory   \n",
       "1  Routine child vaccinations should be mandatory   \n",
       "2  Routine child vaccinations should be mandatory   \n",
       "3  Routine child vaccinations should be mandatory   \n",
       "4  Routine child vaccinations should be mandatory   \n",
       "\n",
       "                                           key_point  \n",
       "0  Routine child vaccinations, or their side effe...  \n",
       "1     Mandatory vaccination contradicts basic rights  \n",
       "2        The parents and not the state should decide  \n",
       "3  Routine child vaccinations are not necessary t...  \n",
       "4  Routine child vaccinations, or their side effe...  "
      ]
     },
     "execution_count": 5,
     "metadata": {},
     "output_type": "execute_result"
    }
   ],
   "source": [
    "small_df = df.head()\n",
    "small_df"
   ]
  },
  {
   "cell_type": "code",
   "execution_count": 6,
   "id": "4d53bea0",
   "metadata": {
    "scrolled": true
   },
   "outputs": [
    {
     "data": {
      "text/html": [
       "<div>\n",
       "<style scoped>\n",
       "    .dataframe tbody tr th:only-of-type {\n",
       "        vertical-align: middle;\n",
       "    }\n",
       "\n",
       "    .dataframe tbody tr th {\n",
       "        vertical-align: top;\n",
       "    }\n",
       "\n",
       "    .dataframe thead th {\n",
       "        text-align: right;\n",
       "    }\n",
       "</style>\n",
       "<table border=\"1\" class=\"dataframe\">\n",
       "  <thead>\n",
       "    <tr style=\"text-align: right;\">\n",
       "      <th></th>\n",
       "      <th>arg</th>\n",
       "      <th>topic</th>\n",
       "    </tr>\n",
       "  </thead>\n",
       "  <tbody>\n",
       "    <tr>\n",
       "      <th>0</th>\n",
       "      <td>Routine child vaccinations isn't mandatory sin...</td>\n",
       "      <td>Routine child vaccinations should be mandatory</td>\n",
       "    </tr>\n",
       "    <tr>\n",
       "      <th>1</th>\n",
       "      <td>Routine child vaccinations isn't mandatory sin...</td>\n",
       "      <td>Routine child vaccinations should be mandatory</td>\n",
       "    </tr>\n",
       "    <tr>\n",
       "      <th>2</th>\n",
       "      <td>Routine child vaccinations isn't mandatory sin...</td>\n",
       "      <td>Routine child vaccinations should be mandatory</td>\n",
       "    </tr>\n",
       "    <tr>\n",
       "      <th>3</th>\n",
       "      <td>Routine child vaccinations isn't mandatory sin...</td>\n",
       "      <td>Routine child vaccinations should be mandatory</td>\n",
       "    </tr>\n",
       "    <tr>\n",
       "      <th>4</th>\n",
       "      <td>Routine child vaccinations should not be manda...</td>\n",
       "      <td>Routine child vaccinations should be mandatory</td>\n",
       "    </tr>\n",
       "  </tbody>\n",
       "</table>\n",
       "</div>"
      ],
      "text/plain": [
       "                                                 arg  \\\n",
       "0  Routine child vaccinations isn't mandatory sin...   \n",
       "1  Routine child vaccinations isn't mandatory sin...   \n",
       "2  Routine child vaccinations isn't mandatory sin...   \n",
       "3  Routine child vaccinations isn't mandatory sin...   \n",
       "4  Routine child vaccinations should not be manda...   \n",
       "\n",
       "                                            topic  \n",
       "0  Routine child vaccinations should be mandatory  \n",
       "1  Routine child vaccinations should be mandatory  \n",
       "2  Routine child vaccinations should be mandatory  \n",
       "3  Routine child vaccinations should be mandatory  \n",
       "4  Routine child vaccinations should be mandatory  "
      ]
     },
     "execution_count": 6,
     "metadata": {},
     "output_type": "execute_result"
    }
   ],
   "source": [
    "cols_to_leave = ['arg','topic']\n",
    "arg_topic_small_df = small_df[cols_to_leave]\n",
    "arg_topic_small_df"
   ]
  },
  {
   "cell_type": "code",
   "execution_count": 14,
   "id": "8d2fbce6",
   "metadata": {},
   "outputs": [],
   "source": [
    "arg_topic_small_df.to_csv(generated_dataset_path)"
   ]
  },
  {
   "cell_type": "markdown",
   "id": "8d7a4a40",
   "metadata": {},
   "source": [
    "# kp_generation.py usage"
   ]
  },
  {
   "cell_type": "code",
   "execution_count": 16,
   "id": "1d40e48a",
   "metadata": {
    "scrolled": false
   },
   "outputs": [
    {
     "name": "stdout",
     "output_type": "stream",
     "text": [
      "kp_generation.py\r\n"
     ]
    }
   ],
   "source": [
    "!ls ../../scripts/"
   ]
  },
  {
   "cell_type": "code",
   "execution_count": 52,
   "id": "1f5a74f8",
   "metadata": {
    "scrolled": true
   },
   "outputs": [
    {
     "name": "stdout",
     "output_type": "stream",
     "text": [
      "   Unnamed: 0  ...                                             kp_gen\r\n",
      "0           0  ...  Parents are not required to vaccinate their ch...\r\n",
      "1           1  ...  Parents are not required to vaccinate their ch...\r\n",
      "2           2  ...  Parents are not required to vaccinate their ch...\r\n",
      "3           3  ...  Parents are not required to vaccinate their ch...\r\n",
      "4           4  ...  Parents are not adequately informed about the ...\r\n",
      "\r\n",
      "[5 rows x 5 columns]\r\n"
     ]
    }
   ],
   "source": [
    "!python3 ../../scripts/run_kp_generation.py \"../../datasets/dataset_enigma_test/small.csv\" \"../../model/enigma/\" 2"
   ]
  },
  {
   "cell_type": "markdown",
   "id": "67515e4b",
   "metadata": {},
   "source": [
    "# generate_kp usage"
   ]
  },
  {
   "cell_type": "code",
   "execution_count": 56,
   "id": "6ad83698",
   "metadata": {},
   "outputs": [],
   "source": [
    "import pandas as pd\n",
    "import torch\n",
    "from transformers import PegasusTokenizer, PegasusForConditionalGeneration"
   ]
  },
  {
   "cell_type": "code",
   "execution_count": 57,
   "id": "da90ad55",
   "metadata": {},
   "outputs": [],
   "source": [
    "device = \"gpu\" if torch.cuda.is_available() else \"cpu\""
   ]
  },
  {
   "cell_type": "code",
   "execution_count": 59,
   "id": "c239e466",
   "metadata": {},
   "outputs": [],
   "source": [
    "arg_topic_df = pd.read_csv(\"../../datasets/dataset_enigma_test/small.csv\")"
   ]
  },
  {
   "cell_type": "code",
   "execution_count": 58,
   "id": "815b0b6a",
   "metadata": {},
   "outputs": [],
   "source": [
    "tokenizer = PegasusTokenizer.from_pretrained(\"google/pegasus-xsum\")\n",
    "model = PegasusForConditionalGeneration.from_pretrained(\n",
    "    \"../../model/enigma/\",\n",
    "    local_files_only=True,\n",
    ")"
   ]
  },
  {
   "cell_type": "code",
   "execution_count": 62,
   "id": "1104e7ff",
   "metadata": {},
   "outputs": [],
   "source": [
    "batch_size=2"
   ]
  },
  {
   "cell_type": "code",
   "execution_count": 64,
   "id": "2039b8aa",
   "metadata": {},
   "outputs": [],
   "source": [
    "import sys\n",
    "sys.path.insert(1, '../../')\n",
    "from scripts.generate_kp import generate_kp"
   ]
  },
  {
   "cell_type": "code",
   "execution_count": 65,
   "id": "fda838e4",
   "metadata": {},
   "outputs": [
    {
     "name": "stdout",
     "output_type": "stream",
     "text": [
      "batch_id: 0\n",
      "curr_batch_size: 2\n",
      "Tokenizing...\n",
      "Generating...\n",
      "Decoding...\n",
      "batch_id: 1\n",
      "curr_batch_size: 2\n",
      "Tokenizing...\n",
      "Generating...\n",
      "Decoding...\n",
      "batch_id: 2\n",
      "curr_batch_size: 1\n",
      "Tokenizing...\n",
      "Generating...\n",
      "Decoding...\n",
      "   Unnamed: 0                                                arg  \\\n",
      "0           0  Routine child vaccinations isn't mandatory sin...   \n",
      "1           1  Routine child vaccinations isn't mandatory sin...   \n",
      "2           2  Routine child vaccinations isn't mandatory sin...   \n",
      "3           3  Routine child vaccinations isn't mandatory sin...   \n",
      "4           4  Routine child vaccinations should not be manda...   \n",
      "\n",
      "                                            topic  \\\n",
      "0  Routine child vaccinations should be mandatory   \n",
      "1  Routine child vaccinations should be mandatory   \n",
      "2  Routine child vaccinations should be mandatory   \n",
      "3  Routine child vaccinations should be mandatory   \n",
      "4  Routine child vaccinations should be mandatory   \n",
      "\n",
      "                                             feature  \\\n",
      "0  Routine child vaccinations isn't mandatory sin...   \n",
      "1  Routine child vaccinations isn't mandatory sin...   \n",
      "2  Routine child vaccinations isn't mandatory sin...   \n",
      "3  Routine child vaccinations isn't mandatory sin...   \n",
      "4  Routine child vaccinations should not be manda...   \n",
      "\n",
      "                                              kp_gen  \n",
      "0  Parents are not required to vaccinate their ch...  \n",
      "1  Parents are not required to vaccinate their ch...  \n",
      "2  Parents are not required to vaccinate their ch...  \n",
      "3  Parents are not required to vaccinate their ch...  \n",
      "4  Parents are not adequately informed about the ...  \n"
     ]
    }
   ],
   "source": [
    "kp_gen_df = generate_kp(\n",
    "        arg_topic_df,\n",
    "        model=model,\n",
    "        device=device,\n",
    "        tokenizer=tokenizer,\n",
    "        batch_size=batch_size,\n",
    "        verbose=True\n",
    ")\n",
    "print(kp_gen_df)"
   ]
  },
  {
   "cell_type": "code",
   "execution_count": null,
   "id": "cb5369ff",
   "metadata": {},
   "outputs": [],
   "source": []
  }
 ],
 "metadata": {
  "kernelspec": {
   "display_name": "venv",
   "language": "python",
   "name": "venv"
  },
  "language_info": {
   "codemirror_mode": {
    "name": "ipython",
    "version": 3
   },
   "file_extension": ".py",
   "mimetype": "text/x-python",
   "name": "python",
   "nbconvert_exporter": "python",
   "pygments_lexer": "ipython3",
   "version": "3.8.8"
  }
 },
 "nbformat": 4,
 "nbformat_minor": 5
}

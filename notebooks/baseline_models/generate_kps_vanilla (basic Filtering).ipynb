{
 "cells": [
  {
   "cell_type": "code",
   "execution_count": 3,
   "id": "76b62ead-ce3f-47cf-9717-c11e5716eeb0",
   "metadata": {},
   "outputs": [],
   "source": [
    "import sys\n",
    "sys.path.insert(0, '../../') \n",
    "from project.data.datasets.ARG_KP_2021.processor import load_dataset\n",
    "import pandas as pd"
   ]
  },
  {
   "cell_type": "markdown",
   "id": "cf6af1fb-2379-4e9c-8511-638f48b9033f",
   "metadata": {},
   "source": [
    "### load all arguments with quality score and ground truth kps "
   ]
  },
  {
   "cell_type": "code",
   "execution_count": 44,
   "id": "fd6fc457-4cb9-4ac0-a75a-4aa7a14d6fb1",
   "metadata": {},
   "outputs": [],
   "source": [
    "#train_df = pd.read_csv(r\"C:\\Users\\Bilal\\crypto\\thesis\\my-repos\\cryptocurrencies-kpa\\data\\processed\\ARG_KP_2021\\train_complete.csv\", index_col=None)\n",
    "#dev_df =  pd.read_csv(r\"C:\\Users\\Bilal\\crypto\\thesis\\my-repos\\cryptocurrencies-kpa\\data\\processed\\ARG_KP_2021\\dev_complete.csv\", index_col=None)\n",
    "test_df =  pd.read_csv(r\"C:\\Users\\Bilal\\crypto\\thesis\\my-repos\\cryptocurrencies-kpa\\data\\processed\\ARG_KP_2021\\test_complete.csv\", index_col=None)"
   ]
  },
  {
   "cell_type": "code",
   "execution_count": 45,
   "id": "f55e38af-1615-44f4-9706-d6e34848be7b",
   "metadata": {},
   "outputs": [
    {
     "name": "stdout",
     "output_type": "stream",
     "text": [
      "3923\n"
     ]
    },
    {
     "data": {
      "text/html": [
       "<div>\n",
       "<style scoped>\n",
       "    .dataframe tbody tr th:only-of-type {\n",
       "        vertical-align: middle;\n",
       "    }\n",
       "\n",
       "    .dataframe tbody tr th {\n",
       "        vertical-align: top;\n",
       "    }\n",
       "\n",
       "    .dataframe thead th {\n",
       "        text-align: right;\n",
       "    }\n",
       "</style>\n",
       "<table border=\"1\" class=\"dataframe\">\n",
       "  <thead>\n",
       "    <tr style=\"text-align: right;\">\n",
       "      <th></th>\n",
       "      <th>idx</th>\n",
       "      <th>arg_id</th>\n",
       "      <th>argument</th>\n",
       "      <th>topic</th>\n",
       "      <th>stance</th>\n",
       "      <th>MACE-P</th>\n",
       "      <th>key_point_id</th>\n",
       "      <th>key_point</th>\n",
       "      <th>label</th>\n",
       "      <th>label_strict</th>\n",
       "      <th>label_relaxed</th>\n",
       "      <th>text</th>\n",
       "      <th>sentence1</th>\n",
       "      <th>sentence2</th>\n",
       "    </tr>\n",
       "  </thead>\n",
       "  <tbody>\n",
       "    <tr>\n",
       "      <th>0</th>\n",
       "      <td>0</td>\n",
       "      <td>arg_0_0</td>\n",
       "      <td>Routine child vaccinations isn t mandatory since children don t spread the virus</td>\n",
       "      <td>Routine child vaccinations should be mandatory</td>\n",
       "      <td>-1</td>\n",
       "      <td>0.714195</td>\n",
       "      <td>kp_0_0</td>\n",
       "      <td>Routine child vaccinations  or their side effects  are dangerous</td>\n",
       "      <td>0.0</td>\n",
       "      <td>0.0</td>\n",
       "      <td>0.0</td>\n",
       "      <td>Routine child vaccinations isn t mandatory since children don t spread the virus Routine child vaccinations  or their side effects  are dangerous Routine child vaccinations should be mandatory</td>\n",
       "      <td>[CLS] Routine child vaccinations isn t mandatory since children don t spread the virus [SEP] Routine child vaccinations should be mandatory [SEP]</td>\n",
       "      <td>[CLS] Routine child vaccinations  or their side effects  are dangerous [SEP] Routine child vaccinations should be mandatory [SEP]</td>\n",
       "    </tr>\n",
       "    <tr>\n",
       "      <th>1</th>\n",
       "      <td>1</td>\n",
       "      <td>arg_0_0</td>\n",
       "      <td>Routine child vaccinations isn t mandatory since children don t spread the virus</td>\n",
       "      <td>Routine child vaccinations should be mandatory</td>\n",
       "      <td>-1</td>\n",
       "      <td>0.714195</td>\n",
       "      <td>kp_0_1</td>\n",
       "      <td>Mandatory vaccination contradicts basic rights</td>\n",
       "      <td>0.0</td>\n",
       "      <td>0.0</td>\n",
       "      <td>0.0</td>\n",
       "      <td>Routine child vaccinations isn t mandatory since children don t spread the virus Mandatory vaccination contradicts basic rights Routine child vaccinations should be mandatory</td>\n",
       "      <td>[CLS] Routine child vaccinations isn t mandatory since children don t spread the virus [SEP] Routine child vaccinations should be mandatory [SEP]</td>\n",
       "      <td>[CLS] Mandatory vaccination contradicts basic rights [SEP] Routine child vaccinations should be mandatory [SEP]</td>\n",
       "    </tr>\n",
       "  </tbody>\n",
       "</table>\n",
       "</div>"
      ],
      "text/plain": [
       "   idx   arg_id  \\\n",
       "0    0  arg_0_0   \n",
       "1    1  arg_0_0   \n",
       "\n",
       "                                                                           argument  \\\n",
       "0  Routine child vaccinations isn t mandatory since children don t spread the virus   \n",
       "1  Routine child vaccinations isn t mandatory since children don t spread the virus   \n",
       "\n",
       "                                            topic  stance    MACE-P  \\\n",
       "0  Routine child vaccinations should be mandatory      -1  0.714195   \n",
       "1  Routine child vaccinations should be mandatory      -1  0.714195   \n",
       "\n",
       "  key_point_id  \\\n",
       "0       kp_0_0   \n",
       "1       kp_0_1   \n",
       "\n",
       "                                                          key_point  label  \\\n",
       "0  Routine child vaccinations  or their side effects  are dangerous    0.0   \n",
       "1                    Mandatory vaccination contradicts basic rights    0.0   \n",
       "\n",
       "   label_strict  label_relaxed  \\\n",
       "0           0.0            0.0   \n",
       "1           0.0            0.0   \n",
       "\n",
       "                                                                                                                                                                                               text  \\\n",
       "0  Routine child vaccinations isn t mandatory since children don t spread the virus Routine child vaccinations  or their side effects  are dangerous Routine child vaccinations should be mandatory   \n",
       "1                    Routine child vaccinations isn t mandatory since children don t spread the virus Mandatory vaccination contradicts basic rights Routine child vaccinations should be mandatory   \n",
       "\n",
       "                                                                                                                                           sentence1  \\\n",
       "0  [CLS] Routine child vaccinations isn t mandatory since children don t spread the virus [SEP] Routine child vaccinations should be mandatory [SEP]   \n",
       "1  [CLS] Routine child vaccinations isn t mandatory since children don t spread the virus [SEP] Routine child vaccinations should be mandatory [SEP]   \n",
       "\n",
       "                                                                                                                           sentence2  \n",
       "0  [CLS] Routine child vaccinations  or their side effects  are dangerous [SEP] Routine child vaccinations should be mandatory [SEP]  \n",
       "1                    [CLS] Mandatory vaccination contradicts basic rights [SEP] Routine child vaccinations should be mandatory [SEP]  "
      ]
     },
     "execution_count": 45,
     "metadata": {},
     "output_type": "execute_result"
    }
   ],
   "source": [
    "print(len(test_df))\n",
    "test_df.head(2)"
   ]
  },
  {
   "cell_type": "code",
   "execution_count": 80,
   "id": "e5a3b38a-413c-445e-aa42-a90500e29149",
   "metadata": {},
   "outputs": [],
   "source": [
    "# import the potential kps, was prepare in a separate noteook (prepare_potential_kps.ipnyb)\n",
    "all_pot_sent_df = pd.read_csv(r'C:\\Users\\Bilal\\crypto\\thesis\\my-repos\\cryptocurrencies-kpa\\data\\processed\\pot_kps_cleaned_basic_filtering.csv', index_col=None)"
   ]
  },
  {
   "cell_type": "code",
   "execution_count": 46,
   "id": "315bc63c-4e6b-451f-9e78-c85e5fc2b4b1",
   "metadata": {},
   "outputs": [],
   "source": [
    "# to be able to compare, we take only arguments with positive single label\n",
    "test_ds_labeled = test_df[test_df['label'] == 1]\n",
    "test_ds_labeled = test_ds_labeled.sample(frac=1).drop_duplicates(subset='arg_id')"
   ]
  },
  {
   "cell_type": "markdown",
   "id": "3bbaa547-7003-4764-97d7-8c9ed87ef71f",
   "metadata": {},
   "source": [
    "### create cross args dataset\n",
    "\n",
    "Get every possible pair to get matching score from best model. "
   ]
  },
  {
   "cell_type": "code",
   "execution_count": 84,
   "id": "272c316d-29b4-4d00-80b2-5da05e115cb0",
   "metadata": {},
   "outputs": [],
   "source": [
    "# all_pot_sent_df has potential kps sentences and test_ds_labeled has the arguments we want to generate kps for them\n",
    "\n",
    "def get_paired_args(arguments_df, potential_kps, topic, stance):\n",
    "    args_ids = []\n",
    "    args = []\n",
    "    kps = []\n",
    "    q_scores = []\n",
    "    \n",
    "    filtered_arguments_df = arguments_df[arguments_df['topic'] == topic]\n",
    "    filtered_potential_kps_df = potential_kps[potential_kps['topic'] == topic]\n",
    "    \n",
    "    filtered_arguments_df = filtered_arguments_df[filtered_arguments_df['stance'] == stance]\n",
    "    filtered_potential_kps_df = filtered_potential_kps_df[filtered_potential_kps_df['stance'] == stance]\n",
    "    \n",
    "    unique_args_id = filtered_arguments_df['arg_id'].unique()\n",
    "    \n",
    "    for arg_id in unique_args_id:\n",
    "        arg_row = filtered_arguments_df[filtered_arguments_df[\"arg_id\"] == arg_id].iloc[0]\n",
    "        for  index, s_row in filtered_potential_kps_df.iterrows():\n",
    "            if arg_row[\"argument\"] == s_row[\"sentence\"]:\n",
    "                continue\n",
    "            args_ids.append(arg_id)\n",
    "            args.append(arg_row[\"argument\"])\n",
    "            kps.append(s_row[\"sentence\"])\n",
    "            q_scores.append(s_row[\"q_score\"])\n",
    "    \n",
    "    res_df = pd.DataFrame({\n",
    "        \"arg_id\": args_ids,\n",
    "        \"argument\": args,\n",
    "        \"key_point\": kps,\n",
    "        \"kp_q_score\": q_scores\n",
    "    })\n",
    "    \n",
    "    res_df['topic'] = topic\n",
    "    res_df['stance'] = stance\n",
    "    return res_df\n",
    "\n",
    "topics = test_ds_labeled['topic'].unique()\n",
    "stances = [-1, 1]\n",
    "\n",
    "cross_pairs_df = None\n",
    "for topic in topics:\n",
    "    for stance in stances:\n",
    "        if cross_pairs_df is None:\n",
    "            cross_pairs_df = get_paired_args(test_ds_labeled, all_pot_sent_df,  topic, stance)\n",
    "        else:\n",
    "            cross_pairs_df = pd.concat([cross_pairs_df, get_paired_args(test_ds_labeled, all_pot_sent_df, topic, stance)])"
   ]
  },
  {
   "cell_type": "code",
   "execution_count": 85,
   "id": "0c4a1267-10c9-4c62-8109-2cc6a386cca8",
   "metadata": {},
   "outputs": [
    {
     "data": {
      "text/html": [
       "<div>\n",
       "<style scoped>\n",
       "    .dataframe tbody tr th:only-of-type {\n",
       "        vertical-align: middle;\n",
       "    }\n",
       "\n",
       "    .dataframe tbody tr th {\n",
       "        vertical-align: top;\n",
       "    }\n",
       "\n",
       "    .dataframe thead th {\n",
       "        text-align: right;\n",
       "    }\n",
       "</style>\n",
       "<table border=\"1\" class=\"dataframe\">\n",
       "  <thead>\n",
       "    <tr style=\"text-align: right;\">\n",
       "      <th></th>\n",
       "      <th>arg_id</th>\n",
       "      <th>argument</th>\n",
       "      <th>key_point</th>\n",
       "      <th>kp_q_score</th>\n",
       "      <th>topic</th>\n",
       "      <th>stance</th>\n",
       "    </tr>\n",
       "  </thead>\n",
       "  <tbody>\n",
       "    <tr>\n",
       "      <th>0</th>\n",
       "      <td>arg_1_49</td>\n",
       "      <td>Social media platforms should not be regulated by the government because this would restrict people from posting what comes to their minds</td>\n",
       "      <td>Freedom of speech should not be taken away.</td>\n",
       "      <td>0.793826</td>\n",
       "      <td>Social media platforms should be regulated by the government</td>\n",
       "      <td>-1</td>\n",
       "    </tr>\n",
       "    <tr>\n",
       "      <th>1</th>\n",
       "      <td>arg_1_49</td>\n",
       "      <td>Social media platforms should not be regulated by the government because this would restrict people from posting what comes to their minds</td>\n",
       "      <td>Government regulation of social media prevents people from expressing their freedom of speach.</td>\n",
       "      <td>0.906194</td>\n",
       "      <td>Social media platforms should be regulated by the government</td>\n",
       "      <td>-1</td>\n",
       "    </tr>\n",
       "  </tbody>\n",
       "</table>\n",
       "</div>"
      ],
      "text/plain": [
       "     arg_id  \\\n",
       "0  arg_1_49   \n",
       "1  arg_1_49   \n",
       "\n",
       "                                                                                                                                      argument  \\\n",
       "0  Social media platforms should not be regulated by the government because this would restrict people from posting what comes to their minds    \n",
       "1  Social media platforms should not be regulated by the government because this would restrict people from posting what comes to their minds    \n",
       "\n",
       "                                                                                        key_point  \\\n",
       "0                                                     Freedom of speech should not be taken away.   \n",
       "1  Government regulation of social media prevents people from expressing their freedom of speach.   \n",
       "\n",
       "   kp_q_score                                                         topic  \\\n",
       "0    0.793826  Social media platforms should be regulated by the government   \n",
       "1    0.906194  Social media platforms should be regulated by the government   \n",
       "\n",
       "   stance  \n",
       "0      -1  \n",
       "1      -1  "
      ]
     },
     "execution_count": 85,
     "metadata": {},
     "output_type": "execute_result"
    }
   ],
   "source": [
    "cross_pairs_df.head(2)"
   ]
  },
  {
   "cell_type": "code",
   "execution_count": 86,
   "id": "5b4ef476-221e-4785-8175-ac8d549a1c78",
   "metadata": {},
   "outputs": [
    {
     "data": {
      "text/plain": [
       "60695"
      ]
     },
     "execution_count": 86,
     "metadata": {},
     "output_type": "execute_result"
    }
   ],
   "source": [
    "len(cross_pairs_df)"
   ]
  },
  {
   "cell_type": "code",
   "execution_count": 87,
   "id": "d70dd37a-d0a9-4204-af45-eea59ceae08f",
   "metadata": {},
   "outputs": [],
   "source": [
    "cross_pairs_df.to_csv(r'C:\\Users\\Bilal\\crypto\\thesis\\my-repos\\cryptocurrencies-kpa\\data\\processed\\test_cross_pairs_df_basic.csv', index=False)"
   ]
  },
  {
   "cell_type": "markdown",
   "id": "5f1525d2-c2fc-4595-8250-03187de76b7f",
   "metadata": {},
   "source": [
    "### load best model \n",
    "\n",
    "Here we load best matcher model and score the pairs"
   ]
  },
  {
   "cell_type": "code",
   "execution_count": 88,
   "id": "b25d13f6-95c1-45c3-b30e-ff3b62e68b78",
   "metadata": {},
   "outputs": [],
   "source": [
    "import pandas as pd\n",
    "test_cross_pairs_df = pd.read_csv(r'C:\\Users\\Bilal\\crypto\\thesis\\my-repos\\cryptocurrencies-kpa\\data\\processed\\test_cross_pairs_df_basic.csv', index_col=None)"
   ]
  },
  {
   "cell_type": "code",
   "execution_count": 89,
   "id": "f40f3f79-bbc9-4936-b679-13d62d949e79",
   "metadata": {},
   "outputs": [
    {
     "data": {
      "text/plain": [
       "60695"
      ]
     },
     "execution_count": 89,
     "metadata": {},
     "output_type": "execute_result"
    }
   ],
   "source": [
    "len(test_cross_pairs_df)"
   ]
  },
  {
   "cell_type": "code",
   "execution_count": 90,
   "id": "aecd21b3-b23e-4043-b6ea-87525a02f162",
   "metadata": {},
   "outputs": [
    {
     "data": {
      "text/html": [
       "<div>\n",
       "<style scoped>\n",
       "    .dataframe tbody tr th:only-of-type {\n",
       "        vertical-align: middle;\n",
       "    }\n",
       "\n",
       "    .dataframe tbody tr th {\n",
       "        vertical-align: top;\n",
       "    }\n",
       "\n",
       "    .dataframe thead th {\n",
       "        text-align: right;\n",
       "    }\n",
       "</style>\n",
       "<table border=\"1\" class=\"dataframe\">\n",
       "  <thead>\n",
       "    <tr style=\"text-align: right;\">\n",
       "      <th></th>\n",
       "      <th>arg_id</th>\n",
       "      <th>argument</th>\n",
       "      <th>key_point</th>\n",
       "      <th>kp_q_score</th>\n",
       "      <th>topic</th>\n",
       "      <th>stance</th>\n",
       "      <th>idx</th>\n",
       "    </tr>\n",
       "  </thead>\n",
       "  <tbody>\n",
       "    <tr>\n",
       "      <th>0</th>\n",
       "      <td>arg_1_49</td>\n",
       "      <td>Social media platforms should not be regulated by the government because this would restrict people from posting what comes to their minds</td>\n",
       "      <td>Freedom of speech should not be taken away.</td>\n",
       "      <td>0.793826</td>\n",
       "      <td>Social media platforms should be regulated by the government</td>\n",
       "      <td>-1</td>\n",
       "      <td>0</td>\n",
       "    </tr>\n",
       "    <tr>\n",
       "      <th>1</th>\n",
       "      <td>arg_1_49</td>\n",
       "      <td>Social media platforms should not be regulated by the government because this would restrict people from posting what comes to their minds</td>\n",
       "      <td>Government regulation of social media prevents people from expressing their freedom of speach.</td>\n",
       "      <td>0.906194</td>\n",
       "      <td>Social media platforms should be regulated by the government</td>\n",
       "      <td>-1</td>\n",
       "      <td>1</td>\n",
       "    </tr>\n",
       "  </tbody>\n",
       "</table>\n",
       "</div>"
      ],
      "text/plain": [
       "     arg_id  \\\n",
       "0  arg_1_49   \n",
       "1  arg_1_49   \n",
       "\n",
       "                                                                                                                                      argument  \\\n",
       "0  Social media platforms should not be regulated by the government because this would restrict people from posting what comes to their minds    \n",
       "1  Social media platforms should not be regulated by the government because this would restrict people from posting what comes to their minds    \n",
       "\n",
       "                                                                                        key_point  \\\n",
       "0                                                     Freedom of speech should not be taken away.   \n",
       "1  Government regulation of social media prevents people from expressing their freedom of speach.   \n",
       "\n",
       "   kp_q_score                                                         topic  \\\n",
       "0    0.793826  Social media platforms should be regulated by the government   \n",
       "1    0.906194  Social media platforms should be regulated by the government   \n",
       "\n",
       "   stance  idx  \n",
       "0      -1    0  \n",
       "1      -1    1  "
      ]
     },
     "execution_count": 90,
     "metadata": {},
     "output_type": "execute_result"
    }
   ],
   "source": [
    "test_cross_pairs_df['idx'] = test_cross_pairs_df.index\n",
    "test_cross_pairs_df.head(2)"
   ]
  },
  {
   "cell_type": "code",
   "execution_count": 91,
   "id": "40921086-b5d7-4fd6-9a4a-b1279acdf56a",
   "metadata": {},
   "outputs": [],
   "source": [
    "# process data to work with the classifier\n",
    "from project.data.datasets.ARG_KP_2021.processor import preprocessing\n",
    "\n",
    "test_cross_pairs_df['argument'] = test_cross_pairs_df['argument'].apply(lambda x: preprocessing(x))\n",
    "test_cross_pairs_df['key_point'] = test_cross_pairs_df['key_point'].apply(lambda x: preprocessing(x))\n",
    "test_cross_pairs_df['topic'] = test_cross_pairs_df['topic'].apply(lambda x: preprocessing(x))\n",
    "\n",
    "test_cross_pairs_df['sentence1'] = '[CLS] ' + test_cross_pairs_df['argument'] + ' [SEP] ' + test_cross_pairs_df['topic'] + ' [SEP]'\n",
    "test_cross_pairs_df['sentence2'] = '[CLS] ' + test_cross_pairs_df['key_point'] + ' [SEP] ' + test_cross_pairs_df['topic'] + ' [SEP]'"
   ]
  },
  {
   "cell_type": "code",
   "execution_count": 92,
   "id": "b4d869f2-855b-4ff0-bc91-04f01fdf55bd",
   "metadata": {},
   "outputs": [],
   "source": [
    "test_cross_pairs_df.to_csv(r'C:\\Users\\Bilal\\crypto\\thesis\\my-repos\\cryptocurrencies-kpa\\data\\processed\\test_cross_pairs_clean_df_basic.csv', index=False)"
   ]
  },
  {
   "cell_type": "code",
   "execution_count": 93,
   "id": "d792671d-c707-45e8-9cf8-ec3d9f1853ca",
   "metadata": {},
   "outputs": [
    {
     "name": "stderr",
     "output_type": "stream",
     "text": [
      "Some weights of the model checkpoint at roberta-base were not used when initializing RobertaModel: ['lm_head.dense.weight', 'lm_head.layer_norm.bias', 'lm_head.layer_norm.weight', 'lm_head.decoder.weight', 'lm_head.dense.bias', 'lm_head.bias']\n",
      "- This IS expected if you are initializing RobertaModel from the checkpoint of a model trained on another task or with another architecture (e.g. initializing a BertForSequenceClassification model from a BertForPreTraining model).\n",
      "- This IS NOT expected if you are initializing RobertaModel from the checkpoint of a model that you expect to be exactly identical (initializing a BertForSequenceClassification model from a BertForSequenceClassification model).\n",
      "Using custom data configuration default-6f3b44bea3547897\n"
     ]
    },
    {
     "name": "stdout",
     "output_type": "stream",
     "text": [
      "Downloading and preparing dataset csv/default to C:\\Users\\Bilal\\.cache\\huggingface\\datasets\\csv\\default-6f3b44bea3547897\\0.0.0\\bf68a4c4aefa545d0712b2fcbb1b327f905bbe2f6425fbc5e8c25234acb9e14a...\n"
     ]
    },
    {
     "data": {
      "application/vnd.jupyter.widget-view+json": {
       "model_id": "032ebf50f30a457db822f2cab98fcc90",
       "version_major": 2,
       "version_minor": 0
      },
      "text/plain": [
       "  0%|          | 0/2 [00:00<?, ?it/s]"
      ]
     },
     "metadata": {},
     "output_type": "display_data"
    },
    {
     "data": {
      "application/vnd.jupyter.widget-view+json": {
       "model_id": "611b4ffd774c49d7ac192daa7777f54e",
       "version_major": 2,
       "version_minor": 0
      },
      "text/plain": [
       "  0%|          | 0/2 [00:00<?, ?it/s]"
      ]
     },
     "metadata": {},
     "output_type": "display_data"
    },
    {
     "name": "stdout",
     "output_type": "stream",
     "text": [
      "Dataset csv downloaded and prepared to C:\\Users\\Bilal\\.cache\\huggingface\\datasets\\csv\\default-6f3b44bea3547897\\0.0.0\\bf68a4c4aefa545d0712b2fcbb1b327f905bbe2f6425fbc5e8c25234acb9e14a. Subsequent calls will reuse this data.\n"
     ]
    },
    {
     "data": {
      "application/vnd.jupyter.widget-view+json": {
       "model_id": "45a6925a8ba446f6bb26e10e1e18d7c4",
       "version_major": 2,
       "version_minor": 0
      },
      "text/plain": [
       "  0%|          | 0/2 [00:00<?, ?it/s]"
      ]
     },
     "metadata": {},
     "output_type": "display_data"
    },
    {
     "data": {
      "application/vnd.jupyter.widget-view+json": {
       "model_id": "6c1fdaf4102c4bb6862eb39bee9c364d",
       "version_major": 2,
       "version_minor": 0
      },
      "text/plain": [
       "  0%|          | 0/61 [00:00<?, ?ba/s]"
      ]
     },
     "metadata": {},
     "output_type": "display_data"
    },
    {
     "data": {
      "application/vnd.jupyter.widget-view+json": {
       "model_id": "8874262e34b84388a86f3f7c099bbad1",
       "version_major": 2,
       "version_minor": 0
      },
      "text/plain": [
       "  0%|          | 0/61 [00:00<?, ?ba/s]"
      ]
     },
     "metadata": {},
     "output_type": "display_data"
    }
   ],
   "source": [
    "# load best model\n",
    "import torch\n",
    "torch.cuda.empty_cache()\n",
    "from project.models.baselines.classification_model import ClassificationModel\n",
    "from project.models.common.nlp_configs import HFTransformerDataConfig\n",
    "from transformers import AutoTokenizer\n",
    "from project.data.nlp_data_module import NLPDataModule\n",
    "\n",
    "test_data_path = r'C:\\Users\\Bilal\\crypto\\thesis\\my-repos\\cryptocurrencies-kpa\\data\\processed\\test_cross_pairs_clean_df_basic.csv'\n",
    "model_checkpoint_path = r\"C:\\Users\\Bilal\\crypto\\thesis\\my-repos\\cryptocurrencies-kpa\\models\\good-models\\epoch=1-step=807.ckpt\"\n",
    "model = ClassificationModel.load_from_checkpoint(checkpoint_path=model_checkpoint_path)\n",
    "data_cfg = HFTransformerDataConfig(**{\n",
    "    \"batch_size\": 32,\n",
    "    \"num_workers\": 4,\n",
    "    \"train_file\": test_data_path,\n",
    "    \"test_file\": test_data_path\n",
    "})\n",
    "tokenizer = AutoTokenizer.from_pretrained(pretrained_model_name_or_path=model.model.config._name_or_path, use_fast=True)\n",
    "datamodule = NLPDataModule(cfg=data_cfg, tokenizer=tokenizer)\n",
    "datamodule.setup(\"test\")\n",
    "test_dataset = datamodule.ds[\"test\"]"
   ]
  },
  {
   "cell_type": "code",
   "execution_count": 94,
   "id": "538b03df-304f-4e90-a324-33c601347ead",
   "metadata": {},
   "outputs": [
    {
     "data": {
      "text/plain": [
       "['arg_id',\n",
       " 'argument',\n",
       " 'attention_mask',\n",
       " 'attention_mask_sent1',\n",
       " 'attention_mask_sent2',\n",
       " 'idx',\n",
       " 'input_ids',\n",
       " 'input_ids_sent1',\n",
       " 'input_ids_sent2',\n",
       " 'key_point',\n",
       " 'kp_q_score',\n",
       " 'sentence1',\n",
       " 'sentence2',\n",
       " 'stance',\n",
       " 'topic']"
      ]
     },
     "execution_count": 94,
     "metadata": {},
     "output_type": "execute_result"
    }
   ],
   "source": [
    "test_dataset.column_names"
   ]
  },
  {
   "cell_type": "code",
   "execution_count": 96,
   "id": "e1e12ebb-7336-48ff-81c8-760ac7d191df",
   "metadata": {},
   "outputs": [
    {
     "data": {
      "application/vnd.jupyter.widget-view+json": {
       "model_id": "1aaa3c1eb8bf49448ec65831cf988d76",
       "version_major": 2,
       "version_minor": 0
      },
      "text/plain": [
       "  0%|          | 0/1897 [00:00<?, ?ba/s]"
      ]
     },
     "metadata": {},
     "output_type": "display_data"
    },
    {
     "data": {
      "text/plain": [
       "Dataset({\n",
       "    features: ['arg_id', 'argument', 'attention_mask', 'attention_mask_sent1', 'attention_mask_sent2', 'idx', 'input_ids', 'input_ids_sent1', 'input_ids_sent2', 'key_point', 'kp_q_score', 'sentence1', 'sentence2', 'stance', 'topic'],\n",
       "    num_rows: 60695\n",
       "})"
      ]
     },
     "execution_count": 96,
     "metadata": {},
     "output_type": "execute_result"
    }
   ],
   "source": [
    "# score match score for every possible pair\n",
    "BATCH_SIZE = 32\n",
    "\n",
    "test_ds_df = test_dataset.to_pandas()\n",
    "test_ds_df.set_index('idx')\n",
    "test_ds_df['score'] = -1\n",
    "\n",
    "model.to('cuda')\n",
    "\n",
    "def add_preds(examples):\n",
    "    similarity, _, output = model._forward(examples, predict_with_gpu=True)\n",
    "    for i, idx in enumerate(examples[\"idx\"]):\n",
    "        if output is not None:\n",
    "            score = output[i][1].item()\n",
    "        else:\n",
    "            score = similarity[i].item()\n",
    "        test_ds_df.iat[idx.item(), test_ds_df.columns.get_loc('score')] = score\n",
    "\n",
    "test_dataset.map(lambda examples: add_preds(examples), batched=True, batch_size=BATCH_SIZE)\n",
    "\n"
   ]
  },
  {
   "cell_type": "code",
   "execution_count": 97,
   "id": "f8695720-edf5-4880-aa2f-09f0c06758fe",
   "metadata": {},
   "outputs": [],
   "source": [
    "test_ds_df.head(2)\n",
    "test_ds_df.to_csv(r'C:\\Users\\Bilal\\crypto\\thesis\\my-repos\\cryptocurrencies-kpa\\data\\processed\\test_cross_pairs_with_match_score_basic.csv', index=False)"
   ]
  },
  {
   "cell_type": "code",
   "execution_count": 1,
   "id": "40af1d67-70bb-49b9-a9e1-d02ccf7f9f15",
   "metadata": {},
   "outputs": [],
   "source": [
    "import pandas as pd\n",
    "test_ds_df = pd.read_csv(r'C:\\Users\\Bilal\\crypto\\thesis\\my-repos\\cryptocurrencies-kpa\\data\\processed\\test_cross_pairs_with_match_score_basic.csv', index_col=None)"
   ]
  },
  {
   "cell_type": "code",
   "execution_count": 2,
   "id": "2944f17f-96e4-4e50-9923-b5cd52f991c4",
   "metadata": {},
   "outputs": [
    {
     "name": "stdout",
     "output_type": "stream",
     "text": [
      "60695\n"
     ]
    },
    {
     "data": {
      "text/html": [
       "<div>\n",
       "<style scoped>\n",
       "    .dataframe tbody tr th:only-of-type {\n",
       "        vertical-align: middle;\n",
       "    }\n",
       "\n",
       "    .dataframe tbody tr th {\n",
       "        vertical-align: top;\n",
       "    }\n",
       "\n",
       "    .dataframe thead th {\n",
       "        text-align: right;\n",
       "    }\n",
       "</style>\n",
       "<table border=\"1\" class=\"dataframe\">\n",
       "  <thead>\n",
       "    <tr style=\"text-align: right;\">\n",
       "      <th></th>\n",
       "      <th>arg_id</th>\n",
       "      <th>argument</th>\n",
       "      <th>attention_mask</th>\n",
       "      <th>attention_mask_sent1</th>\n",
       "      <th>attention_mask_sent2</th>\n",
       "      <th>idx</th>\n",
       "      <th>input_ids</th>\n",
       "      <th>input_ids_sent1</th>\n",
       "      <th>input_ids_sent2</th>\n",
       "      <th>key_point</th>\n",
       "      <th>kp_q_score</th>\n",
       "      <th>sentence1</th>\n",
       "      <th>sentence2</th>\n",
       "      <th>stance</th>\n",
       "      <th>topic</th>\n",
       "      <th>score</th>\n",
       "    </tr>\n",
       "  </thead>\n",
       "  <tbody>\n",
       "    <tr>\n",
       "      <th>0</th>\n",
       "      <td>arg_1_49</td>\n",
       "      <td>Social media platforms should not be regulated...</td>\n",
       "      <td>[1 1 1 1 1 1 1 1 1 1 1 1 1 1 1 1 1 1 1 1 1 1 1...</td>\n",
       "      <td>[1 1 1 1 1 1 1 1 1 1 1 1 1 1 1 1 1 1 1 1 1 1 1...</td>\n",
       "      <td>[1 1 1 1 1 1 1 1 1 1 1 1 1 1 1 1 1 1 1 1 1 1 1...</td>\n",
       "      <td>0</td>\n",
       "      <td>[    0 10975  7454   104   742  3574   433  48...</td>\n",
       "      <td>[    0 10975  7454   104   742  3574   433  48...</td>\n",
       "      <td>[    0 10975  7454   104   742  7978     9  19...</td>\n",
       "      <td>Freedom of speech should not be taken away</td>\n",
       "      <td>0.793826</td>\n",
       "      <td>[CLS] Social media platforms should not be reg...</td>\n",
       "      <td>[CLS] Freedom of speech should not be taken aw...</td>\n",
       "      <td>-1</td>\n",
       "      <td>Social media platforms should be regulated by ...</td>\n",
       "      <td>0.64858</td>\n",
       "    </tr>\n",
       "  </tbody>\n",
       "</table>\n",
       "</div>"
      ],
      "text/plain": [
       "     arg_id                                           argument  \\\n",
       "0  arg_1_49  Social media platforms should not be regulated...   \n",
       "\n",
       "                                      attention_mask  \\\n",
       "0  [1 1 1 1 1 1 1 1 1 1 1 1 1 1 1 1 1 1 1 1 1 1 1...   \n",
       "\n",
       "                                attention_mask_sent1  \\\n",
       "0  [1 1 1 1 1 1 1 1 1 1 1 1 1 1 1 1 1 1 1 1 1 1 1...   \n",
       "\n",
       "                                attention_mask_sent2  idx  \\\n",
       "0  [1 1 1 1 1 1 1 1 1 1 1 1 1 1 1 1 1 1 1 1 1 1 1...    0   \n",
       "\n",
       "                                           input_ids  \\\n",
       "0  [    0 10975  7454   104   742  3574   433  48...   \n",
       "\n",
       "                                     input_ids_sent1  \\\n",
       "0  [    0 10975  7454   104   742  3574   433  48...   \n",
       "\n",
       "                                     input_ids_sent2  \\\n",
       "0  [    0 10975  7454   104   742  7978     9  19...   \n",
       "\n",
       "                                     key_point  kp_q_score  \\\n",
       "0  Freedom of speech should not be taken away     0.793826   \n",
       "\n",
       "                                           sentence1  \\\n",
       "0  [CLS] Social media platforms should not be reg...   \n",
       "\n",
       "                                           sentence2  stance  \\\n",
       "0  [CLS] Freedom of speech should not be taken aw...      -1   \n",
       "\n",
       "                                               topic    score  \n",
       "0  Social media platforms should be regulated by ...  0.64858  "
      ]
     },
     "execution_count": 2,
     "metadata": {},
     "output_type": "execute_result"
    }
   ],
   "source": [
    "print(len(test_ds_df))\n",
    "test_ds_df.head(1)"
   ]
  },
  {
   "cell_type": "code",
   "execution_count": 101,
   "id": "57523322-4cd1-4989-a524-999d8a543c69",
   "metadata": {},
   "outputs": [
    {
     "data": {
      "text/html": [
       "<div>\n",
       "<style scoped>\n",
       "    .dataframe tbody tr th:only-of-type {\n",
       "        vertical-align: middle;\n",
       "    }\n",
       "\n",
       "    .dataframe tbody tr th {\n",
       "        vertical-align: top;\n",
       "    }\n",
       "\n",
       "    .dataframe thead th {\n",
       "        text-align: right;\n",
       "    }\n",
       "</style>\n",
       "<table border=\"1\" class=\"dataframe\">\n",
       "  <thead>\n",
       "    <tr style=\"text-align: right;\">\n",
       "      <th></th>\n",
       "      <th>sentence1</th>\n",
       "      <th>sentence2</th>\n",
       "      <th>stance</th>\n",
       "      <th>topic</th>\n",
       "      <th>score</th>\n",
       "    </tr>\n",
       "  </thead>\n",
       "  <tbody>\n",
       "    <tr>\n",
       "      <th>7653</th>\n",
       "      <td>[CLS] social networks should be monitored  mainly because of the interest that the owners may have in their publications and what consequences X types of publications bring to the population  [SEP] Social media platforms should be regulated by the government [SEP]</td>\n",
       "      <td>[CLS] Social media platforms should be regulated by the government to prevent bad minded criminals from having an effect on others  [SEP] Social media platforms should be regulated by the government [SEP]</td>\n",
       "      <td>1</td>\n",
       "      <td>Social media platforms should be regulated by the government</td>\n",
       "      <td>0.500003</td>\n",
       "    </tr>\n",
       "  </tbody>\n",
       "</table>\n",
       "</div>"
      ],
      "text/plain": [
       "                                                                                                                                                                                                                                                                     sentence1  \\\n",
       "7653  [CLS] social networks should be monitored  mainly because of the interest that the owners may have in their publications and what consequences X types of publications bring to the population  [SEP] Social media platforms should be regulated by the government [SEP]   \n",
       "\n",
       "                                                                                                                                                                                                         sentence2  \\\n",
       "7653  [CLS] Social media platforms should be regulated by the government to prevent bad minded criminals from having an effect on others  [SEP] Social media platforms should be regulated by the government [SEP]   \n",
       "\n",
       "      stance                                                         topic  \\\n",
       "7653       1  Social media platforms should be regulated by the government   \n",
       "\n",
       "         score  \n",
       "7653  0.500003  "
      ]
     },
     "execution_count": 101,
     "metadata": {},
     "output_type": "execute_result"
    }
   ],
   "source": [
    "test_ds_df[['sentence1', 'sentence2', 'stance', 'topic', 'score']][test_ds_df['score']> 0.5].sort_values(by='score', ascending=True).head(1)"
   ]
  },
  {
   "cell_type": "code",
   "execution_count": 3,
   "id": "d06c3a79-f467-477c-8c05-6eb4e2a22086",
   "metadata": {},
   "outputs": [],
   "source": [
    "# get top kps based on their number of matches (based on a threshold)\n",
    "threshold = 0.5\n",
    "result_df = test_ds_df[test_ds_df['score'] > threshold]\n",
    "# choose best possible kp considering quality + match + rule-based\n",
    "# first for every arg_id, get top 20 matches\n",
    "# result_df = test_ds_df.groupby(by=\"arg_id\").apply(lambda df: df.sample(frac=1, random_state=42).sort_values(by=\"score\", ascending=False).head(1)).reset_index(drop=True)\n",
    "# add combined average score quality+match/2 \n",
    "# result_df['combined_score'] = (result_df['kp_q_score'] + result_df['score'] )/ 2\n",
    "# second take the arg with top combined score from the 20 matches\n",
    "# result_df = result_df.groupby(by=\"arg_id\").apply(lambda df: df.sample(frac=1, random_state=42).sort_values(by=\"combined_score\", ascending=False).head(1)).reset_index(drop=True)"
   ]
  },
  {
   "cell_type": "code",
   "execution_count": 4,
   "id": "d4ee2d83-d21d-45af-9fa8-e31173a3eda0",
   "metadata": {},
   "outputs": [
    {
     "data": {
      "text/plain": [
       "19135"
      ]
     },
     "execution_count": 4,
     "metadata": {},
     "output_type": "execute_result"
    }
   ],
   "source": [
    "len(result_df)"
   ]
  },
  {
   "cell_type": "code",
   "execution_count": 5,
   "id": "4b0625d0-9fdb-4913-89c5-fe43c5e42394",
   "metadata": {},
   "outputs": [
    {
     "name": "stdout",
     "output_type": "stream",
     "text": [
      "19135\n"
     ]
    },
    {
     "data": {
      "text/html": [
       "<div>\n",
       "<style scoped>\n",
       "    .dataframe tbody tr th:only-of-type {\n",
       "        vertical-align: middle;\n",
       "    }\n",
       "\n",
       "    .dataframe tbody tr th {\n",
       "        vertical-align: top;\n",
       "    }\n",
       "\n",
       "    .dataframe thead th {\n",
       "        text-align: right;\n",
       "    }\n",
       "</style>\n",
       "<table border=\"1\" class=\"dataframe\">\n",
       "  <thead>\n",
       "    <tr style=\"text-align: right;\">\n",
       "      <th></th>\n",
       "      <th>arg_id</th>\n",
       "      <th>argument</th>\n",
       "      <th>attention_mask</th>\n",
       "      <th>attention_mask_sent1</th>\n",
       "      <th>attention_mask_sent2</th>\n",
       "      <th>idx</th>\n",
       "      <th>input_ids</th>\n",
       "      <th>input_ids_sent1</th>\n",
       "      <th>input_ids_sent2</th>\n",
       "      <th>key_point</th>\n",
       "      <th>kp_q_score</th>\n",
       "      <th>sentence1</th>\n",
       "      <th>sentence2</th>\n",
       "      <th>stance</th>\n",
       "      <th>topic</th>\n",
       "      <th>score</th>\n",
       "    </tr>\n",
       "  </thead>\n",
       "  <tbody>\n",
       "    <tr>\n",
       "      <th>0</th>\n",
       "      <td>arg_1_49</td>\n",
       "      <td>Social media platforms should not be regulated...</td>\n",
       "      <td>[1 1 1 1 1 1 1 1 1 1 1 1 1 1 1 1 1 1 1 1 1 1 1...</td>\n",
       "      <td>[1 1 1 1 1 1 1 1 1 1 1 1 1 1 1 1 1 1 1 1 1 1 1...</td>\n",
       "      <td>[1 1 1 1 1 1 1 1 1 1 1 1 1 1 1 1 1 1 1 1 1 1 1...</td>\n",
       "      <td>0</td>\n",
       "      <td>[    0 10975  7454   104   742  3574   433  48...</td>\n",
       "      <td>[    0 10975  7454   104   742  3574   433  48...</td>\n",
       "      <td>[    0 10975  7454   104   742  7978     9  19...</td>\n",
       "      <td>Freedom of speech should not be taken away</td>\n",
       "      <td>0.793826</td>\n",
       "      <td>[CLS] Social media platforms should not be reg...</td>\n",
       "      <td>[CLS] Freedom of speech should not be taken aw...</td>\n",
       "      <td>-1</td>\n",
       "      <td>Social media platforms should be regulated by ...</td>\n",
       "      <td>0.64858</td>\n",
       "    </tr>\n",
       "  </tbody>\n",
       "</table>\n",
       "</div>"
      ],
      "text/plain": [
       "     arg_id                                           argument  \\\n",
       "0  arg_1_49  Social media platforms should not be regulated...   \n",
       "\n",
       "                                      attention_mask  \\\n",
       "0  [1 1 1 1 1 1 1 1 1 1 1 1 1 1 1 1 1 1 1 1 1 1 1...   \n",
       "\n",
       "                                attention_mask_sent1  \\\n",
       "0  [1 1 1 1 1 1 1 1 1 1 1 1 1 1 1 1 1 1 1 1 1 1 1...   \n",
       "\n",
       "                                attention_mask_sent2  idx  \\\n",
       "0  [1 1 1 1 1 1 1 1 1 1 1 1 1 1 1 1 1 1 1 1 1 1 1...    0   \n",
       "\n",
       "                                           input_ids  \\\n",
       "0  [    0 10975  7454   104   742  3574   433  48...   \n",
       "\n",
       "                                     input_ids_sent1  \\\n",
       "0  [    0 10975  7454   104   742  3574   433  48...   \n",
       "\n",
       "                                     input_ids_sent2  \\\n",
       "0  [    0 10975  7454   104   742  7978     9  19...   \n",
       "\n",
       "                                     key_point  kp_q_score  \\\n",
       "0  Freedom of speech should not be taken away     0.793826   \n",
       "\n",
       "                                           sentence1  \\\n",
       "0  [CLS] Social media platforms should not be reg...   \n",
       "\n",
       "                                           sentence2  stance  \\\n",
       "0  [CLS] Freedom of speech should not be taken aw...      -1   \n",
       "\n",
       "                                               topic    score  \n",
       "0  Social media platforms should be regulated by ...  0.64858  "
      ]
     },
     "execution_count": 5,
     "metadata": {},
     "output_type": "execute_result"
    }
   ],
   "source": [
    "print(len(result_df))\n",
    "result_df.head(1)"
   ]
  },
  {
   "cell_type": "code",
   "execution_count": 6,
   "id": "5284c6a5-1ecd-45bf-bba2-7b4aa7483a31",
   "metadata": {},
   "outputs": [
    {
     "data": {
      "text/plain": [
       "topic                                           stance  key_point                                                                                                            \n",
       "Routine child vaccinations should be mandatory  -1       There is a risk of a serious reaction or even death                                                                     48\n",
       "                                                        A vaccine that has not been sufficiently tested and without knowledge of side effects is not recommended for children    35\n",
       "                                                        As long as vaccines are not free of side effects  it cannot make them mandatory for our children                         37\n",
       "                                                        Child vaccination is not necessary  and should not be mandatory  because vaccines are a lie                               1\n",
       "                                                        Child vaccination isn t necessary and may result in other diseases for children                                          54\n",
       "                                                                                                                                                                                 ..\n",
       "The USA is a good country to live in             1      the United States is magnitudes better than most countries                                                               50\n",
       "                                                        there are many opportunities to develop and grow                                                                         28\n",
       "                                                        there is work and economic stability                                                                                     30\n",
       "                                                        usa is an excellent country to live with wonderful things to offer                                                       58\n",
       "                                                        we all have the american dream  it is the best country in the world without a doubt                                      19\n",
       "Length: 506, dtype: int64"
      ]
     },
     "execution_count": 6,
     "metadata": {},
     "output_type": "execute_result"
    }
   ],
   "source": [
    "result_df.groupby(by=['topic', 'stance', 'key_point']).size()"
   ]
  },
  {
   "cell_type": "code",
   "execution_count": 48,
   "id": "38476849-23fd-4d27-9fe4-d8d81dcd4de6",
   "metadata": {},
   "outputs": [],
   "source": [
    "# get the top 10 most frequent KPs \n",
    "\n",
    "def get_topic_kps_counts(df):\n",
    "    unique_topics = df['topic'].unique()\n",
    "    unique_stances = [-1, 1]\n",
    "    \n",
    "    topics = []\n",
    "    stances = []\n",
    "    kps = []\n",
    "    counts = []\n",
    "    q_scores = []\n",
    "    args = []\n",
    "    for t in unique_topics:\n",
    "        for stance in unique_stances:\n",
    "            f_df = df[df['topic'] == t]\n",
    "            f_df = f_df[f_df['stance'] == stance]   \n",
    "            unique_kps = f_df['key_point'].unique()\n",
    "           \n",
    "            for kp in unique_kps:\n",
    "                topics.append(t)\n",
    "                stances.append(stance)\n",
    "                kps.append(kp)\n",
    "                #q_scores.append(f_df[f_df['key_point'] == kp].iloc[0]['kp_q_score'])\n",
    "                counts.append(len(f_df[f_df['key_point'] == kp]))\n",
    "                #args.append(list(f_df[f_df['key_point'] == kp]['arg_id']))\n",
    "\n",
    "    ret_df = pd.DataFrame({\n",
    "            \"topic\": topics,\n",
    "            \"stance\": stances,\n",
    "            \"key_point\": kps,\n",
    "            #\"q_score\": q_scores,\n",
    "            \"counts\": counts,\n",
    "            #\"args\": args\n",
    "        })\n",
    "    return ret_df\n",
    "    "
   ]
  },
  {
   "cell_type": "code",
   "execution_count": 20,
   "id": "62defd04-0439-4000-a5d7-418d69634458",
   "metadata": {},
   "outputs": [
    {
     "name": "stdout",
     "output_type": "stream",
     "text": [
      "returning\n",
      "506\n"
     ]
    }
   ],
   "source": [
    "counts_df = get_topic_kps_counts(result_df)"
   ]
  },
  {
   "cell_type": "code",
   "execution_count": 27,
   "id": "1dbfece1-a509-4c2a-b318-581decfe24fe",
   "metadata": {},
   "outputs": [
    {
     "data": {
      "text/plain": [
       "506"
      ]
     },
     "execution_count": 27,
     "metadata": {},
     "output_type": "execute_result"
    }
   ],
   "source": [
    "len(counts_df)"
   ]
  },
  {
   "cell_type": "code",
   "execution_count": 28,
   "id": "3f9ce72d-2537-4301-9c5a-b203a2e8d860",
   "metadata": {},
   "outputs": [],
   "source": [
    "# add word counts\n",
    "counts_df['kp_word_count'] = counts_df['key_point'].str.split().str.len()"
   ]
  },
  {
   "cell_type": "code",
   "execution_count": 29,
   "id": "5b52d31e-c1e1-435b-9aba-3882f8b33652",
   "metadata": {},
   "outputs": [
    {
     "data": {
      "text/html": [
       "<div>\n",
       "<style scoped>\n",
       "    .dataframe tbody tr th:only-of-type {\n",
       "        vertical-align: middle;\n",
       "    }\n",
       "\n",
       "    .dataframe tbody tr th {\n",
       "        vertical-align: top;\n",
       "    }\n",
       "\n",
       "    .dataframe thead th {\n",
       "        text-align: right;\n",
       "    }\n",
       "</style>\n",
       "<table border=\"1\" class=\"dataframe\">\n",
       "  <thead>\n",
       "    <tr style=\"text-align: right;\">\n",
       "      <th></th>\n",
       "      <th>topic</th>\n",
       "      <th>stance</th>\n",
       "      <th>key_point</th>\n",
       "      <th>q_score</th>\n",
       "      <th>counts</th>\n",
       "      <th>args</th>\n",
       "      <th>kp_word_count</th>\n",
       "    </tr>\n",
       "  </thead>\n",
       "  <tbody>\n",
       "    <tr>\n",
       "      <th>0</th>\n",
       "      <td>Social media platforms should be regulated by ...</td>\n",
       "      <td>-1</td>\n",
       "      <td>Freedom of speech should not be taken away</td>\n",
       "      <td>0.793826</td>\n",
       "      <td>59</td>\n",
       "      <td>[arg_1_49, arg_1_86, arg_1_13, arg_1_24, arg_1...</td>\n",
       "      <td>8</td>\n",
       "    </tr>\n",
       "  </tbody>\n",
       "</table>\n",
       "</div>"
      ],
      "text/plain": [
       "                                               topic  stance  \\\n",
       "0  Social media platforms should be regulated by ...      -1   \n",
       "\n",
       "                                     key_point   q_score  counts  \\\n",
       "0  Freedom of speech should not be taken away   0.793826      59   \n",
       "\n",
       "                                                args  kp_word_count  \n",
       "0  [arg_1_49, arg_1_86, arg_1_13, arg_1_24, arg_1...              8  "
      ]
     },
     "execution_count": 29,
     "metadata": {},
     "output_type": "execute_result"
    }
   ],
   "source": [
    "counts_df.head(1)"
   ]
  },
  {
   "cell_type": "code",
   "execution_count": 30,
   "id": "93fc0df1-1e58-42c5-adfb-0ae1689bf68a",
   "metadata": {},
   "outputs": [],
   "source": [
    "# sort them \n",
    "counts_df = counts_df.sort_values(by=[\"counts\", \"q_score\", \"kp_word_count\"], ascending=(False, False, True)).reset_index(drop=True)"
   ]
  },
  {
   "cell_type": "code",
   "execution_count": 31,
   "id": "c64d3a8e-2ecb-4ae0-88a9-29eba698025b",
   "metadata": {},
   "outputs": [
    {
     "name": "stdout",
     "output_type": "stream",
     "text": [
      "0.9565217391304348\n"
     ]
    }
   ],
   "source": [
    "import difflib\n",
    "s1=[1,8,3,9,4,9,3,8,1,2,3]\n",
    "s2=[1,8,1,3,9,4,9,3,8,1,2,3]\n",
    "sm=difflib.SequenceMatcher(None,s1,s2)\n",
    "print(sm.ratio())    "
   ]
  },
  {
   "cell_type": "code",
   "execution_count": 34,
   "id": "65c4283d-f8af-4785-bef9-4844223ec089",
   "metadata": {},
   "outputs": [],
   "source": [
    "# get top kps, remove redundant by checking args overlap ratio\n",
    "\n",
    "\n",
    "FILTER_OVERLAP_THRESHOLD = 0.8\n",
    "\n",
    "top_filtered_sents = set()\n",
    "\n",
    "for index, row in counts_df.iterrows():\n",
    "    s1 = row['key_point']\n",
    "    if len(top_filtered_sents) == 0:\n",
    "        top_filtered_sents.add(s1)\n",
    "        continue\n",
    "    \n",
    "    args_1 = list(row['args'])\n",
    "    scores = []\n",
    "    for s in top_filtered_sents:\n",
    "        s_row = counts_df[counts_df['key_point'] == s].iloc[0]\n",
    "        args_2 = list(s_row['args'])\n",
    "        scores.append(difflib.SequenceMatcher(None,args_1,args_2).ratio())\n",
    "    if max(scores) < FILTER_OVERLAP_THRESHOLD:\n",
    "        top_filtered_sents.add(s1)\n",
    "    \n",
    "\n",
    "top_filtered_df = pd.DataFrame({\"key_point\": list(top_filtered_sents)})\n"
   ]
  },
  {
   "cell_type": "code",
   "execution_count": 35,
   "id": "ce63dfee-f4a4-4d9b-b365-d4b0e8489fe8",
   "metadata": {},
   "outputs": [],
   "source": [
    "top_filtered_df = pd.merge(top_filtered_df, counts_df, on='key_point')"
   ]
  },
  {
   "cell_type": "code",
   "execution_count": 38,
   "id": "df36e87c-eef8-454d-a952-e079188186df",
   "metadata": {},
   "outputs": [
    {
     "data": {
      "text/plain": [
       "314"
      ]
     },
     "execution_count": 38,
     "metadata": {},
     "output_type": "execute_result"
    }
   ],
   "source": [
    "len(counts_df)"
   ]
  },
  {
   "cell_type": "code",
   "execution_count": 39,
   "id": "4e311d07-12f3-45c4-9eec-2812e4773d34",
   "metadata": {},
   "outputs": [],
   "source": [
    "counst_df = counts_df.groupby(by=[\"topic\", \"stance\"]).apply(lambda df: df.sample(frac=1, random_state=42).sort_values(by=[\"counts\", \"q_score\", \"kp_word_count\"], ascending=(False, False, True)).head(4)).reset_index(drop=True)"
   ]
  },
  {
   "cell_type": "code",
   "execution_count": 40,
   "id": "37cea478-87b6-4a1e-9146-c828d51a6652",
   "metadata": {},
   "outputs": [
    {
     "data": {
      "text/plain": [
       "24"
      ]
     },
     "execution_count": 40,
     "metadata": {},
     "output_type": "execute_result"
    }
   ],
   "source": [
    "len(counst_df)"
   ]
  },
  {
   "cell_type": "code",
   "execution_count": 42,
   "id": "9889fa85-b613-440a-ad7b-061d3d865d85",
   "metadata": {},
   "outputs": [
    {
     "data": {
      "text/html": [
       "<div>\n",
       "<style scoped>\n",
       "    .dataframe tbody tr th:only-of-type {\n",
       "        vertical-align: middle;\n",
       "    }\n",
       "\n",
       "    .dataframe tbody tr th {\n",
       "        vertical-align: top;\n",
       "    }\n",
       "\n",
       "    .dataframe thead th {\n",
       "        text-align: right;\n",
       "    }\n",
       "</style>\n",
       "<table border=\"1\" class=\"dataframe\">\n",
       "  <thead>\n",
       "    <tr style=\"text-align: right;\">\n",
       "      <th></th>\n",
       "      <th>topic</th>\n",
       "      <th>stance</th>\n",
       "      <th>key_point</th>\n",
       "      <th>q_score</th>\n",
       "      <th>kp_word_count</th>\n",
       "      <th>counts</th>\n",
       "    </tr>\n",
       "  </thead>\n",
       "  <tbody>\n",
       "    <tr>\n",
       "      <th>0</th>\n",
       "      <td>Routine child vaccinations should be mandatory</td>\n",
       "      <td>-1</td>\n",
       "      <td>on the other hand there may be deadly side effects for children</td>\n",
       "      <td>0.832383</td>\n",
       "      <td>12</td>\n",
       "      <td>58</td>\n",
       "    </tr>\n",
       "    <tr>\n",
       "      <th>1</th>\n",
       "      <td>Routine child vaccinations should be mandatory</td>\n",
       "      <td>-1</td>\n",
       "      <td>Routine child vaccinations should not be necessary as children can t catch the disease</td>\n",
       "      <td>0.820775</td>\n",
       "      <td>14</td>\n",
       "      <td>45</td>\n",
       "    </tr>\n",
       "    <tr>\n",
       "      <th>2</th>\n",
       "      <td>Routine child vaccinations should be mandatory</td>\n",
       "      <td>-1</td>\n",
       "      <td>Child vaccination shouldn t be mandatory because the virus isn t effective in children</td>\n",
       "      <td>0.790943</td>\n",
       "      <td>14</td>\n",
       "      <td>42</td>\n",
       "    </tr>\n",
       "    <tr>\n",
       "      <th>3</th>\n",
       "      <td>Routine child vaccinations should be mandatory</td>\n",
       "      <td>-1</td>\n",
       "      <td>They should not be mandatory  it is a personal decision</td>\n",
       "      <td>0.717764</td>\n",
       "      <td>10</td>\n",
       "      <td>38</td>\n",
       "    </tr>\n",
       "    <tr>\n",
       "      <th>4</th>\n",
       "      <td>Routine child vaccinations should be mandatory</td>\n",
       "      <td>1</td>\n",
       "      <td>I agree  in order to be safer and keep them healthy</td>\n",
       "      <td>0.513677</td>\n",
       "      <td>11</td>\n",
       "      <td>123</td>\n",
       "    </tr>\n",
       "    <tr>\n",
       "      <th>5</th>\n",
       "      <td>Routine child vaccinations should be mandatory</td>\n",
       "      <td>1</td>\n",
       "      <td>Vaccinations are necessary to protect the health of the public as a whole and should be required by law</td>\n",
       "      <td>0.949995</td>\n",
       "      <td>19</td>\n",
       "      <td>92</td>\n",
       "    </tr>\n",
       "    <tr>\n",
       "      <th>6</th>\n",
       "      <td>Routine child vaccinations should be mandatory</td>\n",
       "      <td>1</td>\n",
       "      <td>Prevents a large number of diseases</td>\n",
       "      <td>0.657698</td>\n",
       "      <td>6</td>\n",
       "      <td>88</td>\n",
       "    </tr>\n",
       "    <tr>\n",
       "      <th>7</th>\n",
       "      <td>Routine child vaccinations should be mandatory</td>\n",
       "      <td>1</td>\n",
       "      <td>Should be mandatory because children are more vulnerable</td>\n",
       "      <td>0.636725</td>\n",
       "      <td>8</td>\n",
       "      <td>86</td>\n",
       "    </tr>\n",
       "    <tr>\n",
       "      <th>8</th>\n",
       "      <td>Social media platforms should be regulated by the government</td>\n",
       "      <td>-1</td>\n",
       "      <td>Social media platform should not beregulated by the government</td>\n",
       "      <td>0.728816</td>\n",
       "      <td>9</td>\n",
       "      <td>89</td>\n",
       "    </tr>\n",
       "    <tr>\n",
       "      <th>9</th>\n",
       "      <td>Social media platforms should be regulated by the government</td>\n",
       "      <td>-1</td>\n",
       "      <td>the fact that the government regulates social media platforms undermines freedom of expression and thought</td>\n",
       "      <td>0.968446</td>\n",
       "      <td>15</td>\n",
       "      <td>59</td>\n",
       "    </tr>\n",
       "    <tr>\n",
       "      <th>10</th>\n",
       "      <td>Social media platforms should be regulated by the government</td>\n",
       "      <td>-1</td>\n",
       "      <td>The social media platform should not be regulated by the government because it intrudes privacy</td>\n",
       "      <td>0.870752</td>\n",
       "      <td>15</td>\n",
       "      <td>57</td>\n",
       "    </tr>\n",
       "    <tr>\n",
       "      <th>11</th>\n",
       "      <td>Social media platforms should be regulated by the government</td>\n",
       "      <td>-1</td>\n",
       "      <td>social networks have personal information which should not be controlled by the government</td>\n",
       "      <td>0.895871</td>\n",
       "      <td>13</td>\n",
       "      <td>56</td>\n",
       "    </tr>\n",
       "    <tr>\n",
       "      <th>12</th>\n",
       "      <td>Social media platforms should be regulated by the government</td>\n",
       "      <td>1</td>\n",
       "      <td>Yes  the government must regulate social media</td>\n",
       "      <td>0.629797</td>\n",
       "      <td>7</td>\n",
       "      <td>98</td>\n",
       "    </tr>\n",
       "    <tr>\n",
       "      <th>13</th>\n",
       "      <td>Social media platforms should be regulated by the government</td>\n",
       "      <td>1</td>\n",
       "      <td>Social media platforms should be regulated by the government in order to avoid so many hate crimes</td>\n",
       "      <td>0.932123</td>\n",
       "      <td>17</td>\n",
       "      <td>71</td>\n",
       "    </tr>\n",
       "    <tr>\n",
       "      <th>14</th>\n",
       "      <td>Social media platforms should be regulated by the government</td>\n",
       "      <td>1</td>\n",
       "      <td>social networks being monitored by the government  would cause less negative impact on society</td>\n",
       "      <td>0.864583</td>\n",
       "      <td>14</td>\n",
       "      <td>66</td>\n",
       "    </tr>\n",
       "    <tr>\n",
       "      <th>15</th>\n",
       "      <td>Social media platforms should be regulated by the government</td>\n",
       "      <td>1</td>\n",
       "      <td>the state must implement measures to reduce risks on social media</td>\n",
       "      <td>0.783715</td>\n",
       "      <td>11</td>\n",
       "      <td>66</td>\n",
       "    </tr>\n",
       "    <tr>\n",
       "      <th>16</th>\n",
       "      <td>The USA is a good country to live in</td>\n",
       "      <td>-1</td>\n",
       "      <td>USA still presents a big racial problem</td>\n",
       "      <td>0.643259</td>\n",
       "      <td>7</td>\n",
       "      <td>23</td>\n",
       "    </tr>\n",
       "    <tr>\n",
       "      <th>17</th>\n",
       "      <td>The USA is a good country to live in</td>\n",
       "      <td>-1</td>\n",
       "      <td>there are many racial problems that endanger social peace</td>\n",
       "      <td>0.821060</td>\n",
       "      <td>9</td>\n",
       "      <td>22</td>\n",
       "    </tr>\n",
       "    <tr>\n",
       "      <th>18</th>\n",
       "      <td>The USA is a good country to live in</td>\n",
       "      <td>-1</td>\n",
       "      <td>The USA is a bad country to live in because some people are aggressive</td>\n",
       "      <td>0.543273</td>\n",
       "      <td>14</td>\n",
       "      <td>17</td>\n",
       "    </tr>\n",
       "    <tr>\n",
       "      <th>19</th>\n",
       "      <td>The USA is a good country to live in</td>\n",
       "      <td>-1</td>\n",
       "      <td>there is still a lot of racism and it takes away harmony</td>\n",
       "      <td>0.845096</td>\n",
       "      <td>12</td>\n",
       "      <td>16</td>\n",
       "    </tr>\n",
       "    <tr>\n",
       "      <th>20</th>\n",
       "      <td>The USA is a good country to live in</td>\n",
       "      <td>1</td>\n",
       "      <td>Thanks to its quality of life  the United States is one of the best countries to live</td>\n",
       "      <td>0.752805</td>\n",
       "      <td>17</td>\n",
       "      <td>76</td>\n",
       "    </tr>\n",
       "    <tr>\n",
       "      <th>21</th>\n",
       "      <td>The USA is a good country to live in</td>\n",
       "      <td>1</td>\n",
       "      <td>The United States is the country of opportunities and there is no better country to live</td>\n",
       "      <td>0.776027</td>\n",
       "      <td>16</td>\n",
       "      <td>64</td>\n",
       "    </tr>\n",
       "    <tr>\n",
       "      <th>22</th>\n",
       "      <td>The USA is a good country to live in</td>\n",
       "      <td>1</td>\n",
       "      <td>The USA is a good country to live in because there are many opportunities</td>\n",
       "      <td>0.761775</td>\n",
       "      <td>14</td>\n",
       "      <td>64</td>\n",
       "    </tr>\n",
       "    <tr>\n",
       "      <th>23</th>\n",
       "      <td>The USA is a good country to live in</td>\n",
       "      <td>1</td>\n",
       "      <td>In my personal opinion  in a country with great opportunities and better quality of life</td>\n",
       "      <td>0.684268</td>\n",
       "      <td>15</td>\n",
       "      <td>59</td>\n",
       "    </tr>\n",
       "  </tbody>\n",
       "</table>\n",
       "</div>"
      ],
      "text/plain": [
       "                                                           topic  stance  \\\n",
       "0                 Routine child vaccinations should be mandatory      -1   \n",
       "1                 Routine child vaccinations should be mandatory      -1   \n",
       "2                 Routine child vaccinations should be mandatory      -1   \n",
       "3                 Routine child vaccinations should be mandatory      -1   \n",
       "4                 Routine child vaccinations should be mandatory       1   \n",
       "5                 Routine child vaccinations should be mandatory       1   \n",
       "6                 Routine child vaccinations should be mandatory       1   \n",
       "7                 Routine child vaccinations should be mandatory       1   \n",
       "8   Social media platforms should be regulated by the government      -1   \n",
       "9   Social media platforms should be regulated by the government      -1   \n",
       "10  Social media platforms should be regulated by the government      -1   \n",
       "11  Social media platforms should be regulated by the government      -1   \n",
       "12  Social media platforms should be regulated by the government       1   \n",
       "13  Social media platforms should be regulated by the government       1   \n",
       "14  Social media platforms should be regulated by the government       1   \n",
       "15  Social media platforms should be regulated by the government       1   \n",
       "16                          The USA is a good country to live in      -1   \n",
       "17                          The USA is a good country to live in      -1   \n",
       "18                          The USA is a good country to live in      -1   \n",
       "19                          The USA is a good country to live in      -1   \n",
       "20                          The USA is a good country to live in       1   \n",
       "21                          The USA is a good country to live in       1   \n",
       "22                          The USA is a good country to live in       1   \n",
       "23                          The USA is a good country to live in       1   \n",
       "\n",
       "                                                                                                     key_point  \\\n",
       "0                                              on the other hand there may be deadly side effects for children   \n",
       "1                       Routine child vaccinations should not be necessary as children can t catch the disease   \n",
       "2                       Child vaccination shouldn t be mandatory because the virus isn t effective in children   \n",
       "3                                                      They should not be mandatory  it is a personal decision   \n",
       "4                                                          I agree  in order to be safer and keep them healthy   \n",
       "5     Vaccinations are necessary to protect the health of the public as a whole and should be required by law    \n",
       "6                                                                          Prevents a large number of diseases   \n",
       "7                                                     Should be mandatory because children are more vulnerable   \n",
       "8                                               Social media platform should not beregulated by the government   \n",
       "9   the fact that the government regulates social media platforms undermines freedom of expression and thought   \n",
       "10             The social media platform should not be regulated by the government because it intrudes privacy   \n",
       "11                  social networks have personal information which should not be controlled by the government   \n",
       "12                                                             Yes  the government must regulate social media    \n",
       "13          Social media platforms should be regulated by the government in order to avoid so many hate crimes   \n",
       "14              social networks being monitored by the government  would cause less negative impact on society   \n",
       "15                                          the state must implement measures to reduce risks on social media    \n",
       "16                                                                    USA still presents a big racial problem    \n",
       "17                                                   there are many racial problems that endanger social peace   \n",
       "18                                      The USA is a bad country to live in because some people are aggressive   \n",
       "19                                                    there is still a lot of racism and it takes away harmony   \n",
       "20                       Thanks to its quality of life  the United States is one of the best countries to live   \n",
       "21                    The United States is the country of opportunities and there is no better country to live   \n",
       "22                                   The USA is a good country to live in because there are many opportunities   \n",
       "23                    In my personal opinion  in a country with great opportunities and better quality of life   \n",
       "\n",
       "     q_score  kp_word_count  counts  \n",
       "0   0.832383             12      58  \n",
       "1   0.820775             14      45  \n",
       "2   0.790943             14      42  \n",
       "3   0.717764             10      38  \n",
       "4   0.513677             11     123  \n",
       "5   0.949995             19      92  \n",
       "6   0.657698              6      88  \n",
       "7   0.636725              8      86  \n",
       "8   0.728816              9      89  \n",
       "9   0.968446             15      59  \n",
       "10  0.870752             15      57  \n",
       "11  0.895871             13      56  \n",
       "12  0.629797              7      98  \n",
       "13  0.932123             17      71  \n",
       "14  0.864583             14      66  \n",
       "15  0.783715             11      66  \n",
       "16  0.643259              7      23  \n",
       "17  0.821060              9      22  \n",
       "18  0.543273             14      17  \n",
       "19  0.845096             12      16  \n",
       "20  0.752805             17      76  \n",
       "21  0.776027             16      64  \n",
       "22  0.761775             14      64  \n",
       "23  0.684268             15      59  "
      ]
     },
     "execution_count": 42,
     "metadata": {},
     "output_type": "execute_result"
    }
   ],
   "source": [
    "pd.set_option('display.max_colwidth', None)\n",
    "counst_df[[\"topic\", \"stance\", 'key_point', 'q_score', 'kp_word_count', 'counts']].head(24)"
   ]
  },
  {
   "cell_type": "code",
   "execution_count": 49,
   "id": "50649e6f-6e81-402c-ad32-201668241549",
   "metadata": {},
   "outputs": [],
   "source": [
    "# comparing topics with labeled test dataset\n",
    "test_ds_labeled_counts = get_topic_kps_counts(test_ds_labeled)"
   ]
  },
  {
   "cell_type": "code",
   "execution_count": 65,
   "id": "0d78100e-9a0c-4355-a0a8-4026f6ddcdc1",
   "metadata": {},
   "outputs": [
    {
     "data": {
      "text/plain": [
       "Index(['idx', 'arg_id', 'argument', 'topic', 'stance', 'MACE-P',\n",
       "       'key_point_id', 'key_point', 'label', 'label_strict', 'label_relaxed',\n",
       "       'text', 'sentence1', 'sentence2'],\n",
       "      dtype='object')"
      ]
     },
     "execution_count": 65,
     "metadata": {},
     "output_type": "execute_result"
    }
   ],
   "source": [
    "test_ds_labeled.columns"
   ]
  },
  {
   "cell_type": "code",
   "execution_count": 50,
   "id": "02f8485c-5ceb-4022-923c-c0eaa49d22a1",
   "metadata": {},
   "outputs": [],
   "source": [
    "# for every topic and stance\n",
    "test_ds_labeled_counts = test_ds_labeled_counts.groupby(by=[\"topic\", \"stance\"]).apply(lambda df: df.sample(frac=1, random_state=42).sort_values(by=\"counts\", ascending=False).head(4)).reset_index(drop=True)"
   ]
  },
  {
   "cell_type": "code",
   "execution_count": 51,
   "id": "b07ce548-973c-438b-997c-c9f32f77b193",
   "metadata": {},
   "outputs": [
    {
     "data": {
      "text/html": [
       "<div>\n",
       "<style scoped>\n",
       "    .dataframe tbody tr th:only-of-type {\n",
       "        vertical-align: middle;\n",
       "    }\n",
       "\n",
       "    .dataframe tbody tr th {\n",
       "        vertical-align: top;\n",
       "    }\n",
       "\n",
       "    .dataframe thead th {\n",
       "        text-align: right;\n",
       "    }\n",
       "</style>\n",
       "<table border=\"1\" class=\"dataframe\">\n",
       "  <thead>\n",
       "    <tr style=\"text-align: right;\">\n",
       "      <th></th>\n",
       "      <th>topic</th>\n",
       "      <th>stance</th>\n",
       "      <th>key_point</th>\n",
       "      <th>counts</th>\n",
       "    </tr>\n",
       "  </thead>\n",
       "  <tbody>\n",
       "    <tr>\n",
       "      <th>0</th>\n",
       "      <td>Routine child vaccinations should be mandatory</td>\n",
       "      <td>-1</td>\n",
       "      <td>Routine child vaccinations  or their side effects  are dangerous</td>\n",
       "      <td>50</td>\n",
       "    </tr>\n",
       "    <tr>\n",
       "      <th>1</th>\n",
       "      <td>Routine child vaccinations should be mandatory</td>\n",
       "      <td>-1</td>\n",
       "      <td>The parents and not the state should decide</td>\n",
       "      <td>24</td>\n",
       "    </tr>\n",
       "    <tr>\n",
       "      <th>2</th>\n",
       "      <td>Routine child vaccinations should be mandatory</td>\n",
       "      <td>-1</td>\n",
       "      <td>Mandatory vaccination contradicts basic rights</td>\n",
       "      <td>21</td>\n",
       "    </tr>\n",
       "    <tr>\n",
       "      <th>3</th>\n",
       "      <td>Routine child vaccinations should be mandatory</td>\n",
       "      <td>-1</td>\n",
       "      <td>Routine child vaccinations are not necessary to keep children healthy</td>\n",
       "      <td>11</td>\n",
       "    </tr>\n",
       "    <tr>\n",
       "      <th>4</th>\n",
       "      <td>Routine child vaccinations should be mandatory</td>\n",
       "      <td>1</td>\n",
       "      <td>Children should not suffer from preventable diseases</td>\n",
       "      <td>44</td>\n",
       "    </tr>\n",
       "    <tr>\n",
       "      <th>5</th>\n",
       "      <td>Routine child vaccinations should be mandatory</td>\n",
       "      <td>1</td>\n",
       "      <td>Routine child vaccinations should be mandatory to prevent virus disease spreading</td>\n",
       "      <td>40</td>\n",
       "    </tr>\n",
       "    <tr>\n",
       "      <th>6</th>\n",
       "      <td>Routine child vaccinations should be mandatory</td>\n",
       "      <td>1</td>\n",
       "      <td>Routine child vaccinations are effective</td>\n",
       "      <td>23</td>\n",
       "    </tr>\n",
       "    <tr>\n",
       "      <th>7</th>\n",
       "      <td>Routine child vaccinations should be mandatory</td>\n",
       "      <td>1</td>\n",
       "      <td>Routine child vaccinations are necessary to protect others</td>\n",
       "      <td>20</td>\n",
       "    </tr>\n",
       "    <tr>\n",
       "      <th>8</th>\n",
       "      <td>Social media platforms should be regulated by the government</td>\n",
       "      <td>-1</td>\n",
       "      <td>Social media regulation harm freedom of speech and other democratic rights</td>\n",
       "      <td>50</td>\n",
       "    </tr>\n",
       "    <tr>\n",
       "      <th>9</th>\n",
       "      <td>Social media platforms should be regulated by the government</td>\n",
       "      <td>-1</td>\n",
       "      <td>Social media regulation harms privacy</td>\n",
       "      <td>14</td>\n",
       "    </tr>\n",
       "    <tr>\n",
       "      <th>10</th>\n",
       "      <td>Social media platforms should be regulated by the government</td>\n",
       "      <td>-1</td>\n",
       "      <td>Social media regulation can lead to political abuses by the government</td>\n",
       "      <td>12</td>\n",
       "    </tr>\n",
       "    <tr>\n",
       "      <th>11</th>\n",
       "      <td>Social media platforms should be regulated by the government</td>\n",
       "      <td>-1</td>\n",
       "      <td>Social media regulation is not effective</td>\n",
       "      <td>9</td>\n",
       "    </tr>\n",
       "    <tr>\n",
       "      <th>12</th>\n",
       "      <td>Social media platforms should be regulated by the government</td>\n",
       "      <td>1</td>\n",
       "      <td>Social media regulation can help to deal with negative content</td>\n",
       "      <td>41</td>\n",
       "    </tr>\n",
       "    <tr>\n",
       "      <th>13</th>\n",
       "      <td>Social media platforms should be regulated by the government</td>\n",
       "      <td>1</td>\n",
       "      <td>Social media regulation is required to deal with malicious users</td>\n",
       "      <td>27</td>\n",
       "    </tr>\n",
       "    <tr>\n",
       "      <th>14</th>\n",
       "      <td>Social media platforms should be regulated by the government</td>\n",
       "      <td>1</td>\n",
       "      <td>Social media regulation is beneficial to society at large</td>\n",
       "      <td>20</td>\n",
       "    </tr>\n",
       "    <tr>\n",
       "      <th>15</th>\n",
       "      <td>Social media platforms should be regulated by the government</td>\n",
       "      <td>1</td>\n",
       "      <td>Social media regulation is necessary to deal with fake news</td>\n",
       "      <td>13</td>\n",
       "    </tr>\n",
       "    <tr>\n",
       "      <th>16</th>\n",
       "      <td>The USA is a good country to live in</td>\n",
       "      <td>-1</td>\n",
       "      <td>The US is xenophobic racist</td>\n",
       "      <td>15</td>\n",
       "    </tr>\n",
       "    <tr>\n",
       "      <th>17</th>\n",
       "      <td>The USA is a good country to live in</td>\n",
       "      <td>-1</td>\n",
       "      <td>The US is unsafe</td>\n",
       "      <td>13</td>\n",
       "    </tr>\n",
       "    <tr>\n",
       "      <th>18</th>\n",
       "      <td>The USA is a good country to live in</td>\n",
       "      <td>-1</td>\n",
       "      <td>The US has inequality poverty</td>\n",
       "      <td>10</td>\n",
       "    </tr>\n",
       "    <tr>\n",
       "      <th>19</th>\n",
       "      <td>The USA is a good country to live in</td>\n",
       "      <td>-1</td>\n",
       "      <td>The US has unfair health and education policies</td>\n",
       "      <td>9</td>\n",
       "    </tr>\n",
       "    <tr>\n",
       "      <th>20</th>\n",
       "      <td>The USA is a good country to live in</td>\n",
       "      <td>1</td>\n",
       "      <td>The US offers great opportunities for individuals</td>\n",
       "      <td>48</td>\n",
       "    </tr>\n",
       "    <tr>\n",
       "      <th>21</th>\n",
       "      <td>The USA is a good country to live in</td>\n",
       "      <td>1</td>\n",
       "      <td>The US has a good economy high standard of living</td>\n",
       "      <td>32</td>\n",
       "    </tr>\n",
       "    <tr>\n",
       "      <th>22</th>\n",
       "      <td>The USA is a good country to live in</td>\n",
       "      <td>1</td>\n",
       "      <td>The US has a good health and education systems</td>\n",
       "      <td>23</td>\n",
       "    </tr>\n",
       "    <tr>\n",
       "      <th>23</th>\n",
       "      <td>The USA is a good country to live in</td>\n",
       "      <td>1</td>\n",
       "      <td>The US has freedoms  democratic rights</td>\n",
       "      <td>19</td>\n",
       "    </tr>\n",
       "  </tbody>\n",
       "</table>\n",
       "</div>"
      ],
      "text/plain": [
       "                                                           topic  stance  \\\n",
       "0                 Routine child vaccinations should be mandatory      -1   \n",
       "1                 Routine child vaccinations should be mandatory      -1   \n",
       "2                 Routine child vaccinations should be mandatory      -1   \n",
       "3                 Routine child vaccinations should be mandatory      -1   \n",
       "4                 Routine child vaccinations should be mandatory       1   \n",
       "5                 Routine child vaccinations should be mandatory       1   \n",
       "6                 Routine child vaccinations should be mandatory       1   \n",
       "7                 Routine child vaccinations should be mandatory       1   \n",
       "8   Social media platforms should be regulated by the government      -1   \n",
       "9   Social media platforms should be regulated by the government      -1   \n",
       "10  Social media platforms should be regulated by the government      -1   \n",
       "11  Social media platforms should be regulated by the government      -1   \n",
       "12  Social media platforms should be regulated by the government       1   \n",
       "13  Social media platforms should be regulated by the government       1   \n",
       "14  Social media platforms should be regulated by the government       1   \n",
       "15  Social media platforms should be regulated by the government       1   \n",
       "16                          The USA is a good country to live in      -1   \n",
       "17                          The USA is a good country to live in      -1   \n",
       "18                          The USA is a good country to live in      -1   \n",
       "19                          The USA is a good country to live in      -1   \n",
       "20                          The USA is a good country to live in       1   \n",
       "21                          The USA is a good country to live in       1   \n",
       "22                          The USA is a good country to live in       1   \n",
       "23                          The USA is a good country to live in       1   \n",
       "\n",
       "                                                                            key_point  \\\n",
       "0                    Routine child vaccinations  or their side effects  are dangerous   \n",
       "1                                         The parents and not the state should decide   \n",
       "2                                      Mandatory vaccination contradicts basic rights   \n",
       "3               Routine child vaccinations are not necessary to keep children healthy   \n",
       "4                                Children should not suffer from preventable diseases   \n",
       "5   Routine child vaccinations should be mandatory to prevent virus disease spreading   \n",
       "6                                            Routine child vaccinations are effective   \n",
       "7                          Routine child vaccinations are necessary to protect others   \n",
       "8          Social media regulation harm freedom of speech and other democratic rights   \n",
       "9                                               Social media regulation harms privacy   \n",
       "10             Social media regulation can lead to political abuses by the government   \n",
       "11                                           Social media regulation is not effective   \n",
       "12                     Social media regulation can help to deal with negative content   \n",
       "13                   Social media regulation is required to deal with malicious users   \n",
       "14                          Social media regulation is beneficial to society at large   \n",
       "15                        Social media regulation is necessary to deal with fake news   \n",
       "16                                                        The US is xenophobic racist   \n",
       "17                                                                   The US is unsafe   \n",
       "18                                                      The US has inequality poverty   \n",
       "19                                    The US has unfair health and education policies   \n",
       "20                                  The US offers great opportunities for individuals   \n",
       "21                                  The US has a good economy high standard of living   \n",
       "22                                    The US has a good health and education systems    \n",
       "23                                             The US has freedoms  democratic rights   \n",
       "\n",
       "    counts  \n",
       "0       50  \n",
       "1       24  \n",
       "2       21  \n",
       "3       11  \n",
       "4       44  \n",
       "5       40  \n",
       "6       23  \n",
       "7       20  \n",
       "8       50  \n",
       "9       14  \n",
       "10      12  \n",
       "11       9  \n",
       "12      41  \n",
       "13      27  \n",
       "14      20  \n",
       "15      13  \n",
       "16      15  \n",
       "17      13  \n",
       "18      10  \n",
       "19       9  \n",
       "20      48  \n",
       "21      32  \n",
       "22      23  \n",
       "23      19  "
      ]
     },
     "execution_count": 51,
     "metadata": {},
     "output_type": "execute_result"
    }
   ],
   "source": [
    "test_ds_labeled_counts.head(24)"
   ]
  },
  {
   "cell_type": "markdown",
   "id": "4c151d71-42cf-4267-b0d1-113ee8a240d3",
   "metadata": {},
   "source": [
    "# compare with the ground truth\n",
    " now we should compare result_df with test_ds_labeled , each having 500 arg_id"
   ]
  },
  {
   "cell_type": "code",
   "execution_count": 52,
   "id": "1830c8c9-2267-43f9-9193-aa7de168aea8",
   "metadata": {},
   "outputs": [],
   "source": [
    "import rouge\n",
    "# evaluate to ground truth using rouge\n",
    "evaluator = rouge.Rouge(metrics=['rouge-l'],\n",
    "                           limit_length=True,\n",
    "                           length_limit_type='words',\n",
    "                           alpha=0.5, # Default F1_score\n",
    "                           weight_factor=1.2,\n",
    "                           stemming=True)"
   ]
  },
  {
   "cell_type": "code",
   "execution_count": 55,
   "id": "729e90d7-3cc2-4871-a7ab-4ad18f60b85e",
   "metadata": {},
   "outputs": [],
   "source": [
    "# comparing test_ds_labeled_counts with counst_df\n",
    "# for every topic, stance => compare predicted kp with every labeled kp and take max score\n",
    "import numpy as np\n",
    "from itertools import product\n",
    "unique_topics = test_ds_labeled['topic'].unique()\n",
    "unique_stances = [-1, 1]\n",
    "\n",
    "topics = []\n",
    "stances = []\n",
    "scores = []\n",
    "\n",
    "for t in unique_topics:\n",
    "    for s in unique_stances:\n",
    "        test_df = test_ds_labeled_counts[test_ds_labeled_counts['topic'] == t]\n",
    "        test_df = test_df[test_df['stance'] == s]\n",
    "        res_df = counst_df[counst_df['topic'] == t]\n",
    "        res_df = res_df[res_df['stance'] == s]\n",
    "        \n",
    "        unique_predicted_kps = res_df['key_point'].unique()\n",
    "        unique_labeled_kps = test_df['key_point'].unique()\n",
    "        kp_scores = []\n",
    "        for p_kp, l_kp in product(unique_predicted_kps, unique_labeled_kps) :\n",
    "                score = evaluator.get_scores(p_kp, l_kp)\n",
    "                kp_scores.append(score['rouge-l']['f'])    \n",
    "\n",
    "        topics.append(t)\n",
    "        stances.append(s)\n",
    "        scores.append(np.mean(kp_scores))\n",
    "        \n",
    "    \n",
    "results_df = pd.DataFrame({\"topic\": topics, \"stance\": stances,  \"r_scores\": scores})\n",
    "    "
   ]
  },
  {
   "cell_type": "code",
   "execution_count": 56,
   "id": "83b7fc6a-3ccd-47b0-8fb8-196da3f08c83",
   "metadata": {},
   "outputs": [
    {
     "data": {
      "text/html": [
       "<div>\n",
       "<style scoped>\n",
       "    .dataframe tbody tr th:only-of-type {\n",
       "        vertical-align: middle;\n",
       "    }\n",
       "\n",
       "    .dataframe tbody tr th {\n",
       "        vertical-align: top;\n",
       "    }\n",
       "\n",
       "    .dataframe thead th {\n",
       "        text-align: right;\n",
       "    }\n",
       "</style>\n",
       "<table border=\"1\" class=\"dataframe\">\n",
       "  <thead>\n",
       "    <tr style=\"text-align: right;\">\n",
       "      <th></th>\n",
       "      <th>topic</th>\n",
       "      <th>stance</th>\n",
       "      <th>r_scores</th>\n",
       "    </tr>\n",
       "  </thead>\n",
       "  <tbody>\n",
       "    <tr>\n",
       "      <th>0</th>\n",
       "      <td>Routine child vaccinations should be mandatory</td>\n",
       "      <td>-1</td>\n",
       "      <td>0.203307</td>\n",
       "    </tr>\n",
       "    <tr>\n",
       "      <th>1</th>\n",
       "      <td>Routine child vaccinations should be mandatory</td>\n",
       "      <td>1</td>\n",
       "      <td>0.205086</td>\n",
       "    </tr>\n",
       "    <tr>\n",
       "      <th>2</th>\n",
       "      <td>The USA is a good country to live in</td>\n",
       "      <td>-1</td>\n",
       "      <td>0.084952</td>\n",
       "    </tr>\n",
       "    <tr>\n",
       "      <th>3</th>\n",
       "      <td>The USA is a good country to live in</td>\n",
       "      <td>1</td>\n",
       "      <td>0.210672</td>\n",
       "    </tr>\n",
       "    <tr>\n",
       "      <th>4</th>\n",
       "      <td>Social media platforms should be regulated by the government</td>\n",
       "      <td>-1</td>\n",
       "      <td>0.340336</td>\n",
       "    </tr>\n",
       "    <tr>\n",
       "      <th>5</th>\n",
       "      <td>Social media platforms should be regulated by the government</td>\n",
       "      <td>1</td>\n",
       "      <td>0.275814</td>\n",
       "    </tr>\n",
       "  </tbody>\n",
       "</table>\n",
       "</div>"
      ],
      "text/plain": [
       "                                                          topic  stance  \\\n",
       "0                Routine child vaccinations should be mandatory      -1   \n",
       "1                Routine child vaccinations should be mandatory       1   \n",
       "2                          The USA is a good country to live in      -1   \n",
       "3                          The USA is a good country to live in       1   \n",
       "4  Social media platforms should be regulated by the government      -1   \n",
       "5  Social media platforms should be regulated by the government       1   \n",
       "\n",
       "   r_scores  \n",
       "0  0.203307  \n",
       "1  0.205086  \n",
       "2  0.084952  \n",
       "3  0.210672  \n",
       "4  0.340336  \n",
       "5  0.275814  "
      ]
     },
     "execution_count": 56,
     "metadata": {},
     "output_type": "execute_result"
    }
   ],
   "source": [
    "results_df.head(6)"
   ]
  },
  {
   "cell_type": "code",
   "execution_count": 99,
   "id": "33f44d48-1142-4cfb-8234-ea229f95dcb3",
   "metadata": {},
   "outputs": [
    {
     "data": {
      "text/html": [
       "<div>\n",
       "<style scoped>\n",
       "    .dataframe tbody tr th:only-of-type {\n",
       "        vertical-align: middle;\n",
       "    }\n",
       "\n",
       "    .dataframe tbody tr th {\n",
       "        vertical-align: top;\n",
       "    }\n",
       "\n",
       "    .dataframe thead th {\n",
       "        text-align: right;\n",
       "    }\n",
       "</style>\n",
       "<table border=\"1\" class=\"dataframe\">\n",
       "  <thead>\n",
       "    <tr style=\"text-align: right;\">\n",
       "      <th></th>\n",
       "      <th>idx</th>\n",
       "      <th>arg_id</th>\n",
       "      <th>argument</th>\n",
       "      <th>topic</th>\n",
       "      <th>stance</th>\n",
       "      <th>MACE-P</th>\n",
       "      <th>key_point_id</th>\n",
       "      <th>label</th>\n",
       "      <th>key_point</th>\n",
       "      <th>text</th>\n",
       "      <th>sentence1</th>\n",
       "      <th>sentence2</th>\n",
       "      <th>subset</th>\n",
       "    </tr>\n",
       "  </thead>\n",
       "  <tbody>\n",
       "  </tbody>\n",
       "</table>\n",
       "</div>"
      ],
      "text/plain": [
       "Empty DataFrame\n",
       "Columns: [idx, arg_id, argument, topic, stance, MACE-P, key_point_id, label, key_point, text, sentence1, sentence2, subset]\n",
       "Index: []"
      ]
     },
     "execution_count": 99,
     "metadata": {},
     "output_type": "execute_result"
    }
   ],
   "source": [
    "# key points in labeled ds are completely new and not another arguments like the way we do it, difficult to get good rouge score with our method.\n",
    "test_ds_labeled[test_ds_labeled['argument'] == test_ds_labeled[test_ds_labeled['arg_id'] == 'arg_0_99']['key_point'].iloc[0]]"
   ]
  },
  {
   "cell_type": "code",
   "execution_count": null,
   "id": "3b01497e-eb78-4356-a723-145c664b77fc",
   "metadata": {},
   "outputs": [],
   "source": []
  }
 ],
 "metadata": {
  "kernelspec": {
   "display_name": "cryptocurrencies-kpa",
   "language": "python",
   "name": "cryptocurrencies-kpa"
  },
  "language_info": {
   "codemirror_mode": {
    "name": "ipython",
    "version": 3
   },
   "file_extension": ".py",
   "mimetype": "text/x-python",
   "name": "python",
   "nbconvert_exporter": "python",
   "pygments_lexer": "ipython3",
   "version": "3.9.9"
  }
 },
 "nbformat": 4,
 "nbformat_minor": 5
}

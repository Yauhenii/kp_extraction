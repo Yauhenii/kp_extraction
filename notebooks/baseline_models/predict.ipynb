{
 "cells": [
  {
   "cell_type": "code",
   "execution_count": null,
   "id": "8ab09ccb-c3b4-4ee4-8df1-be585285d384",
   "metadata": {},
   "outputs": [],
   "source": [
    "import torch\n",
    "torch.cuda.empty_cache()\n",
    "from project.models.baselines.classification_model import ClassificationModel\n",
    "from project.models.common.nlp_configs import HFTransformerDataConfig\n",
    "from project.data.nlp_data_module import NLPDataModule\n",
    "from transformers import AutoTokenizer"
   ]
  },
  {
   "cell_type": "code",
   "execution_count": null,
   "id": "2723ac33-2f96-4ad6-bed2-1de8d64f7100",
   "metadata": {},
   "outputs": [],
   "source": [
    "# dataset must have sentence1, sentence2 columns (corresponding to arg, kp) and idx column (an int index)\n",
    "test_data_path = r'test_dataset.csv'\n",
    "model_checkpoint_path = r\"crypto-440-epoch=2-step=968.ckpt\"\n",
    "model = ClassificationModel.load_from_checkpoint(checkpoint_path=model_checkpoint_path)\n",
    "data_cfg = HFTransformerDataConfig(**{\n",
    "    \"batch_size\": 32,\n",
    "    \"num_workers\": 4,\n",
    "    \"train_file\": test_data_path,\n",
    "    \"test_file\": test_data_path\n",
    "})\n",
    "tokenizer = AutoTokenizer.from_pretrained(pretrained_model_name_or_path=model.model.config._name_or_path, use_fast=True)\n",
    "datamodule = NLPDataModule(cfg=data_cfg, tokenizer=tokenizer)\n",
    "datamodule.setup(\"test\")\n",
    "test_dataset = datamodule.ds[\"test\"]"
   ]
  },
  {
   "cell_type": "code",
   "execution_count": null,
   "id": "6fff9aee-e6c4-4ae6-ae6f-e3b63a412c35",
   "metadata": {},
   "outputs": [],
   "source": [
    "# predict in batches\n",
    "BATCH_SIZE = 32\n",
    "\n",
    "test_ds_df = test_dataset.to_pandas()\n",
    "test_ds_df.set_index('idx')\n",
    "test_ds_df['score'] = -1\n",
    "\n",
    "model.to('cuda')\n",
    "\n",
    "def add_preds(examples):\n",
    "    similarity, _, output = model._forward(examples, predict_with_gpu=True)\n",
    "    for i, idx in enumerate(examples[\"idx\"]):\n",
    "        if output is not None:\n",
    "            score = output[i][1].item()\n",
    "        else:\n",
    "            score = similarity[i].item()\n",
    "        test_ds_df.iat[idx.item(), test_ds_df.columns.get_loc('score')] = score\n",
    "\n",
    "test_dataset.map(lambda examples: add_preds(examples), batched=True, batch_size=BATCH_SIZE)"
   ]
  },
  {
   "cell_type": "code",
   "execution_count": null,
   "id": "9c2f7073-fd05-4602-b5fe-b9a8488da4ce",
   "metadata": {},
   "outputs": [],
   "source": [
    "test_ds_df.head(2)"
   ]
  },
  {
   "cell_type": "code",
   "execution_count": null,
   "id": "3a14c63c-bc76-4793-9cad-5e3a20ed821e",
   "metadata": {},
   "outputs": [],
   "source": [
    "test_ds_df.to_csv(r'test_dataset_with_match_score.csv', index=False)"
   ]
  }
 ],
 "metadata": {
  "kernelspec": {
   "display_name": "cryptocurrencies-kpa",
   "language": "python",
   "name": "cryptocurrencies-kpa"
  },
  "language_info": {
   "codemirror_mode": {
    "name": "ipython",
    "version": 3
   },
   "file_extension": ".py",
   "mimetype": "text/x-python",
   "name": "python",
   "nbconvert_exporter": "python",
   "pygments_lexer": "ipython3",
   "version": "3.9.9"
  }
 },
 "nbformat": 4,
 "nbformat_minor": 5
}
